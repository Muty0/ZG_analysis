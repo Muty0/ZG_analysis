{
 "cells": [
  {
   "attachments": {},
   "cell_type": "markdown",
   "id": "4bcae8d3-559c-438d-bffe-75f7e9ce5a58",
   "metadata": {},
   "source": [
    "# Coffea and Awkward\n",
    "\n",
    "**March 15, 2023 at Beijing**"
   ]
  },
  {
   "cell_type": "code",
   "execution_count": 1,
   "id": "ec394a10-cdf5-4cd7-81c1-d39841b267fb",
   "metadata": {},
   "outputs": [
    {
     "name": "stderr",
     "output_type": "stream",
     "text": [
      "/tmp/ipykernel_144529/982796447.py:8: DeprecationWarning: the imp module is deprecated in favour of importlib; see the module's documentation for alternative uses\n",
      "  from imp import reload #每次修改调用函数后可以更新\n"
     ]
    }
   ],
   "source": [
    "import awkward as ak\n",
    "import uproot\n",
    "import hist\n",
    "import os\n",
    "import numpy as np\n",
    "from coffea.nanoevents import NanoEventsFactory, NanoAODSchema\n",
    "from coffea.nanoevents.methods.base import NanoEventsArray\n",
    "from imp import reload #每次修改调用函数后可以更新\n",
    "import correctionlib, rich"
   ]
  },
  {
   "attachments": {},
   "cell_type": "markdown",
   "id": "e4f03aff",
   "metadata": {},
   "source": [
    "### coffea读文件"
   ]
  },
  {
   "cell_type": "code",
   "execution_count": 3,
   "id": "3c506a49",
   "metadata": {},
   "outputs": [
    {
     "name": "stdout",
     "output_type": "stream",
     "text": [
      "data  is done!\n",
      "zg  is done!\n",
      "tt  is done!\n",
      "zz  is done!\n",
      "wz  is done!\n",
      "ww  is done!\n"
     ]
    }
   ],
   "source": [
    "import input_file \n",
    "reload(input_file)\n",
    "muonc_events = input_file.input_file('data')#5m\n",
    "zg_events = input_file.input_file('zg')#7m\n",
    "ttbar_events = input_file.input_file('tt')#8m\n",
    "zz_events = input_file.input_file('zz')#8m\n",
    "wz_events = input_file.input_file('wz')#8m\n",
    "ww_events = input_file.input_file('ww')#9m"
   ]
  },
  {
   "cell_type": "code",
   "execution_count": 4,
   "id": "2af92ad8",
   "metadata": {},
   "outputs": [],
   "source": [
    "EVENT = {\n",
    "    'data':muonc_events,\n",
    "    'zg': zg_events,\n",
    "    'tt': ttbar_events,\n",
    "    'zz': zz_events,\n",
    "    'wz': wz_events,\n",
    "    'ww': ww_events,\n",
    "}"
   ]
  },
  {
   "attachments": {},
   "cell_type": "markdown",
   "id": "44774ed4",
   "metadata": {},
   "source": [
    "## selection"
   ]
  },
  {
   "cell_type": "code",
   "execution_count": 5,
   "id": "708f012b",
   "metadata": {},
   "outputs": [
    {
     "name": "stdout",
     "output_type": "stream",
     "text": [
      "data event_muon_phodrs [{'photon_pt': <Array [] type='0 * option[var * float32[parameters={\"__doc__\": \"p_{T}\"}]]'>, 'photon_eta': <Array [] type='0 * option[var * float32[parameters={\"__doc__\": \"eta\"}]]'>, 'muon1_pt': <Array [] type='0 * ?float32[parameters={\"__doc__\": \"pt\"}]'>, 'muon2_pt': <Array [] type='0 * ?float32[parameters={\"__doc__\": \"pt\"}]'>, 'muon1_eta': <Array [] type='0 * ?float32[parameters={\"__doc__\": \"eta\"}]'>, 'muon2_eta': <Array [] type='0 * ?float32[parameters={\"__doc__\": \"eta\"}]'>, 'muon_mass': <Array [] type='0 * ?float32'>}, {'photon_pt': <Array [[45.8], [39.9], [93.8], [62.4]] type='4 * option[var * float32[parameter...'>, 'photon_eta': <Array [[-2.41], [-1.06], [2.39], [-0.541]] type='4 * option[var * float32[param...'>, 'muon1_pt': <Array [163, 54.4, 52.1, 29] type='4 * ?float32[parameters={\"__doc__\": \"pt\"}]'>, 'muon2_pt': <Array [123, 42.7, 45.2, 27.7] type='4 * ?float32[parameters={\"__doc__\": \"pt\"}]'>, 'muon1_eta': <Array [-1.9, 0.42, 0.874, -1.65] type='4 * ?float32[parameters={\"__doc__\": \"eta\"}]'>, 'muon2_eta': <Array [-1.44, 0.808, 1.96, 0.785] type='4 * ?float32[parameters={\"__doc__\": \"et...'>, 'muon_mass': <Array [287, 90.8, 92.8, 88.1] type='4 * ?float32'>}, {'photon_pt': <Array [[65.5], [50.7], [68.6]] type='3 * option[var * float32[parameters={\"__do...'>, 'photon_eta': <Array [[-1.3], [-2.04], [-1.62]] type='3 * option[var * float32[parameters={\"__...'>, 'muon1_pt': <Array [39.7, 53.9, 43.8] type='3 * ?float32[parameters={\"__doc__\": \"pt\"}]'>, 'muon2_pt': <Array [25, 41.5, 27.3] type='3 * ?float32[parameters={\"__doc__\": \"pt\"}]'>, 'muon1_eta': <Array [-1.3, -1.54, -2.22] type='3 * ?float32[parameters={\"__doc__\": \"eta\"}]'>, 'muon2_eta': <Array [-2.15, -1.12, -0.613] type='3 * ?float32[parameters={\"__doc__\": \"eta\"}]'>, 'muon_mass': <Array [67.7, 83.3, 89.2] type='3 * ?float32'>}, {'photon_pt': <Array [[35.8], [43.8], [47.8]] type='3 * option[var * float32[parameters={\"__do...'>, 'photon_eta': <Array [[0.757], [1.16], [-1.65]] type='3 * option[var * float32[parameters={\"__...'>, 'muon1_pt': <Array [52.2, 36.4, 52.7] type='3 * ?float32[parameters={\"__doc__\": \"pt\"}]'>, 'muon2_pt': <Array [47.1, 35.6, 33.5] type='3 * ?float32[parameters={\"__doc__\": \"pt\"}]'>, 'muon1_eta': <Array [1.16, 1.34, 0.455] type='3 * ?float32[parameters={\"__doc__\": \"eta\"}]'>, 'muon2_eta': <Array [1.06, 1.52, -0.972] type='3 * ?float32[parameters={\"__doc__\": \"eta\"}]'>, 'muon_mass': <Array [57.6, 62.7, 93] type='3 * ?float32'>}, {'photon_pt': <Array [[72.3], [54.2], ... [95.1], [43.5]] type='5 * option[var * float32[param...'>, 'photon_eta': <Array [[0.983], [1.23], ... [-1.74], [-1.25]] type='5 * option[var * float32[pa...'>, 'muon1_pt': <Array [72.3, 50.6, 92.9, 44.6, 47.6] type='5 * ?float32[parameters={\"__doc__\": ...'>, 'muon2_pt': <Array [59.1, 39.5, 33.8, 32.3, 43.5] type='5 * ?float32[parameters={\"__doc__\": ...'>, 'muon1_eta': <Array [0.505, -0.127, -1.81, 1.69, -1.25] type='5 * ?float32[parameters={\"__doc...'>, 'muon2_eta': <Array [0.163, -1.05, -1.68, 0.413, -0.413] type='5 * ?float32[parameters={\"__do...'>, 'muon_mass': <Array [87.9, 97.7, 91, 91.9, 92.2] type='5 * ?float32'>}, {'photon_pt': <Array [[110], [47.7], [55.5]] type='3 * option[var * float32[parameters={\"__doc...'>, 'photon_eta': <Array [[-2.31], [1.65], [-0.203]] type='3 * option[var * float32[parameters={\"_...'>, 'muon1_pt': <Array [111, 80.3, 62.7] type='3 * ?float32[parameters={\"__doc__\": \"pt\"}]'>, 'muon2_pt': <Array [40.2, 23.7, 44.4] type='3 * ?float32[parameters={\"__doc__\": \"pt\"}]'>, 'muon1_eta': <Array [-1.95, 1.78, 0.0315] type='3 * ?float32[parameters={\"__doc__\": \"eta\"}]'>, 'muon2_eta': <Array [-2.35, 2.36, -0.429] type='3 * ?float32[parameters={\"__doc__\": \"eta\"}]'>, 'muon_mass': <Array [91.5, 91, 67.6] type='3 * ?float32'>}, {'photon_pt': <Array [[46.3], [37.5], ... [59.6], [50.1]] type='7 * option[var * float32[param...'>, 'photon_eta': <Array [[0.0417], [-0.101, ... [-0.116]] type='7 * option[var * float32[paramete...'>, 'muon1_pt': <Array [50.1, 46.1, 37.1, ... 130, 94.3, 69.9] type='7 * ?float32[parameters={\"_...'>, 'muon2_pt': <Array [37.3, 44.8, 29.1, ... 107, 24.5, 29.3] type='7 * ?float32[parameters={\"_...'>, 'muon1_eta': <Array [1.69, 0.547, 0.0396, ... -0.633, -0.28] type='7 * ?float32[parameters={\"...'>, 'muon2_eta': <Array [1.1, 0.205, 1.7, ... -0.468, 0.286] type='7 * ?float32[parameters={\"__do...'>, 'muon_mass': <Array [89.6, 90.7, 89.7, ... 285, 96.1, 94.1] type='7 * ?float32'>}, {'photon_pt': <Array [[39.6], [40.2], [39.4]] type='3 * option[var * float32[parameters={\"__do...'>, 'photon_eta': <Array [[-0.246], [0.00465], [1.63]] type='3 * option[var * float32[parameters={...'>, 'muon1_pt': <Array [32, 79.3, 33] type='3 * ?float32[parameters={\"__doc__\": \"pt\"}]'>, 'muon2_pt': <Array [25.7, 28, 29.6] type='3 * ?float32[parameters={\"__doc__\": \"pt\"}]'>, 'muon1_eta': <Array [0.101, -0.0615, -0.727] type='3 * ?float32[parameters={\"__doc__\": \"eta\"}]'>, 'muon2_eta': <Array [-0.442, 0.941, 2.24] type='3 * ?float32[parameters={\"__doc__\": \"eta\"}]'>, 'muon_mass': <Array [57.8, 101, 133] type='3 * ?float32'>}, {'photon_pt': <Array [[42], [40.2]] type='2 * option[var * float32[parameters={\"__doc__\": \"p_{...'>, 'photon_eta': <Array [[0.0337], [-0.00604]] type='2 * option[var * float32[parameters={\"__doc_...'>, 'muon1_pt': <Array [27.5, 36.7] type='2 * ?float32[parameters={\"__doc__\": \"pt\"}]'>, 'muon2_pt': <Array [24.2, 29.6] type='2 * ?float32[parameters={\"__doc__\": \"pt\"}]'>, 'muon1_eta': <Array [-0.415, -0.447] type='2 * ?float32[parameters={\"__doc__\": \"eta\"}]'>, 'muon2_eta': <Array [0.363, 1.3] type='2 * ?float32[parameters={\"__doc__\": \"eta\"}]'>, 'muon_mass': <Array [54.7, 91.2] type='2 * ?float32'>}, {'photon_pt': <Array [[60], [35.5], [49.9]] type='3 * option[var * float32[parameters={\"__doc_...'>, 'photon_eta': <Array [[0.133], [1.61], [2.17]] type='3 * option[var * float32[parameters={\"__d...'>, 'muon1_pt': <Array [57.6, 69.6, 57.1] type='3 * ?float32[parameters={\"__doc__\": \"pt\"}]'>, 'muon2_pt': <Array [40.8, 23.6, 27.5] type='3 * ?float32[parameters={\"__doc__\": \"pt\"}]'>, 'muon1_eta': <Array [-0.707, 1.87, 1.59] type='3 * ?float32[parameters={\"__doc__\": \"eta\"}]'>, 'muon2_eta': <Array [0.55, 1.54, 2.27] type='3 * ?float32[parameters={\"__doc__\": \"eta\"}]'>, 'muon_mass': <Array [92.9, 81.4, 83.7] type='3 * ?float32'>}, {'photon_pt': <Array [[35.1], [40.1], ... [77.2], [58.2]] type='6 * option[var * float32[param...'>, 'photon_eta': <Array [[0.977], [-0.883], ... 1.62], [-0.985]] type='6 * option[var * float32[p...'>, 'muon1_pt': <Array [67.9, 44.8, 57.1, 71.1, 136, 53.2] type='6 * ?float32[parameters={\"__doc...'>, 'muon2_pt': <Array [32.2, 40.7, 40.2, 28, 72.5, 34] type='6 * ?float32[parameters={\"__doc__\"...'>, 'muon1_eta': <Array [-1.37, -1.88, 1.55, ... 2.24, -1.42] type='6 * ?float32[parameters={\"__d...'>, 'muon2_eta': <Array [-1.2, -0.303, 0.0624, ... 0.97, -0.455] type='6 * ?float32[parameters={\"...'>, 'muon_mass': <Array [91.8, 110, 94.7, 61, 239, 62.7] type='6 * ?float32'>}, {'photon_pt': <Array [[40.6], [40.7]] type='2 * option[var * float32[parameters={\"__doc__\": \"p...'>, 'photon_eta': <Array [[1.03], [0.997]] type='2 * option[var * float32[parameters={\"__doc__\": \"...'>, 'muon1_pt': <Array [71.1, 29.8] type='2 * ?float32[parameters={\"__doc__\": \"pt\"}]'>, 'muon2_pt': <Array [48.1, 26.9] type='2 * ?float32[parameters={\"__doc__\": \"pt\"}]'>, 'muon1_eta': <Array [1.66, 0.471] type='2 * ?float32[parameters={\"__doc__\": \"eta\"}]'>, 'muon2_eta': <Array [1.6, 0.648] type='2 * ?float32[parameters={\"__doc__\": \"eta\"}]'>, 'muon_mass': <Array [70, 55.9] type='2 * ?float32'>}, {'photon_pt': <Array [[35.7], [94.1], ... [38.4], [108]] type='7 * option[var * float32[parame...'>, 'photon_eta': <Array [[-1.83], [0.871], ... [0.951], [-1.15]] type='7 * option[var * float32[p...'>, 'muon1_pt': <Array [50.6, 51.4, 61.3, ... 90.3, 45.6, 97.8] type='7 * ?float32[parameters={\"...'>, 'muon2_pt': <Array [26.2, 30.4, 36, 24.6, 38, 45.1, 32] type='7 * ?float32[parameters={\"__do...'>, 'muon1_eta': <Array [-0.915, 0.185, 1.76, ... -1.04, -2.17] type='7 * ?float32[parameters={\"_...'>, 'muon2_eta': <Array [1.14, 1.16, 0.72, ... -1.02, -1.04] type='7 * ?float32[parameters={\"__do...'>, 'muon_mass': <Array [89, 57.5, 92.3, ... 90.1, 90.3, 92.3] type='7 * ?float32'>}, {'photon_pt': <Array [[58.6], [117], ... [36.9], [91.7]] type='5 * option[var * float32[parame...'>, 'photon_eta': <Array [[1.94], [-2.32], ... [0.576], [0.236]] type='5 * option[var * float32[pa...'>, 'muon1_pt': <Array [46.2, 54.3, 43.8, 63.1, 127] type='5 * ?float32[parameters={\"__doc__\": \"...'>, 'muon2_pt': <Array [22.9, 36.3, 20.1, 28.2, 39.4] type='5 * ?float32[parameters={\"__doc__\": ...'>, 'muon1_eta': <Array [1.26, -2.13, 1.82, -0.709, 1.08] type='5 * ?float32[parameters={\"__doc__...'>, 'muon2_eta': <Array [1.95, -0.437, 0.444, -1.31, -0.116] type='5 * ?float32[parameters={\"__do...'>, 'muon_mass': <Array [51.2, 94, 74, 87.5, 89.7] type='5 * ?float32'>}, {'photon_pt': <Array [[36.1], [47.2], ... [44.3], [36.7]] type='5 * option[var * float32[param...'>, 'photon_eta': <Array [[0.0556], [0.65], ... -0.468], [0.139]] type='5 * option[var * float32[p...'>, 'muon1_pt': <Array [42, 64.7, 54.5, 30.8, 34.2] type='5 * ?float32[parameters={\"__doc__\": \"p...'>, 'muon2_pt': <Array [22.8, 38.6, 39.2, 30.5, 20.3] type='5 * ?float32[parameters={\"__doc__\": ...'>, 'muon1_eta': <Array [0.561, -0.775, 1.7, -0.19, -0.0653] type='5 * ?float32[parameters={\"__do...'>, 'muon2_eta': <Array [0.0544, -0.329, 1.67, -1.57, 0.577] type='5 * ?float32[parameters={\"__do...'>, 'muon_mass': <Array [57.2, 99.7, 70.7, 54.5, 55.3] type='5 * ?float32'>}, {'photon_pt': <Array [[69.6], [35.1], [56.2]] type='3 * option[var * float32[parameters={\"__do...'>, 'photon_eta': <Array [[0.497], [0.958], [0.297]] type='3 * option[var * float32[parameters={\"_...'>, 'muon1_pt': <Array [40.3, 29.9, 42.2] type='3 * ?float32[parameters={\"__doc__\": \"pt\"}]'>, 'muon2_pt': <Array [37.5, 27.7, 22.5] type='3 * ?float32[parameters={\"__doc__\": \"pt\"}]'>, 'muon1_eta': <Array [-1.38, 1.19, 0.881] type='3 * ?float32[parameters={\"__doc__\": \"eta\"}]'>, 'muon2_eta': <Array [-0.265, 0.669, 0.174] type='3 * ?float32[parameters={\"__doc__\": \"eta\"}]'>, 'muon_mass': <Array [78.7, 57.7, 59.8] type='3 * ?float32'>}, {'photon_pt': <Array [[42.5], [52.6], [38.2], [35], [58]] type='5 * option[var * float32[param...'>, 'photon_eta': <Array [[-1.27], [-0.644], ... [2.01], [1.17]] type='5 * option[var * float32[pa...'>, 'muon1_pt': <Array [50.8, 42, 38, 109, 63.3] type='5 * ?float32[parameters={\"__doc__\": \"pt\"}]'>, 'muon2_pt': <Array [35.9, 20, 21.8, 75, 34.3] type='5 * ?float32[parameters={\"__doc__\": \"pt\"}]'>, 'muon1_eta': <Array [-0.608, -1.06, 0.384, 2, 0.955] type='5 * ?float32[parameters={\"__doc__\"...'>, 'muon2_eta': <Array [0.624, -0.689, -1.28, 1.45, 1.57] type='5 * ?float32[parameters={\"__doc_...'>, 'muon_mass': <Array [87, 58.9, 76.1, 187, 91] type='5 * ?float32'>}, {'photon_pt': <Array [[35.9], [53.6]] type='2 * option[var * float32[parameters={\"__doc__\": \"p...'>, 'photon_eta': <Array [[-0.392], [-1.21]] type='2 * option[var * float32[parameters={\"__doc__\":...'>, 'muon1_pt': <Array [35, 63] type='2 * ?float32[parameters={\"__doc__\": \"pt\"}]'>, 'muon2_pt': <Array [30.2, 27.4] type='2 * ?float32[parameters={\"__doc__\": \"pt\"}]'>, 'muon1_eta': <Array [-0.723, -0.37] type='2 * ?float32[parameters={\"__doc__\": \"eta\"}]'>, 'muon2_eta': <Array [-0.387, -1.17] type='2 * ?float32[parameters={\"__doc__\": \"eta\"}]'>, 'muon_mass': <Array [62.1, 89.6] type='2 * ?float32'>}, {'photon_pt': <Array [[45.1], [46.7], ... [51.7], [40.3]] type='5 * option[var * float32[param...'>, 'photon_eta': <Array [[-0.135], [-0.936], ... 1.27], [0.771]] type='5 * option[var * float32[p...'>, 'muon1_pt': <Array [34.7, 58.1, 65.5, 75.5, 85.1] type='5 * ?float32[parameters={\"__doc__\": ...'>, 'muon2_pt': <Array [31.3, 33.6, 41.3, 22.5, 81.6] type='5 * ?float32[parameters={\"__doc__\": ...'>, 'muon1_eta': <Array [0.32, 1.03, -0.613, 0.556, 2.22] type='5 * ?float32[parameters={\"__doc__...'>, 'muon2_eta': <Array [0.565, -0.012, 1.02, 1.76, 0.685] type='5 * ?float32[parameters={\"__doc_...'>, 'muon_mass': <Array [56.5, 89.1, 132, 95.7, 217] type='5 * ?float32'>}, {'photon_pt': <Array [[108], [35.4], [41.4]] type='3 * option[var * float32[parameters={\"__doc...'>, 'photon_eta': <Array [[1.4], [-1.28], [1.69]] type='3 * option[var * float32[parameters={\"__do...'>, 'muon1_pt': <Array [81.6, 38.1, 65.7] type='3 * ?float32[parameters={\"__doc__\": \"pt\"}]'>, 'muon2_pt': <Array [30.1, 32.5, 38] type='3 * ?float32[parameters={\"__doc__\": \"pt\"}]'>, 'muon1_eta': <Array [0.623, -2.06, 0.032] type='3 * ?float32[parameters={\"__doc__\": \"eta\"}]'>, 'muon2_eta': <Array [0.803, -1.27, 0.159] type='3 * ?float32[parameters={\"__doc__\": \"eta\"}]'>, 'muon_mass': <Array [89.3, 67.4, 96.4] type='3 * ?float32'>}, {'photon_pt': <Array [[37], [77], [43.8], [89], [42.2]] type='5 * option[var * float32[paramet...'>, 'photon_eta': <Array [[0.551], [1.37], ... [1.76], [2.28]] type='5 * option[var * float32[para...'>, 'muon1_pt': <Array [105, 49.5, 134, 178, 39.3] type='5 * ?float32[parameters={\"__doc__\": \"pt\"}]'>, 'muon2_pt': <Array [66.2, 42.1, 36.5, 90.4, 28.7] type='5 * ?float32[parameters={\"__doc__\": ...'>, 'muon1_eta': <Array [0.803, -0.188, 0.111, 1.14, 2.29] type='5 * ?float32[parameters={\"__doc_...'>, 'muon2_eta': <Array [-0.024, -1.85, 0.348, 2.11, 2.27] type='5 * ?float32[parameters={\"__doc_...'>, 'muon_mass': <Array [90.3, 124, 94, 284, 62.1] type='5 * ?float32'>}, {'photon_pt': <Array [[67.9]] type='1 * option[var * float32[parameters={\"__doc__\": \"p_{T}\"}]]'>, 'photon_eta': <Array [[-0.134]] type='1 * option[var * float32[parameters={\"__doc__\": \"eta\"}]]'>, 'muon1_pt': <Array [72.9] type='1 * ?float32[parameters={\"__doc__\": \"pt\"}]'>, 'muon2_pt': <Array [25.3] type='1 * ?float32[parameters={\"__doc__\": \"pt\"}]'>, 'muon1_eta': <Array [-0.115] type='1 * ?float32[parameters={\"__doc__\": \"eta\"}]'>, 'muon2_eta': <Array [-0.715] type='1 * ?float32[parameters={\"__doc__\": \"eta\"}]'>, 'muon_mass': <Array [77.9] type='1 * ?float32'>}, {'photon_pt': <Array [[48.9], [74.6], [53.3]] type='3 * option[var * float32[parameters={\"__do...'>, 'photon_eta': <Array [[-0.322], [-2.06], [0.851]] type='3 * option[var * float32[parameters={\"...'>, 'muon1_pt': <Array [64.9, 137, 103] type='3 * ?float32[parameters={\"__doc__\": \"pt\"}]'>, 'muon2_pt': <Array [43.5, 26.7, 22] type='3 * ?float32[parameters={\"__doc__\": \"pt\"}]'>, 'muon1_eta': <Array [1.26, -2.06, 0.0758] type='3 * ?float32[parameters={\"__doc__\": \"eta\"}]'>, 'muon2_eta': <Array [-0.108, -1.64, -1.11] type='3 * ?float32[parameters={\"__doc__\": \"eta\"}]'>, 'muon_mass': <Array [94.1, 80.2, 92.8] type='3 * ?float32'>}, {'photon_pt': <Array [[41.7]] type='1 * option[var * float32[parameters={\"__doc__\": \"p_{T}\"}]]'>, 'photon_eta': <Array [[-0.0526]] type='1 * option[var * float32[parameters={\"__doc__\": \"eta\"}]]'>, 'muon1_pt': <Array [39.7] type='1 * ?float32[parameters={\"__doc__\": \"pt\"}]'>, 'muon2_pt': <Array [35.5] type='1 * ?float32[parameters={\"__doc__\": \"pt\"}]'>, 'muon1_eta': <Array [0.699] type='1 * ?float32[parameters={\"__doc__\": \"eta\"}]'>, 'muon2_eta': <Array [-0.0532] type='1 * ?float32[parameters={\"__doc__\": \"eta\"}]'>, 'muon_mass': <Array [62.1] type='1 * ?float32'>}, {'photon_pt': <Array [[132], [35], ... [37.9], [51.9]] type='6 * option[var * float32[paramete...'>, 'photon_eta': <Array [[0.532], [-0.998, ... [-0.0686]] type='6 * option[var * float32[paramete...'>, 'muon1_pt': <Array [115, 98.9, 67.3, 28, 44.6, 59.3] type='6 * ?float32[parameters={\"__doc__...'>, 'muon2_pt': <Array [45.7, 39.4, 51.9, 26.6, 23.8, 43.4] type='6 * ?float32[parameters={\"__do...'>, 'muon1_eta': <Array [-0.22, -2.38, ... 0.417, -1.16] type='6 * ?float32[parameters={\"__doc__\"...'>, 'muon2_eta': <Array [-0.311, -1.8, -0.106, ... 2.03, -0.979] type='6 * ?float32[parameters={\"...'>, 'muon_mass': <Array [113, 102, 88.5, 50.5, 86, 92.8] type='6 * ?float32'>}, {'photon_pt': <Array [[56.5], [42.3], [39.6]] type='3 * option[var * float32[parameters={\"__do...'>, 'photon_eta': <Array [[1.33], [-0.0311], [-0.0917]] type='3 * option[var * float32[parameters=...'>, 'muon1_pt': <Array [37.2, 54.3, 33.1] type='3 * ?float32[parameters={\"__doc__\": \"pt\"}]'>, 'muon2_pt': <Array [21.2, 39.5, 20.7] type='3 * ?float32[parameters={\"__doc__\": \"pt\"}]'>, 'muon1_eta': <Array [1.91, -1.24, -0.968] type='3 * ?float32[parameters={\"__doc__\": \"eta\"}]'>, 'muon2_eta': <Array [-0.536, -1.58, 0.677] type='3 * ?float32[parameters={\"__doc__\": \"eta\"}]'>, 'muon_mass': <Array [90.4, 86.7, 67] type='3 * ?float32'>}, {'photon_pt': <Array [[93.6], [44.2]] type='2 * option[var * float32[parameters={\"__doc__\": \"p...'>, 'photon_eta': <Array [[2.2], [-2.14]] type='2 * option[var * float32[parameters={\"__doc__\": \"e...'>, 'muon1_pt': <Array [82.7, 65.3] type='2 * ?float32[parameters={\"__doc__\": \"pt\"}]'>, 'muon2_pt': <Array [27.2, 29.8] type='2 * ?float32[parameters={\"__doc__\": \"pt\"}]'>, 'muon1_eta': <Array [1.21, -1.25] type='2 * ?float32[parameters={\"__doc__\": \"eta\"}]'>, 'muon2_eta': <Array [0.713, -1.54] type='2 * ?float32[parameters={\"__doc__\": \"eta\"}]'>, 'muon_mass': <Array [89.9, 88.4] type='2 * ?float32'>}, {'photon_pt': <Array [[36.9], [42.2]] type='2 * option[var * float32[parameters={\"__doc__\": \"p...'>, 'photon_eta': <Array [[-0.633], [-0.508]] type='2 * option[var * float32[parameters={\"__doc__\"...'>, 'muon1_pt': <Array [139, 38.5] type='2 * ?float32[parameters={\"__doc__\": \"pt\"}]'>, 'muon2_pt': <Array [31.8, 26.1] type='2 * ?float32[parameters={\"__doc__\": \"pt\"}]'>, 'muon1_eta': <Array [-0.434, -0.503] type='2 * ?float32[parameters={\"__doc__\": \"eta\"}]'>, 'muon2_eta': <Array [-0.409, -0.811] type='2 * ?float32[parameters={\"__doc__\": \"eta\"}]'>, 'muon_mass': <Array [73.2, 62.9] type='2 * ?float32'>}, {'photon_pt': <Array [[121], [35.9], [55.1], [135]] type='4 * option[var * float32[parameters=...'>, 'photon_eta': <Array [[-0.551], [-0.766, ... 0.592], [0.952]] type='4 * option[var * float32[p...'>, 'muon1_pt': <Array [105, 67, 37.6, 283] type='4 * ?float32[parameters={\"__doc__\": \"pt\"}]'>, 'muon2_pt': <Array [52.2, 21, 26, 153] type='4 * ?float32[parameters={\"__doc__\": \"pt\"}]'>, 'muon1_eta': <Array [0.498, -2.34, 0.593, 1.12] type='4 * ?float32[parameters={\"__doc__\": \"et...'>, 'muon2_eta': <Array [-0.273, -2.17, 0.147, 0.953] type='4 * ?float32[parameters={\"__doc__\": \"...'>, 'muon_mass': <Array [90.3, 75.3, 57.3, 417] type='4 * ?float32'>}, {'photon_pt': <Array [[39.7], [91.3], ... [48.1], [46.2]] type='7 * option[var * float32[param...'>, 'photon_eta': <Array [[1.4], [0.788], ... [-1.75], [0.293]] type='7 * option[var * float32[par...'>, 'muon1_pt': <Array [34.5, 101, 41.7, ... 71.8, 72.9, 62.7] type='7 * ?float32[parameters={\"_...'>, 'muon2_pt': <Array [32.4, 36.1, 27.3, ... 20.3, 28.1, 41.3] type='7 * ?float32[parameters={\"...'>, 'muon1_eta': <Array [1.39, 1.66, 1.78, ... -1.07, -2.06] type='7 * ?float32[parameters={\"__do...'>, 'muon2_eta': <Array [0.618, 1.74, 1.42, ... -1.92, -1.83] type='7 * ?float32[parameters={\"__d...'>, 'muon_mass': <Array [68, 93.5, 66, ... 79.4, 67.3, 90.4] type='7 * ?float32'>}, {'photon_pt': <Array [[41.8], [102], [37.8]] type='3 * option[var * float32[parameters={\"__doc...'>, 'photon_eta': <Array [[-1.66], [-0.547], [2.2]] type='3 * option[var * float32[parameters={\"__...'>, 'muon1_pt': <Array [58.7, 83.7, 52.8] type='3 * ?float32[parameters={\"__doc__\": \"pt\"}]'>, 'muon2_pt': <Array [24.6, 60.8, 45.5] type='3 * ?float32[parameters={\"__doc__\": \"pt\"}]'>, 'muon1_eta': <Array [0.636, -0.111, 1.75] type='3 * ?float32[parameters={\"__doc__\": \"eta\"}]'>, 'muon2_eta': <Array [1.74, -0.137, 1.12] type='3 * ?float32[parameters={\"__doc__\": \"eta\"}]'>, 'muon_mass': <Array [87.4, 87, 90.4] type='3 * ?float32'>}, {'photon_pt': <Array [] type='0 * option[var * float32[parameters={\"__doc__\": \"p_{T}\"}]]'>, 'photon_eta': <Array [] type='0 * option[var * float32[parameters={\"__doc__\": \"eta\"}]]'>, 'muon1_pt': <Array [] type='0 * ?float32[parameters={\"__doc__\": \"pt\"}]'>, 'muon2_pt': <Array [] type='0 * ?float32[parameters={\"__doc__\": \"pt\"}]'>, 'muon1_eta': <Array [] type='0 * ?float32[parameters={\"__doc__\": \"eta\"}]'>, 'muon2_eta': <Array [] type='0 * ?float32[parameters={\"__doc__\": \"eta\"}]'>, 'muon_mass': <Array [] type='0 * ?float32'>}, {'photon_pt': <Array [[71.1], [43.1], [61.3]] type='3 * option[var * float32[parameters={\"__do...'>, 'photon_eta': <Array [[0.18], [1.88], [-0.968]] type='3 * option[var * float32[parameters={\"__...'>, 'muon1_pt': <Array [107, 131, 75.7] type='3 * ?float32[parameters={\"__doc__\": \"pt\"}]'>, 'muon2_pt': <Array [37.3, 30.6, 39.1] type='3 * ?float32[parameters={\"__doc__\": \"pt\"}]'>, 'muon1_eta': <Array [0.554, -0.665, -1.06] type='3 * ?float32[parameters={\"__doc__\": \"eta\"}]'>, 'muon2_eta': <Array [0.00273, -0.585, -1.68] type='3 * ?float32[parameters={\"__doc__\": \"eta\"}]'>, 'muon_mass': <Array [94, 94.2, 92.2] type='3 * ?float32'>}, {'photon_pt': <Array [[36.5], [59.5], [42]] type='3 * option[var * float32[parameters={\"__doc_...'>, 'photon_eta': <Array [[-1.14], [1.27], [-0.697]] type='3 * option[var * float32[parameters={\"_...'>, 'muon1_pt': <Array [62.6, 90.9, 77.5] type='3 * ?float32[parameters={\"__doc__\": \"pt\"}]'>, 'muon2_pt': <Array [39.3, 51.1, 25.6] type='3 * ?float32[parameters={\"__doc__\": \"pt\"}]'>, 'muon1_eta': <Array [-0.0849, 0.547, -0.461] type='3 * ?float32[parameters={\"__doc__\": \"eta\"}]'>, 'muon2_eta': <Array [-0.221, 1.59, -0.993] type='3 * ?float32[parameters={\"__doc__\": \"eta\"}]'>, 'muon_mass': <Array [91.7, 80.4, 89.9] type='3 * ?float32'>}, {'photon_pt': <Array [[93.1], [108], [48.3], [132]] type='4 * option[var * float32[parameters=...'>, 'photon_eta': <Array [[0.634], [-0.433], [1.09], [0.205]] type='4 * option[var * float32[param...'>, 'muon1_pt': <Array [64.8, 102, 60.5, 177] type='4 * ?float32[parameters={\"__doc__\": \"pt\"}]'>, 'muon2_pt': <Array [33.3, 34.6, 21.9, 82.8] type='4 * ?float32[parameters={\"__doc__\": \"pt\"}]'>, 'muon1_eta': <Array [0.0159, -0.13, 0.638, 0.565] type='4 * ?float32[parameters={\"__doc__\": \"...'>, 'muon2_eta': <Array [-0.45, -0.0628, 2.16, 1.3] type='4 * ?float32[parameters={\"__doc__\": \"et...'>, 'muon_mass': <Array [90.1, 89.2, 85.3, 91.4] type='4 * ?float32'>}, {'photon_pt': <Array [[133], [35.2], [60], [250]] type='4 * option[var * float32[parameters={\"...'>, 'photon_eta': <Array [[-0.999], [-1.71], [1.04], [1.78]] type='4 * option[var * float32[parame...'>, 'muon1_pt': <Array [72.1, 32.5, 50.5, 72.4] type='4 * ?float32[parameters={\"__doc__\": \"pt\"}]'>, 'muon2_pt': <Array [59.6, 24.9, 40.3, 28.7] type='4 * ?float32[parameters={\"__doc__\": \"pt\"}]'>, 'muon1_eta': <Array [-0.997, -0.0358, 2.29, 1.5] type='4 * ?float32[parameters={\"__doc__\": \"e...'>, 'muon2_eta': <Array [-1.82, -2.14, 1.93, 1.36] type='4 * ?float32[parameters={\"__doc__\": \"eta\"}]'>, 'muon_mass': <Array [56.4, 88.5, 90.8, 86.7] type='4 * ?float32'>}, {'photon_pt': <Array [[39.3], [68.6], [35.2]] type='3 * option[var * float32[parameters={\"__do...'>, 'photon_eta': <Array [[2.03], [-1.4], [-1.67]] type='3 * option[var * float32[parameters={\"__d...'>, 'muon1_pt': <Array [136, 74.2, 56.3] type='3 * ?float32[parameters={\"__doc__\": \"pt\"}]'>, 'muon2_pt': <Array [71, 36.8, 34.6] type='3 * ?float32[parameters={\"__doc__\": \"pt\"}]'>, 'muon1_eta': <Array [0.793, -0.271, -1.95] type='3 * ?float32[parameters={\"__doc__\": \"eta\"}]'>, 'muon2_eta': <Array [0.838, -0.52, -2.04] type='3 * ?float32[parameters={\"__doc__\": \"eta\"}]'>, 'muon_mass': <Array [197, 94.7, 86.2] type='3 * ?float32'>}, {'photon_pt': <Array [[44.2], [41.9], ... [44.4], [49.4]] type='8 * option[var * float32[param...'>, 'photon_eta': <Array [[1.62], [1.58], ... [-0.474], [0.239]] type='8 * option[var * float32[pa...'>, 'muon1_pt': <Array [74.5, 61.6, 54.4, ... 54.5, 35.5, 207] type='8 * ?float32[parameters={\"_...'>, 'muon2_pt': <Array [27.5, 26.8, 52.1, ... 32.1, 35, 52.3] type='8 * ?float32[parameters={\"__...'>, 'muon1_eta': <Array [-1.4, 0.655, 0.207, ... 0.121, 0.883] type='8 * ?float32[parameters={\"__...'>, 'muon2_eta': <Array [0.186, 1.62, -0.363, ... -1.32, 1.59] type='8 * ?float32[parameters={\"__...'>, 'muon_mass': <Array [119, 87.9, 93.3, ... 68.9, 88.8, 96.1] type='8 * ?float32'>}, {'photon_pt': <Array [[44.2], [47.5], ... [82.7], [40.7]] type='5 * option[var * float32[param...'>, 'photon_eta': <Array [[-0.386], [0.446], ... -0.197], [1.02]] type='5 * option[var * float32[p...'>, 'muon1_pt': <Array [49.6, 43, 95.6, 66.8, 51.8] type='5 * ?float32[parameters={\"__doc__\": \"p...'>, 'muon2_pt': <Array [38.6, 42, 48.3, 26.3, 25.3] type='5 * ?float32[parameters={\"__doc__\": \"p...'>, 'muon1_eta': <Array [0.0313, 1.45, 0.126, -0.556, 1.18] type='5 * ?float32[parameters={\"__doc...'>, 'muon2_eta': <Array [0.586, 2.25, 0.211, 0.382, 0.471] type='5 * ?float32[parameters={\"__doc_...'>, 'muon_mass': <Array [90.7, 92.1, 84.7, 67.6, 74.8] type='5 * ?float32'>}, {'photon_pt': <Array [[65.5], [50.6], ... [47.9], [85.7]] type='7 * option[var * float32[param...'>, 'photon_eta': <Array [[-2.29], [-0.365, ... -0.577], [-2.03]] type='7 * option[var * float32[p...'>, 'muon1_pt': <Array [82.9, 66.1, 178, ... 76.1, 72, 52.7] type='7 * ?float32[parameters={\"__d...'>, 'muon2_pt': <Array [23.9, 20.4, 70.6, ... 25.8, 24.1, 49.7] type='7 * ?float32[parameters={\"...'>, 'muon1_eta': <Array [-0.0633, 0.798, ... 0.851, -1.45] type='7 * ?float32[parameters={\"__doc_...'>, 'muon2_eta': <Array [0.146, -0.853, ... 0.704, -0.187] type='7 * ?float32[parameters={\"__doc_...'>, 'muon_mass': <Array [89.2, 90.3, 89.9, ... 84.7, 81.6, 91.8] type='7 * ?float32'>}, {'photon_pt': <Array [[49.9], [50.3], [53.7]] type='3 * option[var * float32[parameters={\"__do...'>, 'photon_eta': <Array [[-2.36], [-0.255], [1.03]] type='3 * option[var * float32[parameters={\"_...'>, 'muon1_pt': <Array [119, 27.9, 132] type='3 * ?float32[parameters={\"__doc__\": \"pt\"}]'>, 'muon2_pt': <Array [37.9, 21.3, 42.5] type='3 * ?float32[parameters={\"__doc__\": \"pt\"}]'>, 'muon1_eta': <Array [-2.36, 0.372, 0.757] type='3 * ?float32[parameters={\"__doc__\": \"eta\"}]'>, 'muon2_eta': <Array [-1.48, -0.259, 1.13] type='3 * ?float32[parameters={\"__doc__\": \"eta\"}]'>, 'muon_mass': <Array [105, 50.5, 101] type='3 * ?float32'>}, {'photon_pt': <Array [[161], [108], [45.8]] type='3 * option[var * float32[parameters={\"__doc_...'>, 'photon_eta': <Array [[1.7], [2.43], [0.839]] type='3 * option[var * float32[parameters={\"__do...'>, 'muon1_pt': <Array [105, 112, 46.5] type='3 * ?float32[parameters={\"__doc__\": \"pt\"}]'>, 'muon2_pt': <Array [85.9, 40.6, 36.1] type='3 * ?float32[parameters={\"__doc__\": \"pt\"}]'>, 'muon1_eta': <Array [2.02, 2.28, 0.333] type='3 * ?float32[parameters={\"__doc__\": \"eta\"}]'>, 'muon2_eta': <Array [0.329, 2.27, -0.763] type='3 * ?float32[parameters={\"__doc__\": \"eta\"}]'>, 'muon_mass': <Array [258, 89, 94.4] type='3 * ?float32'>}, {'photon_pt': <Array [[35.6], [55.7], ... [42.8], [42.3]] type='5 * option[var * float32[param...'>, 'photon_eta': <Array [[1.39], [1.78], ... [-0.36], [0.889]] type='5 * option[var * float32[par...'>, 'muon1_pt': <Array [39.1, 87.7, 90.2, 56.3, 59.3] type='5 * ?float32[parameters={\"__doc__\": ...'>, 'muon2_pt': <Array [22.7, 23.5, 24.3, 33.5, 22.3] type='5 * ?float32[parameters={\"__doc__\": ...'>, 'muon1_eta': <Array [-0.0897, 1.14, 1.13, -1.68, 0.896] type='5 * ?float32[parameters={\"__doc...'>, 'muon2_eta': <Array [-0.973, 1.81, 1.56, -0.853, -1.7] type='5 * ?float32[parameters={\"__doc_...'>, 'muon_mass': <Array [64.4, 90.7, 91.7, 91.6, 123] type='5 * ?float32'>}, {'photon_pt': <Array [[63.4], [41.6], ... [40.8], [81.1]] type='6 * option[var * float32[param...'>, 'photon_eta': <Array [[1.24], [1.2], ... [0.674], [-0.682]] type='6 * option[var * float32[par...'>, 'muon1_pt': <Array [59.1, 40.9, 129, 92, 54.5, 76.3] type='6 * ?float32[parameters={\"__doc__...'>, 'muon2_pt': <Array [34, 35.8, 25.6, 27.3, 41.6, 36.1] type='6 * ?float32[parameters={\"__doc_...'>, 'muon1_eta': <Array [1.16, 0.9, -1.97, ... -0.593, -0.745] type='6 * ?float32[parameters={\"__...'>, 'muon2_eta': <Array [0.703, -0.792, ... -0.651, -0.682] type='6 * ?float32[parameters={\"__doc...'>, 'muon_mass': <Array [91.8, 87.9, 81.2, 91.9, 91.4, 51.4] type='6 * ?float32'>}, {'photon_pt': <Array [[35.3], [38.3], ... [39.8], [55.1]] type='5 * option[var * float32[param...'>, 'photon_eta': <Array [[0.184], [0.298], ... -0.398], [0.458]] type='5 * option[var * float32[p...'>, 'muon1_pt': <Array [49.3, 27.9, 71.5, 55.6, 51.6] type='5 * ?float32[parameters={\"__doc__\": ...'>, 'muon2_pt': <Array [42.6, 24.3, 71.4, 34.8, 46.3] type='5 * ?float32[parameters={\"__doc__\": ...'>, 'muon1_eta': <Array [-0.15, 1.72, -1.09, -0.431, 0.893] type='5 * ?float32[parameters={\"__doc...'>, 'muon2_eta': <Array [-0.128, -0.683, ... -1.84, 0.155] type='5 * ?float32[parameters={\"__doc_...'>, 'muon_mass': <Array [91.3, 87.6, 90.3, 110, 91] type='5 * ?float32'>}, {'photon_pt': <Array [[38.3], [38.8], [40], [66.5]] type='4 * option[var * float32[parameters=...'>, 'photon_eta': <Array [[-2.02], [-2.3], [-1.25], [-0.626]] type='4 * option[var * float32[param...'>, 'muon1_pt': <Array [43.3, 56.4, 108, 64.3] type='4 * ?float32[parameters={\"__doc__\": \"pt\"}]'>, 'muon2_pt': <Array [28.8, 37.6, 39, 53.6] type='4 * ?float32[parameters={\"__doc__\": \"pt\"}]'>, 'muon1_eta': <Array [-2.33, -1.77, -1.54, -0.69] type='4 * ?float32[parameters={\"__doc__\": \"e...'>, 'muon2_eta': <Array [-0.698, -1.4, -1.59, -0.56] type='4 * ?float32[parameters={\"__doc__\": \"e...'>, 'muon_mass': <Array [87.7, 92.4, 128, 93.9] type='4 * ?float32'>}, {'photon_pt': <Array [[90.9], [55.8], [35.6]] type='3 * option[var * float32[parameters={\"__do...'>, 'photon_eta': <Array [[-0.546], [1.62], [2.06]] type='3 * option[var * float32[parameters={\"__...'>, 'muon1_pt': <Array [129, 54.5, 46.5] type='3 * ?float32[parameters={\"__doc__\": \"pt\"}]'>, 'muon2_pt': <Array [60.3, 46.3, 42.6] type='3 * ?float32[parameters={\"__doc__\": \"pt\"}]'>, 'muon1_eta': <Array [-1.17, 0.734, 1.17] type='3 * ?float32[parameters={\"__doc__\": \"eta\"}]'>, 'muon2_eta': <Array [-0.544, 1.05, 1.69] type='3 * ?float32[parameters={\"__doc__\": \"eta\"}]'>, 'muon_mass': <Array [185, 91.6, 91.7] type='3 * ?float32'>}, {'photon_pt': <Array [[45.6], [40.9], [44.2]] type='3 * option[var * float32[parameters={\"__do...'>, 'photon_eta': <Array [[-1.09], [-1.84], [-1.28]] type='3 * option[var * float32[parameters={\"_...'>, 'muon1_pt': <Array [35.3, 43.6, 43.5] type='3 * ?float32[parameters={\"__doc__\": \"pt\"}]'>, 'muon2_pt': <Array [30.6, 42.6, 32.2] type='3 * ?float32[parameters={\"__doc__\": \"pt\"}]'>, 'muon1_eta': <Array [-0.044, -2.29, 0.773] type='3 * ?float32[parameters={\"__doc__\": \"eta\"}]'>, 'muon2_eta': <Array [-2.24, -1.56, -0.554] type='3 * ?float32[parameters={\"__doc__\": \"eta\"}]'>, 'muon_mass': <Array [93.8, 91.9, 89.8] type='3 * ?float32'>}, {'photon_pt': <Array [[35], [38.1], [36.9]] type='3 * option[var * float32[parameters={\"__doc_...'>, 'photon_eta': <Array [[1.88], [0.587], [-1.6]] type='3 * option[var * float32[parameters={\"__d...'>, 'muon1_pt': <Array [96.8, 83.8, 51.1] type='3 * ?float32[parameters={\"__doc__\": \"pt\"}]'>, 'muon2_pt': <Array [22.6, 56.3, 30.7] type='3 * ?float32[parameters={\"__doc__\": \"pt\"}]'>, 'muon1_eta': <Array [0.0242, -0.511, -0.145] type='3 * ?float32[parameters={\"__doc__\": \"eta\"}]'>, 'muon2_eta': <Array [0.547, 0.0177, 1.08] type='3 * ?float32[parameters={\"__doc__\": \"eta\"}]'>, 'muon_mass': <Array [88.6, 90, 92.2] type='3 * ?float32'>}, {'photon_pt': <Array [[51.4], [39], ... [37.4], [50.4]] type='6 * option[var * float32[paramet...'>, 'photon_eta': <Array [[1.66], [0.384], ... [-0.776], [0.116]] type='6 * option[var * float32[p...'>, 'muon1_pt': <Array [56.9, 67.3, 62.4, 116, 26.9, 91.8] type='6 * ?float32[parameters={\"__doc...'>, 'muon2_pt': <Array [30.3, 21.9, 28.9, 37.6, 23.7, 23.1] type='6 * ?float32[parameters={\"__do...'>, 'muon1_eta': <Array [2.07, -0.0961, -0.109, ... -1.22, 1.98] type='6 * ?float32[parameters={\"...'>, 'muon2_eta': <Array [0.996, -0.243, 1.63, ... 1.11, 2.33] type='6 * ?float32[parameters={\"__d...'>, 'muon_mass': <Array [82.2, 77, 90.4, 90.8, 88.7, 91.8] type='6 * ?float32'>}, {'photon_pt': <Array [[43.3], [35.4], ... 53], [73.9], [111]] type='5 * option[var * float32[p...'>, 'photon_eta': <Array [[0.454], [0.19], ... [-0.194], [-2.11]] type='5 * option[var * float32[p...'>, 'muon1_pt': <Array [49.8, 104, 55.2, 96.5, 64.7] type='5 * ?float32[parameters={\"__doc__\": \"...'>, 'muon2_pt': <Array [40.5, 87.8, 54.9, 31.3, 56.2] type='5 * ?float32[parameters={\"__doc__\": ...'>, 'muon1_eta': <Array [-2.29, 1.62, 0.443, -2, -2.01] type='5 * ?float32[parameters={\"__doc__\":...'>, 'muon2_eta': <Array [-2.34, 0.202, 0.853, -2.37, -0.859] type='5 * ?float32[parameters={\"__do...'>, 'muon_mass': <Array [88.7, 241, 97.6, 94.1, 87.2] type='5 * ?float32'>}, {'photon_pt': <Array [[39], [61.6], [40.7]] type='3 * option[var * float32[parameters={\"__doc_...'>, 'photon_eta': <Array [[-0.661], [1.97], [-0.706]] type='3 * option[var * float32[parameters={\"...'>, 'muon1_pt': <Array [47, 59.6, 45.7] type='3 * ?float32[parameters={\"__doc__\": \"pt\"}]'>, 'muon2_pt': <Array [41.7, 40.4, 33.3] type='3 * ?float32[parameters={\"__doc__\": \"pt\"}]'>, 'muon1_eta': <Array [-0.668, 1.92, -0.547] type='3 * ?float32[parameters={\"__doc__\": \"eta\"}]'>, 'muon2_eta': <Array [0.442, 1.29, -1.81] type='3 * ?float32[parameters={\"__doc__\": \"eta\"}]'>, 'muon_mass': <Array [94.2, 89.3, 92.6] type='3 * ?float32'>}, {'photon_pt': <Array [[55.8], [49.4]] type='2 * option[var * float32[parameters={\"__doc__\": \"p...'>, 'photon_eta': <Array [[-0.068], [-1.32]] type='2 * option[var * float32[parameters={\"__doc__\":...'>, 'muon1_pt': <Array [60.5, 58.6] type='2 * ?float32[parameters={\"__doc__\": \"pt\"}]'>, 'muon2_pt': <Array [30.8, 22.7] type='2 * ?float32[parameters={\"__doc__\": \"pt\"}]'>, 'muon1_eta': <Array [0.0633, 0.478] type='2 * ?float32[parameters={\"__doc__\": \"eta\"}]'>, 'muon2_eta': <Array [0.506, -0.811] type='2 * ?float32[parameters={\"__doc__\": \"eta\"}]'>, 'muon_mass': <Array [81.1, 84.5] type='2 * ?float32'>}, {'photon_pt': <Array [[57.1], [41.3], ... [36.3], [43.6]] type='5 * option[var * float32[param...'>, 'photon_eta': <Array [[-1.8], [-0.495], ... [-0.73], [-1.85]] type='5 * option[var * float32[p...'>, 'muon1_pt': <Array [35.4, 66.8, 220, 54.1, 56.3] type='5 * ?float32[parameters={\"__doc__\": \"...'>, 'muon2_pt': <Array [25.2, 32.9, 109, 36.5, 35.7] type='5 * ?float32[parameters={\"__doc__\": \"...'>, 'muon1_eta': <Array [-1.85, 0.604, -0.54, -0.297, -1.11] type='5 * ?float32[parameters={\"__do...'>, 'muon2_eta': <Array [-1.8, -0.151, -1.06, -0.654, -1.2] type='5 * ?float32[parameters={\"__doc...'>, 'muon_mass': <Array [57.8, 50.1, 319, 85, 89.7] type='5 * ?float32'>}, {'photon_pt': <Array [[36.3]] type='1 * option[var * float32[parameters={\"__doc__\": \"p_{T}\"}]]'>, 'photon_eta': <Array [[1.74]] type='1 * option[var * float32[parameters={\"__doc__\": \"eta\"}]]'>, 'muon1_pt': <Array [153] type='1 * ?float32[parameters={\"__doc__\": \"pt\"}]'>, 'muon2_pt': <Array [146] type='1 * ?float32[parameters={\"__doc__\": \"pt\"}]'>, 'muon1_eta': <Array [1.74] type='1 * ?float32[parameters={\"__doc__\": \"eta\"}]'>, 'muon2_eta': <Array [2] type='1 * ?float32[parameters={\"__doc__\": \"eta\"}]'>, 'muon_mass': <Array [82.1] type='1 * ?float32'>}, {'photon_pt': <Array [[40.1], [40.5], [147], [51.7]] type='4 * option[var * float32[parameters...'>, 'photon_eta': <Array [[0.853], [-0.599], [1.25], [-0.93]] type='4 * option[var * float32[param...'>, 'muon1_pt': <Array [45.2, 34.3, 126, 72.1] type='4 * ?float32[parameters={\"__doc__\": \"pt\"}]'>, 'muon2_pt': <Array [26, 21, 39.9, 34.2] type='4 * ?float32[parameters={\"__doc__\": \"pt\"}]'>, 'muon1_eta': <Array [2.16, -1.06, 0.323, -2.15] type='4 * ?float32[parameters={\"__doc__\": \"et...'>, 'muon2_eta': <Array [0.965, -0.64, 0.0734, -1.67] type='4 * ?float32[parameters={\"__doc__\": \"...'>, 'muon_mass': <Array [74.1, 54.9, 94.1, 99.3] type='4 * ?float32'>}, {'photon_pt': <Array [[62.1], [46.1], [36.6]] type='3 * option[var * float32[parameters={\"__do...'>, 'photon_eta': <Array [[-1.81], [-0.431], [-1.79]] type='3 * option[var * float32[parameters={\"...'>, 'muon1_pt': <Array [46.5, 41.7, 60.3] type='3 * ?float32[parameters={\"__doc__\": \"pt\"}]'>, 'muon2_pt': <Array [20.9, 40.2, 31.2] type='3 * ?float32[parameters={\"__doc__\": \"pt\"}]'>, 'muon1_eta': <Array [-2.05, -2.15, -0.161] type='3 * ?float32[parameters={\"__doc__\": \"eta\"}]'>, 'muon2_eta': <Array [-1.85, -1.87, -0.914] type='3 * ?float32[parameters={\"__doc__\": \"eta\"}]'>, 'muon_mass': <Array [56.4, 82.7, 90.6] type='3 * ?float32'>}, {'photon_pt': <Array [[57.6], [168], [44.8]] type='3 * option[var * float32[parameters={\"__doc...'>, 'photon_eta': <Array [[0.481], [-2.22], [0.354]] type='3 * option[var * float32[parameters={\"_...'>, 'muon1_pt': <Array [43.7, 80.9, 76] type='3 * ?float32[parameters={\"__doc__\": \"pt\"}]'>, 'muon2_pt': <Array [31.5, 79.5, 25.6] type='3 * ?float32[parameters={\"__doc__\": \"pt\"}]'>, 'muon1_eta': <Array [-0.443, -0.508, -0.642] type='3 * ?float32[parameters={\"__doc__\": \"eta\"}]'>, 'muon2_eta': <Array [1.12, -0.558, -0.477] type='3 * ?float32[parameters={\"__doc__\": \"eta\"}]'>, 'muon_mass': <Array [91.7, 89.1, 85.2] type='3 * ?float32'>}, {'photon_pt': <Array [[39.2], [50.2]] type='2 * option[var * float32[parameters={\"__doc__\": \"p...'>, 'photon_eta': <Array [[-0.925], [-2.2]] type='2 * option[var * float32[parameters={\"__doc__\": ...'>, 'muon1_pt': <Array [40.3, 47.9] type='2 * ?float32[parameters={\"__doc__\": \"pt\"}]'>, 'muon2_pt': <Array [38.3, 33.8] type='2 * ?float32[parameters={\"__doc__\": \"pt\"}]'>, 'muon1_eta': <Array [1.06, 0.87] type='2 * ?float32[parameters={\"__doc__\": \"eta\"}]'>, 'muon2_eta': <Array [-0.111, -0.552] type='2 * ?float32[parameters={\"__doc__\": \"eta\"}]'>, 'muon_mass': <Array [88.4, 93.2] type='2 * ?float32'>}, {'photon_pt': <Array [[35.6], [37.6], ... [37.9], [87.7]] type='5 * option[var * float32[param...'>, 'photon_eta': <Array [[-1.02], [-1.69], ... -1.74], [-0.768]] type='5 * option[var * float32[p...'>, 'muon1_pt': <Array [25.3, 56.4, 50.2, 60.3, 73] type='5 * ?float32[parameters={\"__doc__\": \"p...'>, 'muon2_pt': <Array [23.8, 38.1, 48.8, 29.2, 39] type='5 * ?float32[parameters={\"__doc__\": \"p...'>, 'muon1_eta': <Array [-2.39, -0.155, 0.697, -0.36, -2.19] type='5 * ?float32[parameters={\"__do...'>, 'muon2_eta': <Array [-1.58, -0.809, -0.724, -1.2, -1.49] type='5 * ?float32[parameters={\"__do...'>, 'muon_mass': <Array [51.2, 89.5, 91.2, 91.4, 90.5] type='5 * ?float32'>}, {'photon_pt': <Array [[35.8], [50.6], [93.1], [46.7]] type='4 * option[var * float32[parameter...'>, 'photon_eta': <Array [[1.71], [-1.87], [-2.44], [-1.24]] type='4 * option[var * float32[parame...'>, 'muon1_pt': <Array [47.9, 43.3, 75.8, 63.2] type='4 * ?float32[parameters={\"__doc__\": \"pt\"}]'>, 'muon2_pt': <Array [42.8, 25.6, 44.3, 21.2] type='4 * ?float32[parameters={\"__doc__\": \"pt\"}]'>, 'muon1_eta': <Array [1.01, -1.53, -1.78, -1.59] type='4 * ?float32[parameters={\"__doc__\": \"et...'>, 'muon2_eta': <Array [0.442, 0.373, -0.843, 0.103] type='4 * ?float32[parameters={\"__doc__\": \"...'>, 'muon_mass': <Array [92.2, 96.5, 90, 69.6] type='4 * ?float32'>}, {'photon_pt': <Array [[56.3], [58.7], ... [87.6], [54.6]] type='7 * option[var * float32[param...'>, 'photon_eta': <Array [[-0.219], [0.171, ... [0.999]] type='7 * option[var * float32[parameters...'>, 'muon1_pt': <Array [51.2, 59.5, 45.5, ... 40.3, 143, 60.6] type='7 * ?float32[parameters={\"_...'>, 'muon2_pt': <Array [45.3, 38.9, 27.7, ... 29.1, 44.8, 34.5] type='7 * ?float32[parameters={\"...'>, 'muon1_eta': <Array [0.263, 0.387, 0.129, ... 0.532, 1.32] type='7 * ?float32[parameters={\"__...'>, 'muon2_eta': <Array [-0.372, 0.293, 1.64, ... 0.216, 1.99] type='7 * ?float32[parameters={\"__...'>, 'muon_mass': <Array [85.1, 88.5, 88.9, ... 95.2, 92.9, 95.1] type='7 * ?float32'>}, {'photon_pt': <Array [[40], [111], [53.4]] type='3 * option[var * float32[parameters={\"__doc__...'>, 'photon_eta': <Array [[-2.15], [0.57], [-1.38]] type='3 * option[var * float32[parameters={\"__...'>, 'muon1_pt': <Array [72, 79.6, 48.9] type='3 * ?float32[parameters={\"__doc__\": \"pt\"}]'>, 'muon2_pt': <Array [32.6, 23.4, 34.2] type='3 * ?float32[parameters={\"__doc__\": \"pt\"}]'>, 'muon1_eta': <Array [-0.761, 0.333, -0.632] type='3 * ?float32[parameters={\"__doc__\": \"eta\"}]'>, 'muon2_eta': <Array [0.284, -0.153, -0.00126] type='3 * ?float32[parameters={\"__doc__\": \"eta\"}]'>, 'muon_mass': <Array [92, 83, 65] type='3 * ?float32'>}, {'photon_pt': <Array [[43.6], [42.8], ... [36.1], [52]] type='5 * option[var * float32[paramet...'>, 'photon_eta': <Array [[1.21], [1.18], ... [-0.591], [-0.211]] type='5 * option[var * float32[p...'>, 'muon1_pt': <Array [75.5, 36.7, 76.8, 55.6, 51.5] type='5 * ?float32[parameters={\"__doc__\": ...'>, 'muon2_pt': <Array [39.6, 26.6, 27.1, 35.9, 49.9] type='5 * ?float32[parameters={\"__doc__\": ...'>, 'muon1_eta': <Array [-0.732, 1.51, ... -0.963, -0.548] type='5 * ?float32[parameters={\"__doc_...'>, 'muon2_eta': <Array [-0.96, 1.19, -0.254, -1.84, 0.0812] type='5 * ?float32[parameters={\"__do...'>, 'muon_mass': <Array [91.3, 56.8, 91.3, 92.2, 91.4] type='5 * ?float32'>}, {'photon_pt': <Array [[61.6], [39], [61.1]] type='3 * option[var * float32[parameters={\"__doc_...'>, 'photon_eta': <Array [[-0.831], [-0.974], [-2.33]] type='3 * option[var * float32[parameters={...'>, 'muon1_pt': <Array [40.4, 74.6, 82.9] type='3 * ?float32[parameters={\"__doc__\": \"pt\"}]'>, 'muon2_pt': <Array [33.1, 32.1, 29.1] type='3 * ?float32[parameters={\"__doc__\": \"pt\"}]'>, 'muon1_eta': <Array [1.81, -2.17, -0.628] type='3 * ?float32[parameters={\"__doc__\": \"eta\"}]'>, 'muon2_eta': <Array [0.0334, -1.87, 0.625] type='3 * ?float32[parameters={\"__doc__\": \"eta\"}]'>, 'muon_mass': <Array [96.2, 96.5, 115] type='3 * ?float32'>}, {'photon_pt': <Array [[38], [129]] type='2 * option[var * float32[parameters={\"__doc__\": \"p_{T...'>, 'photon_eta': <Array [[0.0104], [-0.292]] type='2 * option[var * float32[parameters={\"__doc__\"...'>, 'muon1_pt': <Array [61.2, 107] type='2 * ?float32[parameters={\"__doc__\": \"pt\"}]'>, 'muon2_pt': <Array [52.9, 70.4] type='2 * ?float32[parameters={\"__doc__\": \"pt\"}]'>, 'muon1_eta': <Array [0.0125, -1.4] type='2 * ?float32[parameters={\"__doc__\": \"eta\"}]'>, 'muon2_eta': <Array [-0.166, -0.147] type='2 * ?float32[parameters={\"__doc__\": \"eta\"}]'>, 'muon_mass': <Array [113, 209] type='2 * ?float32'>}, {'photon_pt': <Array [[35.9], [40.8], [116]] type='3 * option[var * float32[parameters={\"__doc...'>, 'photon_eta': <Array [[1.23], [-0.468], [0.777]] type='3 * option[var * float32[parameters={\"_...'>, 'muon1_pt': <Array [44.4, 49.8, 94.9] type='3 * ?float32[parameters={\"__doc__\": \"pt\"}]'>, 'muon2_pt': <Array [43.7, 38.4, 53.9] type='3 * ?float32[parameters={\"__doc__\": \"pt\"}]'>, 'muon1_eta': <Array [1.25, 0.482, -1.61] type='3 * ?float32[parameters={\"__doc__\": \"eta\"}]'>, 'muon2_eta': <Array [0.734, -0.438, -1.38] type='3 * ?float32[parameters={\"__doc__\": \"eta\"}]'>, 'muon_mass': <Array [88.4, 64.4, 102] type='3 * ?float32'>}, {'photon_pt': <Array [[48.3], [164], ... [43.5], [66.1]] type='7 * option[var * float32[parame...'>, 'photon_eta': <Array [[1.24], [-0.131], ... [1.77], [-1.04]] type='7 * option[var * float32[pa...'>, 'muon1_pt': <Array [65.3, 60.6, 32.7, ... 55.3, 55, 61.9] type='7 * ?float32[parameters={\"__...'>, 'muon2_pt': <Array [21.8, 42.5, 22.3, ... 37.7, 32.7, 42.4] type='7 * ?float32[parameters={\"...'>, 'muon1_eta': <Array [1.16, 1.32, 1.49, ... -0.461, 0.573] type='7 * ?float32[parameters={\"__d...'>, 'muon2_eta': <Array [-0.128, 0.103, 0.213, ... -1.3, 0.954] type='7 * ?float32[parameters={\"_...'>, 'muon_mass': <Array [89.4, 92, 50.4, ... 88.6, 91.8, 90.8] type='7 * ?float32'>}, {'photon_pt': <Array [[42.1], [55.4], ... [35.6], [98.4]] type='5 * option[var * float32[param...'>, 'photon_eta': <Array [[1.25], [0.0133], ... [2.4], [0.63]] type='5 * option[var * float32[para...'>, 'muon1_pt': <Array [37.6, 59, 48.9, 72.9, 120] type='5 * ?float32[parameters={\"__doc__\": \"pt\"}]'>, 'muon2_pt': <Array [20.9, 37.6, 21, 40.8, 65.7] type='5 * ?float32[parameters={\"__doc__\": \"p...'>, 'muon1_eta': <Array [0.73, -0.995, 1.08, 1.89, 0.903] type='5 * ?float32[parameters={\"__doc__...'>, 'muon2_eta': <Array [1.98, -0.546, -0.83, 1.32, -0.275] type='5 * ?float32[parameters={\"__doc...'>, 'muon_mass': <Array [67.3, 94.7, 90.6, 86.5, 128] type='5 * ?float32'>}, {'photon_pt': <Array [[62.5], [50.4], ... [49.7], [45.2]] type='5 * option[var * float32[param...'>, 'photon_eta': <Array [[-2.49], [1.32], ... 0.0128], [-0.524]] type='5 * option[var * float32[p...'>, 'muon1_pt': <Array [172, 40.9, 59.6, 39.8, 59.4] type='5 * ?float32[parameters={\"__doc__\": \"...'>, 'muon2_pt': <Array [67.3, 26.6, 58.1, 39.4, 31] type='5 * ?float32[parameters={\"__doc__\": \"p...'>, 'muon1_eta': <Array [-1.01, 1.98, -1.16, -0.618, 0.514] type='5 * ?float32[parameters={\"__doc...'>, 'muon2_eta': <Array [-2.13, -0.0467, ... 0.412, -0.521] type='5 * ?float32[parameters={\"__doc...'>, 'muon_mass': <Array [217, 93.4, 92.9, 89.8, 92] type='5 * ?float32'>}, {'photon_pt': <Array [[35.3], [38.9], ... [37.1], [65.3]] type='6 * option[var * float32[param...'>, 'photon_eta': <Array [[-1.38], [-1.77], ... [0.507], [0.653]] type='6 * option[var * float32[p...'>, 'muon1_pt': <Array [32.6, 86, 53.6, 38.5, 32.6, 51.1] type='6 * ?float32[parameters={\"__doc_...'>, 'muon2_pt': <Array [20, 79.9, 31.4, 24.7, 31.5, 46.9] type='6 * ?float32[parameters={\"__doc_...'>, 'muon1_eta': <Array [-1.75, -1.77, -0.194, ... 0.031, 1.6] type='6 * ?float32[parameters={\"__...'>, 'muon2_eta': <Array [-1.05, -2.36, -1.53, ... 0.915, 2.29] type='6 * ?float32[parameters={\"__...'>, 'muon_mass': <Array [52.2, 173, 86.8, 60.8, 67.2, 91.9] type='6 * ?float32'>}, {'photon_pt': <Array [[159], [100], [67.2]] type='3 * option[var * float32[parameters={\"__doc_...'>, 'photon_eta': <Array [[-0.436], [-0.32], [-0.831]] type='3 * option[var * float32[parameters={...'>, 'muon1_pt': <Array [86, 78.2, 130] type='3 * ?float32[parameters={\"__doc__\": \"pt\"}]'>, 'muon2_pt': <Array [73.3, 26.1, 25.7] type='3 * ?float32[parameters={\"__doc__\": \"pt\"}]'>, 'muon1_eta': <Array [0.179, 0.785, -2.33] type='3 * ?float32[parameters={\"__doc__\": \"eta\"}]'>, 'muon2_eta': <Array [1.94, 0.864, -2.27] type='3 * ?float32[parameters={\"__doc__\": \"eta\"}]'>, 'muon_mass': <Array [162, 90.4, 91] type='3 * ?float32'>}, {'photon_pt': <Array [[53.2], [36], [49.8]] type='3 * option[var * float32[parameters={\"__doc_...'>, 'photon_eta': <Array [[-0.391], [-0.631], [-0.261]] type='3 * option[var * float32[parameters=...'>, 'muon1_pt': <Array [60.3, 51.2, 60.3] type='3 * ?float32[parameters={\"__doc__\": \"pt\"}]'>, 'muon2_pt': <Array [42.3, 20.6, 41.8] type='3 * ?float32[parameters={\"__doc__\": \"pt\"}]'>, 'muon1_eta': <Array [1.49, 0.994, -1.33] type='3 * ?float32[parameters={\"__doc__\": \"eta\"}]'>, 'muon2_eta': <Array [0.989, -0.969, -0.901] type='3 * ?float32[parameters={\"__doc__\": \"eta\"}]'>, 'muon_mass': <Array [89.9, 95.3, 91.5] type='3 * ?float32'>}, {'photon_pt': <Array [[70.1], [35], [37.9], [36], [43]] type='5 * option[var * float32[paramet...'>, 'photon_eta': <Array [[-0.99], [-0.426], ... -2.2], [-0.815]] type='5 * option[var * float32[p...'>, 'muon1_pt': <Array [79.8, 27.1, 57.1, 42.7, 40] type='5 * ?float32[parameters={\"__doc__\": \"p...'>, 'muon2_pt': <Array [35.4, 24.9, 36.6, 39.5, 25.8] type='5 * ?float32[parameters={\"__doc__\": ...'>, 'muon1_eta': <Array [0.585, -0.736, 0.631, -1.99, -1.14] type='5 * ?float32[parameters={\"__do...'>, 'muon2_eta': <Array [-0.277, -1.47, ... -1.89, -0.301] type='5 * ?float32[parameters={\"__doc_...'>, 'muon_mass': <Array [92.1, 53.7, 92.2, 82.2, 63.9] type='5 * ?float32'>}, {'photon_pt': <Array [[47.4]] type='1 * option[var * float32[parameters={\"__doc__\": \"p_{T}\"}]]'>, 'photon_eta': <Array [[1.09]] type='1 * option[var * float32[parameters={\"__doc__\": \"eta\"}]]'>, 'muon1_pt': <Array [59.8] type='1 * ?float32[parameters={\"__doc__\": \"pt\"}]'>, 'muon2_pt': <Array [23.9] type='1 * ?float32[parameters={\"__doc__\": \"pt\"}]'>, 'muon1_eta': <Array [0.826] type='1 * ?float32[parameters={\"__doc__\": \"eta\"}]'>, 'muon2_eta': <Array [-0.297] type='1 * ?float32[parameters={\"__doc__\": \"eta\"}]'>, 'muon_mass': <Array [86.2] type='1 * ?float32'>}, {'photon_pt': <Array [[58.3], [36.2], ... [90], [53.8]] type='6 * option[var * float32[paramet...'>, 'photon_eta': <Array [[1.02], [1.99], ... [-2.01], [0.88]] type='6 * option[var * float32[para...'>, 'muon1_pt': <Array [66.5, 61.2, 54.9, 48.8, 307, 25.5] type='6 * ?float32[parameters={\"__doc...'>, 'muon2_pt': <Array [34.8, 36.4, 52.4, 45.2, 214, 24.8] type='6 * ?float32[parameters={\"__doc...'>, 'muon1_eta': <Array [0.981, -1.71, -0.529, ... 0.15, 2] type='6 * ?float32[parameters={\"__doc...'>, 'muon2_eta': <Array [1.52, -1, -0.87, ... -2.01, -0.555] type='6 * ?float32[parameters={\"__do...'>, 'muon_mass': <Array [90.1, 91.6, 61.6, 91.5, 844, 88.4] type='6 * ?float32'>}, {'photon_pt': <Array [[42.3], [43.8], ... [69.2], [40.5]] type='5 * option[var * float32[param...'>, 'photon_eta': <Array [[-2.15], [-1.83, ... -0.354], [-0.432]] type='5 * option[var * float32[p...'>, 'muon1_pt': <Array [100, 51.2, 50.9, 35.5, 42.8] type='5 * ?float32[parameters={\"__doc__\": \"...'>, 'muon2_pt': <Array [29.3, 44.6, 49.9, 32.9, 37.7] type='5 * ?float32[parameters={\"__doc__\": ...'>, 'muon1_eta': <Array [-0.469, -1.38, ... -0.352, 0.368] type='5 * ?float32[parameters={\"__doc_...'>, 'muon2_eta': <Array [-0.645, -1.66, ... -0.574, -0.769] type='5 * ?float32[parameters={\"__doc...'>, 'muon_mass': <Array [90.6, 92.9, 95.2, 52.9, 92.8] type='5 * ?float32'>}, {'photon_pt': <Array [[190], [42.2], ... [44.7], [39]] type='6 * option[var * float32[paramete...'>, 'photon_eta': <Array [[0.744], [1.9], ... [-0.685], [-0.567]] type='6 * option[var * float32[p...'>, 'muon1_pt': <Array [207, 43, 33.2, 125, 81.6, 38.9] type='6 * ?float32[parameters={\"__doc__\"...'>, 'muon2_pt': <Array [40.7, 31.1, 30.8, 29.2, 71.7, 32.1] type='6 * ?float32[parameters={\"__do...'>, 'muon1_eta': <Array [0.337, -0.829, ... -0.441, -0.782] type='6 * ?float32[parameters={\"__doc...'>, 'muon2_eta': <Array [0.0107, -2.2, -0.157, ... -0.537, -1.4] type='6 * ?float32[parameters={\"...'>, 'muon_mass': <Array [90.1, 90.9, 85.8, 92.2, 91.8, 50.2] type='6 * ?float32'>}, {'photon_pt': <Array [[44.5], [62], ... [46.7], [40.8]] type='5 * option[var * float32[paramet...'>, 'photon_eta': <Array [[-1.96], [0.503], ... [0.075], [1.76]] type='5 * option[var * float32[pa...'>, 'muon1_pt': <Array [61.4, 147, 84.6, 43, 28.1] type='5 * ?float32[parameters={\"__doc__\": \"pt\"}]'>, 'muon2_pt': <Array [30.1, 73.2, 38.6, 25.6, 26.9] type='5 * ?float32[parameters={\"__doc__\": ...'>, 'muon1_eta': <Array [-1.96, 0.778, 1.61, 0.72, 1.66] type='5 * ?float32[parameters={\"__doc__\"...'>, 'muon2_eta': <Array [-1.41, 0.118, 2.16, 2.32, 2.02] type='5 * ?float32[parameters={\"__doc__\"...'>, 'muon_mass': <Array [88.3, 213, 91.6, 88, 55.6] type='5 * ?float32'>}, {'photon_pt': <Array [[69.6], [37.7], ... [73.2], [40.5]] type='7 * option[var * float32[param...'>, 'photon_eta': <Array [[1.17], [-1.95], ... [0.906], [0.0138]] type='7 * option[var * float32[p...'>, 'muon1_pt': <Array [66, 71.8, 45.9, ... 60, 60.1, 51.5] type='7 * ?float32[parameters={\"__do...'>, 'muon2_pt': <Array [49.3, 28, 41, ... 24.8, 49.5, 32.3] type='7 * ?float32[parameters={\"__do...'>, 'muon1_eta': <Array [2.34, -0.388, -2.18, ... -1.54, -0.871] type='7 * ?float32[parameters={\"...'>, 'muon2_eta': <Array [2.3, -0.781, -0.775, ... -0.5, 0.112] type='7 * ?float32[parameters={\"__...'>, 'muon_mass': <Array [79.5, 91.3, 90.8, ... 89.6, 91.1, 91.4] type='7 * ?float32'>}, {'photon_pt': <Array [[39.1], [107], ... [57.5], [43.5]] type='8 * option[var * float32[parame...'>, 'photon_eta': <Array [[2.3], [-0.548], ... [1.13], [0.622]] type='8 * option[var * float32[par...'>, 'muon1_pt': <Array [49.9, 97.6, 66.4, ... 48.7, 44, 39.3] type='8 * ?float32[parameters={\"__...'>, 'muon2_pt': <Array [49.4, 68.9, 39.9, ... 45, 43.9, 27.5] type='8 * ?float32[parameters={\"__...'>, 'muon1_eta': <Array [0.464, -0.644, ... 0.704, 0.668] type='8 * ?float32[parameters={\"__doc__...'>, 'muon2_eta': <Array [-0.376, 0.238, -0.855, ... 0.755, 1.24] type='8 * ?float32[parameters={\"...'>, 'muon_mass': <Array [90.4, 88.3, 103, ... 85.3, 87.8, 66.7] type='8 * ?float32'>}, {'photon_pt': <Array [[76.2], [58.3], [39.9], [43.9]] type='4 * option[var * float32[parameter...'>, 'photon_eta': <Array [[2.45], [1.74], [1.07], [0.0595]] type='4 * option[var * float32[paramet...'>, 'muon1_pt': <Array [85.3, 79.2, 60, 64.5] type='4 * ?float32[parameters={\"__doc__\": \"pt\"}]'>, 'muon2_pt': <Array [20.6, 26.6, 25, 27.3] type='4 * ?float32[parameters={\"__doc__\": \"pt\"}]'>, 'muon1_eta': <Array [1.27, 0.168, -0.628, 1.09] type='4 * ?float32[parameters={\"__doc__\": \"et...'>, 'muon2_eta': <Array [2.37, -0.0665, 0.45, -0.00244] type='4 * ?float32[parameters={\"__doc__\":...'>, 'muon_mass': <Array [93.1, 89.9, 88.2, 93.2] type='4 * ?float32'>}, {'photon_pt': <Array [[43.2], [71.6], ... [42.1], [50.1]] type='7 * option[var * float32[param...'>, 'photon_eta': <Array [[2.24], [2.06], ... [1.61], [0.797]] type='7 * option[var * float32[para...'>, 'muon1_pt': <Array [60.5, 111, 50.6, ... 45.8, 35.7, 55.8] type='7 * ?float32[parameters={\"_...'>, 'muon2_pt': <Array [35.5, 64.5, 34.7, ... 34.3, 26, 35.8] type='7 * ?float32[parameters={\"__...'>, 'muon1_eta': <Array [1.85, 0.803, 2.15, ... 2, -0.666] type='7 * ?float32[parameters={\"__doc_...'>, 'muon2_eta': <Array [1.56, 1.16, 1.34, ... 1.62, 0.657] type='7 * ?float32[parameters={\"__doc...'>, 'muon_mass': <Array [90.3, 90.7, 89.3, ... 65.3, 53.6, 92.6] type='7 * ?float32'>}, {'photon_pt': <Array [[36.4], [37.1], ... [123], [39.2]] type='6 * option[var * float32[parame...'>, 'photon_eta': <Array [[0.0237], [-2.06], ... -0.642], [1.73]] type='6 * option[var * float32[p...'>, 'muon1_pt': <Array [67.1, 25.1, 55.3, 44.6, 64.9, 77.1] type='6 * ?float32[parameters={\"__do...'>, 'muon2_pt': <Array [30.3, 24.7, 34.9, 20.8, 33.4, 76.1] type='6 * ?float32[parameters={\"__do...'>, 'muon1_eta': <Array [0.0832, -0.0108, ... 1.32, -0.198] type='6 * ?float32[parameters={\"__doc...'>, 'muon2_eta': <Array [-0.455, -2.36, ... -0.295, 0.415] type='6 * ?float32[parameters={\"__doc_...'>, 'muon_mass': <Array [92.2, 88.2, 88, 63.7, 83.4, 90.6] type='6 * ?float32'>}, {'photon_pt': <Array [[51.7], [50], [37.7]] type='3 * option[var * float32[parameters={\"__doc_...'>, 'photon_eta': <Array [[0.688], [1.3], [0.573]] type='3 * option[var * float32[parameters={\"__d...'>, 'muon1_pt': <Array [45.1, 54.1, 36.4] type='3 * ?float32[parameters={\"__doc__\": \"pt\"}]'>, 'muon2_pt': <Array [38.2, 31.1, 34.2] type='3 * ?float32[parameters={\"__doc__\": \"pt\"}]'>, 'muon1_eta': <Array [1.7, 2.02, 1.52] type='3 * ?float32[parameters={\"__doc__\": \"eta\"}]'>, 'muon2_eta': <Array [0.439, 0.625, -0.0969] type='3 * ?float32[parameters={\"__doc__\": \"eta\"}]'>, 'muon_mass': <Array [91.2, 92.2, 94.9] type='3 * ?float32'>}, {'photon_pt': <Array [[139], [68.3], [40.7], [42]] type='4 * option[var * float32[parameters={...'>, 'photon_eta': <Array [[-2.29], [-1.86], ... -0.0911], [1.61]] type='4 * option[var * float32[p...'>, 'muon1_pt': <Array [84.5, 59.3, 28.1, 25] type='4 * ?float32[parameters={\"__doc__\": \"pt\"}]'>, 'muon2_pt': <Array [62.1, 35.5, 27.2, 22.3] type='4 * ?float32[parameters={\"__doc__\": \"pt\"}]'>, 'muon1_eta': <Array [-1.56, -1.53, 0.558, 2.06] type='4 * ?float32[parameters={\"__doc__\": \"et...'>, 'muon2_eta': <Array [-2.28, -0.679, -0.113, 0.799] type='4 * ?float32[parameters={\"__doc__\": ...'>, 'muon_mass': <Array [92.1, 92.8, 58.1, 55.6] type='4 * ?float32'>}, {'photon_pt': <Array [[66.1], [67.4], ... 36.1], [38], [182]] type='5 * option[var * float32[p...'>, 'photon_eta': <Array [[1.76], [1.23], ... [0.0729], [0.751]] type='5 * option[var * float32[pa...'>, 'muon1_pt': <Array [72, 85.7, 48.8, 29.3, 92.1] type='5 * ?float32[parameters={\"__doc__\": \"p...'>, 'muon2_pt': <Array [20.9, 75.1, 24.4, 26, 75.9] type='5 * ?float32[parameters={\"__doc__\": \"p...'>, 'muon1_eta': <Array [-1.45, -0.207, ... -0.663, 0.928] type='5 * ?float32[parameters={\"__doc_...'>, 'muon2_eta': <Array [0.467, 1.03, 1.34, 0.587, 1.17] type='5 * ?float32[parameters={\"__doc__\"...'>, 'muon_mass': <Array [89.4, 183, 62, 62.2, 91.8] type='5 * ?float32'>}, {'photon_pt': <Array [[159], [43], [67.5]] type='3 * option[var * float32[parameters={\"__doc__...'>, 'photon_eta': <Array [[-2.1], [-0.666], [-1.65]] type='3 * option[var * float32[parameters={\"_...'>, 'muon1_pt': <Array [154, 76.9, 69.5] type='3 * ?float32[parameters={\"__doc__\": \"pt\"}]'>, 'muon2_pt': <Array [53.1, 28.7, 40.8] type='3 * ?float32[parameters={\"__doc__\": \"pt\"}]'>, 'muon1_eta': <Array [0.0658, -0.493, 0.344] type='3 * ?float32[parameters={\"__doc__\": \"eta\"}]'>, 'muon2_eta': <Array [-0.11, -1.19, 1.72] type='3 * ?float32[parameters={\"__doc__\": \"eta\"}]'>, 'muon_mass': <Array [91.3, 95, 92.1] type='3 * ?float32'>}, {'photon_pt': <Array [[112], [41.9], ... [35], [75.9]] type='7 * option[var * float32[paramete...'>, 'photon_eta': <Array [[0.757], [0.416, ... -0.766], [-0.576]] type='7 * option[var * float32[p...'>, 'muon1_pt': <Array [425, 49.3, 60.2, ... 52.9, 44.1, 47.5] type='7 * ?float32[parameters={\"_...'>, 'muon2_pt': <Array [240, 45.8, 44.8, ... 34.5, 39.9, 44.2] type='7 * ?float32[parameters={\"_...'>, 'muon1_eta': <Array [-1.56, 0.0132, 1.35, ... -0.269, 0.125] type='7 * ?float32[parameters={\"...'>, 'muon2_eta': <Array [-1.37, -0.151, 0.121, ... -1.35, -1.12] type='7 * ?float32[parameters={\"...'>, 'muon_mass': <Array [87.6, 93.7, 89.8, ... 69.7, 91.1, 89.8] type='7 * ?float32'>}, {'photon_pt': <Array [[53.2], [40.2], ... [50.8], [80.1]] type='5 * option[var * float32[param...'>, 'photon_eta': <Array [[0.0851], [-1.65], ... 2.34], [-0.753]] type='5 * option[var * float32[p...'>, 'muon1_pt': <Array [63.8, 73, 36.1, 52.6, 81.3] type='5 * ?float32[parameters={\"__doc__\": \"p...'>, 'muon2_pt': <Array [38.3, 34, 35, 28.5, 28.7] type='5 * ?float32[parameters={\"__doc__\": \"pt\"}]'>, 'muon1_eta': <Array [-0.688, -1.84, ... -0.96, -0.912] type='5 * ?float32[parameters={\"__doc_...'>, 'muon2_eta': <Array [-2.01, -2.24, -2.24, 0.653, -1.88] type='5 * ?float32[parameters={\"__doc...'>, 'muon_mass': <Array [92.6, 71, 89.7, 93.1, 90.1] type='5 * ?float32'>}, {'photon_pt': <Array [[62.2], [49.7], [47.9], [63.5]] type='4 * option[var * float32[parameter...'>, 'photon_eta': <Array [[-0.509], [-0.604, ... [-0.153]] type='4 * option[var * float32[paramete...'>, 'muon1_pt': <Array [67.8, 46.4, 30.7, 65.3] type='4 * ?float32[parameters={\"__doc__\": \"pt\"}]'>, 'muon2_pt': <Array [24, 42, 22.8, 21.5] type='4 * ?float32[parameters={\"__doc__\": \"pt\"}]'>, 'muon1_eta': <Array [1.43, 0.165, -0.302, -0.152] type='4 * ?float32[parameters={\"__doc__\": \"...'>, 'muon2_eta': <Array [0.0432, 0.393, 0.174, 1.35] type='4 * ?float32[parameters={\"__doc__\": \"e...'>, 'muon_mass': <Array [97.2, 79, 54, 66.9] type='4 * ?float32'>}, {'photon_pt': <Array [[44.9], [61.3], ... [75.3], [42.7]] type='7 * option[var * float32[param...'>, 'photon_eta': <Array [[-0.395], [-0.108, ... [-0.208]] type='7 * option[var * float32[paramete...'>, 'muon1_pt': <Array [26.8, 135, 86.5, ... 101, 93.4, 47.3] type='7 * ?float32[parameters={\"__...'>, 'muon2_pt': <Array [23.1, 128, 51.9, ... 39.6, 21.4, 27.2] type='7 * ?float32[parameters={\"_...'>, 'muon1_eta': <Array [-1.05, -0.556, 0.936, ... 0.208, -0.6] type='7 * ?float32[parameters={\"_...'>, 'muon2_eta': <Array [-0.353, -0.829, ... -0.000913, -2.12] type='7 * ?float32[parameters={\"__...'>, 'muon_mass': <Array [52.5, 169, 94.2, ... 131, 89.8, 93.3] type='7 * ?float32'>}, {'photon_pt': <Array [[45.6], [127], ... [37.9], [48.7]] type='6 * option[var * float32[parame...'>, 'photon_eta': <Array [[1.98], [-0.196], ... [-1.9], [1.39]] type='6 * option[var * float32[par...'>, 'muon1_pt': <Array [53.9, 65.7, 56, 95.1, 36.4, 70] type='6 * ?float32[parameters={\"__doc__\"...'>, 'muon2_pt': <Array [44, 61.8, 28.6, 35.2, 26.9, 39.5] type='6 * ?float32[parameters={\"__doc_...'>, 'muon1_eta': <Array [1.92, 1.17, 2, 0.316, -1.4, -0.973] type='6 * ?float32[parameters={\"__do...'>, 'muon2_eta': <Array [1.66, -0.0631, 1.09, ... -1.86, -0.548] type='6 * ?float32[parameters={\"...'>, 'muon_mass': <Array [94.1, 98.3, 87.3, 89.1, 56.6, 90] type='6 * ?float32'>}, {'photon_pt': <Array [[45.4], [62.2]] type='2 * option[var * float32[parameters={\"__doc__\": \"p...'>, 'photon_eta': <Array [[-0.91], [-1.33]] type='2 * option[var * float32[parameters={\"__doc__\": ...'>, 'muon1_pt': <Array [57.9, 76.1] type='2 * ?float32[parameters={\"__doc__\": \"pt\"}]'>, 'muon2_pt': <Array [46.7, 36.4] type='2 * ?float32[parameters={\"__doc__\": \"pt\"}]'>, 'muon1_eta': <Array [-1.93, -0.114] type='2 * ?float32[parameters={\"__doc__\": \"eta\"}]'>, 'muon2_eta': <Array [-2.1, -0.48] type='2 * ?float32[parameters={\"__doc__\": \"eta\"}]'>, 'muon_mass': <Array [93.8, 89.5] type='2 * ?float32'>}, {'photon_pt': <Array [[141], [45], ... [159], [63.9]] type='7 * option[var * float32[parameter...'>, 'photon_eta': <Array [[-1.23], [0.444], ... [0.415], [2.18]] type='7 * option[var * float32[pa...'>, 'muon1_pt': <Array [126, 45.9, 41.4, ... 98.3, 73.7, 73.4] type='7 * ?float32[parameters={\"_...'>, 'muon2_pt': <Array [47.1, 45, 21.8, ... 21.2, 38.5, 24.4] type='7 * ?float32[parameters={\"__...'>, 'muon1_eta': <Array [-0.452, 1.61, 1.56, ... 0.328, 1.76] type='7 * ?float32[parameters={\"__d...'>, 'muon2_eta': <Array [-0.533, 2.12, 0.295, ... 1.89, 2.26] type='7 * ?float32[parameters={\"__d...'>, 'muon_mass': <Array [72.2, 93.9, 71.9, ... 91.2, 91.7, 80.5] type='7 * ?float32'>}, {'photon_pt': <Array [[49.5], [38.4], [56.2]] type='3 * option[var * float32[parameters={\"__do...'>, 'photon_eta': <Array [[-0.313], [-0.897], [1.08]] type='3 * option[var * float32[parameters={\"...'>, 'muon1_pt': <Array [55.8, 54.3, 62.2] type='3 * ?float32[parameters={\"__doc__\": \"pt\"}]'>, 'muon2_pt': <Array [41.7, 27.6, 34] type='3 * ?float32[parameters={\"__doc__\": \"pt\"}]'>, 'muon1_eta': <Array [-1.46, 1.7, 0.646] type='3 * ?float32[parameters={\"__doc__\": \"eta\"}]'>, 'muon2_eta': <Array [-0.291, 0.485, 0.427] type='3 * ?float32[parameters={\"__doc__\": \"eta\"}]'>, 'muon_mass': <Array [97.6, 92.2, 92.5] type='3 * ?float32'>}, {'photon_pt': <Array [[36.1], [47.8], [53.2], [42.5]] type='4 * option[var * float32[parameter...'>, 'photon_eta': <Array [[-1.36], [1.9], [1.13], [1.89]] type='4 * option[var * float32[parameter...'>, 'muon1_pt': <Array [80, 44.2, 31.9, 49.2] type='4 * ?float32[parameters={\"__doc__\": \"pt\"}]'>, 'muon2_pt': <Array [34.5, 42.6, 26.3, 40.1] type='4 * ?float32[parameters={\"__doc__\": \"pt\"}]'>, 'muon1_eta': <Array [-1.53, 1.61, 1.24, -0.932] type='4 * ?float32[parameters={\"__doc__\": \"et...'>, 'muon2_eta': <Array [-0.503, 2.03, 0.833, -0.983] type='4 * ?float32[parameters={\"__doc__\": \"...'>, 'muon_mass': <Array [93.1, 88.6, 57, 88.8] type='4 * ?float32'>}, {'photon_pt': <Array [[61.5], [36.2], ... [48.2], [50.1]] type='6 * option[var * float32[param...'>, 'photon_eta': <Array [[-0.725], [2.02], ... [1.95], [0.696]] type='6 * option[var * float32[pa...'>, 'muon1_pt': <Array [47.8, 82.8, 60.5, 74.2, 78.5, 150] type='6 * ?float32[parameters={\"__doc...'>, 'muon2_pt': <Array [39.6, 65.9, 34.2, 54.4, 55.1, 85.5] type='6 * ?float32[parameters={\"__do...'>, 'muon1_eta': <Array [0.279, 2.05, -2.21, ... -1.67, -0.292] type='6 * ?float32[parameters={\"_...'>, 'muon2_eta': <Array [-0.921, 1.95, -0.85, ... -1.66, 0.693] type='6 * ?float32[parameters={\"_...'>, 'muon_mass': <Array [90, 148, 89.6, 71.2, 85.1, 253] type='6 * ?float32'>}, {'photon_pt': <Array [[35.6], [43.4]] type='2 * option[var * float32[parameters={\"__doc__\": \"p...'>, 'photon_eta': <Array [[-1.03], [-0.3]] type='2 * option[var * float32[parameters={\"__doc__\": \"...'>, 'muon1_pt': <Array [112, 48.6] type='2 * ?float32[parameters={\"__doc__\": \"pt\"}]'>, 'muon2_pt': <Array [30.5, 45.9] type='2 * ?float32[parameters={\"__doc__\": \"pt\"}]'>, 'muon1_eta': <Array [-1.89, 0.932] type='2 * ?float32[parameters={\"__doc__\": \"eta\"}]'>, 'muon2_eta': <Array [-0.509, 0.161] type='2 * ?float32[parameters={\"__doc__\": \"eta\"}]'>, 'muon_mass': <Array [88.3, 90.7] type='2 * ?float32'>}, {'photon_pt': <Array [[76.8], [55.6], ... [40.9], [43.7]] type='5 * option[var * float32[param...'>, 'photon_eta': <Array [[-0.973], [1.76], ... 0.389], [-0.296]] type='5 * option[var * float32[p...'>, 'muon1_pt': <Array [154, 61.7, 52.8, 48.4, 41.9] type='5 * ?float32[parameters={\"__doc__\": \"...'>, 'muon2_pt': <Array [35.1, 32.2, 51.2, 35.8, 32.3] type='5 * ?float32[parameters={\"__doc__\": ...'>, 'muon1_eta': <Array [-1.88, 1.12, -0.504, -1.11, 0.825] type='5 * ?float32[parameters={\"__doc...'>, 'muon2_eta': <Array [2.07, 1.13, -1.05, -0.551, 1.22] type='5 * ?float32[parameters={\"__doc__...'>, 'muon_mass': <Array [541, 86.3, 92.8, 85.6, 53.7] type='5 * ?float32'>}, {'photon_pt': <Array [[48.2], [58], [49], [66.3], [44.4]] type='5 * option[var * float32[param...'>, 'photon_eta': <Array [[1.66], [0.843], ... [-1.84], [1.93]] type='5 * option[var * float32[par...'>, 'muon1_pt': <Array [50.8, 61.9, 60.1, 54.6, 61] type='5 * ?float32[parameters={\"__doc__\": \"p...'>, 'muon2_pt': <Array [41.7, 43, 40.6, 20.8, 56] type='5 * ?float32[parameters={\"__doc__\": \"pt\"}]'>, 'muon1_eta': <Array [1.73, 1.99, -0.568, -0.44, 1.69] type='5 * ?float32[parameters={\"__doc__...'>, 'muon2_eta': <Array [0.833, 1.29, -0.604, 1.62, 1.69] type='5 * ?float32[parameters={\"__doc__...'>, 'muon_mass': <Array [101, 96, 90.2, 93.4, 58.6] type='5 * ?float32'>}, {'photon_pt': <Array [[40.8], [40.6], [44.8]] type='3 * option[var * float32[parameters={\"__do...'>, 'photon_eta': <Array [[0.544], [-0.481], [0.151]] type='3 * option[var * float32[parameters={\"...'>, 'muon1_pt': <Array [58.9, 57.1, 68.5] type='3 * ?float32[parameters={\"__doc__\": \"pt\"}]'>, 'muon2_pt': <Array [31, 25.2, 28.7] type='3 * ?float32[parameters={\"__doc__\": \"pt\"}]'>, 'muon1_eta': <Array [0.667, 0.132, -1.41] type='3 * ?float32[parameters={\"__doc__\": \"eta\"}]'>, 'muon2_eta': <Array [1.49, -0.933, -2.01] type='3 * ?float32[parameters={\"__doc__\": \"eta\"}]'>, 'muon_mass': <Array [88.6, 71.6, 91.7] type='3 * ?float32'>}, {'photon_pt': <Array [[38.4], [55.8], ... [37], [61.1]] type='6 * option[var * float32[paramet...'>, 'photon_eta': <Array [[-1.02], [1.13], ... [-0.048], [0.772]] type='6 * option[var * float32[p...'>, 'muon1_pt': <Array [33.1, 58.8, 63.3, 42.8, 35.8, 51] type='6 * ?float32[parameters={\"__doc_...'>, 'muon2_pt': <Array [31.7, 32, 22.3, 34.9, 24.9, 23.4] type='6 * ?float32[parameters={\"__doc_...'>, 'muon1_eta': <Array [-0.766, -1.51, 1.85, ... -0.225, 0.263] type='6 * ?float32[parameters={\"...'>, 'muon2_eta': <Array [-1.02, -0.168, 0.552, ... -1.86, 2.09] type='6 * ?float32[parameters={\"_...'>, 'muon_mass': <Array [62.9, 91.8, 91.5, 98.1, 74.4, 88.8] type='6 * ?float32'>}, {'photon_pt': <Array [[39.4], [60.6], ... [44.2], [44]] type='8 * option[var * float32[paramet...'>, 'photon_eta': <Array [[0.528], [1.86], ... [-1.13], [1.07]] type='8 * option[var * float32[par...'>, 'muon1_pt': <Array [27.6, 50.3, 107, ... 112, 61.2, 39.8] type='8 * ?float32[parameters={\"__...'>, 'muon2_pt': <Array [22.8, 38.3, 23.1, ... 82.1, 30.5, 29.4] type='8 * ?float32[parameters={\"...'>, 'muon1_eta': <Array [-0.285, 0.547, ... -0.704, -0.456] type='8 * ?float32[parameters={\"__doc...'>, 'muon2_eta': <Array [2.11, 0.258, 2.13, ... -0.0674, -0.376] type='8 * ?float32[parameters={\"...'>, 'muon_mass': <Array [90.2, 88.7, 88.8, ... 89.9, 90.1, 68.2] type='8 * ?float32'>}, {'photon_pt': <Array [[45.5], [45.5], ... [72.6], [35.1]] type='5 * option[var * float32[param...'>, 'photon_eta': <Array [[-0.163], [-1.73, ... -0.441], [0.878]] type='5 * option[var * float32[p...'>, 'muon1_pt': <Array [68.1, 70, 59.2, 42.4, 55.5] type='5 * ?float32[parameters={\"__doc__\": \"p...'>, 'muon2_pt': <Array [46.9, 20.7, 23.9, 22.7, 55.4] type='5 * ?float32[parameters={\"__doc__\": ...'>, 'muon1_eta': <Array [-1.39, 0.95, -0.423, -0.445, 0.951] type='5 * ?float32[parameters={\"__do...'>, 'muon2_eta': <Array [-0.176, -0.541, -1.73, -0.27, 1.28] type='5 * ?float32[parameters={\"__do...'>, 'muon_mass': <Array [89.7, 94.6, 91.7, 55.1, 90.2] type='5 * ?float32'>}, {'photon_pt': <Array [[37.5], [40.5], ... [38.1], [41.5]] type='5 * option[var * float32[param...'>, 'photon_eta': <Array [[-1.74], [-1.59], ... [0.091], [-1.25]] type='5 * option[var * float32[p...'>, 'muon1_pt': <Array [45.5, 31.2, 32.5, 74.9, 57] type='5 * ?float32[parameters={\"__doc__\": \"p...'>, 'muon2_pt': <Array [44.8, 27.9, 30.6, 64.6, 26.9] type='5 * ?float32[parameters={\"__doc__\": ...'>, 'muon1_eta': <Array [-1.25, -1.01, 1.77, 1.17, -0.0803] type='5 * ?float32[parameters={\"__doc...'>, 'muon2_eta': <Array [-0.487, -1.74, 1.83, 1.19, -1.11] type='5 * ?float32[parameters={\"__doc_...'>, 'muon_mass': <Array [96, 62.4, 60.4, 80.9, 86.4] type='5 * ?float32'>}, {'photon_pt': <Array [[57.2], [51.6], [69.2], [91.1]] type='4 * option[var * float32[parameter...'>, 'photon_eta': <Array [[2.21], [-1.11], [0.0656], [1.15]] type='4 * option[var * float32[parame...'>, 'muon1_pt': <Array [61.8, 79.3, 50.6, 172] type='4 * ?float32[parameters={\"__doc__\": \"pt\"}]'>, 'muon2_pt': <Array [57.6, 33.1, 47, 129] type='4 * ?float32[parameters={\"__doc__\": \"pt\"}]'>, 'muon1_eta': <Array [1.01, 1.39, -0.647, 2.02] type='4 * ?float32[parameters={\"__doc__\": \"eta\"}]'>, 'muon2_eta': <Array [-0.389, 2.06, -1.85, 1.86] type='4 * ?float32[parameters={\"__doc__\": \"et...'>, 'muon_mass': <Array [91, 91.5, 91.4, 292] type='4 * ?float32'>}, {'photon_pt': <Array [[86.3], [41.3], ... [53], [35.8]] type='5 * option[var * float32[paramet...'>, 'photon_eta': <Array [[-2.15], [1.42], ... [-0.27], [-2.28]] type='5 * option[var * float32[pa...'>, 'muon1_pt': <Array [69.6, 26.9, 72.4, 71.3, 46.7] type='5 * ?float32[parameters={\"__doc__\": ...'>, 'muon2_pt': <Array [62.6, 24.1, 22.1, 25.4, 43] type='5 * ?float32[parameters={\"__doc__\": \"p...'>, 'muon1_eta': <Array [0.134, 0.945, 0.572, 0.776, -1.66] type='5 * ?float32[parameters={\"__doc...'>, 'muon2_eta': <Array [-0.317, 1.39, -1.18, 1.72, -1.03] type='5 * ?float32[parameters={\"__doc_...'>, 'muon_mass': <Array [93, 50.7, 88.5, 93.1, 91.9] type='5 * ?float32'>}, {'photon_pt': <Array [[35.1], [90.1], [35.3]] type='3 * option[var * float32[parameters={\"__do...'>, 'photon_eta': <Array [[0.364], [-1.22], [-1.61]] type='3 * option[var * float32[parameters={\"_...'>, 'muon1_pt': <Array [59.1, 84.1, 27.6] type='3 * ?float32[parameters={\"__doc__\": \"pt\"}]'>, 'muon2_pt': <Array [39.7, 32.5, 24.8] type='3 * ?float32[parameters={\"__doc__\": \"pt\"}]'>, 'muon1_eta': <Array [1.44, -1.48, -0.824] type='3 * ?float32[parameters={\"__doc__\": \"eta\"}]'>, 'muon2_eta': <Array [0.822, -1.32, -1.5] type='3 * ?float32[parameters={\"__doc__\": \"eta\"}]'>, 'muon_mass': <Array [57.7, 87.8, 54.5] type='3 * ?float32'>}, {'photon_pt': <Array [[51.7], [184], ... [47.6], [57.6]] type='8 * option[var * float32[parame...'>, 'photon_eta': <Array [[1.84], [-0.662], ... [-2.41], [1.68]] type='8 * option[var * float32[pa...'>, 'muon1_pt': <Array [58.8, 98.3, 29.8, ... 57.1, 47.2, 179] type='8 * ?float32[parameters={\"_...'>, 'muon2_pt': <Array [22, 62.4, 29.7, ... 32.7, 42.4, 21.7] type='8 * ?float32[parameters={\"__...'>, 'muon1_eta': <Array [1.06, -1.55, -1.17, ... 0.738, 0.0959] type='8 * ?float32[parameters={\"_...'>, 'muon2_eta': <Array [-0.441, -0.618, ... 0.126, -1.06] type='8 * ?float32[parameters={\"__doc_...'>, 'muon_mass': <Array [92.8, 87.9, 90.8, ... 86.1, 93.2, 90] type='8 * ?float32'>}, {'photon_pt': <Array [[38.5], [86.9]] type='2 * option[var * float32[parameters={\"__doc__\": \"p...'>, 'photon_eta': <Array [[-0.65], [1.16]] type='2 * option[var * float32[parameters={\"__doc__\": \"...'>, 'muon1_pt': <Array [89.6, 67.7] type='2 * ?float32[parameters={\"__doc__\": \"pt\"}]'>, 'muon2_pt': <Array [65.4, 44.7] type='2 * ?float32[parameters={\"__doc__\": \"pt\"}]'>, 'muon1_eta': <Array [-0.992, 0.375] type='2 * ?float32[parameters={\"__doc__\": \"eta\"}]'>, 'muon2_eta': <Array [-1.3, 1.38] type='2 * ?float32[parameters={\"__doc__\": \"eta\"}]'>, 'muon_mass': <Array [154, 86.9] type='2 * ?float32'>}, {'photon_pt': <Array [[36]] type='1 * option[var * float32[parameters={\"__doc__\": \"p_{T}\"}]]'>, 'photon_eta': <Array [[-0.154]] type='1 * option[var * float32[parameters={\"__doc__\": \"eta\"}]]'>, 'muon1_pt': <Array [81.1] type='1 * ?float32[parameters={\"__doc__\": \"pt\"}]'>, 'muon2_pt': <Array [25.3] type='1 * ?float32[parameters={\"__doc__\": \"pt\"}]'>, 'muon1_eta': <Array [2.05] type='1 * ?float32[parameters={\"__doc__\": \"eta\"}]'>, 'muon2_eta': <Array [1.96] type='1 * ?float32[parameters={\"__doc__\": \"eta\"}]'>, 'muon_mass': <Array [89.6] type='1 * ?float32'>}, {'photon_pt': <Array [[51], [44.4], ... [53.7], [43.6]] type='7 * option[var * float32[paramet...'>, 'photon_eta': <Array [[-1.15], [-1.77], ... [2.42], [1.11]] type='7 * option[var * float32[par...'>, 'muon1_pt': <Array [44.1, 32.1, 88.9, ... 60.8, 69.1, 79.2] type='7 * ?float32[parameters={\"...'>, 'muon2_pt': <Array [23.8, 28.1, 28.5, ... 41.4, 45.4, 40.4] type='7 * ?float32[parameters={\"...'>, 'muon1_eta': <Array [-2.03, -1.76, 0.312, ... -0.387, 2.12] type='7 * ?float32[parameters={\"_...'>, 'muon2_eta': <Array [-1.88, -2.26, -0.0169, ... 0.318, 2.14] type='7 * ?float32[parameters={\"...'>, 'muon_mass': <Array [52.7, 61.4, 89.1, ... 92.3, 98.7, 94.4] type='7 * ?float32'>}, {'photon_pt': <Array [[94.3], [75.6]] type='2 * option[var * float32[parameters={\"__doc__\": \"p...'>, 'photon_eta': <Array [[1.22], [-1]] type='2 * option[var * float32[parameters={\"__doc__\": \"eta...'>, 'muon1_pt': <Array [53.4, 29.5] type='2 * ?float32[parameters={\"__doc__\": \"pt\"}]'>, 'muon2_pt': <Array [32.8, 29.3] type='2 * ?float32[parameters={\"__doc__\": \"pt\"}]'>, 'muon1_eta': <Array [0.545, -0.999] type='2 * ?float32[parameters={\"__doc__\": \"eta\"}]'>, 'muon2_eta': <Array [-0.393, -1.17] type='2 * ?float32[parameters={\"__doc__\": \"eta\"}]'>, 'muon_mass': <Array [92.7, 52.5] type='2 * ?float32'>}, {'photon_pt': <Array [[36], [46.8], [73.2]] type='3 * option[var * float32[parameters={\"__doc_...'>, 'photon_eta': <Array [[-1.99], [-2.41], [-1.77]] type='3 * option[var * float32[parameters={\"_...'>, 'muon1_pt': <Array [48.6, 76.5, 104] type='3 * ?float32[parameters={\"__doc__\": \"pt\"}]'>, 'muon2_pt': <Array [41.3, 21.2, 26.9] type='3 * ?float32[parameters={\"__doc__\": \"pt\"}]'>, 'muon1_eta': <Array [-0.799, -1.05, -1.78] type='3 * ?float32[parameters={\"__doc__\": \"eta\"}]'>, 'muon2_eta': <Array [-0.395, -2.21, -2.07] type='3 * ?float32[parameters={\"__doc__\": \"eta\"}]'>, 'muon_mass': <Array [89.8, 90.3, 68.6] type='3 * ?float32'>}, {'photon_pt': <Array [[134], [66.1], ... [54.8], [74.9]] type='6 * option[var * float32[parame...'>, 'photon_eta': <Array [[0.18], [2.03], ... [2.1], [1.74]] type='6 * option[var * float32[parame...'>, 'muon1_pt': <Array [179, 81.8, 41.8, 86.5, 53.9, 48.6] type='6 * ?float32[parameters={\"__doc...'>, 'muon2_pt': <Array [35.1, 33.4, 33.3, 22.5, 21.1, 44.4] type='6 * ?float32[parameters={\"__do...'>, 'muon1_eta': <Array [-0.998, 1.31, -1.2, ... 1.56, 1.72] type='6 * ?float32[parameters={\"__do...'>, 'muon2_eta': <Array [-1.14, 1.42, 0.505, ... -0.146, 1.75] type='6 * ?float32[parameters={\"__...'>, 'muon_mass': <Array [88.8, 91.2, 102, 92.5, 90.9, 88.8] type='6 * ?float32'>}, {'photon_pt': <Array [[50.8], [90.5], [44.7], [52.4]] type='4 * option[var * float32[parameter...'>, 'photon_eta': <Array [[-1.72], [-0.0686, ... -1.09], [-1.08]] type='4 * option[var * float32[p...'>, 'muon1_pt': <Array [54.7, 69.4, 94.3, 48.3] type='4 * ?float32[parameters={\"__doc__\": \"pt\"}]'>, 'muon2_pt': <Array [34.4, 21.4, 27.9, 46.8] type='4 * ?float32[parameters={\"__doc__\": \"pt\"}]'>, 'muon1_eta': <Array [-1.71, -1.15, -1.87, -2.1] type='4 * ?float32[parameters={\"__doc__\": \"et...'>, 'muon2_eta': <Array [-0.891, 0.134, -2, -1.15] type='4 * ?float32[parameters={\"__doc__\": \"eta\"}]'>, 'muon_mass': <Array [87.5, 90.6, 91.4, 92.1] type='4 * ?float32'>}, {'photon_pt': <Array [[191]] type='1 * option[var * float32[parameters={\"__doc__\": \"p_{T}\"}]]'>, 'photon_eta': <Array [[-1.67]] type='1 * option[var * float32[parameters={\"__doc__\": \"eta\"}]]'>, 'muon1_pt': <Array [112] type='1 * ?float32[parameters={\"__doc__\": \"pt\"}]'>, 'muon2_pt': <Array [20.4] type='1 * ?float32[parameters={\"__doc__\": \"pt\"}]'>, 'muon1_eta': <Array [-0.555] type='1 * ?float32[parameters={\"__doc__\": \"eta\"}]'>, 'muon2_eta': <Array [-0.195] type='1 * ?float32[parameters={\"__doc__\": \"eta\"}]'>, 'muon_mass': <Array [92.5] type='1 * ?float32'>}, {'photon_pt': <Array [[84.2], [53.6], ... [38.1], [36]] type='6 * option[var * float32[paramet...'>, 'photon_eta': <Array [[0.333], [-0.488], ... 0.649], [-1.66]] type='6 * option[var * float32[p...'>, 'muon1_pt': <Array [67, 61.1, 103, 148, 39.1, 57.9] type='6 * ?float32[parameters={\"__doc__\"...'>, 'muon2_pt': <Array [33.3, 26.6, 50.1, 66.8, 24.4, 32.3] type='6 * ?float32[parameters={\"__do...'>, 'muon1_eta': <Array [1.24, -1.17, 0.108, ... 0.137, -1.1] type='6 * ?float32[parameters={\"__d...'>, 'muon2_eta': <Array [-0.815, 0.517, 0.41, ... 2.08, -2.1] type='6 * ?float32[parameters={\"__d...'>, 'muon_mass': <Array [118, 94.8, 145, 197, 89.9, 91.6] type='6 * ?float32'>}, {'photon_pt': <Array [[40.7], [68.6], ... [40.5], [54.5]] type='8 * option[var * float32[param...'>, 'photon_eta': <Array [[0.348], [0.838], ... [-2.4], [0.998]] type='8 * option[var * float32[pa...'>, 'muon1_pt': <Array [54.7, 69.2, 67.4, ... 26.5, 158, 44.2] type='8 * ?float32[parameters={\"_...'>, 'muon2_pt': <Array [41.9, 20.8, 37.3, ... 23.8, 91.2, 25.8] type='8 * ?float32[parameters={\"...'>, 'muon1_eta': <Array [-0.0731, -0.793, ... -0.0987, 1.99] type='8 * ?float32[parameters={\"__do...'>, 'muon2_eta': <Array [0.051, -2.3, -2.37, ... -0.486, 0.147] type='8 * ?float32[parameters={\"_...'>, 'muon_mass': <Array [92.9, 88.9, 89.8, ... 58.7, 87.5, 90] type='8 * ?float32'>}, {'photon_pt': <Array [[50.9], [186], [37.5], [87.9]] type='4 * option[var * float32[parameters...'>, 'photon_eta': <Array [[0.515], [0.975], [-1.16], [0.962]] type='4 * option[var * float32[param...'>, 'muon1_pt': <Array [50.9, 170, 36.6, 79] type='4 * ?float32[parameters={\"__doc__\": \"pt\"}]'>, 'muon2_pt': <Array [36.2, 20.1, 29.4, 34.3] type='4 * ?float32[parameters={\"__doc__\": \"pt\"}]'>, 'muon1_eta': <Array [1.18, 0.321, -0.987, -1.55] type='4 * ?float32[parameters={\"__doc__\": \"e...'>, 'muon2_eta': <Array [0.345, 1.54, -1.16, -1.28] type='4 * ?float32[parameters={\"__doc__\": \"et...'>, 'muon_mass': <Array [89.4, 88.4, 62.4, 90.1] type='4 * ?float32'>}, {'photon_pt': <Array [[39]] type='1 * option[var * float32[parameters={\"__doc__\": \"p_{T}\"}]]'>, 'photon_eta': <Array [[0.592]] type='1 * option[var * float32[parameters={\"__doc__\": \"eta\"}]]'>, 'muon1_pt': <Array [63.2] type='1 * ?float32[parameters={\"__doc__\": \"pt\"}]'>, 'muon2_pt': <Array [24.3] type='1 * ?float32[parameters={\"__doc__\": \"pt\"}]'>, 'muon1_eta': <Array [0.947] type='1 * ?float32[parameters={\"__doc__\": \"eta\"}]'>, 'muon2_eta': <Array [0.596] type='1 * ?float32[parameters={\"__doc__\": \"eta\"}]'>, 'muon_mass': <Array [57.6] type='1 * ?float32'>}, {'photon_pt': <Array [[98], [215], ... [64.1], [102]] type='7 * option[var * float32[parameter...'>, 'photon_eta': <Array [[1.9], [-1.27], ... [-1.36], [-1.11]] type='7 * option[var * float32[par...'>, 'muon1_pt': <Array [91.8, 273, 50.1, ... 55.3, 92.3, 99] type='7 * ?float32[parameters={\"__d...'>, 'muon2_pt': <Array [36, 53.4, 40.8, ... 25.1, 38.2, 41.5] type='7 * ?float32[parameters={\"__...'>, 'muon1_eta': <Array [-0.511, -2.05, 0.942, ... 0.221, -1] type='7 * ?float32[parameters={\"__d...'>, 'muon2_eta': <Array [-0.513, -1.85, ... -0.705, -2.3] type='7 * ?float32[parameters={\"__doc__...'>, 'muon_mass': <Array [91.7, 99.4, 89.8, ... 61.3, 125, 126] type='7 * ?float32'>}, {'photon_pt': <Array [[39.3], [42.9], ... [56], [35.5]] type='6 * option[var * float32[paramet...'>, 'photon_eta': <Array [[0.639], [1.64], ... [-1.04], [-1.84]] type='6 * option[var * float32[pa...'>, 'muon1_pt': <Array [48, 59.1, 65.2, 166, 54.8, 75.9] type='6 * ?float32[parameters={\"__doc__...'>, 'muon2_pt': <Array [33.7, 21, 46.4, 51.4, 35, 45.6] type='6 * ?float32[parameters={\"__doc__\"...'>, 'muon1_eta': <Array [0.643, 1.64, -1.38, ... -0.186, 0.484] type='6 * ?float32[parameters={\"_...'>, 'muon2_eta': <Array [0.964, 1.83, -1.53, ... -0.311, -0.766] type='6 * ?float32[parameters={\"...'>, 'muon_mass': <Array [66.7, 67.5, 88.5, 88.5, 87.8, 125] type='6 * ?float32'>}, {'photon_pt': <Array [[36.7], [151], ... [38.4], [35.2]] type='5 * option[var * float32[parame...'>, 'photon_eta': <Array [[-0.682], [0.118, ... -1.61], [-0.879]] type='5 * option[var * float32[p...'>, 'muon1_pt': <Array [99.4, 194, 117, 47, 38.7] type='5 * ?float32[parameters={\"__doc__\": \"pt\"}]'>, 'muon2_pt': <Array [75.7, 50.6, 30, 44.2, 29.2] type='5 * ?float32[parameters={\"__doc__\": \"p...'>, 'muon1_eta': <Array [-0.313, 0.199, -1.02, 1.69, 0.288] type='5 * ?float32[parameters={\"__doc...'>, 'muon2_eta': <Array [-0.419, 0.676, 0.107, 1.86, 0.338] type='5 * ?float32[parameters={\"__doc...'>, 'muon_mass': <Array [86.2, 199, 90.7, 91.3, 60.7] type='5 * ?float32'>}, {'photon_pt': <Array [[37], [38.8], [42.3]] type='3 * option[var * float32[parameters={\"__doc_...'>, 'photon_eta': <Array [[-2.21], [0.16], [0.146]] type='3 * option[var * float32[parameters={\"__...'>, 'muon1_pt': <Array [289, 47.5, 27.8] type='3 * ?float32[parameters={\"__doc__\": \"pt\"}]'>, 'muon2_pt': <Array [112, 36.2, 25.3] type='3 * ?float32[parameters={\"__doc__\": \"pt\"}]'>, 'muon1_eta': <Array [-0.554, -1.58, 0.665] type='3 * ?float32[parameters={\"__doc__\": \"eta\"}]'>, 'muon2_eta': <Array [-0.219, -0.302, -0.764] type='3 * ?float32[parameters={\"__doc__\": \"eta\"}]'>, 'muon_mass': <Array [79.4, 91.4, 64.6] type='3 * ?float32'>}, {'photon_pt': <Array [[44.4], [59.3], ... [46.2], [57.9]] type='6 * option[var * float32[param...'>, 'photon_eta': <Array [[-1.4], [-0.0318], ... [0.881], [0.28]] type='6 * option[var * float32[p...'>, 'muon1_pt': <Array [52.7, 68.2, 53.3, 68.7, 71, 33.7] type='6 * ?float32[parameters={\"__doc_...'>, 'muon2_pt': <Array [20.2, 21.9, 25.4, 23.1, 61.2, 33] type='6 * ?float32[parameters={\"__doc_...'>, 'muon1_eta': <Array [-1.4, -0.858, -1.71, ... 1.57, -1.14] type='6 * ?float32[parameters={\"__...'>, 'muon2_eta': <Array [-2.16, 0.374, -0.0735, ... 1.24, 0.588] type='6 * ?float32[parameters={\"...'>, 'muon_mass': <Array [68.2, 91.8, 90, 93.3, 109, 93.2] type='6 * ?float32'>}, {'photon_pt': <Array [[37]] type='1 * option[var * float32[parameters={\"__doc__\": \"p_{T}\"}]]'>, 'photon_eta': <Array [[-1.43]] type='1 * option[var * float32[parameters={\"__doc__\": \"eta\"}]]'>, 'muon1_pt': <Array [37.9] type='1 * ?float32[parameters={\"__doc__\": \"pt\"}]'>, 'muon2_pt': <Array [23.8] type='1 * ?float32[parameters={\"__doc__\": \"pt\"}]'>, 'muon1_eta': <Array [-1.21] type='1 * ?float32[parameters={\"__doc__\": \"eta\"}]'>, 'muon2_eta': <Array [-0.322] type='1 * ?float32[parameters={\"__doc__\": \"eta\"}]'>, 'muon_mass': <Array [63.2] type='1 * ?float32'>}, {'photon_pt': <Array [[41.2], [51.3], ... [55.2], [49.5]] type='6 * option[var * float32[param...'>, 'photon_eta': <Array [[0.952], [1.08], ... [-0.731], [1.71]] type='6 * option[var * float32[pa...'>, 'muon1_pt': <Array [67.2, 51.6, 41.6, 87.4, 65.8, 72.6] type='6 * ?float32[parameters={\"__do...'>, 'muon2_pt': <Array [21.7, 47.5, 24.4, 79.4, 64.9, 30.3] type='6 * ?float32[parameters={\"__do...'>, 'muon1_eta': <Array [0.487, -0.0313, ... -0.609, 1.33] type='6 * ?float32[parameters={\"__doc_...'>, 'muon2_eta': <Array [1.57, -0.448, 0.896, ... -0.571, 0.616] type='6 * ?float32[parameters={\"...'>, 'muon_mass': <Array [87.2, 89.9, 58.3, 91.3, 104, 91.3] type='6 * ?float32'>}, {'photon_pt': <Array [[38.1], [40.2], [40.8], [73.3]] type='4 * option[var * float32[parameter...'>, 'photon_eta': <Array [[0.477], [-0.0475, ... [-0.119]] type='4 * option[var * float32[paramete...'>, 'muon1_pt': <Array [30.9, 64.2, 65.5, 57.3] type='4 * ?float32[parameters={\"__doc__\": \"pt\"}]'>, 'muon2_pt': <Array [25.8, 31.8, 31.2, 21.8] type='4 * ?float32[parameters={\"__doc__\": \"pt\"}]'>, 'muon1_eta': <Array [0.391, 0.0803, -1.82, 0.678] type='4 * ?float32[parameters={\"__doc__\": \"...'>, 'muon2_eta': <Array [1.78, 0.508, -2.24, -1.24] type='4 * ?float32[parameters={\"__doc__\": \"et...'>, 'muon_mass': <Array [53.2, 92.3, 74.9, 83.7] type='4 * ?float32'>}, {'photon_pt': <Array [[48.1], [41.8], [38.1]] type='3 * option[var * float32[parameters={\"__do...'>, 'photon_eta': <Array [[2.35], [-1.72], [2.46]] type='3 * option[var * float32[parameters={\"__d...'>, 'muon1_pt': <Array [52.4, 75.8, 44.5] type='3 * ?float32[parameters={\"__doc__\": \"pt\"}]'>, 'muon2_pt': <Array [49.1, 63.2, 28.6] type='3 * ?float32[parameters={\"__doc__\": \"pt\"}]'>, 'muon1_eta': <Array [-0.432, -1.27, -0.441] type='3 * ?float32[parameters={\"__doc__\": \"eta\"}]'>, 'muon2_eta': <Array [-0.0617, -0.956, -1.79] type='3 * ?float32[parameters={\"__doc__\": \"eta\"}]'>, 'muon_mass': <Array [93.1, 81.3, 86.8] type='3 * ?float32'>}, {'photon_pt': <Array [] type='0 * option[var * float32[parameters={\"__doc__\": \"p_{T}\"}]]'>, 'photon_eta': <Array [] type='0 * option[var * float32[parameters={\"__doc__\": \"eta\"}]]'>, 'muon1_pt': <Array [] type='0 * ?float32[parameters={\"__doc__\": \"pt\"}]'>, 'muon2_pt': <Array [] type='0 * ?float32[parameters={\"__doc__\": \"pt\"}]'>, 'muon1_eta': <Array [] type='0 * ?float32[parameters={\"__doc__\": \"eta\"}]'>, 'muon2_eta': <Array [] type='0 * ?float32[parameters={\"__doc__\": \"eta\"}]'>, 'muon_mass': <Array [] type='0 * ?float32'>}, {'photon_pt': <Array [[37.6], [43.7], [128]] type='3 * option[var * float32[parameters={\"__doc...'>, 'photon_eta': <Array [[1.02], [-1.19], [-0.465]] type='3 * option[var * float32[parameters={\"_...'>, 'muon1_pt': <Array [33, 45.6, 101] type='3 * ?float32[parameters={\"__doc__\": \"pt\"}]'>, 'muon2_pt': <Array [20.2, 24.8, 92.4] type='3 * ?float32[parameters={\"__doc__\": \"pt\"}]'>, 'muon1_eta': <Array [1.46, 1.37, 1.29] type='3 * ?float32[parameters={\"__doc__\": \"eta\"}]'>, 'muon2_eta': <Array [2.12, -0.493, 2.09] type='3 * ?float32[parameters={\"__doc__\": \"eta\"}]'>, 'muon_mass': <Array [54.4, 92.7, 86.7] type='3 * ?float32'>}, {'photon_pt': <Array [[38.4], [74.3], ... [136], [61.7]] type='7 * option[var * float32[parame...'>, 'photon_eta': <Array [[-1.96], [1.74], ... -0.793], [-0.245]] type='7 * option[var * float32[p...'>, 'muon1_pt': <Array [57.2, 38.1, 28.2, ... 79, 66.3, 54.3] type='7 * ?float32[parameters={\"__...'>, 'muon2_pt': <Array [39, 31.9, 24.4, 28.8, 28.3, 35, 31] type='7 * ?float32[parameters={\"__do...'>, 'muon1_eta': <Array [-1.4, 0.0138, 1.78, ... -1.55, -0.555] type='7 * ?float32[parameters={\"_...'>, 'muon2_eta': <Array [-1.69, 1.76, 1.31, ... -0.792, 0.136] type='7 * ?float32[parameters={\"__...'>, 'muon_mass': <Array [90.9, 86.3, 53.4, ... 91.1, 55.9, 86.4] type='7 * ?float32'>}, {'photon_pt': <Array [[44.4], [123], ... [42.1], [40.7]] type='12 * option[var * float32[param...'>, 'photon_eta': <Array [[-2.43], [1.7], ... [0.686], [-0.29]] type='12 * option[var * float32[pa...'>, 'muon1_pt': <Array [50.8, 54.8, 36.5, ... 33.2, 55.6, 93.5] type='12 * ?float32[parameters={...'>, 'muon2_pt': <Array [35.9, 36.9, 25.8, ... 23, 24.3, 60.2] type='12 * ?float32[parameters={\"_...'>, 'muon1_eta': <Array [-1.64, 1.24, 0.918, ... 1.63, 0.0302] type='12 * ?float32[parameters={\"_...'>, 'muon2_eta': <Array [-2.33, 1.4, -0.992, ... -0.0981, 0.688] type='12 * ?float32[parameters={...'>, 'muon_mass': <Array [87.5, 89.9, 90, ... 54.7, 96.1, 95.1] type='12 * ?float32'>}, {'photon_pt': <Array [[45.7], [66.3], ... [43.6], [36.2]] type='9 * option[var * float32[param...'>, 'photon_eta': <Array [[-1.63], [2.46], ... [1.33], [-2.16]] type='9 * option[var * float32[par...'>, 'muon1_pt': <Array [69.4, 62.9, 69.9, ... 38.5, 95.2, 58.2] type='9 * ?float32[parameters={\"...'>, 'muon2_pt': <Array [25.3, 40.6, 65.8, ... 28.7, 23.6, 32.2] type='9 * ?float32[parameters={\"...'>, 'muon1_eta': <Array [0.506, 0.968, 1.93, ... -0.0082, -1.58] type='9 * ?float32[parameters={\"...'>, 'muon2_eta': <Array [-0.744, 1.25, 1.02, ... -0.305, -1.03] type='9 * ?float32[parameters={\"_...'>, 'muon_mass': <Array [89.5, 90.5, 67.6, ... 64.8, 90.8, 85.3] type='9 * ?float32'>}, {'photon_pt': <Array [[91.3], [67.1], [36.6]] type='3 * option[var * float32[parameters={\"__do...'>, 'photon_eta': <Array [[1.05], [1.73], [0.289]] type='3 * option[var * float32[parameters={\"__d...'>, 'muon1_pt': <Array [79.3, 39.1, 26.4] type='3 * ?float32[parameters={\"__doc__\": \"pt\"}]'>, 'muon2_pt': <Array [42.1, 36.8, 21.5] type='3 * ?float32[parameters={\"__doc__\": \"pt\"}]'>, 'muon1_eta': <Array [0.637, 1.32, 1.17] type='3 * ?float32[parameters={\"__doc__\": \"eta\"}]'>, 'muon2_eta': <Array [0.846, 1.85, -0.422] type='3 * ?float32[parameters={\"__doc__\": \"eta\"}]'>, 'muon_mass': <Array [89.8, 58, 61.3] type='3 * ?float32'>}, {'photon_pt': <Array [[47.7], [42.6], ... [307], [64.6]] type='5 * option[var * float32[parame...'>, 'photon_eta': <Array [[0.0746], [0.926], ... [-1.39], [1.32]] type='5 * option[var * float32[p...'>, 'muon1_pt': <Array [48.1, 34.7, 44.1, 111, 87.2] type='5 * ?float32[parameters={\"__doc__\": \"...'>, 'muon2_pt': <Array [29.7, 29.7, 43.3, 71.7, 43.1] type='5 * ?float32[parameters={\"__doc__\": ...'>, 'muon1_eta': <Array [0.0751, -1.32, 0.918, -0.551, 1.96] type='5 * ?float32[parameters={\"__do...'>, 'muon2_eta': <Array [0.0662, 0.912, -0.98, -1.13, 1.13] type='5 * ?float32[parameters={\"__doc...'>, 'muon_mass': <Array [65.3, 90, 130, 98.1, 65.9] type='5 * ?float32'>}, {'photon_pt': <Array [[39.8], [47], ... [47.8], [39.4]] type='6 * option[var * float32[paramet...'>, 'photon_eta': <Array [[1.31], [-1.38], ... [0.278], [0.51]] type='6 * option[var * float32[par...'>, 'muon1_pt': <Array [35.5, 58.6, 46.1, 46.6, 71.5, 59.5] type='6 * ?float32[parameters={\"__do...'>, 'muon2_pt': <Array [32.8, 35.6, 39.4, 46.2, 36.4, 36.2] type='6 * ?float32[parameters={\"__do...'>, 'muon1_eta': <Array [2.1, 0.186, -1.66, ... -0.305, -0.111] type='6 * ?float32[parameters={\"_...'>, 'muon2_eta': <Array [0.688, -1.15, -0.314, ... 0.802, 0.49] type='6 * ?float32[parameters={\"_...'>, 'muon_mass': <Array [84.2, 101, 103, 89.9, 87, 94.5] type='6 * ?float32'>}, {'photon_pt': <Array [[41.1], [45.4], ... [56.5], [35.7]] type='12 * option[var * float32[para...'>, 'photon_eta': <Array [[-1.63], [-2.27], ... [0.675], [-1.44]] type='12 * option[var * float32[...'>, 'muon1_pt': <Array [26.1, 60.1, 49.3, ... 101, 74.5, 50.6] type='12 * ?float32[parameters={\"...'>, 'muon2_pt': <Array [21.5, 32.8, 28.6, ... 67.6, 32.5, 50.5] type='12 * ?float32[parameters={...'>, 'muon1_eta': <Array [1.54, -0.564, -0.718, ... 1.27, -0.398] type='12 * ?float32[parameters={...'>, 'muon2_eta': <Array [-0.946, 0.0825, -1.94, ... 1.57, -0.42] type='12 * ?float32[parameters={...'>, 'muon_mass': <Array [81.9, 93.2, 89.5, ... 60.6, 94, 91.3] type='12 * ?float32'>}, {'photon_pt': <Array [[39.2], [49], ... [35.3], [59.7]] type='6 * option[var * float32[paramet...'>, 'photon_eta': <Array [[0.279], [-0.525], ... [0.855], [0.21]] type='6 * option[var * float32[p...'>, 'muon1_pt': <Array [41.9, 34.7, 50.5, 50.8, 41.3, 61.5] type='6 * ?float32[parameters={\"__do...'>, 'muon2_pt': <Array [39, 29.1, 42.3, 44.2, 34, 33.4] type='6 * ?float32[parameters={\"__doc__\"...'>, 'muon1_eta': <Array [-0.143, -1.19, 1.53, ... -1.5, -0.435] type='6 * ?float32[parameters={\"_...'>, 'muon2_eta': <Array [0.332, -1.3, 1.74, ... 0.508, -1] type='6 * ?float32[parameters={\"__doc_...'>, 'muon_mass': <Array [72.9, 57.1, 91.5, 94.1, 112, 80.7] type='6 * ?float32'>}, {'photon_pt': <Array [[35.3], [80.3], ... [48.6], [56.5]] type='6 * option[var * float32[param...'>, 'photon_eta': <Array [[2.07], [0.382], ... -1.06], [-0.0804]] type='6 * option[var * float32[p...'>, 'muon1_pt': <Array [42.2, 115, 38.1, 73.1, 52.6, 46.6] type='6 * ?float32[parameters={\"__doc...'>, 'muon2_pt': <Array [38.1, 39, 36.9, 53, 51.2, 42.2] type='6 * ?float32[parameters={\"__doc__\"...'>, 'muon1_eta': <Array [1.8, 0.998, -1.74, ... -0.262, -1.14] type='6 * ?float32[parameters={\"__...'>, 'muon2_eta': <Array [0.735, 0.847, ... -0.502, -1.73] type='6 * ?float32[parameters={\"__doc__...'>, 'muon_mass': <Array [89.5, 134, 94.1, 81, 92.6, 83.9] type='6 * ?float32'>}, {'photon_pt': <Array [[35.1], [61.6]] type='2 * option[var * float32[parameters={\"__doc__\": \"p...'>, 'photon_eta': <Array [[-1.4], [-1.68]] type='2 * option[var * float32[parameters={\"__doc__\": \"...'>, 'muon1_pt': <Array [75.3, 51.7] type='2 * ?float32[parameters={\"__doc__\": \"pt\"}]'>, 'muon2_pt': <Array [23, 36.7] type='2 * ?float32[parameters={\"__doc__\": \"pt\"}]'>, 'muon1_eta': <Array [-1.4, -0.721] type='2 * ?float32[parameters={\"__doc__\": \"eta\"}]'>, 'muon2_eta': <Array [-0.735, -2.15] type='2 * ?float32[parameters={\"__doc__\": \"eta\"}]'>, 'muon_mass': <Array [74.5, 90.7] type='2 * ?float32'>}, {'photon_pt': <Array [] type='0 * option[var * float32[parameters={\"__doc__\": \"p_{T}\"}]]'>, 'photon_eta': <Array [] type='0 * option[var * float32[parameters={\"__doc__\": \"eta\"}]]'>, 'muon1_pt': <Array [] type='0 * ?float32[parameters={\"__doc__\": \"pt\"}]'>, 'muon2_pt': <Array [] type='0 * ?float32[parameters={\"__doc__\": \"pt\"}]'>, 'muon1_eta': <Array [] type='0 * ?float32[parameters={\"__doc__\": \"eta\"}]'>, 'muon2_eta': <Array [] type='0 * ?float32[parameters={\"__doc__\": \"eta\"}]'>, 'muon_mass': <Array [] type='0 * ?float32'>}, {'photon_pt': <Array [[49.1], [39.8], ... [57.6], [43.4]] type='7 * option[var * float32[param...'>, 'photon_eta': <Array [[1.39], [1.25], ... [0.382], [0.247]] type='7 * option[var * float32[par...'>, 'muon1_pt': <Array [52.1, 44.1, 93.1, ... 94.2, 46.7, 55.8] type='7 * ?float32[parameters={\"...'>, 'muon2_pt': <Array [49.1, 28.4, 22.8, ... 29.1, 41.8, 20.4] type='7 * ?float32[parameters={\"...'>, 'muon1_eta': <Array [0.664, 0.662, -1.09, ... 1.77, 0.473] type='7 * ?float32[parameters={\"__...'>, 'muon2_eta': <Array [0.064, 1.55, -1.63, ... 2.26, -0.416] type='7 * ?float32[parameters={\"__...'>, 'muon_mass': <Array [105, 77.2, 88.9, ... 79.7, 89.3, 67.9] type='7 * ?float32'>}, {'photon_pt': <Array [[66.6], [67.8], [48.1]] type='3 * option[var * float32[parameters={\"__do...'>, 'photon_eta': <Array [[-0.659], [-0.244], [-2.33]] type='3 * option[var * float32[parameters={...'>, 'muon1_pt': <Array [85.6, 47.1, 108] type='3 * ?float32[parameters={\"__doc__\": \"pt\"}]'>, 'muon2_pt': <Array [20.5, 21.9, 61] type='3 * ?float32[parameters={\"__doc__\": \"pt\"}]'>, 'muon1_eta': <Array [0.892, -0.946, -1.1] type='3 * ?float32[parameters={\"__doc__\": \"eta\"}]'>, 'muon2_eta': <Array [0.0951, 1.58, -2.32] type='3 * ?float32[parameters={\"__doc__\": \"eta\"}]'>, 'muon_mass': <Array [90.4, 114, 194] type='3 * ?float32'>}, {'photon_pt': <Array [[52.3]] type='1 * option[var * float32[parameters={\"__doc__\": \"p_{T}\"}]]'>, 'photon_eta': <Array [[0.875]] type='1 * option[var * float32[parameters={\"__doc__\": \"eta\"}]]'>, 'muon1_pt': <Array [92.2] type='1 * ?float32[parameters={\"__doc__\": \"pt\"}]'>, 'muon2_pt': <Array [26.3] type='1 * ?float32[parameters={\"__doc__\": \"pt\"}]'>, 'muon1_eta': <Array [0.113] type='1 * ?float32[parameters={\"__doc__\": \"eta\"}]'>, 'muon2_eta': <Array [0.309] type='1 * ?float32[parameters={\"__doc__\": \"eta\"}]'>, 'muon_mass': <Array [91] type='1 * ?float32'>}, {'photon_pt': <Array [[39], [36.3], ... [85.4], [55.3]] type='5 * option[var * float32[paramet...'>, 'photon_eta': <Array [[-0.215], [-2.42], ... [2.28], [-1.98]] type='5 * option[var * float32[p...'>, 'muon1_pt': <Array [34.4, 65.4, 65.8, 125, 80.1] type='5 * ?float32[parameters={\"__doc__\": \"...'>, 'muon2_pt': <Array [30, 34.7, 40.3, 21.7, 31] type='5 * ?float32[parameters={\"__doc__\": \"pt\"}]'>, 'muon1_eta': <Array [-0.916, -0.696, 1.04, 1.4, -2.37] type='5 * ?float32[parameters={\"__doc_...'>, 'muon2_eta': <Array [-0.206, 0.525, 0.397, 1.37, -2.38] type='5 * ?float32[parameters={\"__doc...'>, 'muon_mass': <Array [59.4, 88.6, 94.2, 91.2, 91.5] type='5 * ?float32'>}, {'photon_pt': <Array [[42.7], [35.1], [69.4]] type='3 * option[var * float32[parameters={\"__do...'>, 'photon_eta': <Array [[1.26], [-0.232], [-0.578]] type='3 * option[var * float32[parameters={\"...'>, 'muon1_pt': <Array [41.2, 82.7, 83.8] type='3 * ?float32[parameters={\"__doc__\": \"pt\"}]'>, 'muon2_pt': <Array [38, 27.8, 23.5] type='3 * ?float32[parameters={\"__doc__\": \"pt\"}]'>, 'muon1_eta': <Array [0.0255, -0.209, -1.77] type='3 * ?float32[parameters={\"__doc__\": \"eta\"}]'>, 'muon2_eta': <Array [-1.01, 0.0803, -1.82] type='3 * ?float32[parameters={\"__doc__\": \"eta\"}]'>, 'muon_mass': <Array [89.4, 93, 87.8] type='3 * ?float32'>}, {'photon_pt': <Array [[43.1], [44.8], [62.7], [40.3]] type='4 * option[var * float32[parameter...'>, 'photon_eta': <Array [[1.93], [0.19], [-1.31], [-1.68]] type='4 * option[var * float32[paramet...'>, 'muon1_pt': <Array [93.4, 37.5, 86.6, 29.1] type='4 * ?float32[parameters={\"__doc__\": \"pt\"}]'>, 'muon2_pt': <Array [51.1, 37.4, 22.7, 21] type='4 * ?float32[parameters={\"__doc__\": \"pt\"}]'>, 'muon1_eta': <Array [0.837, -0.65, 2.18, -2.21] type='4 * ?float32[parameters={\"__doc__\": \"et...'>, 'muon2_eta': <Array [1.93, -2.36, 0.345, -1.33] type='4 * ?float32[parameters={\"__doc__\": \"et...'>, 'muon_mass': <Array [159, 91.2, 93, 51.4] type='4 * ?float32'>}, {'photon_pt': <Array [[37.3], [36.6], [109]] type='3 * option[var * float32[parameters={\"__doc...'>, 'photon_eta': <Array [[-0.536], [-2.15], [-1.84]] type='3 * option[var * float32[parameters={\"...'>, 'muon1_pt': <Array [50.2, 77.9, 244] type='3 * ?float32[parameters={\"__doc__\": \"pt\"}]'>, 'muon2_pt': <Array [30.2, 48, 126] type='3 * ?float32[parameters={\"__doc__\": \"pt\"}]'>, 'muon1_eta': <Array [0.561, -1.87, -1.86] type='3 * ?float32[parameters={\"__doc__\": \"eta\"}]'>, 'muon2_eta': <Array [-0.766, -1.04, -1.84] type='3 * ?float32[parameters={\"__doc__\": \"eta\"}]'>, 'muon_mass': <Array [88.9, 91.6, 351] type='3 * ?float32'>}, {'photon_pt': <Array [[40.8], [49.7], ... [38.7], [65.6]] type='10 * option[var * float32[para...'>, 'photon_eta': <Array [[-0.272], [1.16], ... -0.217], [-1.12]] type='10 * option[var * float32[...'>, 'muon1_pt': <Array [72.3, 80.2, 53.7, ... 64.1, 42.1, 73.6] type='10 * ?float32[parameters={...'>, 'muon2_pt': <Array [52.7, 40, 33.8, ... 31.5, 39.6, 39.8] type='10 * ?float32[parameters={\"_...'>, 'muon1_eta': <Array [-0.0913, 1.31, -1.9, ... -1.77, 0.975] type='10 * ?float32[parameters={\"...'>, 'muon2_eta': <Array [0.847, -0.266, ... -1.68, -0.432] type='10 * ?float32[parameters={\"__doc...'>, 'muon_mass': <Array [89, 149, 92.9, ... 89.9, 81.7, 90.8] type='10 * ?float32'>}, {'photon_pt': <Array [[62.8], [51.8], ... [51.7], [58.8]] type='6 * option[var * float32[param...'>, 'photon_eta': <Array [[-1.74], [0.658], ... [2.25], [0.408]] type='6 * option[var * float32[pa...'>, 'muon1_pt': <Array [59.2, 277, 55.2, 60.8, 59.4, 69.2] type='6 * ?float32[parameters={\"__doc...'>, 'muon2_pt': <Array [29.9, 25.1, 39.5, 41.7, 31.8, 33.3] type='6 * ?float32[parameters={\"__do...'>, 'muon1_eta': <Array [0.0925, 0.98, -1.84, ... 1.22, 0.182] type='6 * ?float32[parameters={\"__...'>, 'muon2_eta': <Array [-0.719, 0.651, -1.61, ... 2.35, 0.0916] type='6 * ?float32[parameters={\"...'>, 'muon_mass': <Array [51.1, 50.4, 91.5, 90.5, 87.8, 88.6] type='6 * ?float32'>}, {'photon_pt': <Array [[56.4], [37.4], ... [96.3], [35.4]] type='7 * option[var * float32[param...'>, 'photon_eta': <Array [[2.19], [0.505], ... -1.17], [-0.0478]] type='7 * option[var * float32[p...'>, 'muon1_pt': <Array [47.9, 30.8, 51.8, ... 95.7, 226, 63.1] type='7 * ?float32[parameters={\"_...'>, 'muon2_pt': <Array [31, 21.3, 43.3, ... 20.5, 197, 38.3] type='7 * ?float32[parameters={\"__d...'>, 'muon1_eta': <Array [1.3, 0.546, -1.61, ... -1.23, -0.425] type='7 * ?float32[parameters={\"__...'>, 'muon2_eta': <Array [-0.469, -0.312, ... 1.33, -0.0148] type='7 * ?float32[parameters={\"__doc...'>, 'muon_mass': <Array [86.6, 54.8, 90.3, ... 87.4, 813, 90.5] type='7 * ?float32'>}, {'photon_pt': <Array [[42.1], [48.4], ... [43.3], [60]] type='6 * option[var * float32[paramet...'>, 'photon_eta': <Array [[2.2], [0.818], ... [-1.32], [-0.768]] type='6 * option[var * float32[pa...'>, 'muon1_pt': <Array [96.5, 63, 104, 101, 45, 86.7] type='6 * ?float32[parameters={\"__doc__\": ...'>, 'muon2_pt': <Array [25.6, 23, 30.9, 21.2, 22.9, 22.5] type='6 * ?float32[parameters={\"__doc_...'>, 'muon1_eta': <Array [0.164, 1.86, 1.63, ... -1.17, 0.758] type='6 * ?float32[parameters={\"__d...'>, 'muon2_eta': <Array [0.742, 0.812, 2.37, ... 0.5, -0.244] type='6 * ?float32[parameters={\"__d...'>, 'muon_mass': <Array [91.4, 87, 84.7, 92.6, 87.4, 88.4] type='6 * ?float32'>}, {'photon_pt': <Array [[39.5], [51.9], ... [44.2], [45.9]] type='5 * option[var * float32[param...'>, 'photon_eta': <Array [[-0.857], [-1.1], ... [-1.86], [0.879]] type='5 * option[var * float32[p...'>, 'muon1_pt': <Array [36.8, 103, 96.2, 57.6, 64.9] type='5 * ?float32[parameters={\"__doc__\": \"...'>, 'muon2_pt': <Array [36.2, 73.5, 26.1, 49.9, 27] type='5 * ?float32[parameters={\"__doc__\": \"p...'>, 'muon1_eta': <Array [0.341, -0.946, ... -0.307, 0.634] type='5 * ?float32[parameters={\"__doc_...'>, 'muon2_eta': <Array [1.49, -1.85, -1.48, -0.777, 2.05] type='5 * ?float32[parameters={\"__doc_...'>, 'muon_mass': <Array [85.3, 191, 97.2, 110, 86.5] type='5 * ?float32'>}, {'photon_pt': <Array [[44.7], [48], [75.8], [40.1]] type='4 * option[var * float32[parameters=...'>, 'photon_eta': <Array [[-1.16], [-1.23, ... -0.975], [0.0465]] type='4 * option[var * float32[p...'>, 'muon1_pt': <Array [62.5, 50.6, 90.9, 149] type='4 * ?float32[parameters={\"__doc__\": \"pt\"}]'>, 'muon2_pt': <Array [28.7, 28.5, 39.4, 86.6] type='4 * ?float32[parameters={\"__doc__\": \"pt\"}]'>, 'muon1_eta': <Array [-1.14, 1.5, -0.767, 0.524] type='4 * ?float32[parameters={\"__doc__\": \"et...'>, 'muon2_eta': <Array [-0.812, 0.0791, -0.116, 0.0503] type='4 * ?float32[parameters={\"__doc__\"...'>, 'muon_mass': <Array [81.6, 92.1, 89.7, 231] type='4 * ?float32'>}, {'photon_pt': <Array [[55.6], [46.6], ... [43.8], [62.5]] type='6 * option[var * float32[param...'>, 'photon_eta': <Array [[-0.0353], [2.27], ... -1.91], [0.634]] type='6 * option[var * float32[p...'>, 'muon1_pt': <Array [79.1, 42.6, 144, 50.3, 45.4, 53.7] type='6 * ?float32[parameters={\"__doc...'>, 'muon2_pt': <Array [29.1, 41.3, 62.7, 25.2, 29.4, 37] type='6 * ?float32[parameters={\"__doc_...'>, 'muon1_eta': <Array [0.309, 0.954, -1.25, ... -0.681, 0.858] type='6 * ?float32[parameters={\"...'>, 'muon2_eta': <Array [0.749, 1.86, -0.795, ... 0.391, -0.479] type='6 * ?float32[parameters={\"...'>, 'muon_mass': <Array [96.9, 65.7, 177, 94.4, 83.2, 91.6] type='6 * ?float32'>}, {'photon_pt': <Array [[37], [57.3], ... [46.6], [39.4]] type='5 * option[var * float32[paramet...'>, 'photon_eta': <Array [[1.87], [2.05], ... [-2.49], [0.752]] type='5 * option[var * float32[par...'>, 'muon1_pt': <Array [46.9, 97.8, 48.6, 32.2, 48.1] type='5 * ?float32[parameters={\"__doc__\": ...'>, 'muon2_pt': <Array [43, 29.1, 47.2, 28, 41] type='5 * ?float32[parameters={\"__doc__\": \"pt\"}]'>, 'muon1_eta': <Array [-1.31, 0.0916, ... -0.676, 0.191] type='5 * ?float32[parameters={\"__doc_...'>, 'muon2_eta': <Array [-1.8, -1.18, 1.22, 1.71, 0.154] type='5 * ?float32[parameters={\"__doc__\"...'>, 'muon_mass': <Array [91.6, 89.7, 91, 103, 88.8] type='5 * ?float32'>}, {'photon_pt': <Array [[44], [36.8], ... [66.5], [37]] type='6 * option[var * float32[parameter...'>, 'photon_eta': <Array [[1.87], [0.228], ... [1.04], [0.518]] type='6 * option[var * float32[par...'>, 'muon1_pt': <Array [54.3, 39.6, 111, 41.5, 67.6, 117] type='6 * ?float32[parameters={\"__doc_...'>, 'muon2_pt': <Array [26.3, 21.3, 32.1, 28.2, 20.4, 85.3] type='6 * ?float32[parameters={\"__do...'>, 'muon1_eta': <Array [2.13, 1.69, -0.626, ... 1.05, -0.866] type='6 * ?float32[parameters={\"__...'>, 'muon2_eta': <Array [0.821, 2.09, ... -0.235, -0.68] type='6 * ?float32[parameters={\"__doc__\"...'>, 'muon_mass': <Array [91.2, 59, 91.3, 70.5, 89.2, 200] type='6 * ?float32'>}, {'photon_pt': <Array [[94.8], [84.9], [61.8], [65.6]] type='4 * option[var * float32[parameter...'>, 'photon_eta': <Array [[-0.285], [1.22], [0.926], [2.25]] type='4 * option[var * float32[parame...'>, 'muon1_pt': <Array [77.3, 51.3, 90.2, 81.8] type='4 * ?float32[parameters={\"__doc__\": \"pt\"}]'>, 'muon2_pt': <Array [43.4, 44.3, 25.7, 25] type='4 * ?float32[parameters={\"__doc__\": \"pt\"}]'>, 'muon1_eta': <Array [0.0202, 1.29, -0.841, 0.889] type='4 * ?float32[parameters={\"__doc__\": \"...'>, 'muon2_eta': <Array [0.324, 2.21, 0.885, 1.52] type='4 * ?float32[parameters={\"__doc__\": \"eta\"}]'>, 'muon_mass': <Array [77.3, 102, 133, 94.7] type='4 * ?float32'>}, {'photon_pt': <Array [[49.2], [66.3], [178], [42.8]] type='4 * option[var * float32[parameters...'>, 'photon_eta': <Array [[0.706], [2.08], ... 0.478], [-0.0122]] type='4 * option[var * float32[p...'>, 'muon1_pt': <Array [68.7, 59, 92.4, 30.7] type='4 * ?float32[parameters={\"__doc__\": \"pt\"}]'>, 'muon2_pt': <Array [26.4, 33.6, 20.2, 27.2] type='4 * ?float32[parameters={\"__doc__\": \"pt\"}]'>, 'muon1_eta': <Array [0.777, 2.34, 0.476, 0.459] type='4 * ?float32[parameters={\"__doc__\": \"et...'>, 'muon2_eta': <Array [-0.502, 1.13, 0.128, -0.0182] type='4 * ?float32[parameters={\"__doc__\": ...'>, 'muon_mass': <Array [65.8, 99.7, 72.5, 57.4] type='4 * ?float32'>}, {'photon_pt': <Array [[40.1], [46.2], [37.1], [53.1]] type='4 * option[var * float32[parameter...'>, 'photon_eta': <Array [[1.38], [-2.44], ... -0.396], [-0.829]] type='4 * option[var * float32[p...'>, 'muon1_pt': <Array [38.2, 58, 68.3, 72.4] type='4 * ?float32[parameters={\"__doc__\": \"pt\"}]'>, 'muon2_pt': <Array [34.3, 44.6, 40, 30.2] type='4 * ?float32[parameters={\"__doc__\": \"pt\"}]'>, 'muon1_eta': <Array [1.96, -1.56, 0.526, 1.01] type='4 * ?float32[parameters={\"__doc__\": \"eta\"}]'>, 'muon2_eta': <Array [1.71, -1.84, -0.481, -1.87] type='4 * ?float32[parameters={\"__doc__\": \"e...'>, 'muon_mass': <Array [60.4, 94.2, 118, 208] type='4 * ?float32'>}, {'photon_pt': <Array [[40.1], [57.7]] type='2 * option[var * float32[parameters={\"__doc__\": \"p...'>, 'photon_eta': <Array [[-2.2], [0.839]] type='2 * option[var * float32[parameters={\"__doc__\": \"...'>, 'muon1_pt': <Array [70.5, 508] type='2 * ?float32[parameters={\"__doc__\": \"pt\"}]'>, 'muon2_pt': <Array [31.3, 71.6] type='2 * ?float32[parameters={\"__doc__\": \"pt\"}]'>, 'muon1_eta': <Array [-1.2, 0.826] type='2 * ?float32[parameters={\"__doc__\": \"eta\"}]'>, 'muon2_eta': <Array [-1.85, 0.301] type='2 * ?float32[parameters={\"__doc__\": \"eta\"}]'>, 'muon_mass': <Array [96.1, 138] type='2 * ?float32'>}, {'photon_pt': <Array [[40.7], [37.5], [45.6], [36.2]] type='4 * option[var * float32[parameter...'>, 'photon_eta': <Array [[-0.997], [1.57], [0.276], [1.9]] type='4 * option[var * float32[paramet...'>, 'muon1_pt': <Array [64.6, 69.1, 73.2, 37.1] type='4 * ?float32[parameters={\"__doc__\": \"pt\"}]'>, 'muon2_pt': <Array [22.4, 45.1, 20.2, 32.2] type='4 * ?float32[parameters={\"__doc__\": \"pt\"}]'>, 'muon1_eta': <Array [-0.975, -0.293, -1.61, 0.974] type='4 * ?float32[parameters={\"__doc__\": ...'>, 'muon2_eta': <Array [-2.32, -0.0828, -0.387, -0.536] type='4 * ?float32[parameters={\"__doc__\"...'>, 'muon_mass': <Array [93.2, 102, 85.8, 89.8] type='4 * ?float32'>}, {'photon_pt': <Array [[51.4]] type='1 * option[var * float32[parameters={\"__doc__\": \"p_{T}\"}]]'>, 'photon_eta': <Array [[-2.03]] type='1 * option[var * float32[parameters={\"__doc__\": \"eta\"}]]'>, 'muon1_pt': <Array [51.3] type='1 * ?float32[parameters={\"__doc__\": \"pt\"}]'>, 'muon2_pt': <Array [39.7] type='1 * ?float32[parameters={\"__doc__\": \"pt\"}]'>, 'muon1_eta': <Array [-1.95] type='1 * ?float32[parameters={\"__doc__\": \"eta\"}]'>, 'muon2_eta': <Array [-2.32] type='1 * ?float32[parameters={\"__doc__\": \"eta\"}]'>, 'muon_mass': <Array [74.8] type='1 * ?float32'>}, {'photon_pt': <Array [[39.7], [37.4]] type='2 * option[var * float32[parameters={\"__doc__\": \"p...'>, 'photon_eta': <Array [[-1.69], [1.23]] type='2 * option[var * float32[parameters={\"__doc__\": \"...'>, 'muon1_pt': <Array [69.4, 57] type='2 * ?float32[parameters={\"__doc__\": \"pt\"}]'>, 'muon2_pt': <Array [27.4, 39.7] type='2 * ?float32[parameters={\"__doc__\": \"pt\"}]'>, 'muon1_eta': <Array [-1.68, 1.27] type='2 * ?float32[parameters={\"__doc__\": \"eta\"}]'>, 'muon2_eta': <Array [-2.22, 1.47] type='2 * ?float32[parameters={\"__doc__\": \"eta\"}]'>, 'muon_mass': <Array [85.4, 89.7] type='2 * ?float32'>}, {'photon_pt': <Array [[81.6], [42.6], ... [141], [41.7]] type='6 * option[var * float32[parame...'>, 'photon_eta': <Array [[2.05], [-1.41], ... [1.18], [1.05]] type='6 * option[var * float32[para...'>, 'muon1_pt': <Array [67.6, 76.9, 113, 72.1, 227, 53.3] type='6 * ?float32[parameters={\"__doc_...'>, 'muon2_pt': <Array [32.8, 20.3, 105, 45.2, 164, 37.8] type='6 * ?float32[parameters={\"__doc_...'>, 'muon1_eta': <Array [-0.17, -0.582, -1.04, ... 0.777, 2.25] type='6 * ?float32[parameters={\"_...'>, 'muon2_eta': <Array [1.63, -1.9, -1.95, ... 1.17, 1.75] type='6 * ?float32[parameters={\"__doc...'>, 'muon_mass': <Array [107, 91.2, 239, 90, 375, 80.9] type='6 * ?float32'>}, {'photon_pt': <Array [[80], [37.3], [41.2]] type='3 * option[var * float32[parameters={\"__doc_...'>, 'photon_eta': <Array [[-0.19], [0.684], [1.28]] type='3 * option[var * float32[parameters={\"__...'>, 'muon1_pt': <Array [70.7, 46.8, 76.3] type='3 * ?float32[parameters={\"__doc__\": \"pt\"}]'>, 'muon2_pt': <Array [34.7, 45, 21.6] type='3 * ?float32[parameters={\"__doc__\": \"pt\"}]'>, 'muon1_eta': <Array [0.698, 0.898, 0.362] type='3 * ?float32[parameters={\"__doc__\": \"eta\"}]'>, 'muon2_eta': <Array [0.594, 0.863, -0.736] type='3 * ?float32[parameters={\"__doc__\": \"eta\"}]'>, 'muon_mass': <Array [90.3, 81.9, 89.8] type='3 * ?float32'>}, {'photon_pt': <Array [[52.6], [35.9], [60.5], [72.3]] type='4 * option[var * float32[parameter...'>, 'photon_eta': <Array [[0.353], [1.29], [-0.306], [0.113]] type='4 * option[var * float32[param...'>, 'muon1_pt': <Array [59.7, 76.1, 65.4, 165] type='4 * ?float32[parameters={\"__doc__\": \"pt\"}]'>, 'muon2_pt': <Array [20.4, 28.8, 38.6, 119] type='4 * ?float32[parameters={\"__doc__\": \"pt\"}]'>, 'muon1_eta': <Array [1.1, -1.65, -1.2, 0.58] type='4 * ?float32[parameters={\"__doc__\": \"eta\"}]'>, 'muon2_eta': <Array [-0.446, -2.4, -0.385, 0.11] type='4 * ?float32[parameters={\"__doc__\": \"e...'>, 'muon_mass': <Array [90.3, 89, 94, 287] type='4 * ?float32'>}, {'photon_pt': <Array [[147], [65.8], ... [38.2], [67.3]] type='5 * option[var * float32[parame...'>, 'photon_eta': <Array [[-0.479], [-1.32, ... 0.0233], [0.401]] type='5 * option[var * float32[p...'>, 'muon1_pt': <Array [97.8, 153, 55.8, 29.3, 64.7] type='5 * ?float32[parameters={\"__doc__\": \"...'>, 'muon2_pt': <Array [20.1, 136, 43.7, 25, 60.1] type='5 * ?float32[parameters={\"__doc__\": \"pt\"}]'>, 'muon1_eta': <Array [-1.86, -0.554, ... 0.463, -1.78] type='5 * ?float32[parameters={\"__doc__...'>, 'muon2_eta': <Array [-0.767, 1.04, ... -0.765, -2.21] type='5 * ?float32[parameters={\"__doc__...'>, 'muon_mass': <Array [92.5, 384, 90.6, 64.5, 80.9] type='5 * ?float32'>}, {'photon_pt': <Array [[55.5], [39.6], [81.9], [37.2]] type='4 * option[var * float32[parameter...'>, 'photon_eta': <Array [[0.689], [0.396], ... -0.0261], [2.35]] type='4 * option[var * float32[p...'>, 'muon1_pt': <Array [73.6, 47.3, 87.9, 52.8] type='4 * ?float32[parameters={\"__doc__\": \"pt\"}]'>, 'muon2_pt': <Array [28.6, 30.6, 44.4, 38.8] type='4 * ?float32[parameters={\"__doc__\": \"pt\"}]'>, 'muon1_eta': <Array [0.559, -1.21, -0.147, 0.582] type='4 * ?float32[parameters={\"__doc__\": \"...'>, 'muon2_eta': <Array [0.267, -0.617, 0.347, 1.68] type='4 * ?float32[parameters={\"__doc__\": \"e...'>, 'muon_mass': <Array [91.8, 79.3, 116, 92.8] type='4 * ?float32'>}, {'photon_pt': <Array [] type='0 * option[var * float32[parameters={\"__doc__\": \"p_{T}\"}]]'>, 'photon_eta': <Array [] type='0 * option[var * float32[parameters={\"__doc__\": \"eta\"}]]'>, 'muon1_pt': <Array [] type='0 * ?float32[parameters={\"__doc__\": \"pt\"}]'>, 'muon2_pt': <Array [] type='0 * ?float32[parameters={\"__doc__\": \"pt\"}]'>, 'muon1_eta': <Array [] type='0 * ?float32[parameters={\"__doc__\": \"eta\"}]'>, 'muon2_eta': <Array [] type='0 * ?float32[parameters={\"__doc__\": \"eta\"}]'>, 'muon_mass': <Array [] type='0 * ?float32'>}, {'photon_pt': <Array [[38.6], [41.1], [41.4], [46]] type='4 * option[var * float32[parameters=...'>, 'photon_eta': <Array [[1.68], [1.71], [0.0061], [-1.02]] type='4 * option[var * float32[parame...'>, 'muon1_pt': <Array [55.9, 38, 60.1, 30.5] type='4 * ?float32[parameters={\"__doc__\": \"pt\"}]'>, 'muon2_pt': <Array [23.7, 32, 39.1, 22.7] type='4 * ?float32[parameters={\"__doc__\": \"pt\"}]'>, 'muon1_eta': <Array [1.69, 0.34, 0.37, -1.74] type='4 * ?float32[parameters={\"__doc__\": \"eta\"}]'>, 'muon2_eta': <Array [1.06, -0.668, 0.975, -1.01] type='4 * ?float32[parameters={\"__doc__\": \"e...'>, 'muon_mass': <Array [71.5, 77.4, 96, 54.5] type='4 * ?float32'>}, {'photon_pt': <Array [[42], [44.9]] type='2 * option[var * float32[parameters={\"__doc__\": \"p_{...'>, 'photon_eta': <Array [[2.47], [-0.483]] type='2 * option[var * float32[parameters={\"__doc__\": ...'>, 'muon1_pt': <Array [64.4, 26.8] type='2 * ?float32[parameters={\"__doc__\": \"pt\"}]'>, 'muon2_pt': <Array [25.1, 21.5] type='2 * ?float32[parameters={\"__doc__\": \"pt\"}]'>, 'muon1_eta': <Array [0.375, 0.497] type='2 * ?float32[parameters={\"__doc__\": \"eta\"}]'>, 'muon2_eta': <Array [1.78, -2.1] type='2 * ?float32[parameters={\"__doc__\": \"eta\"}]'>, 'muon_mass': <Array [101, 91.7] type='2 * ?float32'>}, {'photon_pt': <Array [[51.8], [46.3], ... [41.2], [37]] type='7 * option[var * float32[paramet...'>, 'photon_eta': <Array [[-1.1], [-0.259], ... [0.482], [0.723]] type='7 * option[var * float32[p...'>, 'muon1_pt': <Array [89.2, 53.3, 260, ... 33.3, 97.3, 55.8] type='7 * ?float32[parameters={\"_...'>, 'muon2_pt': <Array [29.7, 25.1, 38.7, ... 21.5, 68, 20.6] type='7 * ?float32[parameters={\"__...'>, 'muon1_eta': <Array [-0.934, -1.15, ... 0.972, -1.41] type='7 * ?float32[parameters={\"__doc__...'>, 'muon2_eta': <Array [-1.52, 0.544, 0.554, ... 0.482, 0.326] type='7 * ?float32[parameters={\"_...'>, 'muon_mass': <Array [106, 91.6, 88.3, ... 56.1, 168, 90.8] type='7 * ?float32'>}, {'photon_pt': <Array [[44.3], [51.9], [55]] type='3 * option[var * float32[parameters={\"__doc_...'>, 'photon_eta': <Array [[1.18], [0.169], [0.193]] type='3 * option[var * float32[parameters={\"__...'>, 'muon1_pt': <Array [66.4, 50, 53.5] type='3 * ?float32[parameters={\"__doc__\": \"pt\"}]'>, 'muon2_pt': <Array [37.2, 36, 24.4] type='3 * ?float32[parameters={\"__doc__\": \"pt\"}]'>, 'muon1_eta': <Array [-0.862, -1.06, 0.125] type='3 * ?float32[parameters={\"__doc__\": \"eta\"}]'>, 'muon2_eta': <Array [-0.551, 0.139, -1.44] type='3 * ?float32[parameters={\"__doc__\": \"eta\"}]'>, 'muon_mass': <Array [91.1, 101, 95.5] type='3 * ?float32'>}, {'photon_pt': <Array [[61.4], [44.8], [62.6], [36.9]] type='4 * option[var * float32[parameter...'>, 'photon_eta': <Array [[-0.0953], [-0.611, ... [0.819]] type='4 * option[var * float32[paramete...'>, 'muon1_pt': <Array [63.6, 56.6, 133, 84.7] type='4 * ?float32[parameters={\"__doc__\": \"pt\"}]'>, 'muon2_pt': <Array [35.7, 30.5, 80.2, 27.7] type='4 * ?float32[parameters={\"__doc__\": \"pt\"}]'>, 'muon1_eta': <Array [-1.81, 0.137, 0.847, 0.936] type='4 * ?float32[parameters={\"__doc__\": \"e...'>, 'muon2_eta': <Array [-1.48, -0.464, 0.952, 1.91] type='4 * ?float32[parameters={\"__doc__\": \"e...'>, 'muon_mass': <Array [88.3, 74.5, 207, 85.8] type='4 * ?float32'>}, {'photon_pt': <Array [[46.7], [47.6], [56], [42.7]] type='4 * option[var * float32[parameters=...'>, 'photon_eta': <Array [[1.77], [-0.0725], ... -1.72], [-1.91]] type='4 * option[var * float32[p...'>, 'muon1_pt': <Array [119, 57.1, 31.7, 36.6] type='4 * ?float32[parameters={\"__doc__\": \"pt\"}]'>, 'muon2_pt': <Array [71.3, 46.3, 22, 29.8] type='4 * ?float32[parameters={\"__doc__\": \"pt\"}]'>, 'muon1_eta': <Array [-0.119, 0.0209, -0.845, -0.283] type='4 * ?float32[parameters={\"__doc__\"...'>, 'muon2_eta': <Array [0.0414, 0.706, -1.91, -2.13] type='4 * ?float32[parameters={\"__doc__\": \"...'>, 'muon_mass': <Array [117, 91.1, 55.7, 86.7] type='4 * ?float32'>}, {'photon_pt': <Array [[50], [51.5], ... [54.7], [155]] type='8 * option[var * float32[paramete...'>, 'photon_eta': <Array [[-0.397], [0.156], ... [1.6], [-0.908]] type='8 * option[var * float32[p...'>, 'muon1_pt': <Array [62.7, 86.1, 41.6, ... 89.2, 45.6, 109] type='8 * ?float32[parameters={\"_...'>, 'muon2_pt': <Array [21.2, 53.8, 29.3, ... 31.5, 34.3, 59.8] type='8 * ?float32[parameters={\"...'>, 'muon1_eta': <Array [-0.416, -1.48, -0.554, ... 1.01, 0.837] type='8 * ?float32[parameters={\"...'>, 'muon2_eta': <Array [-0.744, -0.263, -1.62, ... 0.11, 0.343] type='8 * ?float32[parameters={\"...'>, 'muon_mass': <Array [64.5, 90.8, 71.6, ... 91.3, 82.3, 92.1] type='8 * ?float32'>}, {'photon_pt': <Array [[40.4], [113], [63.6]] type='3 * option[var * float32[parameters={\"__doc...'>, 'photon_eta': <Array [[-1.96], [-0.572], [1.12]] type='3 * option[var * float32[parameters={\"_...'>, 'muon1_pt': <Array [68.9, 69.1, 76] type='3 * ?float32[parameters={\"__doc__\": \"pt\"}]'>, 'muon2_pt': <Array [52.7, 44.3, 41] type='3 * ?float32[parameters={\"__doc__\": \"pt\"}]'>, 'muon1_eta': <Array [-2.02, -0.936, 1.04] type='3 * ?float32[parameters={\"__doc__\": \"eta\"}]'>, 'muon2_eta': <Array [-1.38, 0.367, 0.341] type='3 * ?float32[parameters={\"__doc__\": \"eta\"}]'>, 'muon_mass': <Array [92.4, 91.3, 93] type='3 * ?float32'>}, {'photon_pt': <Array [[37.4], [65.3], ... [42.6], [56.1]] type='5 * option[var * float32[param...'>, 'photon_eta': <Array [[1.86], [0.98], ... [-1.08], [-0.893]] type='5 * option[var * float32[pa...'>, 'muon1_pt': <Array [36.8, 73.8, 43.6, 47.1, 94.7] type='5 * ?float32[parameters={\"__doc__\": ...'>, 'muon2_pt': <Array [31.5, 30.2, 33.2, 31.4, 24.2] type='5 * ?float32[parameters={\"__doc__\": ...'>, 'muon1_eta': <Array [1.78, 1.48, 0.0832, 0.172, -0.901] type='5 * ?float32[parameters={\"__doc...'>, 'muon2_eta': <Array [1.86, 1.65, -1.06, -1.3, -0.745] type='5 * ?float32[parameters={\"__doc__...'>, 'muon_mass': <Array [63.9, 89.7, 65.2, 93, 71.8] type='5 * ?float32'>}, {'photon_pt': <Array [[44.5]] type='1 * option[var * float32[parameters={\"__doc__\": \"p_{T}\"}]]'>, 'photon_eta': <Array [[-0.0061]] type='1 * option[var * float32[parameters={\"__doc__\": \"eta\"}]]'>, 'muon1_pt': <Array [81.2] type='1 * ?float32[parameters={\"__doc__\": \"pt\"}]'>, 'muon2_pt': <Array [51.9] type='1 * ?float32[parameters={\"__doc__\": \"pt\"}]'>, 'muon1_eta': <Array [-1.55] type='1 * ?float32[parameters={\"__doc__\": \"eta\"}]'>, 'muon2_eta': <Array [0.169] type='1 * ?float32[parameters={\"__doc__\": \"eta\"}]'>, 'muon_mass': <Array [181] type='1 * ?float32'>}, {'photon_pt': <Array [[42.3], [50.8], ... [38.1], [36.6]] type='5 * option[var * float32[param...'>, 'photon_eta': <Array [[-0.45], [1.66], ... [1.37], [-1.77]] type='5 * option[var * float32[par...'>, 'muon1_pt': <Array [53.9, 35.3, 76.6, 59.3, 58.7] type='5 * ?float32[parameters={\"__doc__\": ...'>, 'muon2_pt': <Array [50.4, 33.1, 71.4, 52.1, 26.8] type='5 * ?float32[parameters={\"__doc__\": ...'>, 'muon1_eta': <Array [-1.79, 0.468, -1.25, -0.988, -2.23] type='5 * ?float32[parameters={\"__do...'>, 'muon2_eta': <Array [-1.93, 1.18, -2.26, -0.538, -1.99] type='5 * ?float32[parameters={\"__doc...'>, 'muon_mass': <Array [94.7, 71.1, 83.6, 90.6, 63] type='5 * ?float32'>}, {'photon_pt': <Array [[43.4], [52.2], ... [46.5], [48.1]] type='7 * option[var * float32[param...'>, 'photon_eta': <Array [[2.4], [0.0146], ... [1.3], [1.64]] type='7 * option[var * float32[param...'>, 'muon1_pt': <Array [68.4, 71, 46.6, ... 76.1, 62.5, 46.6] type='7 * ?float32[parameters={\"__...'>, 'muon2_pt': <Array [55.7, 32.4, 27, ... 34.9, 32.4, 43.4] type='7 * ?float32[parameters={\"__...'>, 'muon1_eta': <Array [0.726, 1.87, 1.61, ... 0.515, -0.329] type='7 * ?float32[parameters={\"__...'>, 'muon2_eta': <Array [-0.172, 1.09, -0.112, ... 1.57, 0.176] type='7 * ?float32[parameters={\"_...'>, 'muon_mass': <Array [87.6, 91.2, 89, ... 98, 102, 92.1] type='7 * ?float32'>}, {'photon_pt': <Array [[47.9], [73.8], [56.9], [39.1]] type='4 * option[var * float32[parameter...'>, 'photon_eta': <Array [[1.73], [0.156], [-1.91], [0.51]] type='4 * option[var * float32[paramet...'>, 'muon1_pt': <Array [60.4, 57.6, 46.2, 51.5] type='4 * ?float32[parameters={\"__doc__\": \"pt\"}]'>, 'muon2_pt': <Array [30.9, 49.4, 34.8, 42.3] type='4 * ?float32[parameters={\"__doc__\": \"pt\"}]'>, 'muon1_eta': <Array [2.04, 0.153, -0.731, 0.549] type='4 * ?float32[parameters={\"__doc__\": \"e...'>, 'muon2_eta': <Array [1.01, -0.714, -1.69, 0.303] type='4 * ?float32[parameters={\"__doc__\": \"e...'>, 'muon_mass': <Array [91.3, 91.9, 88.7, 91] type='4 * ?float32'>}, {'photon_pt': <Array [[111]] type='1 * option[var * float32[parameters={\"__doc__\": \"p_{T}\"}]]'>, 'photon_eta': <Array [[-0.183]] type='1 * option[var * float32[parameters={\"__doc__\": \"eta\"}]]'>, 'muon1_pt': <Array [110] type='1 * ?float32[parameters={\"__doc__\": \"pt\"}]'>, 'muon2_pt': <Array [29.8] type='1 * ?float32[parameters={\"__doc__\": \"pt\"}]'>, 'muon1_eta': <Array [-0.876] type='1 * ?float32[parameters={\"__doc__\": \"eta\"}]'>, 'muon2_eta': <Array [0.375] type='1 * ?float32[parameters={\"__doc__\": \"eta\"}]'>, 'muon_mass': <Array [91.8] type='1 * ?float32'>}, {'photon_pt': <Array [[49.2]] type='1 * option[var * float32[parameters={\"__doc__\": \"p_{T}\"}]]'>, 'photon_eta': <Array [[0.0512]] type='1 * option[var * float32[parameters={\"__doc__\": \"eta\"}]]'>, 'muon1_pt': <Array [102] type='1 * ?float32[parameters={\"__doc__\": \"pt\"}]'>, 'muon2_pt': <Array [37.5] type='1 * ?float32[parameters={\"__doc__\": \"pt\"}]'>, 'muon1_eta': <Array [-0.915] type='1 * ?float32[parameters={\"__doc__\": \"eta\"}]'>, 'muon2_eta': <Array [0.0482] type='1 * ?float32[parameters={\"__doc__\": \"eta\"}]'>, 'muon_mass': <Array [138] type='1 * ?float32'>}, {'photon_pt': <Array [[47.3], [39.2]] type='2 * option[var * float32[parameters={\"__doc__\": \"p...'>, 'photon_eta': <Array [[-0.323], [-0.453]] type='2 * option[var * float32[parameters={\"__doc__\"...'>, 'muon1_pt': <Array [64, 47.1] type='2 * ?float32[parameters={\"__doc__\": \"pt\"}]'>, 'muon2_pt': <Array [25.7, 41.3] type='2 * ?float32[parameters={\"__doc__\": \"pt\"}]'>, 'muon1_eta': <Array [0.181, -1.73] type='2 * ?float32[parameters={\"__doc__\": \"eta\"}]'>, 'muon2_eta': <Array [-1.15, -0.941] type='2 * ?float32[parameters={\"__doc__\": \"eta\"}]'>, 'muon_mass': <Array [93, 90] type='2 * ?float32'>}, {'photon_pt': <Array [[41.7], [37.2], [63.1], [35.7]] type='4 * option[var * float32[parameter...'>, 'photon_eta': <Array [[-2.24], [0.893], ... -0.293], [-2.14]] type='4 * option[var * float32[p...'>, 'muon1_pt': <Array [65.1, 34, 74, 48.2] type='4 * ?float32[parameters={\"__doc__\": \"pt\"}]'>, 'muon2_pt': <Array [45.7, 32.5, 35.8, 34.4] type='4 * ?float32[parameters={\"__doc__\": \"pt\"}]'>, 'muon1_eta': <Array [-2.26, 0.854, -0.935, 2.31] type='4 * ?float32[parameters={\"__doc__\": \"e...'>, 'muon2_eta': <Array [-1.86, 0.441, 0.134, 0.316] type='4 * ?float32[parameters={\"__doc__\": \"e...'>, 'muon_mass': <Array [111, 67.8, 81.1, 125] type='4 * ?float32'>}, {'photon_pt': <Array [[46.2], [79.7], ... [46.3], [65.2]] type='7 * option[var * float32[param...'>, 'photon_eta': <Array [[-0.113], [-0.229, ... -0.46], [-1.21]] type='7 * option[var * float32[p...'>, 'muon1_pt': <Array [54, 80.1, 78.2, ... 56.7, 66.1, 45.8] type='7 * ?float32[parameters={\"__...'>, 'muon2_pt': <Array [39, 45.4, 56.8, ... 40.2, 31.1, 38.9] type='7 * ?float32[parameters={\"__...'>, 'muon1_eta': <Array [-1.79, -0.225, -1.09, ... 1.36, 0.947] type='7 * ?float32[parameters={\"_...'>, 'muon2_eta': <Array [-1.96, -0.909, -2.24, ... 1.56, 1.68] type='7 * ?float32[parameters={\"__...'>, 'muon_mass': <Array [89.8, 64.6, 100, ... 92.6, 86.8, 88.5] type='7 * ?float32'>}, {'photon_pt': <Array [[56.4], [39.5], [107]] type='3 * option[var * float32[parameters={\"__doc...'>, 'photon_eta': <Array [[1.21], [-0.955], [1.85]] type='3 * option[var * float32[parameters={\"__...'>, 'muon1_pt': <Array [79.5, 26.5, 90.7] type='3 * ?float32[parameters={\"__doc__\": \"pt\"}]'>, 'muon2_pt': <Array [21.9, 20.7, 32.8] type='3 * ?float32[parameters={\"__doc__\": \"pt\"}]'>, 'muon1_eta': <Array [1.46, -1.7, 1.42] type='3 * ?float32[parameters={\"__doc__\": \"eta\"}]'>, 'muon2_eta': <Array [0.708, 0.00547, 0.395] type='3 * ?float32[parameters={\"__doc__\": \"eta\"}]'>, 'muon_mass': <Array [89.3, 65, 89.6] type='3 * ?float32'>}, {'photon_pt': <Array [[37], [73.7], [56.4], [122], [63]] type='5 * option[var * float32[parame...'>, 'photon_eta': <Array [[0.659], [-1.37], ... [-0.0629], [1.6]] type='5 * option[var * float32[p...'>, 'muon1_pt': <Array [36.7, 69.9, 45, 65.4, 112] type='5 * ?float32[parameters={\"__doc__\": \"pt\"}]'>, 'muon2_pt': <Array [36.5, 25, 37.8, 39.1, 28.7] type='5 * ?float32[parameters={\"__doc__\": \"p...'>, 'muon1_eta': <Array [-0.159, -0.931, ... 0.0073, 1.29] type='5 * ?float32[parameters={\"__doc_...'>, 'muon2_eta': <Array [-1.53, 0.268, 0.809, 0.663, 1.44] type='5 * ?float32[parameters={\"__doc_...'>, 'muon_mass': <Array [91, 89.9, 99.9, 89.4, 97.5] type='5 * ?float32'>}, {'photon_pt': <Array [[42.4], [36.9], [57.3]] type='3 * option[var * float32[parameters={\"__do...'>, 'photon_eta': <Array [[-2.48], [0.657], [-0.44]] type='3 * option[var * float32[parameters={\"_...'>, 'muon1_pt': <Array [94, 32.6, 39.6] type='3 * ?float32[parameters={\"__doc__\": \"pt\"}]'>, 'muon2_pt': <Array [35.4, 20.7, 24] type='3 * ?float32[parameters={\"__doc__\": \"pt\"}]'>, 'muon1_eta': <Array [-2.22, -1.24, 1.91] type='3 * ?float32[parameters={\"__doc__\": \"eta\"}]'>, 'muon2_eta': <Array [-1.9, 0.579, -0.441] type='3 * ?float32[parameters={\"__doc__\": \"eta\"}]'>, 'muon_mass': <Array [53.6, 63.5, 103] type='3 * ?float32'>}, {'photon_pt': <Array [[48.8], [35.3], ... [49.6], [35.9]] type='5 * option[var * float32[param...'>, 'photon_eta': <Array [[-1.79], [-0.559], ... [-1.86], [1.4]] type='5 * option[var * float32[pa...'>, 'muon1_pt': <Array [77.6, 56.6, 138, 106, 42.1] type='5 * ?float32[parameters={\"__doc__\": \"p...'>, 'muon2_pt': <Array [23.1, 39.7, 91.8, 21.4, 39.1] type='5 * ?float32[parameters={\"__doc__\": ...'>, 'muon1_eta': <Array [-0.558, -1.1, -0.638, -1.61, 2] type='5 * ?float32[parameters={\"__doc__\"...'>, 'muon2_eta': <Array [-0.941, -0.971, ... -1.59, 0.797] type='5 * ?float32[parameters={\"__doc_...'>, 'muon_mass': <Array [84.3, 93.1, 91.3, 92.7, 96.1] type='5 * ?float32'>}, {'photon_pt': <Array [[35.6], [48.5], ... [35.8], [65.2]] type='7 * option[var * float32[param...'>, 'photon_eta': <Array [[1.95], [-0.0585], ... -0.632], [1.81]] type='7 * option[var * float32[p...'>, 'muon1_pt': <Array [57.8, 48.7, 89.2, ... 42, 67.7, 123] type='7 * ?float32[parameters={\"__d...'>, 'muon2_pt': <Array [46.1, 29.2, 28.2, ... 41.9, 30.1, 44.8] type='7 * ?float32[parameters={\"...'>, 'muon1_eta': <Array [1.69, 0.248, -2.21, ... -1.89, 0.596] type='7 * ?float32[parameters={\"__...'>, 'muon2_eta': <Array [2.35, 0.427, -2.33, ... -2.25, 0.722] type='7 * ?float32[parameters={\"__...'>, 'muon_mass': <Array [96, 75.2, 87, ... 88.9, 91.8, 90.7] type='7 * ?float32'>}, {'photon_pt': <Array [[62.1], [35], ... [233], [44.7]] type='9 * option[var * float32[paramete...'>, 'photon_eta': <Array [[0.874], [-0.399], ... 0.949], [0.754]] type='9 * option[var * float32[p...'>, 'muon1_pt': <Array [73.1, 53.4, 65.8, ... 52.7, 103, 52.7] type='9 * ?float32[parameters={\"_...'>, 'muon2_pt': <Array [22.4, 46.2, 33.5, ... 37.9, 23.4, 37.7] type='9 * ?float32[parameters={\"...'>, 'muon1_eta': <Array [0.0741, -1.49, -0.278, ... 1.39, 0.966] type='9 * ?float32[parameters={\"...'>, 'muon2_eta': <Array [-1.24, -2.29, -0.199, ... 1.41, 0.0652] type='9 * ?float32[parameters={\"...'>, 'muon_mass': <Array [91.2, 91, 93, 89.9, ... 90.1, 92, 91.9] type='9 * ?float32'>}, {'photon_pt': <Array [[89.5], [40], [100], [36]] type='4 * option[var * float32[parameters={\"_...'>, 'photon_eta': <Array [[-1.28], [-1.65], ... -2.05], [-0.985]] type='4 * option[var * float32[p...'>, 'muon1_pt': <Array [102, 62.5, 124, 62.9] type='4 * ?float32[parameters={\"__doc__\": \"pt\"}]'>, 'muon2_pt': <Array [29.5, 41.3, 34.4, 51.8] type='4 * ?float32[parameters={\"__doc__\": \"pt\"}]'>, 'muon1_eta': <Array [1.5, -0.0715, -0.574, 0.0763] type='4 * ?float32[parameters={\"__doc__\": ...'>, 'muon2_eta': <Array [1.78, 0.374, -2.06, -1.02] type='4 * ?float32[parameters={\"__doc__\": \"et...'>, 'muon_mass': <Array [91.4, 89.9, 167, 131] type='4 * ?float32'>}, {'photon_pt': <Array [[87.7]] type='1 * option[var * float32[parameters={\"__doc__\": \"p_{T}\"}]]'>, 'photon_eta': <Array [[-1]] type='1 * option[var * float32[parameters={\"__doc__\": \"eta\"}]]'>, 'muon1_pt': <Array [41.1] type='1 * ?float32[parameters={\"__doc__\": \"pt\"}]'>, 'muon2_pt': <Array [37.1] type='1 * ?float32[parameters={\"__doc__\": \"pt\"}]'>, 'muon1_eta': <Array [0.859] type='1 * ?float32[parameters={\"__doc__\": \"eta\"}]'>, 'muon2_eta': <Array [-0.975] type='1 * ?float32[parameters={\"__doc__\": \"eta\"}]'>, 'muon_mass': <Array [89.8] type='1 * ?float32'>}, {'photon_pt': <Array [[39.9], [38], ... 42.8], [43.3], [180]] type='5 * option[var * float32[p...'>, 'photon_eta': <Array [[-0.64], [0.0668], ... 1.41], [-0.438]] type='5 * option[var * float32[p...'>, 'muon1_pt': <Array [80.9, 75, 64.3, 51.9, 138] type='5 * ?float32[parameters={\"__doc__\": \"pt\"}]'>, 'muon2_pt': <Array [25.7, 35.9, 22.6, 40, 46.9] type='5 * ?float32[parameters={\"__doc__\": \"p...'>, 'muon1_eta': <Array [-0.338, 0.166, 0.291, -1.68, -1.08] type='5 * ?float32[parameters={\"__do...'>, 'muon2_eta': <Array [-0.93, -0.185, 1.69, -1.97, -1.45] type='5 * ?float32[parameters={\"__doc...'>, 'muon_mass': <Array [93.1, 81.6, 92.4, 91.2, 91.4] type='5 * ?float32'>}, {'photon_pt': <Array [[59.7], [51], ... 51.5], [102], [42.2]] type='5 * option[var * float32[p...'>, 'photon_eta': <Array [[-0.204], [0.46], ... [0.246], [-1.76]] type='5 * option[var * float32[p...'>, 'muon1_pt': <Array [63.8, 66, 150, 101, 56.7] type='5 * ?float32[parameters={\"__doc__\": \"pt\"}]'>, 'muon2_pt': <Array [42.9, 63.2, 77.5, 24.7, 41.9] type='5 * ?float32[parameters={\"__doc__\": ...'>, 'muon1_eta': <Array [0.57, 0.195, -1.87, -1.08, -0.817] type='5 * ?float32[parameters={\"__doc...'>, 'muon2_eta': <Array [0.721, -0.00701, ... -0.932, -0.676] type='5 * ?float32[parameters={\"__d...'>, 'muon_mass': <Array [69.3, 59, 95.8, 89.9, 88.5] type='5 * ?float32'>}, {'photon_pt': <Array [[90.3], [41.7], ... [127], [39.1]] type='8 * option[var * float32[parame...'>, 'photon_eta': <Array [[-1.15], [1.85], ... [1], [2.4]] type='8 * option[var * float32[paramete...'>, 'muon1_pt': <Array [62.7, 45.1, 35.5, ... 73.2, 71.7, 60] type='8 * ?float32[parameters={\"__...'>, 'muon2_pt': <Array [49.1, 42.4, 29.4, ... 23.5, 37.4, 28.4] type='8 * ?float32[parameters={\"...'>, 'muon1_eta': <Array [0.425, 0.93, -0.586, ... 0.88, -0.872] type='8 * ?float32[parameters={\"_...'>, 'muon2_eta': <Array [-1.15, -0.0606, ... -0.589, -2.01] type='8 * ?float32[parameters={\"__doc...'>, 'muon_mass': <Array [147, 98.3, 59.4, ... 90.1, 90.6, 88.5] type='8 * ?float32'>}, {'photon_pt': <Array [[46.5], [35.1]] type='2 * option[var * float32[parameters={\"__doc__\": \"p...'>, 'photon_eta': <Array [[0.762], [-1.63]] type='2 * option[var * float32[parameters={\"__doc__\": ...'>, 'muon1_pt': <Array [57.8, 58.4] type='2 * ?float32[parameters={\"__doc__\": \"pt\"}]'>, 'muon2_pt': <Array [38.1, 45] type='2 * ?float32[parameters={\"__doc__\": \"pt\"}]'>, 'muon1_eta': <Array [0.474, 0.0586] type='2 * ?float32[parameters={\"__doc__\": \"eta\"}]'>, 'muon2_eta': <Array [1.38, 0.905] type='2 * ?float32[parameters={\"__doc__\": \"eta\"}]'>, 'muon_mass': <Array [91.4, 95.4] type='2 * ?float32'>}, {'photon_pt': <Array [[88], [49.1], [35.1], [36.8]] type='4 * option[var * float32[parameters=...'>, 'photon_eta': <Array [[-2.44], [-0.485, ... [-0.475]] type='4 * option[var * float32[parameter...'>, 'muon1_pt': <Array [40.3, 55.5, 58, 38.8] type='4 * ?float32[parameters={\"__doc__\": \"pt\"}]'>, 'muon2_pt': <Array [39, 32.7, 33.9, 31.5] type='4 * ?float32[parameters={\"__doc__\": \"pt\"}]'>, 'muon1_eta': <Array [-2.11, -1.01, -0.819, -1.58] type='4 * ?float32[parameters={\"__doc__\": \"...'>, 'muon2_eta': <Array [-0.577, -1.71, -0.956, -0.142] type='4 * ?float32[parameters={\"__doc__\":...'>, 'muon_mass': <Array [91.9, 61.6, 88.3, 88.4] type='4 * ?float32'>}, {'photon_pt': <Array [[52.4], [39.3], ... [36.9], [51.6]] type='5 * option[var * float32[param...'>, 'photon_eta': <Array [[1.04], [-2.25], ... [0.425], [2.25]] type='5 * option[var * float32[par...'>, 'muon1_pt': <Array [78.6, 53.9, 29.2, 66.4, 87.5] type='5 * ?float32[parameters={\"__doc__\": ...'>, 'muon2_pt': <Array [25.6, 24.6, 25.1, 31.4, 42.4] type='5 * ?float32[parameters={\"__doc__\": ...'>, 'muon1_eta': <Array [1.03, -1.87, -0.97, 0.579, 1.13] type='5 * ?float32[parameters={\"__doc__...'>, 'muon2_eta': <Array [0.00956, -2.34, ... 0.156, 0.854] type='5 * ?float32[parameters={\"__doc_...'>, 'muon_mass': <Array [100, 64.1, 50.6, 92.3, 90.7] type='5 * ?float32'>}, {'photon_pt': <Array [] type='0 * option[var * float32[parameters={\"__doc__\": \"p_{T}\"}]]'>, 'photon_eta': <Array [] type='0 * option[var * float32[parameters={\"__doc__\": \"eta\"}]]'>, 'muon1_pt': <Array [] type='0 * ?float32[parameters={\"__doc__\": \"pt\"}]'>, 'muon2_pt': <Array [] type='0 * ?float32[parameters={\"__doc__\": \"pt\"}]'>, 'muon1_eta': <Array [] type='0 * ?float32[parameters={\"__doc__\": \"eta\"}]'>, 'muon2_eta': <Array [] type='0 * ?float32[parameters={\"__doc__\": \"eta\"}]'>, 'muon_mass': <Array [] type='0 * ?float32'>}, {'photon_pt': <Array [[38.2], [49.2], ... [58], [51.9]] type='9 * option[var * float32[paramet...'>, 'photon_eta': <Array [[1.64], [0.582], ... [-1.33], [-1.03]] type='9 * option[var * float32[pa...'>, 'muon1_pt': <Array [39.6, 48.4, 163, ... 129, 58.1, 98.5] type='9 * ?float32[parameters={\"__...'>, 'muon2_pt': <Array [28.1, 38.6, 120, ... 89.2, 36.7, 40.3] type='9 * ?float32[parameters={\"_...'>, 'muon1_eta': <Array [1.87, 0.981, -1.95, ... 0.0134, -0.922] type='9 * ?float32[parameters={\"...'>, 'muon2_eta': <Array [2.29, 1.5, -1.91, ... -0.694, -1.08] type='9 * ?float32[parameters={\"__d...'>, 'muon_mass': <Array [68.2, 89.1, 83.9, ... 74.3, 90.2, 89] type='9 * ?float32'>}, {'photon_pt': <Array [[45.2], [36.5], ... [52.7], [49.9]] type='5 * option[var * float32[param...'>, 'photon_eta': <Array [[1.33], [1.18], ... [1.9], [0.318]] type='5 * option[var * float32[param...'>, 'muon1_pt': <Array [103, 48.8, 53.6, 79.8, 47.1] type='5 * ?float32[parameters={\"__doc__\": \"...'>, 'muon2_pt': <Array [20.3, 47.9, 32.3, 27.8, 42.4] type='5 * ?float32[parameters={\"__doc__\": ...'>, 'muon1_eta': <Array [1.5, 0.895, -0.0099, 0.266, -0.657] type='5 * ?float32[parameters={\"__do...'>, 'muon2_eta': <Array [1.74, 1.77, 1.35, 0.714, -0.251] type='5 * ?float32[parameters={\"__doc__...'>, 'muon_mass': <Array [91.4, 95.2, 92.7, 95.5, 90.6] type='5 * ?float32'>}, {'photon_pt': <Array [[90.8], [53.4], [40.7]] type='3 * option[var * float32[parameters={\"__do...'>, 'photon_eta': <Array [[-2.23], [0.556], [-0.0109]] type='3 * option[var * float32[parameters={...'>, 'muon1_pt': <Array [54, 70.9, 40.7] type='3 * ?float32[parameters={\"__doc__\": \"pt\"}]'>, 'muon2_pt': <Array [30.4, 23.4, 40.7] type='3 * ?float32[parameters={\"__doc__\": \"pt\"}]'>, 'muon1_eta': <Array [1.02, -0.24, -1.06] type='3 * ?float32[parameters={\"__doc__\": \"eta\"}]'>, 'muon2_eta': <Array [-0.393, 0.884, -2.38] type='3 * ?float32[parameters={\"__doc__\": \"eta\"}]'>, 'muon_mass': <Array [101, 90.8, 90.6] type='3 * ?float32'>}, {'photon_pt': <Array [[68]] type='1 * option[var * float32[parameters={\"__doc__\": \"p_{T}\"}]]'>, 'photon_eta': <Array [[-1.27]] type='1 * option[var * float32[parameters={\"__doc__\": \"eta\"}]]'>, 'muon1_pt': <Array [65.2] type='1 * ?float32[parameters={\"__doc__\": \"pt\"}]'>, 'muon2_pt': <Array [37.6] type='1 * ?float32[parameters={\"__doc__\": \"pt\"}]'>, 'muon1_eta': <Array [-0.146] type='1 * ?float32[parameters={\"__doc__\": \"eta\"}]'>, 'muon2_eta': <Array [-0.362] type='1 * ?float32[parameters={\"__doc__\": \"eta\"}]'>, 'muon_mass': <Array [89.5] type='1 * ?float32'>}, {'photon_pt': <Array [[55.6], [315], [38.9], [79.6]] type='4 * option[var * float32[parameters...'>, 'photon_eta': <Array [[1.62], [-0.256], [-2.36], [-1.9]] type='4 * option[var * float32[parame...'>, 'muon1_pt': <Array [82.2, 102, 76.8, 64.7] type='4 * ?float32[parameters={\"__doc__\": \"pt\"}]'>, 'muon2_pt': <Array [31.7, 90, 25.8, 22.1] type='4 * ?float32[parameters={\"__doc__\": \"pt\"}]'>, 'muon1_eta': <Array [1.08, -0.301, -1.52, -2.36] type='4 * ?float32[parameters={\"__doc__\": \"e...'>, 'muon2_eta': <Array [0.917, 0.355, -1.98, -0.825] type='4 * ?float32[parameters={\"__doc__\": \"...'>, 'muon_mass': <Array [102, 88.9, 91, 86.3] type='4 * ?float32'>}, {'photon_pt': <Array [[41], [37.8], ... [50.4], [48.3]] type='7 * option[var * float32[paramet...'>, 'photon_eta': <Array [[2.17], [-0.0448], ... 0.647], [-1.21]] type='7 * option[var * float32[p...'>, 'muon1_pt': <Array [45.2, 55, 40, ... 61.5, 82.3, 53.3] type='7 * ?float32[parameters={\"__do...'>, 'muon2_pt': <Array [38.5, 28.4, 37.4, ... 53.6, 23.3, 43.2] type='7 * ?float32[parameters={\"...'>, 'muon1_eta': <Array [-0.806, -1.21, 2.1, ... 0.62, -0.172] type='7 * ?float32[parameters={\"__...'>, 'muon2_eta': <Array [-1.61, -0.0175, 1.04, ... 1.59, -1.05] type='7 * ?float32[parameters={\"_...'>, 'muon_mass': <Array [88, 93.4, 88.2, ... 91.3, 91.6, 59.1] type='7 * ?float32'>}, {'photon_pt': <Array [[72.1], [38], [42.1]] type='3 * option[var * float32[parameters={\"__doc_...'>, 'photon_eta': <Array [[1.38], [0.118], [2.33]] type='3 * option[var * float32[parameters={\"__d...'>, 'muon1_pt': <Array [52.6, 39.6, 87.9] type='3 * ?float32[parameters={\"__doc__\": \"pt\"}]'>, 'muon2_pt': <Array [48.1, 23.2, 30.9] type='3 * ?float32[parameters={\"__doc__\": \"pt\"}]'>, 'muon1_eta': <Array [1.24, 1.39, 1.71] type='3 * ?float32[parameters={\"__doc__\": \"eta\"}]'>, 'muon2_eta': <Array [0.311, 0.118, 1.53] type='3 * ?float32[parameters={\"__doc__\": \"eta\"}]'>, 'muon_mass': <Array [89.7, 58.1, 61.6] type='3 * ?float32'>}, {'photon_pt': <Array [[37.1], [38.9], [59.3]] type='3 * option[var * float32[parameters={\"__do...'>, 'photon_eta': <Array [[-0.18], [1.16], [2.44]] type='3 * option[var * float32[parameters={\"__d...'>, 'muon1_pt': <Array [57.2, 49.2, 73.6] type='3 * ?float32[parameters={\"__doc__\": \"pt\"}]'>, 'muon2_pt': <Array [35.4, 28.7, 34.4] type='3 * ?float32[parameters={\"__doc__\": \"pt\"}]'>, 'muon1_eta': <Array [0.04, -0.165, 1.22] type='3 * ?float32[parameters={\"__doc__\": \"eta\"}]'>, 'muon2_eta': <Array [0.534, -0.255, 1.43] type='3 * ?float32[parameters={\"__doc__\": \"eta\"}]'>, 'muon_mass': <Array [89, 63.2, 89.8] type='3 * ?float32'>}, {'photon_pt': <Array [[153], [42.5], ... [36.2], [42.1]] type='8 * option[var * float32[parame...'>, 'photon_eta': <Array [[-1.76], [1.2], ... [-1.96], [-2.05]] type='8 * option[var * float32[par...'>, 'muon1_pt': <Array [88.3, 60.5, 69, ... 73.1, 47.2, 33.6] type='8 * ?float32[parameters={\"__...'>, 'muon2_pt': <Array [41.8, 41.6, 26.4, ... 27.6, 39.4, 28.4] type='8 * ?float32[parameters={\"...'>, 'muon1_eta': <Array [-0.682, 0.00772, ... 0.457, -1.64] type='8 * ?float32[parameters={\"__doc...'>, 'muon2_eta': <Array [-0.443, -0.394, 1.56, ... -0.418, -1.9] type='8 * ?float32[parameters={\"...'>, 'muon_mass': <Array [89.9, 98.5, 86.6, ... 88.7, 92.3, 61.9] type='8 * ?float32'>}, {'photon_pt': <Array [[47.7], [37.1], ... [60.2], [52.3]] type='6 * option[var * float32[param...'>, 'photon_eta': <Array [[-2.24], [-2.32], ... [-1.73], [1.77]] type='6 * option[var * float32[pa...'>, 'muon1_pt': <Array [54.2, 109, 64.6, 25.5, 45, 56.8] type='6 * ?float32[parameters={\"__doc__...'>, 'muon2_pt': <Array [41.9, 22.9, 54.6, 23.8, 33.7, 51.9] type='6 * ?float32[parameters={\"__do...'>, 'muon1_eta': <Array [-0.411, -0.148, -1.43, ... -1.42, 1.69] type='6 * ?float32[parameters={\"...'>, 'muon2_eta': <Array [0.695, -0.401, -2.38, ... -0.393, 1.37] type='6 * ?float32[parameters={\"...'>, 'muon_mass': <Array [90.1, 90.7, 132, 50.2, 87.8, 91.2] type='6 * ?float32'>}, {'photon_pt': <Array [[111], [81.2], ... [37.7], [56.9]] type='8 * option[var * float32[parame...'>, 'photon_eta': <Array [[1.04], [-1.27], ... [-2.15], [-2.43]] type='8 * option[var * float32[pa...'>, 'muon1_pt': <Array [131, 66.2, 75.3, ... 54.4, 35.8, 56.8] type='8 * ?float32[parameters={\"_...'>, 'muon2_pt': <Array [49.5, 40.9, 30.7, ... 37.1, 23.1, 53.5] type='8 * ?float32[parameters={\"...'>, 'muon1_eta': <Array [2.09, -0.207, 0.226, ... 0.406, -0.977] type='8 * ?float32[parameters={\"...'>, 'muon2_eta': <Array [1.82, 1.01, 1.37, ... -1.65, -1.53] type='8 * ?float32[parameters={\"__do...'>, 'muon_mass': <Array [103, 90.9, 92.7, ... 89.3, 90.7, 98] type='8 * ?float32'>}, {'photon_pt': <Array [[61], [56.2], ... [35.5], [36.9]] type='8 * option[var * float32[paramet...'>, 'photon_eta': <Array [[0.865], [-1.09], ... [-2.2], [1.16]] type='8 * option[var * float32[par...'>, 'muon1_pt': <Array [84.5, 50.2, 45.3, ... 87.2, 38.2, 162] type='8 * ?float32[parameters={\"_...'>, 'muon2_pt': <Array [27.2, 35.3, 42.2, ... 25.5, 27.9, 109] type='8 * ?float32[parameters={\"_...'>, 'muon1_eta': <Array [-1.96, 0.383, -1.59, ... -2.21, 1.39] type='8 * ?float32[parameters={\"__...'>, 'muon2_eta': <Array [-2.23, -0.844, -0.533, ... -2.35, 2.06] type='8 * ?float32[parameters={\"...'>, 'muon_mass': <Array [96.4, 88.1, 51, ... 89.4, 61.5, 271] type='8 * ?float32'>}, {'photon_pt': <Array [[48.8], [62.5], ... [35.7], [42.2]] type='7 * option[var * float32[param...'>, 'photon_eta': <Array [[-0.616], [1.19], ... [-1.17], [0.235]] type='7 * option[var * float32[p...'>, 'muon1_pt': <Array [89.3, 60.9, 47.2, ... 48.6, 30.8, 69.5] type='7 * ?float32[parameters={\"...'>, 'muon2_pt': <Array [35.7, 37.3, 36, ... 28.4, 25.1, 28] type='7 * ?float32[parameters={\"__do...'>, 'muon1_eta': <Array [-0.335, 1.32, 1.06, ... -1.57, 0.522] type='7 * ?float32[parameters={\"__...'>, 'muon2_eta': <Array [-0.708, 0.841, ... -1.83, -0.132] type='7 * ?float32[parameters={\"__doc_...'>, 'muon_mass': <Array [114, 64.9, 93.2, ... 113, 50.2, 90.4] type='7 * ?float32'>}, {'photon_pt': <Array [[53.3], [37.9], ... [39.9], [84.1]] type='6 * option[var * float32[param...'>, 'photon_eta': <Array [[0.528], [0.0768], ... -1.75], [-1.88]] type='6 * option[var * float32[p...'>, 'muon1_pt': <Array [83.2, 45.8, 33.3, 44.9, 67.6, 39] type='6 * ?float32[parameters={\"__doc_...'>, 'muon2_pt': <Array [25.6, 37.2, 31, 22.7, 27.1, 28.6] type='6 * ?float32[parameters={\"__doc_...'>, 'muon1_eta': <Array [0.956, -0.131, 1.14, ... -1.09, -1.99] type='6 * ?float32[parameters={\"_...'>, 'muon2_eta': <Array [0.0839, 0.165, 1.77, ... -2.06, -0.364] type='6 * ?float32[parameters={\"...'>, 'muon_mass': <Array [100, 80.8, 62.8, 92.3, 94, 85.7] type='6 * ?float32'>}, {'photon_pt': <Array [[44], [70.1], [38.1], [49.2]] type='4 * option[var * float32[parameters=...'>, 'photon_eta': <Array [[-1.42], [-0.563], ... -0.707], [1.84]] type='4 * option[var * float32[p...'>, 'muon1_pt': <Array [59.4, 58.7, 64.4, 54.1] type='4 * ?float32[parameters={\"__doc__\": \"pt\"}]'>, 'muon2_pt': <Array [20.9, 33.4, 31.1, 34.8] type='4 * ?float32[parameters={\"__doc__\": \"pt\"}]'>, 'muon1_eta': <Array [-1.14, -0.576, -1.55, 1.91] type='4 * ?float32[parameters={\"__doc__\": \"e...'>, 'muon2_eta': <Array [-1.05, 0.12, -1.2, 0.929] type='4 * ?float32[parameters={\"__doc__\": \"eta\"}]'>, 'muon_mass': <Array [64.4, 94, 90.5, 91.8] type='4 * ?float32'>}, {'photon_pt': <Array [[37.9], [75.5], ... [42.7], [36.1]] type='5 * option[var * float32[param...'>, 'photon_eta': <Array [[2.01], [-0.606], ... [-0.261], [2.22]] type='5 * option[var * float32[p...'>, 'muon1_pt': <Array [41.9, 95.6, 59.8, 63.3, 51.1] type='5 * ?float32[parameters={\"__doc__\": ...'>, 'muon2_pt': <Array [21.7, 37.5, 39, 32.2, 36] type='5 * ?float32[parameters={\"__doc__\": \"pt\"}]'>, 'muon1_eta': <Array [1.45, -0.599, -0.942, 1.77, -1.53] type='5 * ?float32[parameters={\"__doc...'>, 'muon2_eta': <Array [2, 0.476, 0.263, 0.895, -0.784] type='5 * ?float32[parameters={\"__doc__\"...'>, 'muon_mass': <Array [58.2, 88.7, 91.4, 99, 91.4] type='5 * ?float32'>}, {'photon_pt': <Array [] type='0 * option[var * float32[parameters={\"__doc__\": \"p_{T}\"}]]'>, 'photon_eta': <Array [] type='0 * option[var * float32[parameters={\"__doc__\": \"eta\"}]]'>, 'muon1_pt': <Array [] type='0 * ?float32[parameters={\"__doc__\": \"pt\"}]'>, 'muon2_pt': <Array [] type='0 * ?float32[parameters={\"__doc__\": \"pt\"}]'>, 'muon1_eta': <Array [] type='0 * ?float32[parameters={\"__doc__\": \"eta\"}]'>, 'muon2_eta': <Array [] type='0 * ?float32[parameters={\"__doc__\": \"eta\"}]'>, 'muon_mass': <Array [] type='0 * ?float32'>}, {'photon_pt': <Array [[87.5], [66.4], ... [53.6], [145]] type='5 * option[var * float32[parame...'>, 'photon_eta': <Array [[0.627], [-1.41], ... [0.129], [1.14]] type='5 * option[var * float32[pa...'>, 'muon1_pt': <Array [85, 37.5, 64.3, 76.6, 217] type='5 * ?float32[parameters={\"__doc__\": \"pt\"}]'>, 'muon2_pt': <Array [26.4, 21.3, 33.5, 20.7, 41.4] type='5 * ?float32[parameters={\"__doc__\": ...'>, 'muon1_eta': <Array [0.799, -1.69, -0.675, -0.623, 1.14] type='5 * ?float32[parameters={\"__do...'>, 'muon2_eta': <Array [0.439, -1.53, -0.95, 0.49, 1.81] type='5 * ?float32[parameters={\"__doc__...'>, 'muon_mass': <Array [91.2, 53.8, 87.4, 51.5, 85.2] type='5 * ?float32'>}, {'photon_pt': <Array [[35.7], [39.8], ... [44.4], [95.5]] type='6 * option[var * float32[param...'>, 'photon_eta': <Array [[-0.535], [-0.533, ... -0.986], [2.42]] type='6 * option[var * float32[p...'>, 'muon1_pt': <Array [75.3, 72, 57.4, 56.9, 60.4, 85.7] type='6 * ?float32[parameters={\"__doc_...'>, 'muon2_pt': <Array [35.3, 59, 23.4, 23.8, 30.9, 56.1] type='6 * ?float32[parameters={\"__doc_...'>, 'muon1_eta': <Array [2.32, 0.444, ... -0.0968, 0.824] type='6 * ?float32[parameters={\"__doc__...'>, 'muon2_eta': <Array [2, -0.91, -2.12, ... 0.885, 1.41] type='6 * ?float32[parameters={\"__doc_...'>, 'muon_mass': <Array [91.2, 161, 91.8, 87.3, 93.2, 62.2] type='6 * ?float32'>}, {'photon_pt': <Array [[137], [50.4], [40.2], [50.7]] type='4 * option[var * float32[parameters...'>, 'photon_eta': <Array [[-2.19], [1.86], [0.629], [0.689]] type='4 * option[var * float32[parame...'>, 'muon1_pt': <Array [120, 59.2, 70.1, 53.8] type='4 * ?float32[parameters={\"__doc__\": \"pt\"}]'>, 'muon2_pt': <Array [33.6, 54.1, 29, 31.9] type='4 * ?float32[parameters={\"__doc__\": \"pt\"}]'>, 'muon1_eta': <Array [-0.955, 2.28, 0.571, -0.377] type='4 * ?float32[parameters={\"__doc__\": \"...'>, 'muon2_eta': <Array [-1.61, -1.47, 1.22, 0.913] type='4 * ?float32[parameters={\"__doc__\": \"et...'>, 'muon_mass': <Array [87, 375, 90.5, 77.7] type='4 * ?float32'>}, {'photon_pt': <Array [[46.4], [35.3], [35.3]] type='3 * option[var * float32[parameters={\"__do...'>, 'photon_eta': <Array [[-2.21], [-0.976], [1.98]] type='3 * option[var * float32[parameters={\"_...'>, 'muon1_pt': <Array [57, 37.3, 38.3] type='3 * ?float32[parameters={\"__doc__\": \"pt\"}]'>, 'muon2_pt': <Array [47.4, 20.9, 32.1] type='3 * ?float32[parameters={\"__doc__\": \"pt\"}]'>, 'muon1_eta': <Array [-1.02, -0.299, -0.259] type='3 * ?float32[parameters={\"__doc__\": \"eta\"}]'>, 'muon2_eta': <Array [-0.755, -0.976, -2.02] type='3 * ?float32[parameters={\"__doc__\": \"eta\"}]'>, 'muon_mass': <Array [89.3, 57.7, 88.3] type='3 * ?float32'>}, {'photon_pt': <Array [[91.2], [47.8], [35.7]] type='3 * option[var * float32[parameters={\"__do...'>, 'photon_eta': <Array [[-0.517], [1.67], [0.011]] type='3 * option[var * float32[parameters={\"_...'>, 'muon1_pt': <Array [71.7, 39.7, 39.9] type='3 * ?float32[parameters={\"__doc__\": \"pt\"}]'>, 'muon2_pt': <Array [47.6, 39.6, 30.6] type='3 * ?float32[parameters={\"__doc__\": \"pt\"}]'>, 'muon1_eta': <Array [-1.01, 0.352, -0.631] type='3 * ?float32[parameters={\"__doc__\": \"eta\"}]'>, 'muon2_eta': <Array [-1.28, 2.36, -2.35] type='3 * ?float32[parameters={\"__doc__\": \"eta\"}]'>, 'muon_mass': <Array [92, 123, 92.4] type='3 * ?float32'>}, {'photon_pt': <Array [[54.1], [57.3], [68.3], [73.8]] type='4 * option[var * float32[parameter...'>, 'photon_eta': <Array [[-0.105], [-1.9], ... 0.346], [-0.883]] type='4 * option[var * float32[p...'>, 'muon1_pt': <Array [75, 48.3, 82.4, 76.6] type='4 * ?float32[parameters={\"__doc__\": \"pt\"}]'>, 'muon2_pt': <Array [34.2, 44.2, 25.4, 25.8] type='4 * ?float32[parameters={\"__doc__\": \"pt\"}]'>, 'muon1_eta': <Array [-0.825, 1.05, -0.943, -0.879] type='4 * ?float32[parameters={\"__doc__\": ...'>, 'muon2_eta': <Array [0.339, 1.47, -0.748, -0.527] type='4 * ?float32[parameters={\"__doc__\": \"...'>, 'muon_mass': <Array [89.4, 91.9, 91.9, 66.3] type='4 * ?float32'>}, {'photon_pt': <Array [[64.2], [45.3], [76.1]] type='3 * option[var * float32[parameters={\"__do...'>, 'photon_eta': <Array [[2.32], [0.58], [-1.85]] type='3 * option[var * float32[parameters={\"__d...'>, 'muon1_pt': <Array [102, 66.5, 53.8] type='3 * ?float32[parameters={\"__doc__\": \"pt\"}]'>, 'muon2_pt': <Array [22.9, 31.2, 45] type='3 * ?float32[parameters={\"__doc__\": \"pt\"}]'>, 'muon1_eta': <Array [1.88, -1.55, 0.465] type='3 * ?float32[parameters={\"__doc__\": \"eta\"}]'>, 'muon2_eta': <Array [1.45, -1.61, 1.29] type='3 * ?float32[parameters={\"__doc__\": \"eta\"}]'>, 'muon_mass': <Array [89.6, 91.1, 78.1] type='3 * ?float32'>}, {'photon_pt': <Array [[47], [81.8], ... [36.8], [45.9]] type='5 * option[var * float32[paramet...'>, 'photon_eta': <Array [[-1.62], [-0.224], ... [-2.38], [1.38]] type='5 * option[var * float32[p...'>, 'muon1_pt': <Array [67.8, 176, 35.3, 70.7, 53.7] type='5 * ?float32[parameters={\"__doc__\": \"...'>, 'muon2_pt': <Array [47.3, 54.6, 20.2, 58.3, 27] type='5 * ?float32[parameters={\"__doc__\": \"p...'>, 'muon1_eta': <Array [1.32, 1.06, -2.36, 1.82, -0.188] type='5 * ?float32[parameters={\"__doc__...'>, 'muon2_eta': <Array [0.369, 0.669, 0.237, 2.25, -1.88] type='5 * ?float32[parameters={\"__doc_...'>, 'muon_mass': <Array [89.7, 104, 91.1, 112, 92.7] type='5 * ?float32'>}, {'photon_pt': <Array [[42.1]] type='1 * option[var * float32[parameters={\"__doc__\": \"p_{T}\"}]]'>, 'photon_eta': <Array [[-1.29]] type='1 * option[var * float32[parameters={\"__doc__\": \"eta\"}]]'>, 'muon1_pt': <Array [40.2] type='1 * ?float32[parameters={\"__doc__\": \"pt\"}]'>, 'muon2_pt': <Array [31] type='1 * ?float32[parameters={\"__doc__\": \"pt\"}]'>, 'muon1_eta': <Array [-0.385] type='1 * ?float32[parameters={\"__doc__\": \"eta\"}]'>, 'muon2_eta': <Array [1.07] type='1 * ?float32[parameters={\"__doc__\": \"eta\"}]'>, 'muon_mass': <Array [88.9] type='1 * ?float32'>}, {'photon_pt': <Array [[40.8], [37.8], [38.3], [44.8]] type='4 * option[var * float32[parameter...'>, 'photon_eta': <Array [[0.446], [2.06], [0.0312], [1.42]] type='4 * option[var * float32[parame...'>, 'muon1_pt': <Array [72.5, 29.5, 55.9, 87.2] type='4 * ?float32[parameters={\"__doc__\": \"pt\"}]'>, 'muon2_pt': <Array [54.8, 27.1, 21.1, 21.7] type='4 * ?float32[parameters={\"__doc__\": \"pt\"}]'>, 'muon1_eta': <Array [0.454, 1.93, -0.478, 2.21] type='4 * ?float32[parameters={\"__doc__\": \"et...'>, 'muon2_eta': <Array [0.072, 2.24, 1.71, 1.2] type='4 * ?float32[parameters={\"__doc__\": \"eta\"}]'>, 'muon_mass': <Array [125, 55.8, 111, 91.7] type='4 * ?float32'>}, {'photon_pt': <Array [[66.1], [56.7], [36], [35.6]] type='4 * option[var * float32[parameters=...'>, 'photon_eta': <Array [[-2.07], [-0.37], ... -0.224], [0.598]] type='4 * option[var * float32[p...'>, 'muon1_pt': <Array [63.9, 44.9, 49.7, 47.4] type='4 * ?float32[parameters={\"__doc__\": \"pt\"}]'>, 'muon2_pt': <Array [24.8, 40.7, 38.9, 32.7] type='4 * ?float32[parameters={\"__doc__\": \"pt\"}]'>, 'muon1_eta': <Array [-1.86, -0.77, -1.19, -0.684] type='4 * ?float32[parameters={\"__doc__\": \"...'>, 'muon2_eta': <Array [-0.87, 0.664, -0.975, -1.93] type='4 * ?float32[parameters={\"__doc__\": \"...'>, 'muon_mass': <Array [89.5, 91.4, 86.8, 92.6] type='4 * ?float32'>}, {'photon_pt': <Array [[76], [87.1], ... [94.4], [37.3]] type='6 * option[var * float32[paramet...'>, 'photon_eta': <Array [[1.37], [1.38], ... [1.7], [-0.0789]] type='6 * option[var * float32[par...'>, 'muon1_pt': <Array [49.2, 87.5, 35.3, 104, 37.2, 63.9] type='6 * ?float32[parameters={\"__doc...'>, 'muon2_pt': <Array [41.6, 50.4, 21.2, 23.2, 34.4, 52.3] type='6 * ?float32[parameters={\"__do...'>, 'muon1_eta': <Array [1.65, 1.01, 1.84, ... 2.24, 1.82] type='6 * ?float32[parameters={\"__doc_...'>, 'muon2_eta': <Array [1.35, 0.604, -0.537, ... 0.805, 2.34] type='6 * ?float32[parameters={\"__...'>, 'muon_mass': <Array [91.6, 85, 93.1, 71.3, 89.4, 119] type='6 * ?float32'>}, {'photon_pt': <Array [[53.7], [79.2], [41.9], [110]] type='4 * option[var * float32[parameters...'>, 'photon_eta': <Array [[2.15], [1.06], [-0.125], [-1.12]] type='4 * option[var * float32[parame...'>, 'muon1_pt': <Array [117, 68.8, 77.1, 92.7] type='4 * ?float32[parameters={\"__doc__\": \"pt\"}]'>, 'muon2_pt': <Array [62.4, 46.5, 26, 29] type='4 * ?float32[parameters={\"__doc__\": \"pt\"}]'>, 'muon1_eta': <Array [2.34, 1.29, -2.36, -1.73] type='4 * ?float32[parameters={\"__doc__\": \"eta\"}]'>, 'muon2_eta': <Array [2.08, 1.73, -1.65, -0.276] type='4 * ?float32[parameters={\"__doc__\": \"et...'>, 'muon_mass': <Array [168, 91.2, 95.1, 91.4] type='4 * ?float32'>}, {'photon_pt': <Array [[36], [36.9], ... [50.4], [42]] type='6 * option[var * float32[parameter...'>, 'photon_eta': <Array [[-2.28], [2.24], ... [0.488], [0.134]] type='6 * option[var * float32[pa...'>, 'muon1_pt': <Array [31.9, 134, 94.9, 83.9, 45.7, 69.3] type='6 * ?float32[parameters={\"__doc...'>, 'muon2_pt': <Array [23.8, 59.2, 33, 28.1, 25.5, 31] type='6 * ?float32[parameters={\"__doc__\"...'>, 'muon1_eta': <Array [-1.43, 1.24, 1.14, ... 0.733, -1.16] type='6 * ?float32[parameters={\"__d...'>, 'muon2_eta': <Array [-2.29, 1.92, ... 0.0341, -0.377] type='6 * ?float32[parameters={\"__doc__...'>, 'muon_mass': <Array [58.4, 188, 138, 111, 66.5, 90.3] type='6 * ?float32'>}, {'photon_pt': <Array [[36.5], [181], ... [51.9], [55.6]] type='8 * option[var * float32[parame...'>, 'photon_eta': <Array [[-0.547], [0.518, ... [-0.0444]] type='8 * option[var * float32[paramete...'>, 'muon1_pt': <Array [38.9, 117, 71.5, ... 74.7, 171, 132] type='8 * ?float32[parameters={\"__d...'>, 'muon2_pt': <Array [22.2, 40.9, 30.6, ... 29.8, 35.6, 39.7] type='8 * ?float32[parameters={\"...'>, 'muon1_eta': <Array [-0.638, -0.233, ... -2.25, -0.0612] type='8 * ?float32[parameters={\"__do...'>, 'muon2_eta': <Array [-2.24, -1.46, 1.57, ... -1.44, -0.516] type='8 * ?float32[parameters={\"_...'>, 'muon_mass': <Array [72.3, 149, 92.4, ... 80.7, 95.6, 90.8] type='8 * ?float32'>}, {'photon_pt': <Array [[49.6], [37.7]] type='2 * option[var * float32[parameters={\"__doc__\": \"p...'>, 'photon_eta': <Array [[0.672], [-0.467]] type='2 * option[var * float32[parameters={\"__doc__\":...'>, 'muon1_pt': <Array [45.9, 50.1] type='2 * ?float32[parameters={\"__doc__\": \"pt\"}]'>, 'muon2_pt': <Array [30.8, 21.5] type='2 * ?float32[parameters={\"__doc__\": \"pt\"}]'>, 'muon1_eta': <Array [0.678, 0.212] type='2 * ?float32[parameters={\"__doc__\": \"eta\"}]'>, 'muon2_eta': <Array [0.5, -1.5] type='2 * ?float32[parameters={\"__doc__\": \"eta\"}]'>, 'muon_mass': <Array [72.7, 90] type='2 * ?float32'>}, {'photon_pt': <Array [[49.2], [79.6], [51.7], [43.2]] type='4 * option[var * float32[parameter...'>, 'photon_eta': <Array [[0.246], [-0.479, ... [-0.343]] type='4 * option[var * float32[parameter...'>, 'muon1_pt': <Array [76.2, 57.8, 68.6, 98.7] type='4 * ?float32[parameters={\"__doc__\": \"pt\"}]'>, 'muon2_pt': <Array [20.6, 36.8, 40.2, 30.4] type='4 * ?float32[parameters={\"__doc__\": \"pt\"}]'>, 'muon1_eta': <Array [-0.597, -0.877, -1.02, 0.417] type='4 * ?float32[parameters={\"__doc__\": ...'>, 'muon2_eta': <Array [-1.73, 0.655, 0.126, -0.926] type='4 * ?float32[parameters={\"__doc__\": \"...'>, 'muon_mass': <Array [92, 88.8, 115, 127] type='4 * ?float32'>}, {'photon_pt': <Array [[43], [41.1], [73.7], [54.8]] type='4 * option[var * float32[parameters=...'>, 'photon_eta': <Array [[-2.48], [-0.737], ... -0.291], [1.88]] type='4 * option[var * float32[p...'>, 'muon1_pt': <Array [51, 33.1, 49.1, 65.3] type='4 * ?float32[parameters={\"__doc__\": \"pt\"}]'>, 'muon2_pt': <Array [44.3, 29.7, 23.7, 24.6] type='4 * ?float32[parameters={\"__doc__\": \"pt\"}]'>, 'muon1_eta': <Array [-1.78, -0.728, 1.65, -0.802] type='4 * ?float32[parameters={\"__doc__\": \"...'>, 'muon2_eta': <Array [-2.08, 0.0376, -0.423, -1.87] type='4 * ?float32[parameters={\"__doc__\": ...'>, 'muon_mass': <Array [86.8, 64.9, 89.6, 91.9] type='4 * ?float32'>}, {'photon_pt': <Array [[41.6], [90.8], [274]] type='3 * option[var * float32[parameters={\"__doc...'>, 'photon_eta': <Array [[1.39], [-2.24], [0.0531]] type='3 * option[var * float32[parameters={\"_...'>, 'muon1_pt': <Array [72.2, 88, 240] type='3 * ?float32[parameters={\"__doc__\": \"pt\"}]'>, 'muon2_pt': <Array [25, 47.8, 109] type='3 * ?float32[parameters={\"__doc__\": \"pt\"}]'>, 'muon1_eta': <Array [0.312, -1.46, -0.268] type='3 * ?float32[parameters={\"__doc__\": \"eta\"}]'>, 'muon2_eta': <Array [0.803, -1.87, -2.24] type='3 * ?float32[parameters={\"__doc__\": \"eta\"}]'>, 'muon_mass': <Array [57.5, 89.8, 463] type='3 * ?float32'>}, {'photon_pt': <Array [[83.1], [37.4], ... [42.8], [41.4]] type='8 * option[var * float32[param...'>, 'photon_eta': <Array [[-1.63], [-1.43], ... [-1.04], [0.949]] type='8 * option[var * float32[p...'>, 'muon1_pt': <Array [83.6, 72.4, 74.4, ... 66.8, 52.4, 35.4] type='8 * ?float32[parameters={\"...'>, 'muon2_pt': <Array [36.9, 28, 29.7, ... 25.7, 45.4, 22.2] type='8 * ?float32[parameters={\"__...'>, 'muon1_eta': <Array [0.555, -1.28, 1.7, ... 0.108, 1.44] type='8 * ?float32[parameters={\"__do...'>, 'muon2_eta': <Array [0.937, -1.73, 2.3, ... -0.472, 0.949] type='8 * ?float32[parameters={\"__...'>, 'muon_mass': <Array [87.4, 92.1, 91.4, ... 70.7, 92.7, 53.2] type='8 * ?float32'>}, {'photon_pt': <Array [[98.5], [65.9], [113]] type='3 * option[var * float32[parameters={\"__doc...'>, 'photon_eta': <Array [[1.83], [-1.43], [-0.0406]] type='3 * option[var * float32[parameters={\"...'>, 'muon1_pt': <Array [124, 102, 90.9] type='3 * ?float32[parameters={\"__doc__\": \"pt\"}]'>, 'muon2_pt': <Array [64.3, 33.6, 31.3] type='3 * ?float32[parameters={\"__doc__\": \"pt\"}]'>, 'muon1_eta': <Array [1.61, -1.49, 0.603] type='3 * ?float32[parameters={\"__doc__\": \"eta\"}]'>, 'muon2_eta': <Array [0.618, -1.42, -0.154] type='3 * ?float32[parameters={\"__doc__\": \"eta\"}]'>, 'muon_mass': <Array [92.4, 117, 90.7] type='3 * ?float32'>}, {'photon_pt': <Array [[38.9], [50.5], ... [43.1], [45]] type='6 * option[var * float32[paramet...'>, 'photon_eta': <Array [[2.36], [1.66], ... [-1.02], [0.877]] type='6 * option[var * float32[par...'>, 'muon1_pt': <Array [32.3, 43, 62.5, 68.3, 54.9, 193] type='6 * ?float32[parameters={\"__doc__...'>, 'muon2_pt': <Array [29.4, 33.2, 39, 62, 48.4, 73.3] type='6 * ?float32[parameters={\"__doc__\"...'>, 'muon1_eta': <Array [2.01, 0.824, -1.88, ... -1.2, 1.22] type='6 * ?float32[parameters={\"__do...'>, 'muon2_eta': <Array [1.45, 1.67, -2.28, ... -0.352, 0.883] type='6 * ?float32[parameters={\"__...'>, 'muon_mass': <Array [57.2, 56, 91.6, 157, 69.4, 162] type='6 * ?float32'>}, {'photon_pt': <Array [[35.4], [39.2], [48.9], [53.2]] type='4 * option[var * float32[parameter...'>, 'photon_eta': <Array [[2.34], [1.89], [-0.018], [2.11]] type='4 * option[var * float32[paramet...'>, 'muon1_pt': <Array [30.1, 91.1, 106, 36.4] type='4 * ?float32[parameters={\"__doc__\": \"pt\"}]'>, 'muon2_pt': <Array [30.1, 57.9, 55.5, 36] type='4 * ?float32[parameters={\"__doc__\": \"pt\"}]'>, 'muon1_eta': <Array [2.33, 1.94, 0.311, 2.03] type='4 * ?float32[parameters={\"__doc__\": \"eta\"}]'>, 'muon2_eta': <Array [1.57, 0.951, 0.557, 0.464] type='4 * ?float32[parameters={\"__doc__\": \"et...'>, 'muon_mass': <Array [61.3, 89.9, 107, 84.9] type='4 * ?float32'>}, {'photon_pt': <Array [[35.2], [42.8], ... [35.1], [41.9]] type='7 * option[var * float32[param...'>, 'photon_eta': <Array [[-1.58], [-1.97], ... [-1.29], [-1.24]] type='7 * option[var * float32[p...'>, 'muon1_pt': <Array [46.5, 72.3, 104, ... 36.5, 160, 46.8] type='7 * ?float32[parameters={\"__...'>, 'muon2_pt': <Array [38.3, 34.3, 60.4, ... 22.5, 74.4, 27.8] type='7 * ?float32[parameters={\"...'>, 'muon1_eta': <Array [-2.12, -0.612, 0.322, ... 1.38, 1.13] type='7 * ?float32[parameters={\"__...'>, 'muon2_eta': <Array [-0.757, -1.41, 0.168, ... 1.29, -0.233] type='7 * ?float32[parameters={\"...'>, 'muon_mass': <Array [104, 103, 86.1, ... 100, 87.8, 82.6] type='7 * ?float32'>}, {'photon_pt': <Array [[35.6], [40.1], [44]] type='3 * option[var * float32[parameters={\"__doc_...'>, 'photon_eta': <Array [[-0.215], [1.12], [-0.741]] type='3 * option[var * float32[parameters={\"...'>, 'muon1_pt': <Array [71.5, 169, 31.3] type='3 * ?float32[parameters={\"__doc__\": \"pt\"}]'>, 'muon2_pt': <Array [40.9, 71.3, 30.1] type='3 * ?float32[parameters={\"__doc__\": \"pt\"}]'>, 'muon1_eta': <Array [0.0946, 1.18, -0.284] type='3 * ?float32[parameters={\"__doc__\": \"eta\"}]'>, 'muon2_eta': <Array [0.116, 1.72, -0.743] type='3 * ?float32[parameters={\"__doc__\": \"eta\"}]'>, 'muon_mass': <Array [108, 219, 59.8] type='3 * ?float32'>}, {'photon_pt': <Array [[37.2], [133], [60.1], [37.1]] type='4 * option[var * float32[parameters...'>, 'photon_eta': <Array [[-1.05], [0.638], [-1.8], [1.81]] type='4 * option[var * float32[paramet...'>, 'muon1_pt': <Array [48, 68.5, 57.4, 46.5] type='4 * ?float32[parameters={\"__doc__\": \"pt\"}]'>, 'muon2_pt': <Array [47.9, 30.7, 37.1, 25.6] type='4 * ?float32[parameters={\"__doc__\": \"pt\"}]'>, 'muon1_eta': <Array [-1.35, 0.644, -1.53, 0.939] type='4 * ?float32[parameters={\"__doc__\": \"e...'>, 'muon2_eta': <Array [-1.39, 1.07, -2.04, 2.38] type='4 * ?float32[parameters={\"__doc__\": \"eta\"}]'>, 'muon_mass': <Array [89.5, 92.6, 90.4, 82.1] type='4 * ?float32'>}, {'photon_pt': <Array [[37.1], [40.8], ... [155], [40.4]] type='6 * option[var * float32[parame...'>, 'photon_eta': <Array [[2.13], [1.12], ... [2.11], [0.897]] type='6 * option[var * float32[para...'>, 'muon1_pt': <Array [69.1, 41.2, 76.6, 85.7, 51.1, 38.6] type='6 * ?float32[parameters={\"__do...'>, 'muon2_pt': <Array [21.4, 20.6, 30.3, 22.7, 33.1, 31.2] type='6 * ?float32[parameters={\"__do...'>, 'muon1_eta': <Array [2.13, -0.698, 2.19, ... -1.11, 1.18] type='6 * ?float32[parameters={\"__d...'>, 'muon2_eta': <Array [1.46, 1.07, 1.69, ... -0.114, 1.24] type='6 * ?float32[parameters={\"__do...'>, 'muon_mass': <Array [71.6, 82.1, 84.3, 94.1, 92.1, 63.6] type='6 * ?float32'>}, {'photon_pt': <Array [[44], [35.9]] type='2 * option[var * float32[parameters={\"__doc__\": \"p_{...'>, 'photon_eta': <Array [[2.23], [-0.667]] type='2 * option[var * float32[parameters={\"__doc__\": ...'>, 'muon1_pt': <Array [77.5, 35.6] type='2 * ?float32[parameters={\"__doc__\": \"pt\"}]'>, 'muon2_pt': <Array [22.3, 29.9] type='2 * ?float32[parameters={\"__doc__\": \"pt\"}]'>, 'muon1_eta': <Array [2.17, -0.324] type='2 * ?float32[parameters={\"__doc__\": \"eta\"}]'>, 'muon2_eta': <Array [0.682, -0.973] type='2 * ?float32[parameters={\"__doc__\": \"eta\"}]'>, 'muon_mass': <Array [90.8, 68.2] type='2 * ?float32'>}, {'photon_pt': <Array [[42.6], [45.7], ... [43], [36.2]] type='6 * option[var * float32[paramet...'>, 'photon_eta': <Array [[-1.32], [-1.14], ... 0.407], [-0.661]] type='6 * option[var * float32[p...'>, 'muon1_pt': <Array [62.3, 125, 70.2, 50.7, 31.3, 61.2] type='6 * ?float32[parameters={\"__doc...'>, 'muon2_pt': <Array [36, 90, 37.3, 22.1, 20.2, 32.8] type='6 * ?float32[parameters={\"__doc__\"...'>, 'muon1_eta': <Array [0.143, -1.95, ... -0.354, -0.0785] type='6 * ?float32[parameters={\"__doc...'>, 'muon2_eta': <Array [0.1, -1.23, -1, -1.42, 0.409, 0.41] type='6 * ?float32[parameters={\"__do...'>, 'muon_mass': <Array [89.9, 223, 56.2, 64.1, 50.1, 86.7] type='6 * ?float32'>}, {'photon_pt': <Array [[66], [96.4]] type='2 * option[var * float32[parameters={\"__doc__\": \"p_{...'>, 'photon_eta': <Array [[-0.954], [1.3]] type='2 * option[var * float32[parameters={\"__doc__\": \"...'>, 'muon1_pt': <Array [87.6, 81.3] type='2 * ?float32[parameters={\"__doc__\": \"pt\"}]'>, 'muon2_pt': <Array [28.7, 48.5] type='2 * ?float32[parameters={\"__doc__\": \"pt\"}]'>, 'muon1_eta': <Array [-0.361, 0.68] type='2 * ?float32[parameters={\"__doc__\": \"eta\"}]'>, 'muon2_eta': <Array [0.321, 1.45] type='2 * ?float32[parameters={\"__doc__\": \"eta\"}]'>, 'muon_mass': <Array [98.2, 90] type='2 * ?float32'>}, {'photon_pt': <Array [[52.8], [62.1]] type='2 * option[var * float32[parameters={\"__doc__\": \"p...'>, 'photon_eta': <Array [[1.57], [2.32]] type='2 * option[var * float32[parameters={\"__doc__\": \"e...'>, 'muon1_pt': <Array [66.6, 41.5] type='2 * ?float32[parameters={\"__doc__\": \"pt\"}]'>, 'muon2_pt': <Array [40.9, 34.6] type='2 * ?float32[parameters={\"__doc__\": \"pt\"}]'>, 'muon1_eta': <Array [-0.849, 0.142] type='2 * ?float32[parameters={\"__doc__\": \"eta\"}]'>, 'muon2_eta': <Array [0.318, 2.04] type='2 * ?float32[parameters={\"__doc__\": \"eta\"}]'>, 'muon_mass': <Array [92.9, 98.3] type='2 * ?float32'>}, {'photon_pt': <Array [[93.6]] type='1 * option[var * float32[parameters={\"__doc__\": \"p_{T}\"}]]'>, 'photon_eta': <Array [[0.0253]] type='1 * option[var * float32[parameters={\"__doc__\": \"eta\"}]]'>, 'muon1_pt': <Array [59.4] type='1 * ?float32[parameters={\"__doc__\": \"pt\"}]'>, 'muon2_pt': <Array [35.7] type='1 * ?float32[parameters={\"__doc__\": \"pt\"}]'>, 'muon1_eta': <Array [0.026] type='1 * ?float32[parameters={\"__doc__\": \"eta\"}]'>, 'muon2_eta': <Array [1.41] type='1 * ?float32[parameters={\"__doc__\": \"eta\"}]'>, 'muon_mass': <Array [92.5] type='1 * ?float32'>}, {'photon_pt': <Array [[325]] type='1 * option[var * float32[parameters={\"__doc__\": \"p_{T}\"}]]'>, 'photon_eta': <Array [[-1.33]] type='1 * option[var * float32[parameters={\"__doc__\": \"eta\"}]]'>, 'muon1_pt': <Array [176] type='1 * ?float32[parameters={\"__doc__\": \"pt\"}]'>, 'muon2_pt': <Array [152] type='1 * ?float32[parameters={\"__doc__\": \"pt\"}]'>, 'muon1_eta': <Array [-0.833] type='1 * ?float32[parameters={\"__doc__\": \"eta\"}]'>, 'muon2_eta': <Array [-0.283] type='1 * ?float32[parameters={\"__doc__\": \"eta\"}]'>, 'muon_mass': <Array [92] type='1 * ?float32'>}, {'photon_pt': <Array [[156], [42.3], ... [105], [46.4]] type='9 * option[var * float32[paramet...'>, 'photon_eta': <Array [[-1.4], [1.08], ... [-1.21], [0.779]] type='9 * option[var * float32[par...'>, 'muon1_pt': <Array [143, 70.5, 45.6, ... 39.9, 83.6, 68.3] type='9 * ?float32[parameters={\"_...'>, 'muon2_pt': <Array [24.4, 30.1, 41.9, ... 29.1, 29.2, 29.8] type='9 * ?float32[parameters={\"...'>, 'muon1_eta': <Array [-2.08, 0.93, 0.283, ... -1.34, 2.4] type='9 * ?float32[parameters={\"__do...'>, 'muon2_eta': <Array [-1.9, 1.46, 0.986, ... -2.27, 1.55] type='9 * ?float32[parameters={\"__do...'>, 'muon_mass': <Array [89.2, 95.3, 92.8, ... 66.5, 68.3, 89.7] type='9 * ?float32'>}, {'photon_pt': <Array [[50.9], [38.4], ... [41.1], [55.1]] type='5 * option[var * float32[param...'>, 'photon_eta': <Array [[-1.71], [-1.02], ... 0.955], [-0.524]] type='5 * option[var * float32[p...'>, 'muon1_pt': <Array [56.3, 65, 54.4, 36.2, 81.7] type='5 * ?float32[parameters={\"__doc__\": \"p...'>, 'muon2_pt': <Array [46.1, 29.1, 52.5, 29.6, 21.9] type='5 * ?float32[parameters={\"__doc__\": ...'>, 'muon1_eta': <Array [2.35, 0.283, -0.358, 0.956, 0.647] type='5 * ?float32[parameters={\"__doc...'>, 'muon2_eta': <Array [1.91, 0.245, -0.719, 2.07, -1.35] type='5 * ?float32[parameters={\"__doc_...'>, 'muon_mass': <Array [91.7, 86.9, 107, 60.7, 128] type='5 * ?float32'>}, {'photon_pt': <Array [[35.2], [105], [44.5], [47.6]] type='4 * option[var * float32[parameters...'>, 'photon_eta': <Array [[2.21], [-0.909], [-1.87], [-1.62]] type='4 * option[var * float32[param...'>, 'muon1_pt': <Array [63.4, 180, 56.8, 34] type='4 * ?float32[parameters={\"__doc__\": \"pt\"}]'>, 'muon2_pt': <Array [31.5, 112, 27.9, 24.4] type='4 * ?float32[parameters={\"__doc__\": \"pt\"}]'>, 'muon1_eta': <Array [2.24, -0.538, -0.223, -2.34] type='4 * ?float32[parameters={\"__doc__\": \"...'>, 'muon2_eta': <Array [1.54, -0.793, -1.3, -1.31] type='4 * ?float32[parameters={\"__doc__\": \"et...'>, 'muon_mass': <Array [94.1, 272, 86.4, 56.8] type='4 * ?float32'>}, {'photon_pt': <Array [[37.8], [47.1], ... [107], [44.9]] type='6 * option[var * float32[parame...'>, 'photon_eta': <Array [[1.86], [-2.05], ... [-0.528], [1.22]] type='6 * option[var * float32[pa...'>, 'muon1_pt': <Array [49.3, 71.5, 73.9, 57, 78.2, 52.3] type='6 * ?float32[parameters={\"__doc_...'>, 'muon2_pt': <Array [44.5, 36.2, 65.7, 39.4, 28.4, 44.4] type='6 * ?float32[parameters={\"__do...'>, 'muon1_eta': <Array [-0.114, -1.14, -0.985, ... 0.502, 1.88] type='6 * ?float32[parameters={\"...'>, 'muon2_eta': <Array [0.0903, -1.13, ... -0.992, 1.35] type='6 * ?float32[parameters={\"__doc__...'>, 'muon_mass': <Array [93.4, 88.5, 87.4, 61.7, 83.1, 92.2] type='6 * ?float32'>}, {'photon_pt': <Array [[81.4], [75], [39.4], [37.6]] type='4 * option[var * float32[parameters=...'>, 'photon_eta': <Array [[1.01], [-1.28], [-0.971], [0.816]] type='4 * option[var * float32[param...'>, 'muon1_pt': <Array [56, 56.8, 62.6, 37] type='4 * ?float32[parameters={\"__doc__\": \"pt\"}]'>, 'muon2_pt': <Array [36.4, 52.6, 25.9, 23.5] type='4 * ?float32[parameters={\"__doc__\": \"pt\"}]'>, 'muon1_eta': <Array [2.25, -0.503, -0.673, 0.816] type='4 * ?float32[parameters={\"__doc__\": \"...'>, 'muon2_eta': <Array [1.41, 0.429, -0.971, -0.958] type='4 * ?float32[parameters={\"__doc__\": \"...'>, 'muon_mass': <Array [88.1, 88.2, 55.4, 65.6] type='4 * ?float32'>}, {'photon_pt': <Array [[69.7], [78.3], [79.2]] type='3 * option[var * float32[parameters={\"__do...'>, 'photon_eta': <Array [[0.77], [1.33], [1.77]] type='3 * option[var * float32[parameters={\"__do...'>, 'muon1_pt': <Array [73.4, 32.4, 60.3] type='3 * ?float32[parameters={\"__doc__\": \"pt\"}]'>, 'muon2_pt': <Array [52.5, 26.5, 25.1] type='3 * ?float32[parameters={\"__doc__\": \"pt\"}]'>, 'muon1_eta': <Array [1.42, 1.6, -0.886] type='3 * ?float32[parameters={\"__doc__\": \"eta\"}]'>, 'muon2_eta': <Array [0.0559, -0.621, 1.12] type='3 * ?float32[parameters={\"__doc__\": \"eta\"}]'>, 'muon_mass': <Array [142, 92.2, 92.7] type='3 * ?float32'>}, {'photon_pt': <Array [[45.5]] type='1 * option[var * float32[parameters={\"__doc__\": \"p_{T}\"}]]'>, 'photon_eta': <Array [[1.41]] type='1 * option[var * float32[parameters={\"__doc__\": \"eta\"}]]'>, 'muon1_pt': <Array [33.9] type='1 * ?float32[parameters={\"__doc__\": \"pt\"}]'>, 'muon2_pt': <Array [20.1] type='1 * ?float32[parameters={\"__doc__\": \"pt\"}]'>, 'muon1_eta': <Array [1.85] type='1 * ?float32[parameters={\"__doc__\": \"eta\"}]'>, 'muon2_eta': <Array [-0.456] type='1 * ?float32[parameters={\"__doc__\": \"eta\"}]'>, 'muon_mass': <Array [89.9] type='1 * ?float32'>}, {'photon_pt': <Array [[65.4], [52.7], ... [39.5], [121]] type='5 * option[var * float32[parame...'>, 'photon_eta': <Array [[-1.61], [0.157], ... [0.861], [2.04]] type='5 * option[var * float32[pa...'>, 'muon1_pt': <Array [86, 57.5, 52.3, 48.9, 92.1] type='5 * ?float32[parameters={\"__doc__\": \"p...'>, 'muon2_pt': <Array [43.8, 39.9, 38.4, 36.2, 89.1] type='5 * ?float32[parameters={\"__doc__\": ...'>, 'muon1_eta': <Array [-0.957, 0.307, -1.75, -1.2, 1.3] type='5 * ?float32[parameters={\"__doc__...'>, 'muon2_eta': <Array [-2.24, 0.694, ... -2.09, -0.376] type='5 * ?float32[parameters={\"__doc__...'>, 'muon_mass': <Array [140, 87.1, 85.8, 89, 214] type='5 * ?float32'>}, {'photon_pt': <Array [[63.5], [37.7], [78.4]] type='3 * option[var * float32[parameters={\"__do...'>, 'photon_eta': <Array [[-0.765], [-0.69], [-1.31]] type='3 * option[var * float32[parameters={\"...'>, 'muon1_pt': <Array [76.5, 43.1, 53.3] type='3 * ?float32[parameters={\"__doc__\": \"pt\"}]'>, 'muon2_pt': <Array [29, 40.4, 38.2] type='3 * ?float32[parameters={\"__doc__\": \"pt\"}]'>, 'muon1_eta': <Array [-0.889, -0.855, -1.48] type='3 * ?float32[parameters={\"__doc__\": \"eta\"}]'>, 'muon2_eta': <Array [-0.417, 0.214, -1.13] type='3 * ?float32[parameters={\"__doc__\": \"eta\"}]'>, 'muon_mass': <Array [91.9, 89, 91.6] type='3 * ?float32'>}, {'photon_pt': <Array [[37.6], [43.4], ... [44.9], [77.8]] type='6 * option[var * float32[param...'>, 'photon_eta': <Array [[-2.23], [-0.107], ... 0.0652], [1.37]] type='6 * option[var * float32[p...'>, 'muon1_pt': <Array [47.2, 83.1, 70.7, 82, 61.2, 45.5] type='6 * ?float32[parameters={\"__doc_...'>, 'muon2_pt': <Array [25.2, 36.3, 27.6, 53, 34.3, 37.5] type='6 * ?float32[parameters={\"__doc_...'>, 'muon1_eta': <Array [-0.548, 0.041, -0.405, ... 1.95, 0.691] type='6 * ?float32[parameters={\"...'>, 'muon2_eta': <Array [1.24, 1.71, 0.0811, ... 1.65, 2.28] type='6 * ?float32[parameters={\"__do...'>, 'muon_mass': <Array [95.6, 150, 90.8, 89.6, 88.1, 91.8] type='6 * ?float32'>}, {'photon_pt': <Array [[38.7]] type='1 * option[var * float32[parameters={\"__doc__\": \"p_{T}\"}]]'>, 'photon_eta': <Array [[0.462]] type='1 * option[var * float32[parameters={\"__doc__\": \"eta\"}]]'>, 'muon1_pt': <Array [82] type='1 * ?float32[parameters={\"__doc__\": \"pt\"}]'>, 'muon2_pt': <Array [57.8] type='1 * ?float32[parameters={\"__doc__\": \"pt\"}]'>, 'muon1_eta': <Array [-0.571] type='1 * ?float32[parameters={\"__doc__\": \"eta\"}]'>, 'muon2_eta': <Array [-1.24] type='1 * ?float32[parameters={\"__doc__\": \"eta\"}]'>, 'muon_mass': <Array [106] type='1 * ?float32'>}, {'photon_pt': <Array [] type='0 * option[var * float32[parameters={\"__doc__\": \"p_{T}\"}]]'>, 'photon_eta': <Array [] type='0 * option[var * float32[parameters={\"__doc__\": \"eta\"}]]'>, 'muon1_pt': <Array [] type='0 * ?float32[parameters={\"__doc__\": \"pt\"}]'>, 'muon2_pt': <Array [] type='0 * ?float32[parameters={\"__doc__\": \"pt\"}]'>, 'muon1_eta': <Array [] type='0 * ?float32[parameters={\"__doc__\": \"eta\"}]'>, 'muon2_eta': <Array [] type='0 * ?float32[parameters={\"__doc__\": \"eta\"}]'>, 'muon_mass': <Array [] type='0 * ?float32'>}, {'photon_pt': <Array [[35.3], [54.3]] type='2 * option[var * float32[parameters={\"__doc__\": \"p...'>, 'photon_eta': <Array [[-2.45], [-0.399]] type='2 * option[var * float32[parameters={\"__doc__\":...'>, 'muon1_pt': <Array [57.9, 87.6] type='2 * ?float32[parameters={\"__doc__\": \"pt\"}]'>, 'muon2_pt': <Array [39.3, 42.6] type='2 * ?float32[parameters={\"__doc__\": \"pt\"}]'>, 'muon1_eta': <Array [-0.204, 1.34] type='2 * ?float32[parameters={\"__doc__\": \"eta\"}]'>, 'muon2_eta': <Array [-1.82, 0.525] type='2 * ?float32[parameters={\"__doc__\": \"eta\"}]'>, 'muon_mass': <Array [94.4, 85] type='2 * ?float32'>}, {'photon_pt': <Array [[115], [72.4], [102]] type='3 * option[var * float32[parameters={\"__doc_...'>, 'photon_eta': <Array [[1.32], [-0.704], [-1.26]] type='3 * option[var * float32[parameters={\"_...'>, 'muon1_pt': <Array [99.7, 41.4, 80.7] type='3 * ?float32[parameters={\"__doc__\": \"pt\"}]'>, 'muon2_pt': <Array [31.4, 40.7, 73.7] type='3 * ?float32[parameters={\"__doc__\": \"pt\"}]'>, 'muon1_eta': <Array [-0.129, -1.38, -0.736] type='3 * ?float32[parameters={\"__doc__\": \"eta\"}]'>, 'muon2_eta': <Array [-1.55, -0.318, -2.15] type='3 * ?float32[parameters={\"__doc__\": \"eta\"}]'>, 'muon_mass': <Array [91.7, 90.1, 177] type='3 * ?float32'>}, {'photon_pt': <Array [[49.7]] type='1 * option[var * float32[parameters={\"__doc__\": \"p_{T}\"}]]'>, 'photon_eta': <Array [[2.24]] type='1 * option[var * float32[parameters={\"__doc__\": \"eta\"}]]'>, 'muon1_pt': <Array [38.7] type='1 * ?float32[parameters={\"__doc__\": \"pt\"}]'>, 'muon2_pt': <Array [23.3] type='1 * ?float32[parameters={\"__doc__\": \"pt\"}]'>, 'muon1_eta': <Array [-0.391] type='1 * ?float32[parameters={\"__doc__\": \"eta\"}]'>, 'muon2_eta': <Array [1.96] type='1 * ?float32[parameters={\"__doc__\": \"eta\"}]'>, 'muon_mass': <Array [90.6] type='1 * ?float32'>}, {'photon_pt': <Array [[42.2], [38.2], [62.3], [41.8]] type='4 * option[var * float32[parameter...'>, 'photon_eta': <Array [[-1.32], [0.0458], [-2.45], [2.19]] type='4 * option[var * float32[param...'>, 'muon1_pt': <Array [52.3, 36.2, 63.8, 40.2] type='4 * ?float32[parameters={\"__doc__\": \"pt\"}]'>, 'muon2_pt': <Array [23.7, 22.8, 44, 22.3] type='4 * ?float32[parameters={\"__doc__\": \"pt\"}]'>, 'muon1_eta': <Array [0.00818, 0.104, -1.86, 2.26] type='4 * ?float32[parameters={\"__doc__\": \"...'>, 'muon2_eta': <Array [-1.66, -0.543, -0.539, -0.0434] type='4 * ?float32[parameters={\"__doc__\"...'>, 'muon_mass': <Array [91.1, 59.7, 84, 86] type='4 * ?float32'>}, {'photon_pt': <Array [[48.8], [48.9], [67.9], [51.5]] type='4 * option[var * float32[parameter...'>, 'photon_eta': <Array [[-0.866], [1.96], [1.6], [-1.67]] type='4 * option[var * float32[paramet...'>, 'muon1_pt': <Array [62.3, 68, 51.2, 105] type='4 * ?float32[parameters={\"__doc__\": \"pt\"}]'>, 'muon2_pt': <Array [41.9, 67.2, 49.4, 25.3] type='4 * ?float32[parameters={\"__doc__\": \"pt\"}]'>, 'muon1_eta': <Array [1.68, -0.877, 0.883, -0.00325] type='4 * ?float32[parameters={\"__doc__\":...'>, 'muon2_eta': <Array [1.88, -2.18, 0.53, -0.217] type='4 * ?float32[parameters={\"__doc__\": \"et...'>, 'muon_mass': <Array [91.6, 94.7, 87, 92.1] type='4 * ?float32'>}, {'photon_pt': <Array [[47.2], [154], ... [37.4], [92.7]] type='5 * option[var * float32[parame...'>, 'photon_eta': <Array [[2.06], [-1.68], ... [-1.74], [2.29]] type='5 * option[var * float32[par...'>, 'muon1_pt': <Array [27.7, 135, 101, 32.1, 31.5] type='5 * ?float32[parameters={\"__doc__\": \"p...'>, 'muon2_pt': <Array [25.4, 38.8, 29.5, 27.1, 28.5] type='5 * ?float32[parameters={\"__doc__\": ...'>, 'muon1_eta': <Array [2.08, -2.17, 0.585, 0.913, 1.29] type='5 * ?float32[parameters={\"__doc__...'>, 'muon2_eta': <Array [1.45, -1.66, 0.4, -1.08, -0.699] type='5 * ?float32[parameters={\"__doc__...'>, 'muon_mass': <Array [55.3, 94.7, 100, 90.8, 90.6] type='5 * ?float32'>}, {'photon_pt': <Array [[65.5]] type='1 * option[var * float32[parameters={\"__doc__\": \"p_{T}\"}]]'>, 'photon_eta': <Array [[2.23]] type='1 * option[var * float32[parameters={\"__doc__\": \"eta\"}]]'>, 'muon1_pt': <Array [27] type='1 * ?float32[parameters={\"__doc__\": \"pt\"}]'>, 'muon2_pt': <Array [26.3] type='1 * ?float32[parameters={\"__doc__\": \"pt\"}]'>, 'muon1_eta': <Array [-0.856] type='1 * ?float32[parameters={\"__doc__\": \"eta\"}]'>, 'muon2_eta': <Array [-0.246] type='1 * ?float32[parameters={\"__doc__\": \"eta\"}]'>, 'muon_mass': <Array [55.7] type='1 * ?float32'>}, {'photon_pt': <Array [[114], [49.2], ... [51.3], [156]] type='7 * option[var * float32[paramet...'>, 'photon_eta': <Array [[1.17], [-1.42], ... [-0.261], [-1.61]] type='7 * option[var * float32[p...'>, 'muon1_pt': <Array [92.1, 89.6, 45.7, ... 99.2, 47.2, 127] type='7 * ?float32[parameters={\"_...'>, 'muon2_pt': <Array [37.6, 29.3, 32.7, ... 48.3, 34.3, 119] type='7 * ?float32[parameters={\"_...'>, 'muon1_eta': <Array [0.776, 0.982, ... 0.662, -1.12] type='7 * ?float32[parameters={\"__doc__\"...'>, 'muon2_eta': <Array [0.154, 1.16, 0.237, ... -0.824, -1.23] type='7 * ?float32[parameters={\"_...'>, 'muon_mass': <Array [92, 89.3, 76.3, ... 76.6, 91.1, 199] type='7 * ?float32'>}, {'photon_pt': <Array [[110], [81.4]] type='2 * option[var * float32[parameters={\"__doc__\": \"p_...'>, 'photon_eta': <Array [[0.0477], [0.465]] type='2 * option[var * float32[parameters={\"__doc__\":...'>, 'muon1_pt': <Array [102, 27.8] type='2 * ?float32[parameters={\"__doc__\": \"pt\"}]'>, 'muon2_pt': <Array [21.3, 24.1] type='2 * ?float32[parameters={\"__doc__\": \"pt\"}]'>, 'muon1_eta': <Array [0.605, 2.03] type='2 * ?float32[parameters={\"__doc__\": \"eta\"}]'>, 'muon2_eta': <Array [0.846, -0.578] type='2 * ?float32[parameters={\"__doc__\": \"eta\"}]'>, 'muon_mass': <Array [92.9, 92.2] type='2 * ?float32'>}, {'photon_pt': <Array [[40.1], [37.7], ... [38.3], [55.5]] type='6 * option[var * float32[param...'>, 'photon_eta': <Array [[0.562], [1.63], ... [1.3], [0.153]] type='6 * option[var * float32[para...'>, 'muon1_pt': <Array [51.2, 35.4, 201, 129, 36.7, 60.5] type='6 * ?float32[parameters={\"__doc_...'>, 'muon2_pt': <Array [47.3, 29.7, 52.5, 73.9, 21.9, 44.3] type='6 * ?float32[parameters={\"__do...'>, 'muon1_eta': <Array [-0.698, 1.61, 1.85, ... -0.64, 0.729] type='6 * ?float32[parameters={\"__...'>, 'muon2_eta': <Array [-1.18, 1.64, 1.98, ... 1.63, 0.152] type='6 * ?float32[parameters={\"__do...'>, 'muon_mass': <Array [90.5, 61.5, 102, 341, 92.5, 107] type='6 * ?float32'>}, {'photon_pt': <Array [] type='0 * option[var * float32[parameters={\"__doc__\": \"p_{T}\"}]]'>, 'photon_eta': <Array [] type='0 * option[var * float32[parameters={\"__doc__\": \"eta\"}]]'>, 'muon1_pt': <Array [] type='0 * ?float32[parameters={\"__doc__\": \"pt\"}]'>, 'muon2_pt': <Array [] type='0 * ?float32[parameters={\"__doc__\": \"pt\"}]'>, 'muon1_eta': <Array [] type='0 * ?float32[parameters={\"__doc__\": \"eta\"}]'>, 'muon2_eta': <Array [] type='0 * ?float32[parameters={\"__doc__\": \"eta\"}]'>, 'muon_mass': <Array [] type='0 * ?float32'>}, {'photon_pt': <Array [[35.6], [105], ... [66.8], [43.6]] type='7 * option[var * float32[parame...'>, 'photon_eta': <Array [[-0.179], [-0.818, ... [-0.446]] type='7 * option[var * float32[paramete...'>, 'muon1_pt': <Array [29.7, 158, 111, ... 58.4, 51, 67.3] type='7 * ?float32[parameters={\"__do...'>, 'muon2_pt': <Array [27.7, 40.6, 31, ... 26.8, 47.6, 22.9] type='7 * ?float32[parameters={\"__...'>, 'muon1_eta': <Array [0.505, -1.22, -2.13, ... -0.32, 2.03] type='7 * ?float32[parameters={\"__...'>, 'muon2_eta': <Array [-0.175, -0.203, ... -0.549, 0.922] type='7 * ?float32[parameters={\"__doc...'>, 'muon_mass': <Array [60.6, 86.5, 102, ... 91.9, 84.1, 89.5] type='7 * ?float32'>}, {'photon_pt': <Array [[40.6]] type='1 * option[var * float32[parameters={\"__doc__\": \"p_{T}\"}]]'>, 'photon_eta': <Array [[-2.46]] type='1 * option[var * float32[parameters={\"__doc__\": \"eta\"}]]'>, 'muon1_pt': <Array [34.2] type='1 * ?float32[parameters={\"__doc__\": \"pt\"}]'>, 'muon2_pt': <Array [27] type='1 * ?float32[parameters={\"__doc__\": \"pt\"}]'>, 'muon1_eta': <Array [-1.88] type='1 * ?float32[parameters={\"__doc__\": \"eta\"}]'>, 'muon2_eta': <Array [-1.62] type='1 * ?float32[parameters={\"__doc__\": \"eta\"}]'>, 'muon_mass': <Array [58.8] type='1 * ?float32'>}, {'photon_pt': <Array [[38.6], [47.6], [52.8], [77]] type='4 * option[var * float32[parameters=...'>, 'photon_eta': <Array [[2.04], [-1.27], [-0.62], [2.34]] type='4 * option[var * float32[paramet...'>, 'muon1_pt': <Array [44.9, 74.8, 112, 50.4] type='4 * ?float32[parameters={\"__doc__\": \"pt\"}]'>, 'muon2_pt': <Array [43.5, 34.5, 22.6, 34.7] type='4 * ?float32[parameters={\"__doc__\": \"pt\"}]'>, 'muon1_eta': <Array [-0.259, -1.16, -0.521, 2.34] type='4 * ?float32[parameters={\"__doc__\": \"...'>, 'muon2_eta': <Array [-0.0611, -2.01, -1.6, 1.33] type='4 * ?float32[parameters={\"__doc__\": \"e...'>, 'muon_mass': <Array [88.7, 89.9, 94.2, 56.4] type='4 * ?float32'>}, {'photon_pt': <Array [[68.3], [43.4], ... [36.4], [44.6]] type='5 * option[var * float32[param...'>, 'photon_eta': <Array [[-0.961], [0.834, ... -0.0351], [2.04]] type='5 * option[var * float32[p...'>, 'muon1_pt': <Array [49.6, 43.4, 84.9, 43.5, 206] type='5 * ?float32[parameters={\"__doc__\": \"...'>, 'muon2_pt': <Array [24.8, 22.3, 31.8, 37.9, 99.5] type='5 * ?float32[parameters={\"__doc__\": ...'>, 'muon1_eta': <Array [-1.22, 1.52, -1.78, -1.69, 2.09] type='5 * ?float32[parameters={\"__doc__...'>, 'muon2_eta': <Array [0.936, -0.582, ... -0.375, 2.39] type='5 * ?float32[parameters={\"__doc__...'>, 'muon_mass': <Array [93.7, 91.3, 119, 89.2, 287] type='5 * ?float32'>}, {'photon_pt': <Array [[61.8]] type='1 * option[var * float32[parameters={\"__doc__\": \"p_{T}\"}]]'>, 'photon_eta': <Array [[-2.44]] type='1 * option[var * float32[parameters={\"__doc__\": \"eta\"}]]'>, 'muon1_pt': <Array [49.7] type='1 * ?float32[parameters={\"__doc__\": \"pt\"}]'>, 'muon2_pt': <Array [37.8] type='1 * ?float32[parameters={\"__doc__\": \"pt\"}]'>, 'muon1_eta': <Array [-1.65] type='1 * ?float32[parameters={\"__doc__\": \"eta\"}]'>, 'muon2_eta': <Array [-2.05] type='1 * ?float32[parameters={\"__doc__\": \"eta\"}]'>, 'muon_mass': <Array [88.4] type='1 * ?float32'>}, {'photon_pt': <Array [[55.6], [40.1], [47.3]] type='3 * option[var * float32[parameters={\"__do...'>, 'photon_eta': <Array [[-0.319], [2.09], [0.102]] type='3 * option[var * float32[parameters={\"_...'>, 'muon1_pt': <Array [66.6, 61.9, 65.6] type='3 * ?float32[parameters={\"__doc__\": \"pt\"}]'>, 'muon2_pt': <Array [28.7, 33.4, 49.5] type='3 * ?float32[parameters={\"__doc__\": \"pt\"}]'>, 'muon1_eta': <Array [-1.5, 1.58, -0.736] type='3 * ?float32[parameters={\"__doc__\": \"eta\"}]'>, 'muon2_eta': <Array [-2.04, 1.29, -1.05] type='3 * ?float32[parameters={\"__doc__\": \"eta\"}]'>, 'muon_mass': <Array [89.7, 84.6, 110] type='3 * ?float32'>}, {'photon_pt': <Array [[60.4], [37.4], [42.4]] type='3 * option[var * float32[parameters={\"__do...'>, 'photon_eta': <Array [[-0.391], [0.423], [0.359]] type='3 * option[var * float32[parameters={\"...'>, 'muon1_pt': <Array [66, 48.5, 40] type='3 * ?float32[parameters={\"__doc__\": \"pt\"}]'>, 'muon2_pt': <Array [32.9, 34.5, 28] type='3 * ?float32[parameters={\"__doc__\": \"pt\"}]'>, 'muon1_eta': <Array [-2.1, 0.428, 1.01] type='3 * ?float32[parameters={\"__doc__\": \"eta\"}]'>, 'muon2_eta': <Array [-1.36, 0.952, -0.391] type='3 * ?float32[parameters={\"__doc__\": \"eta\"}]'>, 'muon_mass': <Array [88.4, 75, 59.3] type='3 * ?float32'>}, {'photon_pt': <Array [[40.1], [85.8], [39.6]] type='3 * option[var * float32[parameters={\"__do...'>, 'photon_eta': <Array [[-0.0833], [-1.64], [-0.252]] type='3 * option[var * float32[parameters=...'>, 'muon1_pt': <Array [50.8, 94.1, 40.1] type='3 * ?float32[parameters={\"__doc__\": \"pt\"}]'>, 'muon2_pt': <Array [44.8, 43.2, 20.4] type='3 * ?float32[parameters={\"__doc__\": \"pt\"}]'>, 'muon1_eta': <Array [-0.155, -1.01, -0.61] type='3 * ?float32[parameters={\"__doc__\": \"eta\"}]'>, 'muon2_eta': <Array [0.574, -2.1, -1.32] type='3 * ?float32[parameters={\"__doc__\": \"eta\"}]'>, 'muon_mass': <Array [93.7, 73.1, 60.7] type='3 * ?float32'>}, {'photon_pt': <Array [[37.2], [37.1], ... [51.8], [36.8]] type='7 * option[var * float32[param...'>, 'photon_eta': <Array [[2.48], [-2.34], ... -0.961], [-0.145]] type='7 * option[var * float32[p...'>, 'muon1_pt': <Array [48.1, 43.5, 58.4, ... 74.4, 81.3, 68] type='7 * ?float32[parameters={\"__...'>, 'muon2_pt': <Array [40.3, 36.2, 37.6, ... 41.6, 31.9, 55.9] type='7 * ?float32[parameters={\"...'>, 'muon1_eta': <Array [-0.963, -0.282, ... 0.556, -0.0355] type='7 * ?float32[parameters={\"__do...'>, 'muon2_eta': <Array [-1.43, 0.0972, 1.29, ... 0.382, -0.151] type='7 * ?float32[parameters={\"...'>, 'muon_mass': <Array [90.3, 80.8, 89.2, ... 64.1, 93.6, 123] type='7 * ?float32'>}, {'photon_pt': <Array [[55.2], [38.6], [125], [181]] type='4 * option[var * float32[parameters=...'>, 'photon_eta': <Array [[-0.921], [-2.17], ... -1.28], [0.142]] type='4 * option[var * float32[p...'>, 'muon1_pt': <Array [47.8, 36.2, 100, 266] type='4 * ?float32[parameters={\"__doc__\": \"pt\"}]'>, 'muon2_pt': <Array [30.1, 23.5, 38.6, 58.7] type='4 * ?float32[parameters={\"__doc__\": \"pt\"}]'>, 'muon1_eta': <Array [-1.56, -1.84, 1.13, 0.514] type='4 * ?float32[parameters={\"__doc__\": \"et...'>, 'muon2_eta': <Array [0.139, -2.16, 0.115, 0.137] type='4 * ?float32[parameters={\"__doc__\": \"e...'>, 'muon_mass': <Array [93.8, 56.4, 85.1, 254] type='4 * ?float32'>}, {'photon_pt': <Array [[93.1], [41.2], ... [117], [37.9]] type='6 * option[var * float32[parame...'>, 'photon_eta': <Array [[-2.2], [1.75], ... [1.72], [1.04]] type='6 * option[var * float32[param...'>, 'muon1_pt': <Array [82.8, 43.5, 47.4, 26.7, 123, 53.7] type='6 * ?float32[parameters={\"__doc...'>, 'muon2_pt': <Array [62.2, 27.2, 42.6, 24.4, 41.9, 49.5] type='6 * ?float32[parameters={\"__do...'>, 'muon1_eta': <Array [-0.406, 1.56, -1.79, ... -1.14, 2.06] type='6 * ?float32[parameters={\"__...'>, 'muon2_eta': <Array [-0.346, 1.05, -1.17, ... -2.19, 2.09] type='6 * ?float32[parameters={\"__...'>, 'muon_mass': <Array [82.7, 54.3, 89.6, 56.3, 90.8, 92.2] type='6 * ?float32'>}, {'photon_pt': <Array [[43.1], [94.1], [38.8]] type='3 * option[var * float32[parameters={\"__do...'>, 'photon_eta': <Array [[-1.63], [-1.95], [-2.44]] type='3 * option[var * float32[parameters={\"_...'>, 'muon1_pt': <Array [56.2, 41.1, 92.4] type='3 * ?float32[parameters={\"__doc__\": \"pt\"}]'>, 'muon2_pt': <Array [36, 31.6, 34.3] type='3 * ?float32[parameters={\"__doc__\": \"pt\"}]'>, 'muon1_eta': <Array [-0.432, -0.72, -2.4] type='3 * ?float32[parameters={\"__doc__\": \"eta\"}]'>, 'muon2_eta': <Array [0.0318, -2.37, -1.66] type='3 * ?float32[parameters={\"__doc__\": \"eta\"}]'>, 'muon_mass': <Array [90.6, 88.8, 91.3] type='3 * ?float32'>}, {'photon_pt': <Array [[51.2], [141], [46.5], [40.5]] type='4 * option[var * float32[parameters...'>, 'photon_eta': <Array [[0.332], [2.13], [0.661], [-0.318]] type='4 * option[var * float32[param...'>, 'muon1_pt': <Array [48.8, 103, 49.3, 33.7] type='4 * ?float32[parameters={\"__doc__\": \"pt\"}]'>, 'muon2_pt': <Array [27.1, 61.6, 24.4, 30.1] type='4 * ?float32[parameters={\"__doc__\": \"pt\"}]'>, 'muon1_eta': <Array [2.25, 2.14, 0.386, -0.569] type='4 * ?float32[parameters={\"__doc__\": \"et...'>, 'muon2_eta': <Array [0.741, 1.42, -1.24, 0.0262] type='4 * ?float32[parameters={\"__doc__\": \"e...'>, 'muon_mass': <Array [89.6, 89.4, 84.4, 66.1] type='4 * ?float32'>}, {'photon_pt': <Array [[37.5], [111], ... [130], [55.8]] type='7 * option[var * float32[paramet...'>, 'photon_eta': <Array [[-2.04], [0.348], ... [0.272], [1.35]] type='7 * option[var * float32[pa...'>, 'muon1_pt': <Array [76.4, 93.2, 122, ... 73.4, 91.4, 79.6] type='7 * ?float32[parameters={\"_...'>, 'muon2_pt': <Array [26.6, 38.9, 48.2, ... 38.9, 54.7, 24.4] type='7 * ?float32[parameters={\"...'>, 'muon1_eta': <Array [-1.79, -0.56, -1.55, ... -2.04, -0.719] type='7 * ?float32[parameters={\"...'>, 'muon2_eta': <Array [-1.04, -1.85, -1.34, ... -1.57, -1.43] type='7 * ?float32[parameters={\"_...'>, 'muon_mass': <Array [95.2, 84.5, 153, ... 98.7, 89.6, 92.9] type='7 * ?float32'>}, {'photon_pt': <Array [[40], [50.8], [56.6]] type='3 * option[var * float32[parameters={\"__doc_...'>, 'photon_eta': <Array [[-2.48], [-2.16], [-0.625]] type='3 * option[var * float32[parameters={\"...'>, 'muon1_pt': <Array [77.1, 53.8, 54.4] type='3 * ?float32[parameters={\"__doc__\": \"pt\"}]'>, 'muon2_pt': <Array [53.2, 43.4, 41.3] type='3 * ?float32[parameters={\"__doc__\": \"pt\"}]'>, 'muon1_eta': <Array [-0.744, 2.11, 0.541] type='3 * ?float32[parameters={\"__doc__\": \"eta\"}]'>, 'muon2_eta': <Array [-0.575, 2.16, 0.515] type='3 * ?float32[parameters={\"__doc__\": \"eta\"}]'>, 'muon_mass': <Array [79.5, 90, 88.7] type='3 * ?float32'>}, {'photon_pt': <Array [[38.6], [35.9], [103]] type='3 * option[var * float32[parameters={\"__doc...'>, 'photon_eta': <Array [[1.44], [0.257], [0.897]] type='3 * option[var * float32[parameters={\"__...'>, 'muon1_pt': <Array [46.9, 79.8, 66.7] type='3 * ?float32[parameters={\"__doc__\": \"pt\"}]'>, 'muon2_pt': <Array [41.3, 22.2, 37] type='3 * ?float32[parameters={\"__doc__\": \"pt\"}]'>, 'muon1_eta': <Array [0.92, -0.577, -1.69] type='3 * ?float32[parameters={\"__doc__\": \"eta\"}]'>, 'muon2_eta': <Array [-0.123, 0.42, -1.43] type='3 * ?float32[parameters={\"__doc__\": \"eta\"}]'>, 'muon_mass': <Array [92.8, 91.8, 92.4] type='3 * ?float32'>}, {'photon_pt': <Array [[37.5], [43.3], ... 59], [38.7], [550]] type='5 * option[var * float32[p...'>, 'photon_eta': <Array [[-0.0809], [0.269, ... [-1.12]] type='5 * option[var * float32[parameter...'>, 'muon1_pt': <Array [74.3, 44.8, 69, 45.8, 260] type='5 * ?float32[parameters={\"__doc__\": \"pt\"}]'>, 'muon2_pt': <Array [26.8, 43.1, 31.9, 33.3, 33.9] type='5 * ?float32[parameters={\"__doc__\": ...'>, 'muon1_eta': <Array [-0.784, 0.921, 1.74, -1.89, -1.25] type='5 * ?float32[parameters={\"__doc...'>, 'muon2_eta': <Array [0.669, 0.363, 1.69, -0.0551, -1.55] type='5 * ?float32[parameters={\"__do...'>, 'muon_mass': <Array [73.4, 91.4, 93.4, 106, 100] type='5 * ?float32'>}, {'photon_pt': <Array [[71.4], [42.5], [70.1], [44.9]] type='4 * option[var * float32[parameter...'>, 'photon_eta': <Array [[1.61], [0.466], [-1.96], [-2.38]] type='4 * option[var * float32[parame...'>, 'muon1_pt': <Array [62.6, 54.8, 71.8, 59.2] type='4 * ?float32[parameters={\"__doc__\": \"pt\"}]'>, 'muon2_pt': <Array [50.3, 48.2, 27.2, 33.1] type='4 * ?float32[parameters={\"__doc__\": \"pt\"}]'>, 'muon1_eta': <Array [1.37, -1.09, -0.722, 0.155] type='4 * ?float32[parameters={\"__doc__\": \"e...'>, 'muon2_eta': <Array [0.225, -0.697, 0.393, 0.47] type='4 * ?float32[parameters={\"__doc__\": \"e...'>, 'muon_mass': <Array [86.7, 90.5, 94, 89.4] type='4 * ?float32'>}, {'photon_pt': <Array [[38.6], [35.3], [51.7], [62.6]] type='4 * option[var * float32[parameter...'>, 'photon_eta': <Array [[-1.84], [0.274], [1.57], [2.21]] type='4 * option[var * float32[paramet...'>, 'muon1_pt': <Array [59.8, 49.1, 56.3, 79.6] type='4 * ?float32[parameters={\"__doc__\": \"pt\"}]'>, 'muon2_pt': <Array [39.9, 34.7, 27, 31.5] type='4 * ?float32[parameters={\"__doc__\": \"pt\"}]'>, 'muon1_eta': <Array [-1.72, -0.476, 1.11, 0.653] type='4 * ?float32[parameters={\"__doc__\": \"e...'>, 'muon2_eta': <Array [-0.964, -1.53, 1.99, 0.0373] type='4 * ?float32[parameters={\"__doc__\": \"...'>, 'muon_mass': <Array [88.2, 92.1, 57.9, 99.2] type='4 * ?float32'>}, {'photon_pt': <Array [] type='0 * option[var * float32[parameters={\"__doc__\": \"p_{T}\"}]]'>, 'photon_eta': <Array [] type='0 * option[var * float32[parameters={\"__doc__\": \"eta\"}]]'>, 'muon1_pt': <Array [] type='0 * ?float32[parameters={\"__doc__\": \"pt\"}]'>, 'muon2_pt': <Array [] type='0 * ?float32[parameters={\"__doc__\": \"pt\"}]'>, 'muon1_eta': <Array [] type='0 * ?float32[parameters={\"__doc__\": \"eta\"}]'>, 'muon2_eta': <Array [] type='0 * ?float32[parameters={\"__doc__\": \"eta\"}]'>, 'muon_mass': <Array [] type='0 * ?float32'>}, {'photon_pt': <Array [[38.9], [51.2], [126]] type='3 * option[var * float32[parameters={\"__doc...'>, 'photon_eta': <Array [[-0.824], [0.349], [-0.69]] type='3 * option[var * float32[parameters={\"...'>, 'muon1_pt': <Array [43.8, 42.1, 52] type='3 * ?float32[parameters={\"__doc__\": \"pt\"}]'>, 'muon2_pt': <Array [43.5, 24.1, 40.6] type='3 * ?float32[parameters={\"__doc__\": \"pt\"}]'>, 'muon1_eta': <Array [-0.768, 0.347, 0.0119] type='3 * ?float32[parameters={\"__doc__\": \"eta\"}]'>, 'muon2_eta': <Array [-1.54, -0.238, 0.131] type='3 * ?float32[parameters={\"__doc__\": \"eta\"}]'>, 'muon_mass': <Array [92.7, 62.3, 90.8] type='3 * ?float32'>}, {'photon_pt': <Array [[92.7], [58.4], [37.1], [40]] type='4 * option[var * float32[parameters=...'>, 'photon_eta': <Array [[0.023], [0.895], [-2.31], [1]] type='4 * option[var * float32[parameter...'>, 'muon1_pt': <Array [48, 52.5, 42.6, 43.3] type='4 * ?float32[parameters={\"__doc__\": \"pt\"}]'>, 'muon2_pt': <Array [33.2, 33.9, 41.2, 20] type='4 * ?float32[parameters={\"__doc__\": \"pt\"}]'>, 'muon1_eta': <Array [0.588, 0.0467, -2.09, 0.997] type='4 * ?float32[parameters={\"__doc__\": \"...'>, 'muon2_eta': <Array [-0.438, 1.49, -0.366, -0.84] type='4 * ?float32[parameters={\"__doc__\": \"...'>, 'muon_mass': <Array [90.3, 91.4, 90.2, 68.4] type='4 * ?float32'>}, {'photon_pt': <Array [[95.4], [54.9], [180]] type='3 * option[var * float32[parameters={\"__doc...'>, 'photon_eta': <Array [[0.504], [-1.21], [1.64]] type='3 * option[var * float32[parameters={\"__...'>, 'muon1_pt': <Array [78, 74.1, 118] type='3 * ?float32[parameters={\"__doc__\": \"pt\"}]'>, 'muon2_pt': <Array [31.6, 29.3, 66.3] type='3 * ?float32[parameters={\"__doc__\": \"pt\"}]'>, 'muon1_eta': <Array [2.36, 0.2, 2.01] type='3 * ?float32[parameters={\"__doc__\": \"eta\"}]'>, 'muon2_eta': <Array [0.731, -0.0418, 1.76] type='3 * ?float32[parameters={\"__doc__\": \"eta\"}]'>, 'muon_mass': <Array [91.9, 90.8, 87.9] type='3 * ?float32'>}, {'photon_pt': <Array [[35.6], [58.5], [50.6]] type='3 * option[var * float32[parameters={\"__do...'>, 'photon_eta': <Array [[-0.196], [-1.41], [0.625]] type='3 * option[var * float32[parameters={\"...'>, 'muon1_pt': <Array [55.4, 69, 60.5] type='3 * ?float32[parameters={\"__doc__\": \"pt\"}]'>, 'muon2_pt': <Array [35.9, 35.3, 35.6] type='3 * ?float32[parameters={\"__doc__\": \"pt\"}]'>, 'muon1_eta': <Array [-0.65, -1.63, 0.736] type='3 * ?float32[parameters={\"__doc__\": \"eta\"}]'>, 'muon2_eta': <Array [-1.68, -0.879, 0.727] type='3 * ?float32[parameters={\"__doc__\": \"eta\"}]'>, 'muon_mass': <Array [100, 91.9, 91.7] type='3 * ?float32'>}, {'photon_pt': <Array [[69.1], [58.3], [35.3]] type='3 * option[var * float32[parameters={\"__do...'>, 'photon_eta': <Array [[-0.382], [0.488], [-0.145]] type='3 * option[var * float32[parameters={...'>, 'muon1_pt': <Array [65, 94.1, 73.8] type='3 * ?float32[parameters={\"__doc__\": \"pt\"}]'>, 'muon2_pt': <Array [35.7, 29.8, 21.3] type='3 * ?float32[parameters={\"__doc__\": \"pt\"}]'>, 'muon1_eta': <Array [-0.88, -1.15, 2.32] type='3 * ?float32[parameters={\"__doc__\": \"eta\"}]'>, 'muon2_eta': <Array [0.141, -0.232, 0.959] type='3 * ?float32[parameters={\"__doc__\": \"eta\"}]'>, 'muon_mass': <Array [90.2, 103, 92.8] type='3 * ?float32'>}, {'photon_pt': <Array [[61.8], [47.6], ... [91.8], [45.7]] type='6 * option[var * float32[param...'>, 'photon_eta': <Array [[0.692], [1.85], ... [0.196], [2.44]] type='6 * option[var * float32[par...'>, 'muon1_pt': <Array [88.8, 54.1, 38.8, 37.9, 67.8, 93.4] type='6 * ?float32[parameters={\"__do...'>, 'muon2_pt': <Array [40, 38.3, 33.6, 28.4, 24.3, 29.7] type='6 * ?float32[parameters={\"__doc_...'>, 'muon1_eta': <Array [-0.418, 1.59, 2.28, ... 0.801, -0.0684] type='6 * ?float32[parameters={\"...'>, 'muon2_eta': <Array [1.35, 2.17, 1.88, ... 0.537, 1.02] type='6 * ?float32[parameters={\"__doc...'>, 'muon_mass': <Array [160, 89.4, 59.1, 68, 53.4, 87.1] type='6 * ?float32'>}, {'photon_pt': <Array [[111], [39.5], [104], [50]] type='4 * option[var * float32[parameters={\"...'>, 'photon_eta': <Array [[0.0456], [0.662], ... 0.489], [-2.38]] type='4 * option[var * float32[p...'>, 'muon1_pt': <Array [103, 36.5, 129, 72.5] type='4 * ?float32[parameters={\"__doc__\": \"pt\"}]'>, 'muon2_pt': <Array [34.4, 36.3, 58.2, 24.1] type='4 * ?float32[parameters={\"__doc__\": \"pt\"}]'>, 'muon1_eta': <Array [-0.0345, 0.389, 0.949, -0.457] type='4 * ?float32[parameters={\"__doc__\":...'>, 'muon2_eta': <Array [-0.105, 2.39, 0.581, -0.803] type='4 * ?float32[parameters={\"__doc__\": \"...'>, 'muon_mass': <Array [98.9, 91.8, 174, 84.8] type='4 * ?float32'>}, {'photon_pt': <Array [[66.3]] type='1 * option[var * float32[parameters={\"__doc__\": \"p_{T}\"}]]'>, 'photon_eta': <Array [[-1.98]] type='1 * option[var * float32[parameters={\"__doc__\": \"eta\"}]]'>, 'muon1_pt': <Array [80.4] type='1 * ?float32[parameters={\"__doc__\": \"pt\"}]'>, 'muon2_pt': <Array [30.2] type='1 * ?float32[parameters={\"__doc__\": \"pt\"}]'>, 'muon1_eta': <Array [-0.0669] type='1 * ?float32[parameters={\"__doc__\": \"eta\"}]'>, 'muon2_eta': <Array [0.853] type='1 * ?float32[parameters={\"__doc__\": \"eta\"}]'>, 'muon_mass': <Array [87.6] type='1 * ?float32'>}, {'photon_pt': <Array [[35.8], [102], [35.7]] type='3 * option[var * float32[parameters={\"__doc...'>, 'photon_eta': <Array [[-0.0978], [-1.02], [1.62]] type='3 * option[var * float32[parameters={\"...'>, 'muon1_pt': <Array [64.5, 84.7, 32.9] type='3 * ?float32[parameters={\"__doc__\": \"pt\"}]'>, 'muon2_pt': <Array [23.7, 24.7, 29.2] type='3 * ?float32[parameters={\"__doc__\": \"pt\"}]'>, 'muon1_eta': <Array [0.0946, -1.88, -0.227] type='3 * ?float32[parameters={\"__doc__\": \"eta\"}]'>, 'muon2_eta': <Array [-0.357, -1.28, 1.69] type='3 * ?float32[parameters={\"__doc__\": \"eta\"}]'>, 'muon_mass': <Array [70.7, 86.8, 92.5] type='3 * ?float32'>}, {'photon_pt': <Array [[45.8], [35.5], ... [35.8], [41.9]] type='11 * option[var * float32[para...'>, 'photon_eta': <Array [[1.63], [0.272], ... [0.76], [-0.878]] type='11 * option[var * float32[p...'>, 'muon1_pt': <Array [75.2, 31.1, 40.2, ... 65.9, 85, 32] type='11 * ?float32[parameters={\"__d...'>, 'muon2_pt': <Array [21.6, 25.2, 40.1, ... 25.3, 29.2, 26] type='11 * ?float32[parameters={\"_...'>, 'muon1_eta': <Array [2.34, 0.554, 0.00329, ... 2.11, -1.95] type='11 * ?float32[parameters={\"...'>, 'muon2_eta': <Array [0.706, -0.108, 0.782, ... 1.44, 0.247] type='11 * ?float32[parameters={\"...'>, 'muon_mass': <Array [91.1, 54.8, 86.5, ... 89.1, 103, 89.3] type='11 * ?float32'>}, {'photon_pt': <Array [[35.9], [185], [66], [52.5]] type='4 * option[var * float32[parameters={...'>, 'photon_eta': <Array [[0.249], [1.61], ... -0.211], [-0.792]] type='4 * option[var * float32[p...'>, 'muon1_pt': <Array [41.8, 179, 67.9, 56.1] type='4 * ?float32[parameters={\"__doc__\": \"pt\"}]'>, 'muon2_pt': <Array [35.6, 40.4, 51.7, 33.4] type='4 * ?float32[parameters={\"__doc__\": \"pt\"}]'>, 'muon1_eta': <Array [-2.4, 2.39, -0.401, -0.0467] type='4 * ?float32[parameters={\"__doc__\": \"...'>, 'muon2_eta': <Array [-1.23, 1.66, -0.312, 0.902] type='4 * ?float32[parameters={\"__doc__\": \"e...'>, 'muon_mass': <Array [90.5, 182, 95.2, 94.4] type='4 * ?float32'>}, {'photon_pt': <Array [[59.4], [38.8], [38.3]] type='3 * option[var * float32[parameters={\"__do...'>, 'photon_eta': <Array [[1.58], [0.0312], [2.48]] type='3 * option[var * float32[parameters={\"__...'>, 'muon1_pt': <Array [132, 38, 59.8] type='3 * ?float32[parameters={\"__doc__\": \"pt\"}]'>, 'muon2_pt': <Array [68.1, 25, 31.6] type='3 * ?float32[parameters={\"__doc__\": \"pt\"}]'>, 'muon1_eta': <Array [0.6, 0.17, 1.85] type='3 * ?float32[parameters={\"__doc__\": \"eta\"}]'>, 'muon2_eta': <Array [0.186, 0.508, 0.939] type='3 * ?float32[parameters={\"__doc__\": \"eta\"}]'>, 'muon_mass': <Array [186, 56.6, 90.3] type='3 * ?float32'>}, {'photon_pt': <Array [[43.2], [42.8], [173], [54]] type='4 * option[var * float32[parameters={...'>, 'photon_eta': <Array [[-0.454], [0.984], [1.84], [-1.92]] type='4 * option[var * float32[param...'>, 'muon1_pt': <Array [96.9, 56.6, 123, 38] type='4 * ?float32[parameters={\"__doc__\": \"pt\"}]'>, 'muon2_pt': <Array [92.8, 25.2, 98.9, 32.8] type='4 * ?float32[parameters={\"__doc__\": \"pt\"}]'>, 'muon1_eta': <Array [0.567, -1.37, 0.455, -0.741] type='4 * ?float32[parameters={\"__doc__\": \"...'>, 'muon2_eta': <Array [0.764, -0.0189, 0.55, 0.645] type='4 * ?float32[parameters={\"__doc__\": \"...'>, 'muon_mass': <Array [190, 89.8, 93.4, 88] type='4 * ?float32'>}, {'photon_pt': <Array [[50.8], [40.7]] type='2 * option[var * float32[parameters={\"__doc__\": \"p...'>, 'photon_eta': <Array [[-2.03], [1.37]] type='2 * option[var * float32[parameters={\"__doc__\": \"...'>, 'muon1_pt': <Array [58.2, 86.7] type='2 * ?float32[parameters={\"__doc__\": \"pt\"}]'>, 'muon2_pt': <Array [46.7, 28.8] type='2 * ?float32[parameters={\"__doc__\": \"pt\"}]'>, 'muon1_eta': <Array [-2.1, -1.32] type='2 * ?float32[parameters={\"__doc__\": \"eta\"}]'>, 'muon2_eta': <Array [-1.18, 0.541] type='2 * ?float32[parameters={\"__doc__\": \"eta\"}]'>, 'muon_mass': <Array [113, 136] type='2 * ?float32'>}, {'photon_pt': <Array [[46.7], [41.1], [40.1]] type='3 * option[var * float32[parameters={\"__do...'>, 'photon_eta': <Array [[-2.2], [1.4], [1.78]] type='3 * option[var * float32[parameters={\"__doc...'>, 'muon1_pt': <Array [52, 57.9, 47] type='3 * ?float32[parameters={\"__doc__\": \"pt\"}]'>, 'muon2_pt': <Array [44.4, 46.2, 27.1] type='3 * ?float32[parameters={\"__doc__\": \"pt\"}]'>, 'muon1_eta': <Array [-0.668, 0.966, -1.22] type='3 * ?float32[parameters={\"__doc__\": \"eta\"}]'>, 'muon2_eta': <Array [-0.221, 1.61, -0.846] type='3 * ?float32[parameters={\"__doc__\": \"eta\"}]'>, 'muon_mass': <Array [93.5, 92.8, 72.2] type='3 * ?float32'>}, {'photon_pt': <Array [[36.6]] type='1 * option[var * float32[parameters={\"__doc__\": \"p_{T}\"}]]'>, 'photon_eta': <Array [[-0.55]] type='1 * option[var * float32[parameters={\"__doc__\": \"eta\"}]]'>, 'muon1_pt': <Array [31.8] type='1 * ?float32[parameters={\"__doc__\": \"pt\"}]'>, 'muon2_pt': <Array [22.1] type='1 * ?float32[parameters={\"__doc__\": \"pt\"}]'>, 'muon1_eta': <Array [-0.627] type='1 * ?float32[parameters={\"__doc__\": \"eta\"}]'>, 'muon2_eta': <Array [0.603] type='1 * ?float32[parameters={\"__doc__\": \"eta\"}]'>, 'muon_mass': <Array [62.1] type='1 * ?float32'>}, {'photon_pt': <Array [[38.2], [41.6]] type='2 * option[var * float32[parameters={\"__doc__\": \"p...'>, 'photon_eta': <Array [[-1.9], [2.23]] type='2 * option[var * float32[parameters={\"__doc__\": \"e...'>, 'muon1_pt': <Array [60.2, 28.4] type='2 * ?float32[parameters={\"__doc__\": \"pt\"}]'>, 'muon2_pt': <Array [56.8, 26.4] type='2 * ?float32[parameters={\"__doc__\": \"pt\"}]'>, 'muon1_eta': <Array [-1.03, 1.67] type='2 * ?float32[parameters={\"__doc__\": \"eta\"}]'>, 'muon2_eta': <Array [-1.89, 2.24] type='2 * ?float32[parameters={\"__doc__\": \"eta\"}]'>, 'muon_mass': <Array [70.6, 55.4] type='2 * ?float32'>}, {'photon_pt': <Array [[37.9], [35.1]] type='2 * option[var * float32[parameters={\"__doc__\": \"p...'>, 'photon_eta': <Array [[-0.149], [0.0311]] type='2 * option[var * float32[parameters={\"__doc__\"...'>, 'muon1_pt': <Array [28.3, 31] type='2 * ?float32[parameters={\"__doc__\": \"pt\"}]'>, 'muon2_pt': <Array [23.4, 24.9] type='2 * ?float32[parameters={\"__doc__\": \"pt\"}]'>, 'muon1_eta': <Array [-0.152, 2.35] type='2 * ?float32[parameters={\"__doc__\": \"eta\"}]'>, 'muon2_eta': <Array [1.04, 1.49] type='2 * ?float32[parameters={\"__doc__\": \"eta\"}]'>, 'muon_mass': <Array [60.2, 54.3] type='2 * ?float32'>}, {'photon_pt': <Array [[54.4], [37.8], ... [42.4], [59]] type='5 * option[var * float32[paramet...'>, 'photon_eta': <Array [[-1.96], [1.66], ... [1.74], [-0.4]] type='5 * option[var * float32[para...'>, 'muon1_pt': <Array [79.6, 31, 53, 64.3, 39.5] type='5 * ?float32[parameters={\"__doc__\": \"pt\"}]'>, 'muon2_pt': <Array [22.9, 23.4, 46.4, 57.2, 26] type='5 * ?float32[parameters={\"__doc__\": \"p...'>, 'muon1_eta': <Array [2.02, 2.15, -0.321, -0.0442, -1.26] type='5 * ?float32[parameters={\"__do...'>, 'muon2_eta': <Array [1.23, 2.24, -0.278, 1.74, -1.74] type='5 * ?float32[parameters={\"__doc__...'>, 'muon_mass': <Array [92.2, 53.6, 95.3, 173, 51.6] type='5 * ?float32'>}, {'photon_pt': <Array [[41.3]] type='1 * option[var * float32[parameters={\"__doc__\": \"p_{T}\"}]]'>, 'photon_eta': <Array [[-1.38]] type='1 * option[var * float32[parameters={\"__doc__\": \"eta\"}]]'>, 'muon1_pt': <Array [53.6] type='1 * ?float32[parameters={\"__doc__\": \"pt\"}]'>, 'muon2_pt': <Array [39.8] type='1 * ?float32[parameters={\"__doc__\": \"pt\"}]'>, 'muon1_eta': <Array [-0.149] type='1 * ?float32[parameters={\"__doc__\": \"eta\"}]'>, 'muon2_eta': <Array [-0.438] type='1 * ?float32[parameters={\"__doc__\": \"eta\"}]'>, 'muon_mass': <Array [93.3] type='1 * ?float32'>}, {'photon_pt': <Array [[46.4], [37.4], ... [57.1], [38.8]] type='5 * option[var * float32[param...'>, 'photon_eta': <Array [[1.84], [1.93], ... [2.32], [1.86]] type='5 * option[var * float32[param...'>, 'muon1_pt': <Array [47.5, 42.2, 35.4, 78.2, 64.6] type='5 * ?float32[parameters={\"__doc__\": ...'>, 'muon2_pt': <Array [45.8, 24.2, 24.8, 20.6, 39.5] type='5 * ?float32[parameters={\"__doc__\": ...'>, 'muon1_eta': <Array [0.0777, 1.55, 0.0552, 1.89, -1.44] type='5 * ?float32[parameters={\"__doc...'>, 'muon2_eta': <Array [1.01, -0.372, 2.34, 0.777, -1.97] type='5 * ?float32[parameters={\"__doc_...'>, 'muon_mass': <Array [90.4, 91.4, 94.8, 92.6, 91.7] type='5 * ?float32'>}, {'photon_pt': <Array [] type='0 * option[var * float32[parameters={\"__doc__\": \"p_{T}\"}]]'>, 'photon_eta': <Array [] type='0 * option[var * float32[parameters={\"__doc__\": \"eta\"}]]'>, 'muon1_pt': <Array [] type='0 * ?float32[parameters={\"__doc__\": \"pt\"}]'>, 'muon2_pt': <Array [] type='0 * ?float32[parameters={\"__doc__\": \"pt\"}]'>, 'muon1_eta': <Array [] type='0 * ?float32[parameters={\"__doc__\": \"eta\"}]'>, 'muon2_eta': <Array [] type='0 * ?float32[parameters={\"__doc__\": \"eta\"}]'>, 'muon_mass': <Array [] type='0 * ?float32'>}, {'photon_pt': <Array [[69.5], [47.3]] type='2 * option[var * float32[parameters={\"__doc__\": \"p...'>, 'photon_eta': <Array [[-2.14], [-0.956]] type='2 * option[var * float32[parameters={\"__doc__\":...'>, 'muon1_pt': <Array [112, 70.9] type='2 * ?float32[parameters={\"__doc__\": \"pt\"}]'>, 'muon2_pt': <Array [22.3, 24.8] type='2 * ?float32[parameters={\"__doc__\": \"pt\"}]'>, 'muon1_eta': <Array [-0.347, -1.52] type='2 * ?float32[parameters={\"__doc__\": \"eta\"}]'>, 'muon2_eta': <Array [0.0453, -1.07] type='2 * ?float32[parameters={\"__doc__\": \"eta\"}]'>, 'muon_mass': <Array [92.9, 85.4] type='2 * ?float32'>}, {'photon_pt': <Array [[51.5], [35.3]] type='2 * option[var * float32[parameters={\"__doc__\": \"p...'>, 'photon_eta': <Array [[-2.37], [1.21]] type='2 * option[var * float32[parameters={\"__doc__\": \"...'>, 'muon1_pt': <Array [46.7, 53.9] type='2 * ?float32[parameters={\"__doc__\": \"pt\"}]'>, 'muon2_pt': <Array [44.8, 36.9] type='2 * ?float32[parameters={\"__doc__\": \"pt\"}]'>, 'muon1_eta': <Array [-2.05, 1.72] type='2 * ?float32[parameters={\"__doc__\": \"eta\"}]'>, 'muon2_eta': <Array [-1.02, 1.98] type='2 * ?float32[parameters={\"__doc__\": \"eta\"}]'>, 'muon_mass': <Array [90.4, 90.1] type='2 * ?float32'>}, {'photon_pt': <Array [[38.8], [39.3], ... 164], [44.8], [61]] type='5 * option[var * float32[p...'>, 'photon_eta': <Array [[-0.0327], [-1.13], ... 1.06], [-2.21]] type='5 * option[var * float32[p...'>, 'muon1_pt': <Array [77.1, 64.5, 108, 71.8, 51.2] type='5 * ?float32[parameters={\"__doc__\": \"...'>, 'muon2_pt': <Array [37.2, 31.1, 28.1, 27.3, 48] type='5 * ?float32[parameters={\"__doc__\": \"p...'>, 'muon1_eta': <Array [-0.959, 0.59, 1.55, 1.35, -0.34] type='5 * ?float32[parameters={\"__doc__...'>, 'muon2_eta': <Array [-0.746, 0.092, 1.77, 0.375, 0.942] type='5 * ?float32[parameters={\"__doc...'>, 'muon_mass': <Array [52.3, 92.2, 88.2, 90.6, 93] type='5 * ?float32'>}, {'photon_pt': <Array [[35.4], [57.8], ... [47.6], [38.2]] type='5 * option[var * float32[param...'>, 'photon_eta': <Array [[-0.168], [-1.61, ... -0.219], [-1.09]] type='5 * option[var * float32[p...'>, 'muon1_pt': <Array [37.8, 38.1, 49.7, 82.3, 67.4] type='5 * ?float32[parameters={\"__doc__\": ...'>, 'muon2_pt': <Array [31.2, 36.4, 31.2, 26.6, 39] type='5 * ?float32[parameters={\"__doc__\": \"p...'>, 'muon1_eta': <Array [-0.165, -1.27, 0.543, 0.517, 0.133] type='5 * ?float32[parameters={\"__do...'>, 'muon2_eta': <Array [-0.234, -0.448, 1.62, 0.434, -1.08] type='5 * ?float32[parameters={\"__do...'>, 'muon_mass': <Array [68.4, 53.2, 87.4, 92.2, 90.4] type='5 * ?float32'>}, {'photon_pt': <Array [[57.7]] type='1 * option[var * float32[parameters={\"__doc__\": \"p_{T}\"}]]'>, 'photon_eta': <Array [[0.64]] type='1 * option[var * float32[parameters={\"__doc__\": \"eta\"}]]'>, 'muon1_pt': <Array [33.8] type='1 * ?float32[parameters={\"__doc__\": \"pt\"}]'>, 'muon2_pt': <Array [29.9] type='1 * ?float32[parameters={\"__doc__\": \"pt\"}]'>, 'muon1_eta': <Array [-0.937] type='1 * ?float32[parameters={\"__doc__\": \"eta\"}]'>, 'muon2_eta': <Array [1.2] type='1 * ?float32[parameters={\"__doc__\": \"eta\"}]'>, 'muon_mass': <Array [93.2] type='1 * ?float32'>}, {'photon_pt': <Array [[37.7], [43.9], ... [37.1], [83.3]] type='6 * option[var * float32[param...'>, 'photon_eta': <Array [[-1.07], [0.593], ... [0.384], [-2.38]] type='6 * option[var * float32[p...'>, 'muon1_pt': <Array [49.9, 74.3, 63.8, 81, 70.4, 47] type='6 * ?float32[parameters={\"__doc__\"...'>, 'muon2_pt': <Array [42.7, 28, 35.4, 32, 46.4, 46.9] type='6 * ?float32[parameters={\"__doc__\"...'>, 'muon1_eta': <Array [0.122, 1.96, 2.09, ... -0.0317, -1.95] type='6 * ?float32[parameters={\"_...'>, 'muon2_eta': <Array [-0.463, 1.12, ... -0.00949, -1.51] type='6 * ?float32[parameters={\"__doc...'>, 'muon_mass': <Array [90.4, 92.5, 88.5, 90.6, 114, 88.5] type='6 * ?float32'>}, {'photon_pt': <Array [[258], [35.5], ... [328], [39]] type='6 * option[var * float32[parameter...'>, 'photon_eta': <Array [[-0.291], [2.4], ... -0.208], [-0.101]] type='6 * option[var * float32[p...'>, 'muon1_pt': <Array [192, 69.4, 64.5, 70, 155, 47.7] type='6 * ?float32[parameters={\"__doc__\"...'>, 'muon2_pt': <Array [72.9, 34.1, 27.7, 21.8, 20.7, 43] type='6 * ?float32[parameters={\"__doc_...'>, 'muon1_eta': <Array [-0.596, 1.52, -1.89, ... 1.37, 0.647] type='6 * ?float32[parameters={\"__...'>, 'muon2_eta': <Array [-0.503, 2.39, -1.11, ... 0.0483, 0.402] type='6 * ?float32[parameters={\"...'>, 'muon_mass': <Array [94.9, 106, 54.6, 91.5, 81.7, 91] type='6 * ?float32'>}, {'photon_pt': <Array [[45.5], [40.8], ... [37.7], [36.4]] type='5 * option[var * float32[param...'>, 'photon_eta': <Array [[0.714], [0.0941], ... [-1.15], [1.69]] type='5 * option[var * float32[p...'>, 'muon1_pt': <Array [74.7, 109, 38.5, 47, 48.6] type='5 * ?float32[parameters={\"__doc__\": \"pt\"}]'>, 'muon2_pt': <Array [44.6, 80.7, 25.2, 42.2, 47.7] type='5 * ?float32[parameters={\"__doc__\": ...'>, 'muon1_eta': <Array [1.64, 0.503, -0.091, -1.52, -0.363] type='5 * ?float32[parameters={\"__do...'>, 'muon2_eta': <Array [1.7, 0.0758, 2.19, -1.97, -0.883] type='5 * ?float32[parameters={\"__doc_...'>, 'muon_mass': <Array [111, 77.7, 94.4, 91.3, 99.5] type='5 * ?float32'>}, {'photon_pt': <Array [[61.7], [152], ... 37], [58.5], [37.8]] type='5 * option[var * float32[p...'>, 'photon_eta': <Array [[0.537], [0.123], ... [2.06], [0.554]] type='5 * option[var * float32[pa...'>, 'muon1_pt': <Array [81.9, 119, 62.9, 56.7, 73.9] type='5 * ?float32[parameters={\"__doc__\": \"...'>, 'muon2_pt': <Array [22.3, 20.9, 31.9, 44.2, 55.5] type='5 * ?float32[parameters={\"__doc__\": ...'>, 'muon1_eta': <Array [0.243, 0.24, 1.96, 0.895, 0.23] type='5 * ?float32[parameters={\"__doc__\"...'>, 'muon2_eta': <Array [0.997, -1.05, 1.93, 1.79, 1.07] type='5 * ?float32[parameters={\"__doc__\"...'>, 'muon_mass': <Array [90.4, 92.2, 89.2, 90.5, 132] type='5 * ?float32'>}, {'photon_pt': <Array [[45.5], [43.3], ... [59.9], [37]] type='5 * option[var * float32[paramet...'>, 'photon_eta': <Array [[-1.73], [-0.521], ... 0.831], [0.792]] type='5 * option[var * float32[p...'>, 'muon1_pt': <Array [56.9, 60.7, 82, 40.5, 73.9] type='5 * ?float32[parameters={\"__doc__\": \"p...'>, 'muon2_pt': <Array [31.4, 26.8, 30.1, 30, 43.1] type='5 * ?float32[parameters={\"__doc__\": \"p...'>, 'muon1_eta': <Array [0.117, -0.521, ... -0.16, 0.79] type='5 * ?float32[parameters={\"__doc__\"...'>, 'muon2_eta': <Array [-0.393, -0.285, 0.734, 0.832, 1.03] type='5 * ?float32[parameters={\"__do...'>, 'muon_mass': <Array [87.2, 70.7, 92.1, 77.7, 76.5] type='5 * ?float32'>}, {'photon_pt': <Array [[47.3], [37.4], [54.9], [106]] type='4 * option[var * float32[parameters...'>, 'photon_eta': <Array [[-1.82], [-0.217], [0.747], [0.2]] type='4 * option[var * float32[parame...'>, 'muon1_pt': <Array [69.9, 501, 40.2, 48.3] type='4 * ?float32[parameters={\"__doc__\": \"pt\"}]'>, 'muon2_pt': <Array [40.3, 96.3, 26.7, 29.7] type='4 * ?float32[parameters={\"__doc__\": \"pt\"}]'>, 'muon1_eta': <Array [-0.224, 0.0238, -0.703, 0.357] type='4 * ?float32[parameters={\"__doc__\":...'>, 'muon2_eta': <Array [-0.253, -0.717, 1.45, 1.62] type='4 * ?float32[parameters={\"__doc__\": \"e...'>, 'muon_mass': <Array [90.9, 439, 93, 91.2] type='4 * ?float32'>}, {'photon_pt': <Array [[56.5]] type='1 * option[var * float32[parameters={\"__doc__\": \"p_{T}\"}]]'>, 'photon_eta': <Array [[0.84]] type='1 * option[var * float32[parameters={\"__doc__\": \"eta\"}]]'>, 'muon1_pt': <Array [36.9] type='1 * ?float32[parameters={\"__doc__\": \"pt\"}]'>, 'muon2_pt': <Array [23.3] type='1 * ?float32[parameters={\"__doc__\": \"pt\"}]'>, 'muon1_eta': <Array [-1.82] type='1 * ?float32[parameters={\"__doc__\": \"eta\"}]'>, 'muon2_eta': <Array [-0.118] type='1 * ?float32[parameters={\"__doc__\": \"eta\"}]'>, 'muon_mass': <Array [59.3] type='1 * ?float32'>}, {'photon_pt': <Array [[36.4], [74.5], [62.2]] type='3 * option[var * float32[parameters={\"__do...'>, 'photon_eta': <Array [[-1.82], [1.22], [2.31]] type='3 * option[var * float32[parameters={\"__d...'>, 'muon1_pt': <Array [28.8, 71.3, 78.8] type='3 * ?float32[parameters={\"__doc__\": \"pt\"}]'>, 'muon2_pt': <Array [26.7, 29.4, 21.8] type='3 * ?float32[parameters={\"__doc__\": \"pt\"}]'>, 'muon1_eta': <Array [-1.26, 1.62, 0.234] type='3 * ?float32[parameters={\"__doc__\": \"eta\"}]'>, 'muon2_eta': <Array [0.131, 1.26, -0.781] type='3 * ?float32[parameters={\"__doc__\": \"eta\"}]'>, 'muon_mass': <Array [59.7, 92.8, 93.6] type='3 * ?float32'>}, {'photon_pt': <Array [[64.9]] type='1 * option[var * float32[parameters={\"__doc__\": \"p_{T}\"}]]'>, 'photon_eta': <Array [[-0.351]] type='1 * option[var * float32[parameters={\"__doc__\": \"eta\"}]]'>, 'muon1_pt': <Array [62.1] type='1 * ?float32[parameters={\"__doc__\": \"pt\"}]'>, 'muon2_pt': <Array [33.7] type='1 * ?float32[parameters={\"__doc__\": \"pt\"}]'>, 'muon1_eta': <Array [0.56] type='1 * ?float32[parameters={\"__doc__\": \"eta\"}]'>, 'muon2_eta': <Array [1.29] type='1 * ?float32[parameters={\"__doc__\": \"eta\"}]'>, 'muon_mass': <Array [93.8] type='1 * ?float32'>}, {'photon_pt': <Array [[50.1], [61.2], ... [53.6], [46.4]] type='7 * option[var * float32[param...'>, 'photon_eta': <Array [[2.28], [0.0385], ... [0.814], [0.649]] type='7 * option[var * float32[p...'>, 'muon1_pt': <Array [73.5, 90.5, 49.5, ... 44.8, 72.7, 67.7] type='7 * ?float32[parameters={\"...'>, 'muon2_pt': <Array [44.1, 21.7, 31.9, ... 39.5, 21.9, 31] type='7 * ?float32[parameters={\"__...'>, 'muon1_eta': <Array [0.294, 1.45, 0.578, ... 1.04, 1.21] type='7 * ?float32[parameters={\"__do...'>, 'muon2_eta': <Array [1.98, 2.19, 0.111, ... 2.16, 1.77] type='7 * ?float32[parameters={\"__doc...'>, 'muon_mass': <Array [144, 90.2, 59, ... 94.9, 90.8, 93.1] type='7 * ?float32'>}, {'photon_pt': <Array [[65.3], [59], ... [38.7], [36.6]] type='6 * option[var * float32[paramet...'>, 'photon_eta': <Array [[-1.03], [-1.39], ... [-1.99], [2]] type='6 * option[var * float32[param...'>, 'muon1_pt': <Array [55.7, 93.4, 50.5, 30.9, 51.2, 121] type='6 * ?float32[parameters={\"__doc...'>, 'muon2_pt': <Array [35.6, 23.3, 33.6, 24.3, 22.5, 42.9] type='6 * ?float32[parameters={\"__do...'>, 'muon1_eta': <Array [-0.148, 0.146, -1.79, ... -1.06, 1.71] type='6 * ?float32[parameters={\"_...'>, 'muon2_eta': <Array [0.847, 0.286, -0.658, ... -1.75, 2.01] type='6 * ?float32[parameters={\"_...'>, 'muon_mass': <Array [90.2, 90.6, 88.6, 91, 71.1, 74.4] type='6 * ?float32'>}, {'photon_pt': <Array [[35.7], [38.1], [81.8], [74.4]] type='4 * option[var * float32[parameter...'>, 'photon_eta': <Array [[-0.229], [0.242], [1.74], [2.33]] type='4 * option[var * float32[parame...'>, 'muon1_pt': <Array [49.8, 32, 137, 97.2] type='4 * ?float32[parameters={\"__doc__\": \"pt\"}]'>, 'muon2_pt': <Array [35.1, 20.3, 25.7, 28.7] type='4 * ?float32[parameters={\"__doc__\": \"pt\"}]'>, 'muon1_eta': <Array [-0.551, 0.131, 0.64, 1.11] type='4 * ?float32[parameters={\"__doc__\": \"et...'>, 'muon2_eta': <Array [0.379, 1.19, 0.553, 0.728] type='4 * ?float32[parameters={\"__doc__\": \"et...'>, 'muon_mass': <Array [87.5, 58.2, 91.4, 91.4] type='4 * ?float32'>}, {'photon_pt': <Array [[36.7], [96.2], [49.9]] type='3 * option[var * float32[parameters={\"__do...'>, 'photon_eta': <Array [[1.26], [-0.523], [0.0843]] type='3 * option[var * float32[parameters={\"...'>, 'muon1_pt': <Array [76.4, 54.1, 47.6] type='3 * ?float32[parameters={\"__doc__\": \"pt\"}]'>, 'muon2_pt': <Array [41.3, 53.7, 23.7] type='3 * ?float32[parameters={\"__doc__\": \"pt\"}]'>, 'muon1_eta': <Array [0.745, -0.181, -0.357] type='3 * ?float32[parameters={\"__doc__\": \"eta\"}]'>, 'muon2_eta': <Array [1.28, -1.42, -0.028] type='3 * ?float32[parameters={\"__doc__\": \"eta\"}]'>, 'muon_mass': <Array [73, 72, 64] type='3 * ?float32'>}, {'photon_pt': <Array [[76.5], [40], ... [40.2], [41.1]] type='7 * option[var * float32[paramet...'>, 'photon_eta': <Array [[1.15], [2.49], ... [-0.216], [0.195]] type='7 * option[var * float32[pa...'>, 'muon1_pt': <Array [50.3, 43.4, 57.8, ... 60.6, 45.5, 90.4] type='7 * ?float32[parameters={\"...'>, 'muon2_pt': <Array [38, 34.2, 30.4, ... 30.9, 22.9, 77.2] type='7 * ?float32[parameters={\"__...'>, 'muon1_eta': <Array [0.904, -2, 0.129, ... 0.546, -0.372] type='7 * ?float32[parameters={\"__d...'>, 'muon2_eta': <Array [0.275, -0.878, 1.97, ... 0.387, -1.05] type='7 * ?float32[parameters={\"_...'>, 'muon_mass': <Array [69.1, 89.6, 90.4, ... 57.3, 51.5, 88.5] type='7 * ?float32'>}, {'photon_pt': <Array [[44.7], [35], [48], [39]] type='4 * option[var * float32[parameters={\"__...'>, 'photon_eta': <Array [[1.75], [1.35], [-2.09], [1.65]] type='4 * option[var * float32[paramete...'>, 'muon1_pt': <Array [48.7, 49, 38.1, 71.7] type='4 * ?float32[parameters={\"__doc__\": \"pt\"}]'>, 'muon2_pt': <Array [21.1, 36, 21.7, 34] type='4 * ?float32[parameters={\"__doc__\": \"pt\"}]'>, 'muon1_eta': <Array [2.12, -0.227, 2.29, -0.42] type='4 * ?float32[parameters={\"__doc__\": \"et...'>, 'muon2_eta': <Array [1.76, -0.685, 0.27, -0.151] type='4 * ?float32[parameters={\"__doc__\": \"e...'>, 'muon_mass': <Array [55.6, 83.8, 87.8, 89.3] type='4 * ?float32'>}]\n",
      "zg event_muon_phodrs [{'photon_pt': <Array [[50], [345], ... [75.1], [35.3]] type='10500 * option[var * float32[para...'>, 'photon_eta': <Array [[-1.39], [0.894], ... [-1.77], [2.23]] type='10500 * option[var * float3...'>, 'muon1_pt': <Array [93.4, 129, 26, ... 31.6, 68, 34.8] type='10500 * ?float32[parameters={\"_...'>, 'muon2_pt': <Array [78, 44.8, 21.5, ... 26.6, 58.5, 27.7] type='10500 * ?float32[parameters=...'>, 'muon1_eta': <Array [1.2, 0.764, -2.28, ... -1.85, 1.62] type='10500 * ?float32[parameters={\"...'>, 'muon2_eta': <Array [1.1, 0.875, -0.135, ... -1.57, 1.55] type='10500 * ?float32[parameters={...'>, 'muon_mass': <Array [149, 91.9, 61, 93, ... 51, 88.7, 62.2] type='10500 * ?float32'>, 'generator_weight': <Array [1, -1, 1, 1, 1, 1, ... 1, 1, -1, -1, 1] type='10500 * ?float32'>, 'event_weight': <Array [1, -1, 1, 1, 1, 1, ... 1, 1, 1, 1, 1] type='2359015 * float32'>, 'nPU': <Array [18, 33, 33, 30, 44, ... 42, 35, 26, 42] type='10500 * ?int32[parameters=...'>}]\n",
      "tt event_muon_phodrs [{'photon_pt': <Array [[40.9], [65.2], ... [37], [39.7]] type='57 * option[var * float32[parame...'>, 'photon_eta': <Array [[-0.0752], [-0.393], ... 1.25], [1.71]] type='57 * option[var * float32[...'>, 'muon1_pt': <Array [32.1, 140, 65.1, ... 129, 99.1, 54.4] type='57 * ?float32[parameters={\"_...'>, 'muon2_pt': <Array [26.6, 50, 22.7, ... 37.3, 24.9, 33.2] type='57 * ?float32[parameters={\"_...'>, 'muon1_eta': <Array [1.42, 0.213, 0.393, ... 1.36, -1.35] type='57 * ?float32[parameters={\"__...'>, 'muon2_eta': <Array [-0.861, 0.732, 0.103, ... -1.3, 1.58] type='57 * ?float32[parameters={\"_...'>, 'muon_mass': <Array [84.6, 173, 61.7, ... 196, 199, 181] type='57 * ?float32'>, 'generator_weight': <Array [1, 1, 1, 1, 1, 1, ... 1, 1, 1, 1, 1, 1] type='57 * ?float32'>, 'event_weight': <Array [1, 1, 1, 1, 1, 1, ... 1, 1, 1, 1, 1, 1] type='1012452 * float32'>, 'nPU': <Array [51, 50, 46, 43, 39, ... 56, 51, 60, 29] type='57 * ?int32[parameters={\"_...'>}, {'photon_pt': <Array [[35.1], [46.1], ... [36.7], [87.6]] type='54 * option[var * float32[para...'>, 'photon_eta': <Array [[1.87], [-2.25], ... [-1.02], [1.39]] type='54 * option[var * float32[pa...'>, 'muon1_pt': <Array [109, 75, 33.4, ... 35.5, 70.7, 95] type='54 * ?float32[parameters={\"__do...'>, 'muon2_pt': <Array [42.5, 50.8, 21.2, ... 32, 70.6, 38.3] type='54 * ?float32[parameters={\"_...'>, 'muon1_eta': <Array [-2.19, -1.99, ... -1.53, -0.481] type='54 * ?float32[parameters={\"__doc_...'>, 'muon2_eta': <Array [0.437, -0.783, -2.2, ... -1.68, 1.39] type='54 * ?float32[parameters={\"_...'>, 'muon_mass': <Array [246, 146, 74.4, 115, ... 98, 108, 177] type='54 * ?float32'>, 'generator_weight': <Array [1, 1, 1, 1, 1, 1, ... 1, 1, 1, 1, 1, 1] type='54 * ?float32'>, 'event_weight': <Array [1, 1, 1, 1, 1, 1, ... 1, 1, 1, 1, 1, 1] type='928081 * float32'>, 'nPU': <Array [33, 45, 39, 45, 27, ... 38, 39, 41, 49] type='54 * ?int32[parameters={\"_...'>}, {'photon_pt': <Array [[49.9], [46.8], ... [40.1], [61.7]] type='70 * option[var * float32[para...'>, 'photon_eta': <Array [[1.03], [-0.97], ... -0.913], [-0.134]] type='70 * option[var * float32[...'>, 'muon1_pt': <Array [72.9, 71.7, 58.9, ... 85.4, 59.1, 64.4] type='70 * ?float32[parameters={...'>, 'muon2_pt': <Array [27.8, 24, 41.2, ... 21.2, 50.8, 20.3] type='70 * ?float32[parameters={\"_...'>, 'muon1_eta': <Array [2.26, -1.92, 1.68, ... 1.73, 1.34] type='70 * ?float32[parameters={\"__do...'>, 'muon2_eta': <Array [1.03, -2.38, 1.89, ... -1.19, 0.0137] type='70 * ?float32[parameters={\"_...'>, 'muon_mass': <Array [105, 78.5, 83.1, ... 71.9, 246, 88.3] type='70 * ?float32'>, 'generator_weight': <Array [1, 1, 1, 1, 1, 1, ... 1, 1, 1, 1, 1, 1] type='70 * ?float32'>, 'event_weight': <Array [1, 1, 1, 1, 1, 1, ... 1, 1, 1, 1, 1, 1] type='1265565 * float32'>, 'nPU': <Array [22, 37, 37, 23, 51, ... 32, 58, 39, 51] type='70 * ?int32[parameters={\"_...'>}, {'photon_pt': <Array [[67.4], [65.5], ... [172], [41.9]] type='90 * option[var * float32[param...'>, 'photon_eta': <Array [[-0.647], [-0.8], ... -0.663], [-0.31]] type='90 * option[var * float32[...'>, 'muon1_pt': <Array [80.9, 44.4, 107, 149, ... 80, 58, 64.4] type='90 * ?float32[parameters={...'>, 'muon2_pt': <Array [31.8, 31.5, 64, ... 33.5, 36.7, 55.8] type='90 * ?float32[parameters={\"_...'>, 'muon1_eta': <Array [-0.949, -1.96, -1.39, ... 0.644, -0.4] type='90 * ?float32[parameters={\"...'>, 'muon2_eta': <Array [-2.16, 0.619, 2.14, ... -1.88, 2.35] type='90 * ?float32[parameters={\"__...'>, 'muon_mass': <Array [72.1, 129, 491, 207, ... 102, 155, 252] type='90 * ?float32'>, 'generator_weight': <Array [1, 1, 1, 1, 1, 1, ... 1, 1, 1, 1, 1, 1] type='90 * ?float32'>, 'event_weight': <Array [1, 1, 1, 1, 1, 1, ... 1, 1, 1, 1, 1, 1] type='1265565 * float32'>, 'nPU': <Array [28, 40, 44, 43, 26, ... 47, 30, 34, 19] type='90 * ?int32[parameters={\"_...'>}, {'photon_pt': <Array [[78.9], [56.3], ... [61.9], [82.5]] type='54 * option[var * float32[para...'>, 'photon_eta': <Array [[-0.53], [-2.46, ... -0.0224], [-2.39]] type='54 * option[var * float32[...'>, 'muon1_pt': <Array [193, 89.2, 89.4, ... 44.3, 46.7, 55] type='54 * ?float32[parameters={\"__...'>, 'muon2_pt': <Array [62.6, 49.1, 48.3, ... 22.2, 38.4, 26.9] type='54 * ?float32[parameters={...'>, 'muon1_eta': <Array [-1.58, 1.85, 0.564, ... 0.782, -1.22] type='54 * ?float32[parameters={\"_...'>, 'muon2_eta': <Array [-0.298, -1.47, -1.08, ... 1.45, -1.27] type='54 * ?float32[parameters={\"...'>, 'muon_mass': <Array [225, 340, 172, ... 61.6, 57.7, 76.8] type='54 * ?float32'>, 'generator_weight': <Array [1, 1, 1, 1, 1, 1, ... 1, 1, 1, 1, 1, 1] type='54 * ?float32'>, 'event_weight': <Array [1, 1, 1, 1, 1, 1, ... 1, 1, 1, 1, 1, 1] type='843710 * float32'>, 'nPU': <Array [25, 42, 39, 24, 53, ... 36, 31, 41, 30] type='54 * ?int32[parameters={\"_...'>}, {'photon_pt': <Array [[112], [38.3], ... [52.8], [38]] type='65 * option[var * float32[paramet...'>, 'photon_eta': <Array [[-0.491], [0.232, ... -0.897], [-1.74]] type='65 * option[var * float32[...'>, 'muon1_pt': <Array [32.3, 33.3, 171, ... 183, 90.9, 103] type='65 * ?float32[parameters={\"__...'>, 'muon2_pt': <Array [22.3, 33, 63.6, ... 173, 78.2, 35.5] type='65 * ?float32[parameters={\"__...'>, 'muon1_eta': <Array [0.00505, -1.09, -1.41, ... 1.71, -1.83] type='65 * ?float32[parameters={...'>, 'muon2_eta': <Array [1.67, 0.228, 0.421, ... 1.36, -1.75] type='65 * ?float32[parameters={\"__...'>, 'muon_mass': <Array [59.3, 56.9, 301, ... 402, 77.7, 121] type='65 * ?float32'>, 'generator_weight': <Array [1, 1, 1, 1, 1, 1, ... 1, 1, 1, 1, 1, 1] type='65 * ?float32'>, 'event_weight': <Array [1, 1, 1, 1, 1, 1, ... 1, 1, 1, 1, 1, 1] type='1265565 * float32'>, 'nPU': <Array [30, 44, 31, 31, 51, ... 53, 18, 25, 29] type='65 * ?int32[parameters={\"_...'>}, {'photon_pt': <Array [[41.8], [57.1], ... [88.6], [106]] type='82 * option[var * float32[param...'>, 'photon_eta': <Array [[1.74], [-1.9], ... -0.0669], [0.0967]] type='82 * option[var * float32[...'>, 'muon1_pt': <Array [43.6, 42.4, 54.7, ... 137, 28.8, 144] type='82 * ?float32[parameters={\"_...'>, 'muon2_pt': <Array [33, 34.3, 53.7, ... 51.2, 27.7, 49.6] type='82 * ?float32[parameters={\"_...'>, 'muon1_eta': <Array [-0.633, 0.656, 1.46, ... -0.178, 1.52] type='82 * ?float32[parameters={\"...'>, 'muon2_eta': <Array [1.19, -0.513, 0.729, ... -2.27, 0.0784] type='82 * ?float32[parameters={...'>, 'muon_mass': <Array [108, 57.8, 108, ... 239, 71.7, 215] type='82 * ?float32'>, 'generator_weight': <Array [1, 1, 1, 1, 1, -1, ... 1, 1, 1, 1, 1] type='82 * ?float32'>, 'event_weight': <Array [1, 1, 1, 1, 1, 1, ... 1, 1, 1, 1, 1, 1] type='1265565 * float32'>, 'nPU': <Array [36, 63, 40, 37, 27, ... 33, 44, 24, 24] type='82 * ?int32[parameters={\"_...'>}, {'photon_pt': <Array [[45.9], [77.7], ... [49.8], [46.9]] type='78 * option[var * float32[para...'>, 'photon_eta': <Array [[1.07], [1.66], ... [1.31], [0.163]] type='78 * option[var * float32[par...'>, 'muon1_pt': <Array [49.7, 51.8, 76.6, ... 46.4, 53.1, 60.2] type='78 * ?float32[parameters={...'>, 'muon2_pt': <Array [22.5, 47.1, 20.5, ... 45.5, 49.5, 34.9] type='78 * ?float32[parameters={...'>, 'muon1_eta': <Array [2.13, 1.53, -1.74, ... 0.445, 0.642] type='78 * ?float32[parameters={\"__...'>, 'muon2_eta': <Array [2, 2.3, -1.26, ... -0.652, 1.3, 1.93] type='78 * ?float32[parameters={\"_...'>, 'muon_mass': <Array [67, 51.3, 63, 79.6, ... 107, 108, 100] type='78 * ?float32'>, 'generator_weight': <Array [1, 1, 1, 1, 1, 1, ... 1, 1, 1, 1, 1, 1] type='78 * ?float32'>, 'event_weight': <Array [1, 1, 1, 1, 1, 1, ... 1, 1, 1, 1, 1, 1] type='1265565 * float32'>, 'nPU': <Array [47, 21, 36, 31, 30, ... 40, 37, 48, 53] type='78 * ?int32[parameters={\"_...'>}, {'photon_pt': <Array [[41.4], [48.7], ... [88.5], [59.3]] type='63 * option[var * float32[para...'>, 'photon_eta': <Array [[0.167], [1.82], ... [-0.38], [1.04]] type='63 * option[var * float32[pa...'>, 'muon1_pt': <Array [34.4, 27.2, 241, ... 111, 71.8, 33.7] type='63 * ?float32[parameters={\"_...'>, 'muon2_pt': <Array [30.9, 23.9, 34.6, ... 84.2, 32.1, 25.1] type='63 * ?float32[parameters={...'>, 'muon1_eta': <Array [1.53, -0.557, 0.666, ... -1.36, 0.681] type='63 * ?float32[parameters={\"...'>, 'muon2_eta': <Array [-1.56, 1.28, -0.219, ... -0.414, 1.66] type='63 * ?float32[parameters={\"...'>, 'muon_mass': <Array [151, 65.6, 99, ... 441, 76.3, 53.6] type='63 * ?float32'>, 'generator_weight': <Array [1, 1, 1, 1, 1, 1, ... 1, 1, 1, 1, 1, 1] type='63 * ?float32'>, 'event_weight': <Array [1, 1, 1, 1, 1, 1, ... 1, 1, 1, 1, 1, 1] type='1265565 * float32'>, 'nPU': <Array [44, 38, 35, 37, 26, ... 43, 25, 32, 31] type='63 * ?int32[parameters={\"_...'>}, {'photon_pt': <Array [[101], [37.3], ... [73.2], [72.8]] type='73 * option[var * float32[param...'>, 'photon_eta': <Array [[-0.212], [2.46], ... [-1.41], [0.497]] type='73 * option[var * float32[...'>, 'muon1_pt': <Array [75.9, 137, 158, ... 78.4, 130, 44.4] type='73 * ?float32[parameters={\"__...'>, 'muon2_pt': <Array [55.6, 27.9, 92.8, ... 32.4, 35.8, 25.2] type='73 * ?float32[parameters={...'>, 'muon1_eta': <Array [-2.06, -0.243, 1.89, ... -1.4, 1.18] type='73 * ?float32[parameters={\"__...'>, 'muon2_eta': <Array [0.238, 1.84, 1.87, ... -1.05, 2.34] type='73 * ?float32[parameters={\"__d...'>, 'muon_mass': <Array [226, 197, 242, ... 98.5, 137, 76.3] type='73 * ?float32'>, 'generator_weight': <Array [1, 1, 1, 1, 1, 1, ... 1, 1, 1, 1, 1, 1] type='73 * ?float32'>, 'event_weight': <Array [1, 1, 1, 1, 1, 1, ... 1, 1, 1, 1, 1, 1] type='1265565 * float32'>, 'nPU': <Array [27, 22, 31, 51, 34, ... 20, 37, 32, 40] type='73 * ?int32[parameters={\"_...'>}, {'photon_pt': <Array [[39.7], [51], [41, ... [36.9], [44]] type='11 * option[var * float32[par...'>, 'photon_eta': <Array [[-0.705], [-0.34, ... -2.11], [-0.712]] type='11 * option[var * float32[...'>, 'muon1_pt': <Array [53.2, 41.8, 56.9, ... 65.4, 143, 43.3] type='11 * ?float32[parameters={\"...'>, 'muon2_pt': <Array [51.6, 31.2, 44.8, ... 33.5, 41.9, 26] type='11 * ?float32[parameters={\"_...'>, 'muon1_eta': <Array [-0.511, 1.95, 1.72, ... -0.932, -1.47] type='11 * ?float32[parameters={\"...'>, 'muon2_eta': <Array [-1.69, -0.00411, ... 1.26, 0.0966] type='11 * ?float32[parameters={\"__do...'>, 'muon_mass': <Array [113, 99, 100, 135, ... 145, 209, 86.4] type='11 * ?float32'>, 'generator_weight': <Array [1, 1, 1, 1, 1, 1, 1, 1, 1, 1, 1] type='11 * ?float32'>, 'event_weight': <Array [1, 1, 1, 1, 1, 1, ... 1, 1, 1, 1, 1, 1] type='253113 * float32'>, 'nPU': <Array [49, 30, 39, 43, 37, ... 47, 47, 18, 38] type='11 * ?int32[parameters={\"_...'>}, {'photon_pt': <Array [[40.7], [46.7], ... [98.7], [51.8]] type='80 * option[var * float32[para...'>, 'photon_eta': <Array [[1.01], [0.107], ... -0.113], [-0.159]] type='80 * option[var * float32[...'>, 'muon1_pt': <Array [106, 102, 275, 83.9, ... 113, 28.2, 90] type='80 * ?float32[parameters={...'>, 'muon2_pt': <Array [101, 24.9, 41.9, ... 34.4, 23.2, 36.3] type='80 * ?float32[parameters={\"...'>, 'muon1_eta': <Array [0.618, 1.06, 0.223, ... -0.334, 1.42] type='80 * ?float32[parameters={\"_...'>, 'muon2_eta': <Array [1.01, 2.19, -1.01, ... -1.75, -0.451] type='80 * ?float32[parameters={\"_...'>, 'muon_mass': <Array [210, 117, 246, ... 73.4, 56.8, 143] type='80 * ?float32'>, 'generator_weight': <Array [1, 1, 1, 1, 1, 1, ... 1, 1, 1, 1, 1, 1] type='80 * ?float32'>, 'event_weight': <Array [1, 1, 1, 1, 1, 1, ... -1, 1, 1, 1, 1] type='1265565 * float32'>, 'nPU': <Array [34, 34, 32, 59, 33, ... 28, 38, 38, 32] type='80 * ?int32[parameters={\"_...'>}, {'photon_pt': <Array [[137], [42.5], ... [53.3], [36]] type='76 * option[var * float32[paramet...'>, 'photon_eta': <Array [[0.808], [-1.63], ... [-1.4], [-1.97]] type='76 * option[var * float32[p...'>, 'muon1_pt': <Array [65.8, 63.3, 73.1, ... 79.7, 146, 72.5] type='76 * ?float32[parameters={\"...'>, 'muon2_pt': <Array [48.2, 20.4, 70, ... 25.7, 114, 47.8] type='76 * ?float32[parameters={\"__...'>, 'muon1_eta': <Array [-1.1, 0.116, -0.239, ... -1.61, -0.831] type='76 * ?float32[parameters={...'>, 'muon2_eta': <Array [-1.15, -1.06, -0.975, ... -1.11, -2.02] type='76 * ?float32[parameters={...'>, 'muon_mass': <Array [91.6, 62.3, 148, ... 92.2, 124, 93.3] type='76 * ?float32'>, 'generator_weight': <Array [1, 1, 1, 1, 1, 1, ... 1, 1, 1, 1, 1, 1] type='76 * ?float32'>, 'event_weight': <Array [1, 1, 1, 1, 1, 1, ... 1, 1, 1, 1, 1, 1] type='1265565 * float32'>, 'nPU': <Array [21, 41, 40, 38, 43, ... 28, 49, 54, 28] type='76 * ?int32[parameters={\"_...'>}, {'photon_pt': <Array [[49.6], [108], ... [39.3], [67.7]] type='63 * option[var * float32[param...'>, 'photon_eta': <Array [[0.386], [-0.00279], ... 1.28], [-1.6]] type='63 * option[var * float32[...'>, 'muon1_pt': <Array [44.1, 69.8, 125, ... 57.4, 54.5, 68.2] type='63 * ?float32[parameters={\"...'>, 'muon2_pt': <Array [27.7, 38.7, 44.2, ... 40.4, 25.8, 66] type='63 * ?float32[parameters={\"_...'>, 'muon1_eta': <Array [1.92, 1.45, -1.51, ... 0.335, -1.36] type='63 * ?float32[parameters={\"__...'>, 'muon2_eta': <Array [1.02, -0.686, -0.524, ... 2.04, -1.38] type='63 * ?float32[parameters={\"...'>, 'muon_mass': <Array [73.9, 157, 95.5, ... 87.5, 91.4, 134] type='63 * ?float32'>, 'generator_weight': <Array [1, 1, 1, 1, 1, 1, ... 1, 1, 1, 1, 1, 1] type='63 * ?float32'>, 'event_weight': <Array [1, 1, 1, 1, 1, 1, ... 1, 1, 1, 1, 1, 1] type='1265565 * float32'>, 'nPU': <Array [47, 36, 42, 30, 50, ... 54, 62, 36, 37] type='63 * ?int32[parameters={\"_...'>}, {'photon_pt': <Array [[41.8], [47.1], ... [48], [40.7]] type='70 * option[var * float32[parame...'>, 'photon_eta': <Array [[2.4], [2.35], ... [-0.959], [2.38]] type='70 * option[var * float32[par...'>, 'muon1_pt': <Array [81.6, 145, 36.1, ... 97.1, 103, 48.4] type='70 * ?float32[parameters={\"_...'>, 'muon2_pt': <Array [62.6, 25.5, 24.4, ... 51.5, 29.4, 23.8] type='70 * ?float32[parameters={...'>, 'muon1_eta': <Array [0.451, 2.35, -0.59, ... -0.75, 1.47] type='70 * ?float32[parameters={\"__...'>, 'muon2_eta': <Array [1.21, 1.49, -1.06, ... -0.961, 0.00496] type='70 * ?float32[parameters={...'>, 'muon_mass': <Array [67.3, 122, 53.1, ... 136, 109, 72.4] type='70 * ?float32'>, 'generator_weight': <Array [1, 1, 1, 1, 1, 1, ... 1, 1, 1, 1, 1, 1] type='70 * ?float32'>, 'event_weight': <Array [1, 1, 1, 1, 1, 1, ... 1, 1, 1, 1, 1, 1] type='1265565 * float32'>, 'nPU': <Array [35, 47, 24, 38, 43, ... 21, 44, 37, 32] type='70 * ?int32[parameters={\"_...'>}, {'photon_pt': <Array [[57], [90.2], ... [119], [86.1]] type='64 * option[var * float32[paramet...'>, 'photon_eta': <Array [[-0.736], [-0.767], ... [1.32], [1.61]] type='64 * option[var * float32[...'>, 'muon1_pt': <Array [35.7, 28, 96.9, ... 67.8, 132, 46.3] type='64 * ?float32[parameters={\"__...'>, 'muon2_pt': <Array [25.3, 26, 49.5, ... 63.6, 63.6, 38.1] type='64 * ?float32[parameters={\"_...'>, 'muon1_eta': <Array [-0.745, -0.0647, ... 0.753, -0.776] type='64 * ?float32[parameters={\"__d...'>, 'muon2_eta': <Array [1.24, -1.53, -2.01, ... 1.04, -0.547] type='64 * ?float32[parameters={\"_...'>, 'muon_mass': <Array [90.4, 64.1, 279, ... 194, 185, 81.5] type='64 * ?float32'>, 'generator_weight': <Array [1, 1, 1, 1, 1, 1, ... 1, 1, 1, 1, 1, 1] type='64 * ?float32'>, 'event_weight': <Array [1, 1, 1, 1, 1, 1, ... 1, 1, 1, 1, 1, 1] type='1265565 * float32'>, 'nPU': <Array [35, 40, 52, 15, 41, ... 26, 22, 32, 37] type='64 * ?int32[parameters={\"_...'>}, {'photon_pt': <Array [[43.8], [65.9], ... [40.6], [35.3]] type='71 * option[var * float32[para...'>, 'photon_eta': <Array [[-0.534], [0.648, ... [-0.804]] type='71 * option[var * float32[paramete...'>, 'muon1_pt': <Array [156, 94.8, 68.3, ... 42.4, 117, 91.7] type='71 * ?float32[parameters={\"_...'>, 'muon2_pt': <Array [41.2, 31.3, 51.6, ... 37.9, 90, 60.1] type='71 * ?float32[parameters={\"_...'>, 'muon1_eta': <Array [-0.532, 2.01, -0.496, ... -1.15, 0.435] type='71 * ?float32[parameters={...'>, 'muon2_eta': <Array [0.93, 0.881, -1.92, ... -0.311, -1.37] type='71 * ?float32[parameters={\"...'>, 'muon_mass': <Array [204, 114, 110, 197, ... 75.6, 222, 199] type='71 * ?float32'>, 'generator_weight': <Array [1, 1, 1, 1, 1, 1, ... 1, 1, 1, 1, 1, 1] type='71 * ?float32'>, 'event_weight': <Array [1, 1, 1, 1, 1, 1, ... 1, 1, 1, 1, 1, 1] type='1265565 * float32'>, 'nPU': <Array [44, 26, 48, 42, 54, ... 50, 41, 38, 32] type='71 * ?int32[parameters={\"_...'>}, {'photon_pt': <Array [[49.7], [131], ... [45.7], [64.7]] type='68 * option[var * float32[param...'>, 'photon_eta': <Array [[-1.37], [-0.176], ... 0.965], [-1.41]] type='68 * option[var * float32[...'>, 'muon1_pt': <Array [103, 89, 73.4, ... 82, 91.6, 47.6] type='68 * ?float32[parameters={\"__do...'>, 'muon2_pt': <Array [53, 36.6, 41, ... 59.8, 43.8, 25.5] type='68 * ?float32[parameters={\"__d...'>, 'muon1_eta': <Array [-0.506, 0.466, ... -0.0306, -1.21] type='68 * ?float32[parameters={\"__do...'>, 'muon2_eta': <Array [-0.988, -1.03, -1.93, ... 1.63, 2.02] type='68 * ?float32[parameters={\"_...'>, 'muon_mass': <Array [74.6, 143, 175, ... 154, 171, 177] type='68 * ?float32'>, 'generator_weight': <Array [1, 1, 1, 1, 1, 1, ... 1, 1, 1, 1, 1, 1] type='68 * ?float32'>, 'event_weight': <Array [1, 1, 1, 1, 1, 1, ... 1, 1, 1, 1, 1, 1] type='1265565 * float32'>, 'nPU': <Array [60, 37, 42, 34, 31, ... 30, 32, 47, 25] type='68 * ?int32[parameters={\"_...'>}, {'photon_pt': <Array [[69.2], [46.6], ... [258], [86.9]] type='65 * option[var * float32[param...'>, 'photon_eta': <Array [[0.538], [0.134], ... -1.22], [-0.384]] type='65 * option[var * float32[...'>, 'muon1_pt': <Array [62.5, 31.3, 148, ... 70.7, 196, 72.5] type='65 * ?float32[parameters={\"_...'>, 'muon2_pt': <Array [35, 27.3, 45, ... 48.8, 50.5, 49.2] type='65 * ?float32[parameters={\"__d...'>, 'muon1_eta': <Array [-1.85, -0.0596, 2.22, ... 0.273, 0.337] type='65 * ?float32[parameters={...'>, 'muon2_eta': <Array [-0.963, -1.42, 1.57, ... 0.776, -1.21] type='65 * ?float32[parameters={\"...'>, 'muon_mass': <Array [94.9, 61.9, 148, ... 103, 92.7, 124] type='65 * ?float32'>, 'generator_weight': <Array [1, 1, 1, 1, 1, 1, ... 1, 1, 1, 1, 1, 1] type='65 * ?float32'>, 'event_weight': <Array [1, 1, 1, 1, 1, 1, ... 1, 1, 1, 1, 1, 1] type='1265565 * float32'>, 'nPU': <Array [47, 36, 35, 53, 43, ... 31, 30, 37, 46] type='65 * ?int32[parameters={\"_...'>}, {'photon_pt': <Array [[36.5], [37], ... [90], [45.2]] type='72 * option[var * float32[paramete...'>, 'photon_eta': <Array [[1.14], [1.07], ... [0.183], [0.746]] type='72 * option[var * float32[pa...'>, 'muon1_pt': <Array [91, 64.9, 37.2, ... 82.1, 51.8, 73] type='72 * ?float32[parameters={\"__d...'>, 'muon2_pt': <Array [40.2, 63.8, 20.9, ... 21.9, 36.4, 35.4] type='72 * ?float32[parameters={...'>, 'muon1_eta': <Array [0.941, 1.89, 0.43, ... -0.959, 2.31] type='72 * ?float32[parameters={\"__...'>, 'muon2_eta': <Array [1.13, 1.06, 1.36, ... -1.51, 1.24] type='72 * ?float32[parameters={\"__do...'>, 'muon_mass': <Array [99.1, 72.6, 55, ... 75.5, 57.8, 106] type='72 * ?float32'>, 'generator_weight': <Array [1, 1, 1, 1, 1, 1, ... 1, 1, 1, 1, 1, 1] type='72 * ?float32'>, 'event_weight': <Array [1, 1, 1, 1, 1, 1, ... 1, 1, 1, 1, 1, 1] type='1265565 * float32'>, 'nPU': <Array [26, 30, 38, 64, 50, ... 26, 56, 24, 43] type='72 * ?int32[parameters={\"_...'>}, {'photon_pt': <Array [[63.6], [212], ... [55.7], [60.7]] type='73 * option[var * float32[param...'>, 'photon_eta': <Array [[-0.979], [0.0498, ... [0.0509]] type='73 * option[var * float32[paramet...'>, 'muon1_pt': <Array [58.2, 74.7, 81.6, ... 39.8, 45.5, 52.9] type='73 * ?float32[parameters={...'>, 'muon2_pt': <Array [27.1, 31.7, 20.8, ... 23.7, 45.2, 26.4] type='73 * ?float32[parameters={...'>, 'muon1_eta': <Array [-2.14, -1.63, 0.647, ... 0.211, 0.05] type='73 * ?float32[parameters={\"_...'>, 'muon2_eta': <Array [-0.0647, -1.76, ... 0.184, 0.624] type='73 * ?float32[parameters={\"__doc...'>, 'muon_mass': <Array [115, 83.4, 72.1, ... 65.2, 52.9, 55.7] type='73 * ?float32'>, 'generator_weight': <Array [1, 1, 1, 1, 1, 1, ... 1, 1, 1, 1, 1, 1] type='73 * ?float32'>, 'event_weight': <Array [1, 1, 1, 1, 1, 1, ... 1, 1, 1, 1, 1, 1] type='1265565 * float32'>, 'nPU': <Array [41, 25, 17, 43, 33, ... 31, 36, 24, 29] type='73 * ?int32[parameters={\"_...'>}, {'photon_pt': <Array [[37.2], [36.5], ... [48.6], [54.8]] type='57 * option[var * float32[para...'>, 'photon_eta': <Array [[-2.47], [1.09], ... [0.325], [1.17]] type='57 * option[var * float32[pa...'>, 'muon1_pt': <Array [69.4, 42.6, 64.1, ... 81.5, 57.6, 26.9] type='57 * ?float32[parameters={...'>, 'muon2_pt': <Array [23.6, 23.6, 48.4, ... 32.7, 55, 24.8] type='57 * ?float32[parameters={\"_...'>, 'muon1_eta': <Array [0.904, -1.37, -0.383, ... 0.541, -1.4] type='57 * ?float32[parameters={\"...'>, 'muon2_eta': <Array [2.38, 0.711, -2.11, ... 0.58, -1.08] type='57 * ?float32[parameters={\"__...'>, 'muon_mass': <Array [104, 80.6, 112, ... 71.8, 97.9, 52.2] type='57 * ?float32'>, 'generator_weight': <Array [1, 1, 1, 1, 1, 1, ... 1, 1, 1, 1, 1, 1] type='57 * ?float32'>, 'event_weight': <Array [1, 1, 1, 1, 1, 1, ... 1, 1, 1, 1, 1, 1] type='843710 * float32'>, 'nPU': <Array [35, 27, 43, 47, 49, ... 44, 14, 13, 13] type='57 * ?int32[parameters={\"_...'>}, {'photon_pt': <Array [[65], [80.2], ... [59.6], [110]] type='84 * option[var * float32[paramet...'>, 'photon_eta': <Array [[0.487], [-1.63], ... 0.464], [-0.805]] type='84 * option[var * float32[...'>, 'muon1_pt': <Array [67.3, 53.8, 35.9, ... 47.7, 139, 150] type='84 * ?float32[parameters={\"_...'>, 'muon2_pt': <Array [26.3, 22.9, 27.3, ... 23.2, 74.2, 99] type='84 * ?float32[parameters={\"_...'>, 'muon1_eta': <Array [1.1, -0.592, -0.932, ... -1.86, -0.802] type='84 * ?float32[parameters={...'>, 'muon2_eta': <Array [-0.423, -2.13, ... -1.88, -0.142] type='84 * ?float32[parameters={\"__doc...'>, 'muon_mass': <Array [81, 62.3, 62.5, ... 62.6, 185, 254] type='84 * ?float32'>, 'generator_weight': <Array [1, 1, 1, 1, 1, 1, ... 1, 1, 1, 1, 1, 1] type='84 * ?float32'>, 'event_weight': <Array [1, 1, 1, 1, 1, 1, ... 1, 1, 1, 1, 1, 1] type='1265565 * float32'>, 'nPU': <Array [44, 30, 41, 12, 48, ... 14, 50, 50, 46] type='84 * ?int32[parameters={\"_...'>}, {'photon_pt': <Array [[95.1], [46.2], ... [50.7], [41.4]] type='56 * option[var * float32[para...'>, 'photon_eta': <Array [[0.462], [0.0244], ... [1.08], [0.523]] type='56 * option[var * float32[...'>, 'muon1_pt': <Array [145, 72, 49.8, ... 53.1, 52.7, 40.6] type='56 * ?float32[parameters={\"__...'>, 'muon2_pt': <Array [83.3, 43.1, 28.8, ... 30.6, 32.4, 27.1] type='56 * ?float32[parameters={...'>, 'muon1_eta': <Array [0.471, -0.814, 1.17, ... -1.66, -0.374] type='56 * ?float32[parameters={...'>, 'muon2_eta': <Array [-0.756, -1.02, ... -0.465, 0.324] type='56 * ?float32[parameters={\"__doc...'>, 'muon_mass': <Array [259, 112, 79, 74.6, ... 90.7, 96.2, 69] type='56 * ?float32'>, 'generator_weight': <Array [1, 1, 1, 1, 1, 1, ... 1, 1, 1, 1, 1, 1] type='56 * ?float32'>, 'event_weight': <Array [1, 1, 1, 1, 1, 1, ... 1, 1, 1, 1, 1, 1] type='1265565 * float32'>, 'nPU': <Array [43, 48, 30, 52, 41, ... 43, 40, 24, 43] type='56 * ?int32[parameters={\"_...'>}, {'photon_pt': <Array [[52.7], [44.9], ... [52.2], [45.3]] type='57 * option[var * float32[para...'>, 'photon_eta': <Array [[-0.179], [-0.735], ... 1.09], [0.656]] type='57 * option[var * float32[...'>, 'muon1_pt': <Array [89.1, 39, 72.7, ... 35.5, 48.8, 38.4] type='57 * ?float32[parameters={\"_...'>, 'muon2_pt': <Array [43.9, 25.4, 60.9, ... 26.2, 28.8, 31.5] type='57 * ?float32[parameters={...'>, 'muon1_eta': <Array [-2.34, -1.25, 0.266, ... 0.717, -1.62] type='57 * ?float32[parameters={\"...'>, 'muon2_eta': <Array [-2.22, -0.325, ... -0.903, -0.279] type='57 * ?float32[parameters={\"__do...'>, 'muon_mass': <Array [68.4, 69.7, 120, ... 55.8, 80.4, 80] type='57 * ?float32'>, 'generator_weight': <Array [1, 1, 1, 1, 1, 1, ... 1, 1, 1, 1, 1, 1] type='57 * ?float32'>, 'event_weight': <Array [1, 1, 1, 1, 1, 1, ... 1, 1, 1, 1, 1, 1] type='1265039 * float32'>, 'nPU': <Array [42, 39, 38, 49, 34, ... 40, 30, 50, 47] type='57 * ?int32[parameters={\"_...'>}, {'photon_pt': <Array [[59.5], [52.7], ... [35.6], [43.3]] type='61 * option[var * float32[para...'>, 'photon_eta': <Array [[1.15], [-1.68], ... [-1.12], [0.386]] type='61 * option[var * float32[p...'>, 'muon1_pt': <Array [64.5, 75.7, 94.8, ... 44.5, 53.5, 38] type='61 * ?float32[parameters={\"_...'>, 'muon2_pt': <Array [43, 28.3, 20, 56.9, ... 23.9, 45, 27.1] type='61 * ?float32[parameters={...'>, 'muon1_eta': <Array [0.847, 1.98, -0.35, ... -2.1, -0.497] type='61 * ?float32[parameters={\"_...'>, 'muon2_eta': <Array [1.15, -1.27, 0.893, ... 0.28, -1.58] type='61 * ?float32[parameters={\"__...'>, 'muon_mass': <Array [104, 240, 95.4, ... 56.4, 174, 64.7] type='61 * ?float32'>, 'generator_weight': <Array [1, 1, 1, 1, 1, 1, ... 1, 1, 1, 1, 1, 1] type='61 * ?float32'>, 'event_weight': <Array [1, 1, 1, 1, 1, 1, ... 1, 1, 1, 1, 1, 1] type='1265565 * float32'>, 'nPU': <Array [45, 25, 52, 12, 52, ... 52, 44, 50, 34] type='61 * ?int32[parameters={\"_...'>}, {'photon_pt': <Array [[37.6], [42.5], ... [67.2], [184]] type='58 * option[var * float32[param...'>, 'photon_eta': <Array [[1.33], [0.998], ... [-0.944], [-1.33]] type='58 * option[var * float32[...'>, 'muon1_pt': <Array [55.3, 49.4, 100, ... 85.1, 71.3, 93.9] type='58 * ?float32[parameters={\"...'>, 'muon2_pt': <Array [27.5, 48.2, 28.8, ... 21.1, 33.2, 87.8] type='58 * ?float32[parameters={...'>, 'muon1_eta': <Array [-0.912, -0.075, ... 2.21, 0.497] type='58 * ?float32[parameters={\"__doc_...'>, 'muon2_eta': <Array [1.5, -0.757, -1.48, ... -1.32, -0.132] type='58 * ?float32[parameters={\"...'>, 'muon_mass': <Array [119, 76.8, 112, 149, ... 126, 282, 151] type='58 * ?float32'>, 'generator_weight': <Array [1, 1, 1, 1, 1, 1, ... 1, 1, 1, 1, 1, 1] type='58 * ?float32'>, 'event_weight': <Array [1, 1, 1, 1, 1, 1, ... 1, 1, 1, 1, 1, 1] type='857181 * float32'>, 'nPU': <Array [44, 50, 42, 34, 36, ... 30, 46, 36, 48] type='58 * ?int32[parameters={\"_...'>}, {'photon_pt': <Array [[49.8], [198], ... [91.7], [47.4]] type='68 * option[var * float32[param...'>, 'photon_eta': <Array [[1.19], [-0.72], ... -0.341], [-0.106]] type='68 * option[var * float32[...'>, 'muon1_pt': <Array [138, 75.3, 107, ... 48.1, 49.2, 77.1] type='68 * ?float32[parameters={\"_...'>, 'muon2_pt': <Array [107, 67.3, 61.1, ... 36.3, 46, 52.2] type='68 * ?float32[parameters={\"__...'>, 'muon1_eta': <Array [0.684, -0.493, ... -0.885, 0.289] type='68 * ?float32[parameters={\"__doc...'>, 'muon2_eta': <Array [1.19, -1.07, 1.04, ... 0.00148, 0.122] type='68 * ?float32[parameters={\"...'>, 'muon_mass': <Array [249, 147, 152, 143, ... 88.7, 102, 123] type='68 * ?float32'>, 'generator_weight': <Array [1, 1, 1, 1, 1, 1, ... 1, 1, 1, 1, 1, 1] type='68 * ?float32'>, 'event_weight': <Array [1, 1, 1, 1, 1, 1, ... 1, 1, 1, 1, 1, 1] type='1265565 * float32'>, 'nPU': <Array [43, 36, 47, 21, 42, ... 54, 55, 40, 48] type='68 * ?int32[parameters={\"_...'>}, {'photon_pt': <Array [[39], [46], ... [59.1], [41.8]] type='59 * option[var * float32[paramete...'>, 'photon_eta': <Array [[-1.4], [-0.744], ... [2.3], [-0.358]] type='59 * option[var * float32[p...'>, 'muon1_pt': <Array [66.5, 115, 59.7, ... 97.6, 53.3, 50.9] type='59 * ?float32[parameters={\"...'>, 'muon2_pt': <Array [34.2, 64, 26, ... 22.5, 39.6, 43.8] type='59 * ?float32[parameters={\"__d...'>, 'muon1_eta': <Array [-1.15, 1.15, 0.64, ... 1.14, -0.761] type='59 * ?float32[parameters={\"__...'>, 'muon2_eta': <Array [-0.023, -0.239, 0.254, ... 1.36, 1.83] type='59 * ?float32[parameters={\"...'>, 'muon_mass': <Array [58.5, 209, 79.3, ... 88.8, 92.4, 163] type='59 * ?float32'>, 'generator_weight': <Array [1, 1, 1, 1, 1, 1, ... 1, 1, 1, 1, 1, 1] type='59 * ?float32'>, 'event_weight': <Array [1, 1, 1, 1, 1, 1, ... 1, 1, 1, 1, 1, 1] type='1265565 * float32'>, 'nPU': <Array [56, 37, 40, 36, 51, ... 41, 32, 33, 51] type='59 * ?int32[parameters={\"_...'>}, {'photon_pt': <Array [[130], [45.6], ... [42.1], [114]] type='72 * option[var * float32[parame...'>, 'photon_eta': <Array [[-0.256], [-0.748, ... [0.601]] type='72 * option[var * float32[paramete...'>, 'muon1_pt': <Array [74.5, 58, 53.3, ... 71.9, 74.1, 56.4] type='72 * ?float32[parameters={\"_...'>, 'muon2_pt': <Array [41.6, 20.9, 20.5, ... 48.8, 52.9, 22.8] type='72 * ?float32[parameters={...'>, 'muon1_eta': <Array [-0.256, -0.139, 0.977, ... 0.455, -1.8] type='72 * ?float32[parameters={...'>, 'muon2_eta': <Array [0.278, 0.453, -1.43, ... 0.428, 0.66] type='72 * ?float32[parameters={\"_...'>, 'muon_mass': <Array [104, 55.5, 120, ... 141, 69.1, 123] type='72 * ?float32'>, 'generator_weight': <Array [1, 1, 1, 1, 1, 1, ... 1, 1, 1, 1, 1, 1] type='72 * ?float32'>, 'event_weight': <Array [1, 1, 1, 1, 1, 1, ... 1, 1, 1, 1, 1, 1] type='1265565 * float32'>, 'nPU': <Array [51, 24, 24, 39, 42, ... 49, 23, 37, 29] type='72 * ?int32[parameters={\"_...'>}, {'photon_pt': <Array [[39.3], [35.8], ... [50.5], [62]] type='65 * option[var * float32[parame...'>, 'photon_eta': <Array [[-0.107], [-1.84], ... [1.59], [0.765]] type='65 * option[var * float32[...'>, 'muon1_pt': <Array [32.8, 105, 57.9, ... 49.1, 67.4, 46.8] type='65 * ?float32[parameters={\"...'>, 'muon2_pt': <Array [23.9, 62.1, 30.9, ... 47.5, 37.3, 37.1] type='65 * ?float32[parameters={...'>, 'muon1_eta': <Array [1.09, -0.508, -0.632, ... 1.39, 1.54] type='65 * ?float32[parameters={\"_...'>, 'muon2_eta': <Array [-0.106, -1.54, -1.1, ... 0.976, 1.38] type='65 * ?float32[parameters={\"_...'>, 'muon_mass': <Array [66.2, 177, 67.4, ... 56.6, 57.6, 73.9] type='65 * ?float32'>, 'generator_weight': <Array [1, 1, 1, 1, 1, 1, ... 1, 1, 1, 1, 1, 1] type='65 * ?float32'>, 'event_weight': <Array [1, 1, 1, 1, 1, 1, ... 1, 1, 1, 1, 1, 1] type='1265565 * float32'>, 'nPU': <Array [38, 34, 48, 28, 43, ... 31, 55, 27, 38] type='65 * ?int32[parameters={\"_...'>}, {'photon_pt': <Array [[36.2], [41.3], ... [37], [53.8]] type='69 * option[var * float32[parame...'>, 'photon_eta': <Array [[-0.83], [0.887], ... 0.0918], [-1.37]] type='69 * option[var * float32[...'>, 'muon1_pt': <Array [95.7, 80, 108, ... 150, 52.6, 125] type='69 * ?float32[parameters={\"__do...'>, 'muon2_pt': <Array [60.6, 70.1, 91.9, ... 32.2, 45.9, 21.6] type='69 * ?float32[parameters={...'>, 'muon1_eta': <Array [1.09, -0.323, ... 0.0927, -2.25] type='69 * ?float32[parameters={\"__doc_...'>, 'muon2_eta': <Array [-0.317, 0.874, ... 0.0436, -0.697] type='69 * ?float32[parameters={\"__do...'>, 'muon_mass': <Array [190, 154, 204, ... 127, 96.4, 91.2] type='69 * ?float32'>, 'generator_weight': <Array [1, 1, 1, 1, 1, 1, ... 1, 1, 1, 1, 1, 1] type='69 * ?float32'>, 'event_weight': <Array [1, 1, 1, 1, 1, 1, ... 1, 1, 1, 1, 1, 1] type='1265565 * float32'>, 'nPU': <Array [27, 24, 48, 29, 39, ... 46, 61, 43, 25] type='69 * ?int32[parameters={\"_...'>}, {'photon_pt': <Array [[40.6], [71.7], ... [73.8], [47.2]] type='77 * option[var * float32[para...'>, 'photon_eta': <Array [[0.661], [1.11], ... [-1.96], [-0.633]] type='77 * option[var * float32[...'>, 'muon1_pt': <Array [35, 39.7, 45.2, ... 67, 61.2, 109] type='77 * ?float32[parameters={\"__do...'>, 'muon2_pt': <Array [20.4, 24.4, 25.9, ... 61.8, 42.7, 40.6] type='77 * ?float32[parameters={...'>, 'muon1_eta': <Array [-0.102, -0.337, ... -1.03, -0.721] type='77 * ?float32[parameters={\"__do...'>, 'muon2_eta': <Array [1.56, 1.74, -0.54, ... -0.0189, -1.13] type='77 * ?float32[parameters={\"...'>, 'muon_mass': <Array [59.5, 79.5, 69.6, ... 189, 54.5, 85.4] type='77 * ?float32'>, 'generator_weight': <Array [1, 1, 1, 1, 1, 1, ... 1, 1, 1, 1, 1, 1] type='77 * ?float32'>, 'event_weight': <Array [1, 1, 1, 1, 1, 1, ... 1, 1, 1, 1, 1, 1] type='1265565 * float32'>, 'nPU': <Array [38, 14, 46, 27, 74, ... 47, 26, 15, 36] type='77 * ?int32[parameters={\"_...'>}, {'photon_pt': <Array [[60.4], [43.7], ... [63.8], [36.8]] type='86 * option[var * float32[para...'>, 'photon_eta': <Array [[-0.75], [-0.311, ... -0.0872], [1.85]] type='86 * option[var * float32[...'>, 'muon1_pt': <Array [37.8, 103, 102, ... 73.2, 42.1, 93.5] type='86 * ?float32[parameters={\"_...'>, 'muon2_pt': <Array [27.5, 75.2, 43.8, ... 47.5, 34.7, 44.7] type='86 * ?float32[parameters={...'>, 'muon1_eta': <Array [0.255, 0.296, 1.76, ... -0.538, -0.488] type='86 * ?float32[parameters={...'>, 'muon2_eta': <Array [0.672, 0.39, -0.401, ... -0.0942, 1.36] type='86 * ?float32[parameters={...'>, 'muon_mass': <Array [64.6, 152, 220, ... 118, 78.2, 170] type='86 * ?float32'>, 'generator_weight': <Array [1, 1, 1, 1, 1, 1, ... 1, 1, 1, 1, 1, 1] type='86 * ?float32'>, 'event_weight': <Array [1, 1, 1, 1, 1, 1, ... 1, 1, 1, 1, 1, 1] type='1265565 * float32'>, 'nPU': <Array [31, 25, 33, 48, 35, ... 60, 45, 38, 32] type='86 * ?int32[parameters={\"_...'>}, {'photon_pt': <Array [[38.7], [78.2], ... [63.2], [53.2]] type='69 * option[var * float32[para...'>, 'photon_eta': <Array [[0.648], [-0.301], ... [0.124], [1.23]] type='69 * option[var * float32[...'>, 'muon1_pt': <Array [57.8, 104, 40.1, ... 55.5, 71.3, 253] type='69 * ?float32[parameters={\"_...'>, 'muon2_pt': <Array [26.6, 21.8, 21.8, ... 54.9, 38.7, 215] type='69 * ?float32[parameters={\"...'>, 'muon1_eta': <Array [-2.03, 1.08, -0.687, ... -1.31, 0.433] type='69 * ?float32[parameters={\"...'>, 'muon2_eta': <Array [-1.58, -0.147, ... 0.0849, 1.22] type='69 * ?float32[parameters={\"__doc_...'>, 'muon_mass': <Array [80, 110, 54.2, 92.6, ... 235, 114, 492] type='69 * ?float32'>, 'generator_weight': <Array [1, 1, 1, 1, 1, 1, ... 1, 1, 1, 1, 1, 1] type='69 * ?float32'>, 'event_weight': <Array [1, 1, 1, 1, 1, 1, ... 1, 1, 1, 1, 1, 1] type='1265565 * float32'>, 'nPU': <Array [28, 45, 24, 32, 23, ... 63, 16, 36, 51] type='69 * ?int32[parameters={\"_...'>}, {'photon_pt': <Array [[54.5], [63.9], ... [40.3], [50.1]] type='59 * option[var * float32[para...'>, 'photon_eta': <Array [[1.71], [0.878], ... [0.741], [-0.501]] type='59 * option[var * float32[...'>, 'muon1_pt': <Array [214, 92, 28.7, ... 75.8, 87.5, 55.5] type='59 * ?float32[parameters={\"__...'>, 'muon2_pt': <Array [112, 21.8, 24.3, ... 48.4, 85.5, 33.6] type='59 * ?float32[parameters={\"...'>, 'muon1_eta': <Array [1.71, 1.06, -1.14, ... 0.739, -0.651] type='59 * ?float32[parameters={\"_...'>, 'muon2_eta': <Array [1.76, -1.55, 2.17, ... 0.514, -0.323] type='59 * ?float32[parameters={\"_...'>, 'muon_mass': <Array [306, 158, 138, 177, ... 122, 156, 85.5] type='59 * ?float32'>, 'generator_weight': <Array [1, 1, 1, 1, 1, 1, ... 1, 1, 1, 1, 1, 1] type='59 * ?float32'>, 'event_weight': <Array [1, 1, 1, 1, 1, 1, ... 1, 1, 1, 1, 1, 1] type='1265565 * float32'>, 'nPU': <Array [49, 18, 39, 34, 30, ... 17, 47, 48, 40] type='59 * ?int32[parameters={\"_...'>}, {'photon_pt': <Array [[42.4], [44.2], ... [43.2], [45]] type='75 * option[var * float32[parame...'>, 'photon_eta': <Array [[0.0175], [-1.64], ... -2.31], [-1.02]] type='75 * option[var * float32[...'>, 'muon1_pt': <Array [76.2, 113, 45.3, ... 59.5, 32.1, 58.6] type='75 * ?float32[parameters={\"...'>, 'muon2_pt': <Array [64.4, 75.1, 25.5, ... 56.3, 24.6, 46.2] type='75 * ?float32[parameters={...'>, 'muon1_eta': <Array [0.0181, -0.479, ... -0.479, 0.201] type='75 * ?float32[parameters={\"__do...'>, 'muon2_eta': <Array [1.68, -2.18, 0.754, ... 1.23, -1.39] type='75 * ?float32[parameters={\"__...'>, 'muon_mass': <Array [180, 239, 81.4, 98, ... 176, 77.5, 137] type='75 * ?float32'>, 'generator_weight': <Array [1, 1, 1, 1, 1, 1, ... 1, 1, 1, 1, 1, 1] type='75 * ?float32'>, 'event_weight': <Array [1, 1, 1, 1, 1, 1, ... 1, 1, 1, 1, 1, 1] type='1265565 * float32'>, 'nPU': <Array [40, 39, 51, 36, 49, ... 37, 54, 38, 41] type='75 * ?int32[parameters={\"_...'>}, {'photon_pt': <Array [[78.2], [44.6], ... [54.3], [43.3]] type='63 * option[var * float32[para...'>, 'photon_eta': <Array [[-1.77], [-0.929, ... [-0.461]] type='63 * option[var * float32[paramete...'>, 'muon1_pt': <Array [118, 28.7, 49.9, ... 186, 81.2, 50.7] type='63 * ?float32[parameters={\"_...'>, 'muon2_pt': <Array [26, 21.6, 25.1, ... 80.5, 24.3, 35.4] type='63 * ?float32[parameters={\"_...'>, 'muon1_eta': <Array [-1.07, 0.801, ... 0.0225, -0.439] type='63 * ?float32[parameters={\"__doc...'>, 'muon2_eta': <Array [-1.78, -1.86, 1.02, ... 1.13, -1.94] type='63 * ?float32[parameters={\"__...'>, 'muon_mass': <Array [110, 96.2, 73.9, ... 236, 91.9, 74.6] type='63 * ?float32'>, 'generator_weight': <Array [1, 1, 1, 1, 1, 1, ... 1, 1, 1, 1, 1, 1] type='63 * ?float32'>, 'event_weight': <Array [1, 1, 1, 1, 1, 1, ... 1, 1, 1, 1, 1, 1] type='1265565 * float32'>, 'nPU': <Array [57, 39, 33, 50, 45, ... 48, 46, 34, 31] type='63 * ?int32[parameters={\"_...'>}, {'photon_pt': <Array [[68.7], [37.2], ... [73.5], [48.6]] type='62 * option[var * float32[para...'>, 'photon_eta': <Array [[-0.847], [0.329], ... -0.312], [1.94]] type='62 * option[var * float32[...'>, 'muon1_pt': <Array [93.2, 84.6, 149, ... 49.3, 128, 85.1] type='62 * ?float32[parameters={\"_...'>, 'muon2_pt': <Array [39, 42, 70.8, ... 22.8, 47.1, 42.5] type='62 * ?float32[parameters={\"__d...'>, 'muon1_eta': <Array [-1.27, 0.866, -2.12, ... 0.353, 0.435] type='62 * ?float32[parameters={\"...'>, 'muon2_eta': <Array [-0.624, 0.0981, -1.51, ... 1.93, 1.54] type='62 * ?float32[parameters={\"...'>, 'muon_mass': <Array [59.5, 128, 108, ... 187, 201, 82.3] type='62 * ?float32'>, 'generator_weight': <Array [1, 1, 1, 1, 1, 1, ... 1, 1, 1, 1, 1, 1] type='62 * ?float32'>, 'event_weight': <Array [1, 1, 1, 1, 1, 1, ... 1, 1, 1, 1, 1, 1] type='1265565 * float32'>, 'nPU': <Array [56, 51, 49, 36, 36, ... 41, 41, 27, 44] type='62 * ?int32[parameters={\"_...'>}, {'photon_pt': <Array [[39.3], [48.3], ... [41.8], [55]] type='77 * option[var * float32[parame...'>, 'photon_eta': <Array [[0.839], [-2.03], ... [1.03], [0.837]] type='77 * option[var * float32[p...'>, 'muon1_pt': <Array [43.9, 39.9, 68.3, ... 39.5, 190, 60.4] type='77 * ?float32[parameters={\"...'>, 'muon2_pt': <Array [29.6, 37.3, 36.5, ... 39.2, 112, 27.7] type='77 * ?float32[parameters={\"...'>, 'muon1_eta': <Array [-0.272, -1.85, ... 0.631, 0.513] type='77 * ?float32[parameters={\"__doc_...'>, 'muon2_eta': <Array [1.55, -2.2, -1.87, ... -0.543, 1.43] type='77 * ?float32[parameters={\"__...'>, 'muon_mass': <Array [102, 74.5, 86.6, ... 105, 342, 78.6] type='77 * ?float32'>, 'generator_weight': <Array [1, 1, 1, 1, 1, 1, ... 1, 1, 1, 1, 1, 1] type='77 * ?float32'>, 'event_weight': <Array [1, 1, 1, 1, 1, 1, ... 1, 1, 1, 1, 1, 1] type='1265565 * float32'>, 'nPU': <Array [33, 40, 31, 35, 29, ... 21, 32, 52, 46] type='77 * ?int32[parameters={\"_...'>}, {'photon_pt': <Array [[42.8], [57.1], ... [66.4], [59.6]] type='64 * option[var * float32[para...'>, 'photon_eta': <Array [[1.19], [0.688], ... [0.691], [1.33]] type='64 * option[var * float32[pa...'>, 'muon1_pt': <Array [130, 88.5, 70.6, ... 95.6, 101, 163] type='64 * ?float32[parameters={\"__...'>, 'muon2_pt': <Array [48.8, 61.7, 23, ... 42.9, 23.5, 109] type='64 * ?float32[parameters={\"__...'>, 'muon1_eta': <Array [-0.116, 1.02, 0.322, ... -0.751, 1.29] type='64 * ?float32[parameters={\"...'>, 'muon2_eta': <Array [0.236, 1.16, 1.44, ... 0.772, 1.34] type='64 * ?float32[parameters={\"__d...'>, 'muon_mass': <Array [71, 102, 81.1, 126, ... 148, 98, 264] type='64 * ?float32'>, 'generator_weight': <Array [1, 1, 1, 1, 1, 1, ... 1, 1, 1, 1, 1, 1] type='64 * ?float32'>, 'event_weight': <Array [1, 1, 1, 1, 1, 1, ... 1, 1, 1, 1, 1, 1] type='1265565 * float32'>, 'nPU': <Array [38, 43, 42, 28, 49, ... 36, 37, 40, 39] type='64 * ?int32[parameters={\"_...'>}, {'photon_pt': <Array [[46.6], [95.7], ... [112], [86.9]] type='77 * option[var * float32[param...'>, 'photon_eta': <Array [[-0.957], [-0.896, ... [-0.606]] type='77 * option[var * float32[paramet...'>, 'muon1_pt': <Array [208, 61.5, 66.5, ... 39.3, 67.8, 86.5] type='77 * ?float32[parameters={\"...'>, 'muon2_pt': <Array [153, 55.6, 54.1, ... 33.1, 43.8, 33.4] type='77 * ?float32[parameters={\"...'>, 'muon1_eta': <Array [-0.95, -0.544, 1.11, ... -1.4, -1.04] type='77 * ?float32[parameters={\"_...'>, 'muon2_eta': <Array [0.0209, -1.85, ... 0.0474, -0.603] type='77 * ?float32[parameters={\"__do...'>, 'muon_mass': <Array [396, 98.9, 115, ... 73.7, 119, 110] type='77 * ?float32'>, 'generator_weight': <Array [1, 1, 1, 1, 1, 1, ... 1, 1, 1, 1, 1, 1] type='77 * ?float32'>, 'event_weight': <Array [1, 1, 1, 1, 1, 1, ... 1, 1, 1, 1, 1, 1] type='1265565 * float32'>, 'nPU': <Array [66, 21, 34, 56, 48, ... 27, 30, 49, 20] type='77 * ?int32[parameters={\"_...'>}, {'photon_pt': <Array [[64.7], [87.7], ... [38], [85.3]] type='69 * option[var * float32[parame...'>, 'photon_eta': <Array [[0.000812], [-0.188, ... [1.78]] type='69 * option[var * float32[paramet...'>, 'muon1_pt': <Array [34.1, 198, 99, ... 83.5, 116, 78.5] type='69 * ?float32[parameters={\"__d...'>, 'muon2_pt': <Array [26.4, 75, 67.6, ... 70.2, 36, 26.7] type='69 * ?float32[parameters={\"__d...'>, 'muon1_eta': <Array [1.24, -0.851, -0.767, ... 1.3, 1.18] type='69 * ?float32[parameters={\"__...'>, 'muon2_eta': <Array [0.163, 0.81, -0.847, ... 0.265, 0.984] type='69 * ?float32[parameters={\"...'>, 'muon_mass': <Array [61.9, 321, 161, ... 152, 79.6, 59.9] type='69 * ?float32'>, 'generator_weight': <Array [1, 1, 1, 1, 1, 1, ... 1, 1, 1, 1, 1, 1] type='69 * ?float32'>, 'event_weight': <Array [1, 1, 1, 1, 1, 1, ... 1, 1, 1, 1, 1, 1] type='1265565 * float32'>, 'nPU': <Array [39, 33, 23, 37, 45, ... 17, 20, 37, 35] type='69 * ?int32[parameters={\"_...'>}, {'photon_pt': <Array [[52], [46.7], ... [42.6], [38.1]] type='66 * option[var * float32[parame...'>, 'photon_eta': <Array [[1.07], [-0.145], ... [-0.498], [2.23]] type='66 * option[var * float32[...'>, 'muon1_pt': <Array [65.4, 132, 33.4, ... 33.6, 57.5, 63.2] type='66 * ?float32[parameters={\"...'>, 'muon2_pt': <Array [46.2, 113, 21.7, ... 23.1, 39.4, 46.5] type='66 * ?float32[parameters={\"...'>, 'muon1_eta': <Array [-0.821, -0.139, ... -0.499, -1.14] type='66 * ?float32[parameters={\"__do...'>, 'muon2_eta': <Array [0.901, -0.363, 0.711, ... -1.92, 2.23] type='66 * ?float32[parameters={\"...'>, 'muon_mass': <Array [132, 234, 53.6, 60, ... 99.9, 107, 302] type='66 * ?float32'>, 'generator_weight': <Array [1, 1, 1, 1, 1, 1, ... 1, 1, 1, 1, 1, 1] type='66 * ?float32'>, 'event_weight': <Array [1, 1, 1, 1, 1, 1, ... 1, 1, 1, 1, 1, 1] type='1181194 * float32'>, 'nPU': <Array [29, 47, 23, 45, 40, ... 34, 69, 45, 34] type='66 * ?int32[parameters={\"_...'>}, {'photon_pt': <Array [[41.5], [62.6], ... [52.4], [67.7]] type='73 * option[var * float32[para...'>, 'photon_eta': <Array [[-0.326], [-0.52], ... 1.93], [-0.468]] type='73 * option[var * float32[...'>, 'muon1_pt': <Array [44.4, 91.3, 59, ... 59.7, 78, 46.2] type='73 * ?float32[parameters={\"__d...'>, 'muon2_pt': <Array [20.9, 30.9, 26.1, ... 24.3, 57.5, 29.2] type='73 * ?float32[parameters={...'>, 'muon1_eta': <Array [0.684, -0.586, -0.54, ... 1.96, 0.845] type='73 * ?float32[parameters={\"...'>, 'muon2_eta': <Array [-0.491, -0.901, -1.32, ... 1.93, -1.16] type='73 * ?float32[parameters={...'>, 'muon_mass': <Array [65.5, 75.7, 83.9, ... 76.7, 130, 113] type='73 * ?float32'>, 'generator_weight': <Array [1, 1, 1, 1, 1, 1, ... 1, 1, 1, 1, 1, 1] type='73 * ?float32'>, 'event_weight': <Array [1, 1, 1, 1, 1, 1, ... 1, 1, 1, 1, 1, 1] type='1264856 * float32'>, 'nPU': <Array [39, 54, 24, 41, 33, ... 42, 52, 14, 27] type='73 * ?int32[parameters={\"_...'>}, {'photon_pt': <Array [[71.6], [72.9], ... [77.8], [72.9]] type='58 * option[var * float32[para...'>, 'photon_eta': <Array [[-0.682], [2.17], ... [1.08], [0.081]] type='58 * option[var * float32[p...'>, 'muon1_pt': <Array [46.4, 58.6, 27.2, ... 117, 206, 121] type='58 * ?float32[parameters={\"__...'>, 'muon2_pt': <Array [30.8, 33.9, 25, ... 76.4, 45.8, 111] type='58 * ?float32[parameters={\"__...'>, 'muon1_eta': <Array [-1.27, 2, 0.615, ... -0.195, -0.764] type='58 * ?float32[parameters={\"__...'>, 'muon2_eta': <Array [-1.89, 1.96, -1.66, ... 0.693, 0.653] type='58 * ?float32[parameters={\"_...'>, 'muon_mass': <Array [58.1, 88.3, 85.7, ... 183, 214, 291] type='58 * ?float32'>, 'generator_weight': <Array [1, 1, 1, 1, 1, 1, ... 1, 1, 1, 1, 1, 1] type='58 * ?float32'>, 'event_weight': <Array [1, 1, 1, 1, 1, 1, ... 1, 1, 1, 1, 1, 1] type='1265565 * float32'>, 'nPU': <Array [22, 37, 38, 45, 40, ... 18, 42, 39, 53] type='58 * ?int32[parameters={\"_...'>}, {'photon_pt': <Array [[96.5], [43.4], ... [84.9], [46.9]] type='58 * option[var * float32[para...'>, 'photon_eta': <Array [[1.59], [-2.39], ... [0.149], [0.502]] type='58 * option[var * float32[p...'>, 'muon1_pt': <Array [50.6, 67, 39.2, ... 78.2, 145, 117] type='58 * ?float32[parameters={\"__d...'>, 'muon2_pt': <Array [34.3, 34.8, 24.7, ... 29.4, 64.2, 53.8] type='58 * ?float32[parameters={...'>, 'muon1_eta': <Array [1.49, -0.615, -0.136, ... 0.148, -0.65] type='58 * ?float32[parameters={...'>, 'muon2_eta': <Array [0.242, -1.9, 1.71, ... -0.782, 0.401] type='58 * ?float32[parameters={\"_...'>, 'muon_mass': <Array [60.4, 66.7, 81, ... 81.6, 214, 181] type='58 * ?float32'>, 'generator_weight': <Array [1, 1, 1, 1, 1, 1, ... 1, 1, 1, 1, 1, 1] type='58 * ?float32'>, 'event_weight': <Array [1, 1, 1, 1, 1, 1, ... 1, 1, 1, 1, 1, 1] type='1265565 * float32'>, 'nPU': <Array [18, 58, 27, 51, 38, ... 37, 15, 24, 35] type='58 * ?int32[parameters={\"_...'>}, {'photon_pt': <Array [[84.6], [92.4], ... [51.6], [38.2]] type='79 * option[var * float32[para...'>, 'photon_eta': <Array [[-0.447], [-0.704], ... 2.38], [0.451]] type='79 * option[var * float32[...'>, 'muon1_pt': <Array [83, 69.4, 105, ... 44.4, 45.1, 40.7] type='79 * ?float32[parameters={\"__...'>, 'muon2_pt': <Array [50.3, 36.2, 40.1, ... 31.2, 28.5, 21.4] type='79 * ?float32[parameters={...'>, 'muon1_eta': <Array [-0.443, -0.0574, ... 0.935, -0.569] type='79 * ?float32[parameters={\"__d...'>, 'muon2_eta': <Array [0.523, -0.701, 1.27, ... 1.92, -2.35] type='79 * ?float32[parameters={\"_...'>, 'muon_mass': <Array [131, 104, 120, ... 119, 80.7, 73.4] type='79 * ?float32'>, 'generator_weight': <Array [1, 1, 1, 1, 1, 1, ... 1, 1, 1, 1, 1, 1] type='79 * ?float32'>, 'event_weight': <Array [1, 1, 1, 1, 1, 1, ... 1, 1, 1, 1, 1, 1] type='1265565 * float32'>, 'nPU': <Array [27, 38, 24, 31, 40, ... 41, 39, 31, 53] type='79 * ?int32[parameters={\"_...'>}, {'photon_pt': <Array [[49.2], [79.9], ... [51.5], [53.5]] type='78 * option[var * float32[para...'>, 'photon_eta': <Array [[1.96], [-0.633], ... 0.127], [-0.298]] type='78 * option[var * float32[...'>, 'muon1_pt': <Array [36.4, 98.7, 184, ... 47.6, 60.5, 45.2] type='78 * ?float32[parameters={\"...'>, 'muon2_pt': <Array [32.3, 46.7, 30.9, ... 24, 21.3, 37.1] type='78 * ?float32[parameters={\"_...'>, 'muon1_eta': <Array [1.96, -0.302, 0.976, ... 0.794, -0.556] type='78 * ?float32[parameters={...'>, 'muon2_eta': <Array [0.494, -0.22, 1.32, ... 0.808, 1.33] type='78 * ?float32[parameters={\"__...'>, 'muon_mass': <Array [83, 133, 89.4, ... 50.9, 66.7, 97.3] type='78 * ?float32'>, 'generator_weight': <Array [1, 1, 1, 1, 1, 1, ... 1, 1, 1, 1, 1, 1] type='78 * ?float32'>, 'event_weight': <Array [1, 1, 1, 1, 1, 1, ... 1, 1, 1, 1, 1, 1] type='1301724 * float32'>, 'nPU': <Array [37, 37, 51, 47, 39, ... 31, 33, 38, 40] type='78 * ?int32[parameters={\"_...'>}, {'photon_pt': <Array [[37.8], [63.5], ... [39.7], [59.8]] type='72 * option[var * float32[para...'>, 'photon_eta': <Array [[0.0426], [0.258], ... [1.4], [1.22]] type='72 * option[var * float32[pa...'>, 'muon1_pt': <Array [102, 117, 128, ... 135, 76.9, 103] type='72 * ?float32[parameters={\"__do...'>, 'muon2_pt': <Array [31.9, 34.8, 66.5, ... 39.1, 40.1, 45.1] type='72 * ?float32[parameters={...'>, 'muon1_eta': <Array [2.4, 0.463, -0.763, ... 1.21, -2.02] type='72 * ?float32[parameters={\"__...'>, 'muon2_eta': <Array [-0.374, -0.0721, ... -0.158, -0.976] type='72 * ?float32[parameters={\"__...'>, 'muon_mass': <Array [234, 130, 185, 65, ... 126, 119, 153] type='72 * ?float32'>, 'generator_weight': <Array [1, 1, 1, 1, 1, 1, ... 1, 1, 1, 1, 1, 1] type='72 * ?float32'>, 'event_weight': <Array [1, 1, 1, 1, 1, -1, ... 1, 1, 1, 1, 1] type='1265565 * float32'>, 'nPU': <Array [52, 28, 38, 55, 51, ... 28, 44, 22, 36] type='72 * ?int32[parameters={\"_...'>}, {'photon_pt': <Array [[162], [79.5], ... [45.8], [56.9]] type='58 * option[var * float32[param...'>, 'photon_eta': <Array [[1.29], [-0.876], ... [-2.22], [1.33]] type='58 * option[var * float32[p...'>, 'muon1_pt': <Array [45.2, 67.6, 50.3, ... 63.8, 52.7, 128] type='58 * ?float32[parameters={\"...'>, 'muon2_pt': <Array [29.1, 42.7, 38.4, ... 51.3, 41.4, 27.6] type='58 * ?float32[parameters={...'>, 'muon1_eta': <Array [0.991, 0.611, 0.278, ... 0.0733, 1.32] type='58 * ?float32[parameters={\"...'>, 'muon2_eta': <Array [-0.225, 0.787, 0.515, ... -2.21, 1.34] type='58 * ?float32[parameters={\"...'>, 'muon_mass': <Array [80.9, 83.6, 76.6, ... 146, 153, 114] type='58 * ?float32'>, 'generator_weight': <Array [1, 1, 1, 1, 1, 1, ... 1, 1, 1, 1, 1, 1] type='58 * ?float32'>, 'event_weight': <Array [1, 1, 1, 1, 1, 1, ... 1, 1, 1, 1, 1, 1] type='1265565 * float32'>, 'nPU': <Array [39, 62, 40, 15, 30, ... 42, 49, 43, 29] type='58 * ?int32[parameters={\"_...'>}, {'photon_pt': <Array [[73.2], [64.3], ... [77.7], [64.5]] type='63 * option[var * float32[para...'>, 'photon_eta': <Array [[-0.393], [-0.405, ... [-0.449]] type='63 * option[var * float32[paramet...'>, 'muon1_pt': <Array [92.1, 105, 69.5, ... 85.3, 58.7, 93.7] type='63 * ?float32[parameters={\"...'>, 'muon2_pt': <Array [22.4, 49.6, 42.9, ... 30.3, 35.6, 34.9] type='63 * ?float32[parameters={...'>, 'muon1_eta': <Array [1.19, -0.407, 2.28, ... -0.684, 1.69] type='63 * ?float32[parameters={\"_...'>, 'muon2_eta': <Array [0.654, -0.38, 2.12, ... -0.403, 0.777] type='63 * ?float32[parameters={\"...'>, 'muon_mass': <Array [89, 143, 91.5, 104, ... 93, 88.2, 84] type='63 * ?float32'>, 'generator_weight': <Array [1, 1, 1, 1, 1, 1, ... 1, 1, 1, 1, 1, 1] type='63 * ?float32'>, 'event_weight': <Array [1, 1, 1, 1, 1, 1, ... 1, 1, 1, 1, 1, 1] type='1265565 * float32'>, 'nPU': <Array [20, 55, 39, 35, 39, ... 43, 43, 17, 40] type='63 * ?int32[parameters={\"_...'>}, {'photon_pt': <Array [[57.2], [48.2], ... [39.9], [38.7]] type='76 * option[var * float32[para...'>, 'photon_eta': <Array [[2.21], [-2.24], ... [-0.32], [1.28]] type='76 * option[var * float32[pa...'>, 'muon1_pt': <Array [29, 72.2, 29.9, ... 168, 95.4, 65.2] type='76 * ?float32[parameters={\"__...'>, 'muon2_pt': <Array [26.6, 42.4, 23.7, ... 22, 52, 48.8] type='76 * ?float32[parameters={\"__d...'>, 'muon1_eta': <Array [-1.16, -2.24, 0.502, ... 1.3, 0.0659] type='76 * ?float32[parameters={\"_...'>, 'muon2_eta': <Array [0.684, 1.08, 2.21, ... -0.322, 0.841] type='76 * ?float32[parameters={\"_...'>, 'muon_mass': <Array [63.9, 301, 69.3, ... 124, 175, 116] type='76 * ?float32'>, 'generator_weight': <Array [1, 1, 1, 1, -1, 1, ... 1, 1, 1, 1, 1] type='76 * ?float32'>, 'event_weight': <Array [1, 1, 1, 1, 1, 1, ... 1, 1, -1, 1, 1] type='1265565 * float32'>, 'nPU': <Array [25, 49, 23, 25, 30, ... 42, 51, 47, 27] type='76 * ?int32[parameters={\"_...'>}, {'photon_pt': <Array [[41.5], [37.5], ... [88], [86.5]] type='63 * option[var * float32[parame...'>, 'photon_eta': <Array [[0.474], [-1.29], ... [-1.26], [1.13]] type='63 * option[var * float32[p...'>, 'muon1_pt': <Array [67.8, 88.8, 72.5, ... 138, 47.6, 140] type='63 * ?float32[parameters={\"_...'>, 'muon2_pt': <Array [28.1, 43.8, 51, ... 73.1, 46.1, 92.5] type='63 * ?float32[parameters={\"_...'>, 'muon1_eta': <Array [-0.236, 0.228, 1.37, ... 1.81, 1.13] type='63 * ?float32[parameters={\"__...'>, 'muon2_eta': <Array [-1.77, -0.45, 1.35, ... 0.941, 0.421] type='63 * ?float32[parameters={\"_...'>, 'muon_mass': <Array [94, 114, 93.8, ... 200, 89.3, 240] type='63 * ?float32'>, 'generator_weight': <Array [1, 1, 1, 1, 1, 1, ... 1, 1, 1, 1, 1, 1] type='63 * ?float32'>, 'event_weight': <Array [1, -1, 1, 1, 1, 1, ... 1, 1, 1, 1, 1] type='1265565 * float32'>, 'nPU': <Array [43, 24, 31, 13, 28, ... 25, 56, 43, 27] type='63 * ?int32[parameters={\"_...'>}, {'photon_pt': <Array [[59.6], [42.7], ... [41.5], [38.7]] type='73 * option[var * float32[para...'>, 'photon_eta': <Array [[0.0192], [-0.128, ... 0.829], [-1.29]] type='73 * option[var * float32[...'>, 'muon1_pt': <Array [36.3, 155, 181, ... 32.1, 79.3, 59.1] type='73 * ?float32[parameters={\"_...'>, 'muon2_pt': <Array [24.8, 68.4, 124, ... 25.5, 47.7, 42.8] type='73 * ?float32[parameters={\"...'>, 'muon1_eta': <Array [-2.39, -0.127, ... 0.824, -0.716] type='73 * ?float32[parameters={\"__doc...'>, 'muon2_eta': <Array [-0.0155, 0.177, 1.32, ... 1.88, -1.35] type='73 * ?float32[parameters={\"...'>, 'muon_mass': <Array [90.1, 197, 107, ... 56.7, 118, 62.6] type='73 * ?float32'>, 'generator_weight': <Array [1, 1, 1, 1, 1, 1, ... 1, 1, 1, 1, 1, 1] type='73 * ?float32'>, 'event_weight': <Array [1, 1, 1, 1, 1, 1, ... 1, 1, 1, 1, 1, 1] type='1265565 * float32'>, 'nPU': <Array [47, 35, 44, 41, 21, ... 35, 43, 59, 26] type='73 * ?int32[parameters={\"_...'>}, {'photon_pt': <Array [[35.9], [56.3], ... [102], [74.3]] type='35 * option[var * float32[param...'>, 'photon_eta': <Array [[-1.9], [-1.68], ... [0.615], [1.69]] type='35 * option[var * float32[pa...'>, 'muon1_pt': <Array [69.7, 57.3, 68.6, ... 97.2, 38.6, 56.2] type='35 * ?float32[parameters={...'>, 'muon2_pt': <Array [38.2, 28.6, 21.5, ... 96.1, 28, 27.4] type='35 * ?float32[parameters={\"_...'>, 'muon1_eta': <Array [-0.906, -1.68, -1.08, ... 0.466, 1.47] type='35 * ?float32[parameters={\"...'>, 'muon2_eta': <Array [-0.589, -0.0727, ... -0.654, 2.36] type='35 * ?float32[parameters={\"__do...'>, 'muon_mass': <Array [59.7, 89.2, 115, ... 215, 74.7, 76.6] type='35 * ?float32'>, 'generator_weight': <Array [1, 1, 1, 1, 1, 1, ... 1, 1, 1, 1, 1, 1] type='35 * ?float32'>, 'event_weight': <Array [1, 1, 1, 1, 1, 1, ... 1, 1, 1, 1, 1, 1] type='506226 * float32'>, 'nPU': <Array [30, 35, 22, 29, 22, ... 31, 37, 60, 15] type='35 * ?int32[parameters={\"_...'>}, {'photon_pt': <Array [[101], [41.4], ... [37.9], [35.5]] type='75 * option[var * float32[param...'>, 'photon_eta': <Array [[-1.31], [-0.479, ... [-0.033]] type='75 * option[var * float32[paramete...'>, 'muon1_pt': <Array [96.5, 54.4, 53.5, ... 35.6, 51.8, 59.3] type='75 * ?float32[parameters={...'>, 'muon2_pt': <Array [26.3, 40, 29.3, ... 25.1, 20.3, 51.2] type='75 * ?float32[parameters={\"_...'>, 'muon1_eta': <Array [-0.492, -1.04, ... -1.56, -0.0358] type='75 * ?float32[parameters={\"__do...'>, 'muon2_eta': <Array [-1.09, -1.65, 0.9, ... 0.107, -2.22] type='75 * ?float32[parameters={\"__...'>, 'muon_mass': <Array [90.5, 89.7, 70.1, ... 61.7, 87.1, 182] type='75 * ?float32'>, 'generator_weight': <Array [1, 1, 1, 1, 1, 1, ... 1, 1, 1, 1, 1, 1] type='75 * ?float32'>, 'event_weight': <Array [1, 1, 1, 1, 1, 1, ... 1, 1, 1, 1, 1, 1] type='1265565 * float32'>, 'nPU': <Array [25, 29, 43, 29, 13, ... 28, 49, 31, 50] type='75 * ?int32[parameters={\"_...'>}, {'photon_pt': <Array [[51.2], [37.3], ... [68], [44.8]] type='69 * option[var * float32[parame...'>, 'photon_eta': <Array [[-0.301], [1.81], ... [0.63], [-0.125]] type='69 * option[var * float32[...'>, 'muon1_pt': <Array [73.5, 89.2, 51.8, ... 62.8, 64.5, 44.5] type='69 * ?float32[parameters={...'>, 'muon2_pt': <Array [22.6, 26.3, 45, ... 55.6, 50.4, 38.2] type='69 * ?float32[parameters={\"_...'>, 'muon1_eta': <Array [-1.63, 1.95, ... -0.0521, -0.0302] type='69 * ?float32[parameters={\"__do...'>, 'muon2_eta': <Array [-0.376, -2.2, ... -0.619, -0.123] type='69 * ?float32[parameters={\"__doc...'>, 'muon_mass': <Array [64.4, 381, 97.5, ... 121, 116, 66.6] type='69 * ?float32'>, 'generator_weight': <Array [1, 1, 1, 1, 1, 1, ... 1, 1, 1, 1, 1, 1] type='69 * ?float32'>, 'event_weight': <Array [1, 1, 1, 1, 1, 1, ... 1, -1, 1, 1, 1] type='1265565 * float32'>, 'nPU': <Array [39, 26, 44, 60, 53, ... 49, 31, 23, 36] type='69 * ?int32[parameters={\"_...'>}, {'photon_pt': <Array [[68.1], [44.8], ... [60.2], [69.7]] type='68 * option[var * float32[para...'>, 'photon_eta': <Array [[0.672], [1.88], ... -0.802], [-0.221]] type='68 * option[var * float32[...'>, 'muon1_pt': <Array [30.2, 81.4, 104, ... 51.6, 71.4, 48.1] type='68 * ?float32[parameters={\"...'>, 'muon2_pt': <Array [22.8, 38.3, 75, ... 25.3, 36.9, 21.4] type='68 * ?float32[parameters={\"_...'>, 'muon1_eta': <Array [-0.962, -0.715, ... -0.953, -0.163] type='68 * ?float32[parameters={\"__d...'>, 'muon2_eta': <Array [0.484, 2.3, -1.7, ... -1.31, 1.08] type='68 * ?float32[parameters={\"__do...'>, 'muon_mass': <Array [51.2, 265, 181, ... 61.4, 102, 76.9] type='68 * ?float32'>, 'generator_weight': <Array [1, 1, 1, 1, 1, 1, ... 1, 1, 1, 1, 1, 1] type='68 * ?float32'>, 'event_weight': <Array [1, 1, 1, 1, 1, 1, ... 1, 1, 1, 1, 1, 1] type='1265565 * float32'>, 'nPU': <Array [40, 52, 26, 43, 40, ... 40, 63, 37, 30] type='68 * ?int32[parameters={\"_...'>}, {'photon_pt': <Array [[39.9], [62.6], ... [35.3], [36.3]] type='94 * option[var * float32[para...'>, 'photon_eta': <Array [[0.61], [-2.28], ... [-2.18], [-0.816]] type='94 * option[var * float32[...'>, 'muon1_pt': <Array [280, 47.9, 123, ... 53.5, 56.5, 81.6] type='94 * ?float32[parameters={\"_...'>, 'muon2_pt': <Array [106, 40.4, 62.2, ... 28.7, 24.6, 26.5] type='94 * ?float32[parameters={\"...'>, 'muon1_eta': <Array [0.611, -2.13, ... 0.228, -0.296] type='94 * ?float32[parameters={\"__doc_...'>, 'muon2_eta': <Array [-0.858, 0.794, 1.8, ... -1.31, 2.09] type='94 * ?float32[parameters={\"__...'>, 'muon_mass': <Array [441, 200, 236, ... 73.4, 86.8, 140] type='94 * ?float32'>, 'generator_weight': <Array [1, 1, 1, 1, 1, 1, ... 1, 1, 1, 1, 1, 1] type='94 * ?float32'>, 'event_weight': <Array [1, 1, 1, 1, 1, 1, ... 1, 1, 1, 1, 1, 1] type='1264856 * float32'>, 'nPU': <Array [45, 27, 36, 40, 27, ... 39, 26, 31, 35] type='94 * ?int32[parameters={\"_...'>}, {'photon_pt': <Array [[39.9], [43.9], ... [61.7], [35.4]] type='61 * option[var * float32[para...'>, 'photon_eta': <Array [[0.501], [1.09], ... -0.0317], [0.292]] type='61 * option[var * float32[...'>, 'muon1_pt': <Array [30.3, 39.1, 45.4, ... 46.2, 86.4, 52] type='61 * ?float32[parameters={\"_...'>, 'muon2_pt': <Array [29.9, 32.4, 37.7, ... 40.1, 60.9, 47.8] type='61 * ?float32[parameters={...'>, 'muon1_eta': <Array [-0.612, -0.954, ... 0.335, -0.619] type='61 * ?float32[parameters={\"__do...'>, 'muon2_eta': <Array [0.497, -0.625, ... -0.0392, 1.69] type='61 * ?float32[parameters={\"__doc...'>, 'muon_mass': <Array [69.5, 57.8, 54.2, ... 92.1, 140, 162] type='61 * ?float32'>, 'generator_weight': <Array [1, 1, 1, 1, 1, 1, ... 1, 1, 1, 1, 1, 1] type='61 * ?float32'>, 'event_weight': <Array [1, 1, 1, 1, 1, 1, ... 1, 1, 1, 1, 1, 1] type='1265565 * float32'>, 'nPU': <Array [38, 34, 27, 22, 26, ... 52, 43, 19, 27] type='61 * ?int32[parameters={\"_...'>}, {'photon_pt': <Array [[45.2], [74.1], ... [42], [51.2]] type='73 * option[var * float32[parame...'>, 'photon_eta': <Array [[0.43], [-1.01], ... [-1.01], [0.683]] type='73 * option[var * float32[p...'>, 'muon1_pt': <Array [190, 63.1, 36.3, ... 108, 46.4, 89.5] type='73 * ?float32[parameters={\"_...'>, 'muon2_pt': <Array [56.8, 30.5, 20.8, ... 41.9, 22.7, 23.5] type='73 * ?float32[parameters={...'>, 'muon1_eta': <Array [0.362, -1.83, -0.269, ... -1.62, 1.95] type='73 * ?float32[parameters={\"...'>, 'muon2_eta': <Array [-0.315, 0.54, 1.52, ... 0.92, 0.124] type='73 * ?float32[parameters={\"__...'>, 'muon_mass': <Array [103, 143, 66, 319, ... 156, 107, 109] type='73 * ?float32'>, 'generator_weight': <Array [1, 1, 1, 1, 1, 1, ... 1, 1, 1, 1, 1, 1] type='73 * ?float32'>, 'event_weight': <Array [1, 1, 1, 1, 1, 1, ... 1, 1, 1, 1, 1, 1] type='1265565 * float32'>, 'nPU': <Array [29, 17, 57, 29, 34, ... 25, 50, 44, 36] type='73 * ?int32[parameters={\"_...'>}, {'photon_pt': <Array [[46.6], [38.9], ... [67.2], [42.4]] type='68 * option[var * float32[para...'>, 'photon_eta': <Array [[0.479], [-0.917, ... [-0.0625]] type='68 * option[var * float32[paramet...'>, 'muon1_pt': <Array [110, 49.3, 30.6, 44, ... 42, 39.1, 80] type='68 * ?float32[parameters={\"...'>, 'muon2_pt': <Array [88.5, 36.1, 28.9, ... 40.4, 22.1, 35.9] type='68 * ?float32[parameters={...'>, 'muon1_eta': <Array [0.0403, -1.13, 1.56, ... 0.286, -1.66] type='68 * ?float32[parameters={\"...'>, 'muon2_eta': <Array [0.785, -2.11, ... -0.735, -0.0597] type='68 * ?float32[parameters={\"__do...'>, 'muon_mass': <Array [211, 68.2, 85.8, ... 100, 60.1, 138] type='68 * ?float32'>, 'generator_weight': <Array [1, 1, 1, 1, 1, 1, ... 1, 1, 1, 1, 1, 1] type='68 * ?float32'>, 'event_weight': <Array [1, 1, 1, 1, 1, 1, ... 1, 1, 1, 1, 1, 1] type='1012452 * float32'>, 'nPU': <Array [41, 50, 24, 47, 39, ... 44, 36, 35, 43] type='68 * ?int32[parameters={\"_...'>}, {'photon_pt': <Array [[54.2], [39.7], ... [102], [44.9]] type='62 * option[var * float32[param...'>, 'photon_eta': <Array [[0.964], [0.852], ... 0.476], [-0.256]] type='62 * option[var * float32[...'>, 'muon1_pt': <Array [92.5, 219, 56.4, ... 47.2, 57.8, 92.2] type='62 * ?float32[parameters={\"...'>, 'muon2_pt': <Array [48.9, 137, 24.6, ... 21.1, 26.2, 31.4] type='62 * ?float32[parameters={\"...'>, 'muon1_eta': <Array [0.943, 0.866, -0.015, ... 1.34, -2.08] type='62 * ?float32[parameters={\"...'>, 'muon2_eta': <Array [0.752, 0.219, ... -0.315, -1.78] type='62 * ?float32[parameters={\"__doc_...'>, 'muon_mass': <Array [75, 365, 72.2, 159, ... 60.9, 102, 71] type='62 * ?float32'>, 'generator_weight': <Array [1, 1, 1, 1, 1, 1, ... 1, 1, 1, 1, 1, 1] type='62 * ?float32'>, 'event_weight': <Array [1, 1, 1, 1, 1, 1, ... 1, 1, 1, 1, 1, 1] type='1265565 * float32'>, 'nPU': <Array [44, 24, 45, 26, 42, ... 18, 41, 57, 36] type='62 * ?int32[parameters={\"_...'>}, {'photon_pt': <Array [[35.6], [56.1], ... [86], [69.5]] type='60 * option[var * float32[parame...'>, 'photon_eta': <Array [[-1.09], [-1.41], ... -0.174], [0.183]] type='60 * option[var * float32[...'>, 'muon1_pt': <Array [40, 58.2, 71.1, ... 36.6, 86.3, 88.3] type='60 * ?float32[parameters={\"_...'>, 'muon2_pt': <Array [29.1, 54.7, 28, ... 33.9, 75.5, 54.8] type='60 * ?float32[parameters={\"_...'>, 'muon1_eta': <Array [-2.23, -1.28, 2.32, ... -1.32, 0.027] type='60 * ?float32[parameters={\"_...'>, 'muon2_eta': <Array [-0.21, -1.88, 0.872, ... -2, 0.186] type='60 * ?float32[parameters={\"__d...'>, 'muon_mass': <Array [88, 96.4, 72.4, ... 50.6, 56.1, 138] type='60 * ?float32'>, 'generator_weight': <Array [1, 1, 1, 1, 1, 1, ... 1, 1, 1, 1, 1, 1] type='60 * ?float32'>, 'event_weight': <Array [1, 1, 1, 1, 1, 1, ... 1, 1, 1, 1, 1, 1] type='1265565 * float32'>, 'nPU': <Array [30, 26, 32, 34, 42, ... 44, 58, 37, 30] type='60 * ?int32[parameters={\"_...'>}, {'photon_pt': <Array [[75.8], [87.9], ... [69.8], [45.4]] type='77 * option[var * float32[para...'>, 'photon_eta': <Array [[1.32], [0.307], ... [-1.32], [1.72]] type='77 * option[var * float32[pa...'>, 'muon1_pt': <Array [94.5, 41.1, 70.3, ... 58.4, 128, 63.9] type='77 * ?float32[parameters={\"...'>, 'muon2_pt': <Array [87.2, 31.2, 44.7, ... 21.4, 62, 26.3] type='77 * ?float32[parameters={\"_...'>, 'muon1_eta': <Array [-1.49, -0.206, 0.834, ... -2.1, 0.441] type='77 * ?float32[parameters={\"...'>, 'muon2_eta': <Array [1.31, -0.139, 0.123, ... -1.14, -0.95] type='77 * ?float32[parameters={\"...'>, 'muon_mass': <Array [382, 63, 55.3, ... 62.3, 195, 70.2] type='77 * ?float32'>, 'generator_weight': <Array [1, 1, 1, 1, 1, 1, ... 1, 1, 1, 1, 1, 1] type='77 * ?float32'>, 'event_weight': <Array [1, 1, 1, 1, 1, 1, ... 1, 1, 1, 1, 1, 1] type='1265565 * float32'>, 'nPU': <Array [41, 46, 42, 42, 38, ... 27, 50, 43, 39] type='77 * ?int32[parameters={\"_...'>}, {'photon_pt': <Array [[123], [35.9], ... [43.6], [45.2]] type='64 * option[var * float32[param...'>, 'photon_eta': <Array [[-0.552], [-1.18, ... [-0.231]] type='64 * option[var * float32[paramete...'>, 'muon1_pt': <Array [136, 82.8, 138, ... 68.8, 77.3, 53.6] type='64 * ?float32[parameters={\"_...'>, 'muon2_pt': <Array [75, 52.3, 26.5, ... 27.1, 22.2, 36.2] type='64 * ?float32[parameters={\"_...'>, 'muon1_eta': <Array [-0.105, -1.17, -1.38, ... 1.74, -1.76] type='64 * ?float32[parameters={\"...'>, 'muon2_eta': <Array [-0.28, -0.302, -1.36, ... 0.337, 0.113] type='64 * ?float32[parameters={...'>, 'muon_mass': <Array [203, 137, 78.9, ... 234, 96.9, 130] type='64 * ?float32'>, 'generator_weight': <Array [1, 1, 1, 1, 1, 1, ... 1, 1, 1, 1, 1, 1] type='64 * ?float32'>, 'event_weight': <Array [1, 1, 1, 1, 1, 1, ... 1, 1, 1, 1, 1, 1] type='1265565 * float32'>, 'nPU': <Array [40, 46, 43, 26, 54, ... 45, 30, 45, 38] type='64 * ?int32[parameters={\"_...'>}, {'photon_pt': <Array [[88], [36.8], ... [60.5], [115]] type='73 * option[var * float32[paramet...'>, 'photon_eta': <Array [[-0.155], [-2.13], ... 0.0684], [-0.4]] type='73 * option[var * float32[...'>, 'muon1_pt': <Array [37.8, 116, 149, ... 39.1, 174, 42.3] type='73 * ?float32[parameters={\"__...'>, 'muon2_pt': <Array [22.8, 23, 112, ... 33, 87.3, 21.9] type='73 * ?float32[parameters={\"__do...'>, 'muon1_eta': <Array [-0.837, -2.13, ... 0.0686, -0.663] type='73 * ?float32[parameters={\"__do...'>, 'muon2_eta': <Array [-0.891, -0.726, 1.08, ... -1.63, -2.32] type='73 * ?float32[parameters={...'>, 'muon_mass': <Array [57.4, 117, 256, ... 71.6, 325, 58.4] type='73 * ?float32'>, 'generator_weight': <Array [1, 1, 1, 1, 1, 1, ... 1, 1, 1, 1, 1, 1] type='73 * ?float32'>, 'event_weight': <Array [1, 1, 1, 1, 1, 1, ... 1, 1, 1, 1, 1, 1] type='1265565 * float32'>, 'nPU': <Array [47, 57, 46, 35, 30, ... 44, 36, 32, 30] type='73 * ?int32[parameters={\"_...'>}, {'photon_pt': <Array [[57.8], [45.2], ... [44.4], [59.8]] type='37 * option[var * float32[para...'>, 'photon_eta': <Array [[-1.98], [-0.628], ... [0.699], [0.29]] type='37 * option[var * float32[...'>, 'muon1_pt': <Array [68.1, 56, 54.2, ... 42.2, 138, 122] type='37 * ?float32[parameters={\"__d...'>, 'muon2_pt': <Array [34.4, 43.9, 21.9, ... 40.2, 82.7, 25.2] type='37 * ?float32[parameters={...'>, 'muon1_eta': <Array [-0.475, -0.426, 1.45, ... 0.683, -1.46] type='37 * ?float32[parameters={...'>, 'muon2_eta': <Array [-0.0867, -0.577, ... -0.941, -1.94] type='37 * ?float32[parameters={\"__d...'>, 'muon_mass': <Array [92.3, 98, 60.4, ... 77.6, 288, 71.1] type='37 * ?float32'>, 'generator_weight': <Array [1, 1, 1, 1, 1, 1, ... 1, 1, 1, 1, 1, 1] type='37 * ?float32'>, 'event_weight': <Array [1, 1, 1, 1, 1, 1, ... 1, 1, 1, 1, 1, 1] type='757212 * float32'>, 'nPU': <Array [39, 14, 44, 35, 29, ... 48, 39, 52, 38] type='37 * ?int32[parameters={\"_...'>}, {'photon_pt': <Array [[54.7], [47], ... [53.7], [55.3]] type='58 * option[var * float32[parame...'>, 'photon_eta': <Array [[-0.101], [2.45], ... [-0.774], [2.43]] type='58 * option[var * float32[...'>, 'muon1_pt': <Array [47.9, 85.9, 116, ... 103, 39.8, 67.8] type='58 * ?float32[parameters={\"_...'>, 'muon2_pt': <Array [24.8, 33.9, 42.3, ... 38.4, 36.5, 47.8] type='58 * ?float32[parameters={...'>, 'muon1_eta': <Array [-0.921, 1.26, -1.01, ... -0.425, 0.801] type='58 * ?float32[parameters={...'>, 'muon2_eta': <Array [0.997, 1.76, -0.985, ... -1.55, -0.507] type='58 * ?float32[parameters={...'>, 'muon_mass': <Array [84.3, 108, 134, ... 261, 65.6, 103] type='58 * ?float32'>, 'generator_weight': <Array [1, 1, 1, 1, 1, 1, ... 1, 1, 1, 1, 1, 1] type='58 * ?float32'>, 'event_weight': <Array [1, 1, 1, 1, 1, 1, ... 1, 1, 1, 1, 1, 1] type='1011743 * float32'>, 'nPU': <Array [25, 38, 43, 38, 30, ... 38, 46, 36, 37] type='58 * ?int32[parameters={\"_...'>}]\n",
      "zz event_muon_phodrs [{'photon_pt': <Array [[48.9], [79.6], ... [39], [36.7]] type='65 * option[var * float32[parame...'>, 'photon_eta': <Array [[1.39], [-0.216], ... [2.05], [1.9]] type='65 * option[var * float32[par...'>, 'muon1_pt': <Array [41.2, 228, 53.1, ... 78.8, 60.9, 61.1] type='65 * ?float32[parameters={\"...'>, 'muon2_pt': <Array [29.4, 43.9, 39.9, ... 27.1, 32.3, 58.6] type='65 * ?float32[parameters={...'>, 'muon1_eta': <Array [0.315, -0.0896, 1.85, ... 1.78, 1.91] type='65 * ?float32[parameters={\"_...'>, 'muon2_eta': <Array [1.36, 0.593, -0.0663, ... 1.01, 1.84] type='65 * ?float32[parameters={\"_...'>, 'muon_mass': <Array [68.7, 89.7, 116, ... 91.7, 92.6, 80.5] type='65 * ?float32'>, 'generator_weight': <Array [1, 1, 1, 1, 1, 1, ... 1, 1, 1, 1, 1, 1] type='65 * ?float32'>, 'event_weight': <Array [1, 1, 1, 1, 1, 1, ... 1, 1, 1, 1, 1, 1] type='1102910 * float32'>, 'nPU': <Array [51, 68, 18, 34, 42, ... 40, 21, 43, 26] type='65 * ?int32[parameters={\"_...'>}, {'photon_pt': <Array [[43.8], [62.7]] type='2 * option[var * float32[parameters={\"__doc__\": \"p...'>, 'photon_eta': <Array [[0.204], [0.158]] type='2 * option[var * float32[parameters={\"__doc__\": ...'>, 'muon1_pt': <Array [254, 115] type='2 * ?float32[parameters={\"__doc__\": \"pt\"}]'>, 'muon2_pt': <Array [32.5, 68.1] type='2 * ?float32[parameters={\"__doc__\": \"pt\"}]'>, 'muon1_eta': <Array [0.722, 0.518] type='2 * ?float32[parameters={\"__doc__\": \"eta\"}]'>, 'muon2_eta': <Array [-0.855, 0.000189] type='2 * ?float32[parameters={\"__doc__\": \"eta\"}]'>, 'muon_mass': <Array [211, 85.9] type='2 * ?float32'>, 'generator_weight': <Array [1, 1] type='2 * ?float32'>, 'event_weight': <Array [1, 1, 1, 1, 1, 1, ... 1, 1, 1, 1, 1, 1] type='83950 * float32'>, 'nPU': <Array [32, 42] type='2 * ?int32[parameters={\"__doc__\": \"the number of pileup in...'>}]\n",
      "wz event_muon_phodrs [{'photon_pt': <Array [[117], [63.8], ... [55.6], [45.6]] type='305 * option[var * float32[para...'>, 'photon_eta': <Array [[0.496], [0.654], ... [1.85], [1.84]] type='305 * option[var * float32[p...'>, 'muon1_pt': <Array [100, 56.5, 291, ... 128, 56.5, 42] type='305 * ?float32[parameters={\"__d...'>, 'muon2_pt': <Array [44.3, 53, 45.4, ... 64.3, 45.6, 27.8] type='305 * ?float32[parameters={\"...'>, 'muon1_eta': <Array [-1.66, 1.06, 0.438, ... 0.712, -0.778] type='305 * ?float32[parameters={...'>, 'muon2_eta': <Array [-0.749, 0.0264, 0.841, ... 0.141, 1.05] type='305 * ?float32[parameters=...'>, 'muon_mass': <Array [86.6, 89.6, 54.5, ... 93.5, 91.6, 93.1] type='305 * ?float32'>, 'generator_weight': <Array [1, 1, 1, 1, 1, 1, ... 1, 1, 1, 1, 1, 1] type='305 * ?float32'>, 'event_weight': <Array [1, 1, 1, 1, 1, 1, ... 1, 1, 1, 1, 1, 1] type='1815108 * float32'>, 'nPU': <Array [28, 32, 42, 22, 35, ... 41, 41, 17, 39] type='305 * ?int32[parameters={\"...'>}, {'photon_pt': <Array [[45], [84.5], ... [92.2], [67.9]] type='156 * option[var * float32[param...'>, 'photon_eta': <Array [[-1.13], [-0.0384], ... [1.8], [2.31]] type='156 * option[var * float32[...'>, 'muon1_pt': <Array [51.5, 68.1, 56, ... 96.5, 95, 146] type='156 * ?float32[parameters={\"__d...'>, 'muon2_pt': <Array [34.8, 34.7, 25.7, ... 59, 31.6, 61.1] type='156 * ?float32[parameters={\"...'>, 'muon1_eta': <Array [2.02, 0.188, -2.29, ... -1.18, 0.684] type='156 * ?float32[parameters={\"...'>, 'muon2_eta': <Array [1.03, -1.13, -0.993, ... 0.358, 1.22] type='156 * ?float32[parameters={\"...'>, 'muon_mass': <Array [92.1, 93.3, 90.2, ... 89, 94.9, 89.7] type='156 * ?float32'>, 'generator_weight': <Array [1, 1, 1, 1, 1, 1, ... 1, 1, 1, 1, 1, 1] type='156 * ?float32'>, 'event_weight': <Array [1, 1, 1, 1, 1, 1, ... 1, 1, 1, 1, 1, 1] type='1013688 * float32'>, 'nPU': <Array [37, 38, 14, 48, 28, ... 30, 36, 52, 21] type='156 * ?int32[parameters={\"...'>}, {'photon_pt': <Array [[44.9], [50.3], ... [42.1], [75.8]] type='221 * option[var * float32[par...'>, 'photon_eta': <Array [[-0.524], [-0.00521, ... [-0.868]] type='221 * option[var * float32[para...'>, 'muon1_pt': <Array [62.7, 86, 56.2, ... 35.6, 31.8, 78.4] type='221 * ?float32[parameters={\"...'>, 'muon2_pt': <Array [24.5, 61.8, 39.5, ... 31.2, 30.8, 26.6] type='221 * ?float32[parameters=...'>, 'muon1_eta': <Array [0.696, 0.612, -1.66, ... -0.408, -1.65] type='221 * ?float32[parameters=...'>, 'muon2_eta': <Array [-1.25, 0.167, -2.18, ... 1.47, -0.702] type='221 * ?float32[parameters={...'>, 'muon_mass': <Array [89, 89.6, 90.4, ... 90.3, 90.2, 92.3] type='221 * ?float32'>, 'generator_weight': <Array [1, 1, 1, 1, 1, 1, ... 1, 1, 1, 1, 1, 1] type='221 * ?float32'>, 'event_weight': <Array [1, 1, 1, 1, 1, 1, ... 1, 1, 1, 1, 1, 1] type='1351584 * float32'>, 'nPU': <Array [29, 31, 46, 28, 48, ... 51, 24, 39, 31] type='221 * ?int32[parameters={\"...'>}, {'photon_pt': <Array [[45.4], [77.5], ... [48.7], [52.2]] type='53 * option[var * float32[para...'>, 'photon_eta': <Array [[-2.34], [-0.78], ... -0.768], [-2.47]] type='53 * option[var * float32[...'>, 'muon1_pt': <Array [45.3, 55.6, 53.6, ... 44.7, 73.4, 77.4] type='53 * ?float32[parameters={...'>, 'muon2_pt': <Array [30, 39.4, 42.1, ... 38.2, 49.6, 42.5] type='53 * ?float32[parameters={\"_...'>, 'muon1_eta': <Array [-0.634, 1.79, 1.87, ... 0.914, -0.171] type='53 * ?float32[parameters={\"...'>, 'muon2_eta': <Array [1.16, 0.115, 1.85, ... 1.82, -1.63] type='53 * ?float32[parameters={\"__d...'>, 'muon_mass': <Array [92, 93.4, 91.9, ... 80.9, 133, 91.9] type='53 * ?float32'>, 'generator_weight': <Array [1, 1, 1, 1, 1, 1, ... 1, 1, 1, 1, 1, 1] type='53 * ?float32'>, 'event_weight': <Array [1, 1, 1, 1, 1, 1, ... 1, 1, 1, 1, 1, 1] type='337896 * float32'>, 'nPU': <Array [31, 40, 33, 24, 40, ... 40, 17, 20, 45] type='53 * ?int32[parameters={\"_...'>}, {'photon_pt': <Array [[38.4], [53.7], ... [56.7], [150]] type='273 * option[var * float32[para...'>, 'photon_eta': <Array [[2.08], [-0.152], ... [1.97], [0.0382]] type='273 * option[var * float32...'>, 'muon1_pt': <Array [47, 80.4, 183, ... 96, 57.2, 86.7] type='273 * ?float32[parameters={\"__d...'>, 'muon2_pt': <Array [45.4, 24.3, 46.4, ... 26.2, 42.4, 66.2] type='273 * ?float32[parameters=...'>, 'muon1_eta': <Array [-0.726, -1.44, -2.18, ... 0.662, -1.37] type='273 * ?float32[parameters=...'>, 'muon2_eta': <Array [-0.146, -0.842, ... 0.093, -0.624] type='273 * ?float32[parameters={\"__d...'>, 'muon_mass': <Array [89.9, 88.6, 91.8, ... 90.3, 92.2, 93.7] type='273 * ?float32'>, 'generator_weight': <Array [1, 1, 1, 1, 1, 1, ... 1, 1, 1, 1, 1, 1] type='273 * ?float32'>, 'event_weight': <Array [1, 1, 1, 1, 1, 1, ... 1, 1, 1, 1, 1, 1] type='1858428 * float32'>, 'nPU': <Array [54, 23, 40, 62, 20, ... 42, 37, 37, 19] type='273 * ?int32[parameters={\"...'>}, {'photon_pt': <Array [[50.5], [64.6], ... [37.8], [35.6]] type='279 * option[var * float32[par...'>, 'photon_eta': <Array [[-1.26], [-0.729], ... [-1.69], [1.02]] type='279 * option[var * float32...'>, 'muon1_pt': <Array [51.3, 55.2, 51.6, ... 40.9, 309, 82.1] type='279 * ?float32[parameters={...'>, 'muon2_pt': <Array [43.2, 40.3, 28.5, ... 23.4, 23.1, 34.1] type='279 * ?float32[parameters=...'>, 'muon1_eta': <Array [1.02, -0.561, 1.16, ... -1.93, -1.48] type='279 * ?float32[parameters={\"...'>, 'muon2_eta': <Array [0.666, 0.13, -0.876, ... -1.45, -0.234] type='279 * ?float32[parameters=...'>, 'muon_mass': <Array [90.6, 91.5, 92.4, ... 61.2, 79.9, 91.9] type='279 * ?float32'>, 'generator_weight': <Array [1, 1, 1, 1, 1, 1, ... 1, 1, 1, 1, 1, 1] type='279 * ?float32'>, 'event_weight': <Array [1, 1, 1, 1, 1, 1, ... 1, 1, 1, 1, 1, 1] type='1858428 * float32'>, 'nPU': <Array [26, 15, 17, 59, 14, ... 48, 14, 28, 48] type='279 * ?int32[parameters={\"...'>}, {'photon_pt': <Array [[104], [112], ... [203], [53]] type='294 * option[var * float32[paramete...'>, 'photon_eta': <Array [[0.251], [0.884], ... [1.17], [-1.62]] type='294 * option[var * float32[...'>, 'muon1_pt': <Array [42.8, 91, 58.6, ... 32.7, 141, 52.5] type='294 * ?float32[parameters={\"_...'>, 'muon2_pt': <Array [31.1, 26.6, 20.7, ... 22.3, 41, 42.7] type='294 * ?float32[parameters={\"...'>, 'muon1_eta': <Array [2.27, -0.239, -2.23, ... 1.17, 0.259] type='294 * ?float32[parameters={\"...'>, 'muon2_eta': <Array [0.587, 0.123, -0.447, ... 0.078, 0.837] type='294 * ?float32[parameters=...'>, 'muon_mass': <Array [90.8, 72.7, 91.9, ... 59.4, 87.6, 97.7] type='294 * ?float32'>, 'generator_weight': <Array [1, 1, 1, 1, 1, 1, ... 1, 1, 1, 1, 1, 1] type='294 * ?float32'>, 'event_weight': <Array [1, 1, 1, 1, 1, 1, ... 1, 1, 1, 1, 1, 1] type='1858428 * float32'>, 'nPU': <Array [21, 36, 27, 36, 42, ... 36, 41, 47, 34] type='294 * ?int32[parameters={\"...'>}, {'photon_pt': <Array [[57.5], [91.9], ... [61.1], [51.6]] type='278 * option[var * float32[par...'>, 'photon_eta': <Array [[2.2], [2.37], ... [-1.9], [-0.549]] type='278 * option[var * float32[pa...'>, 'muon1_pt': <Array [35.9, 104, 61.2, ... 42.1, 183, 67.2] type='278 * ?float32[parameters={\"...'>, 'muon2_pt': <Array [28.3, 53.2, 52.6, ... 36, 64.6, 28.8] type='278 * ?float32[parameters={\"...'>, 'muon1_eta': <Array [-0.188, -0.377, ... -1.54, -0.436] type='278 * ?float32[parameters={\"__d...'>, 'muon2_eta': <Array [-2.12, -0.862, ... 0.747, 0.445] type='278 * ?float32[parameters={\"__doc...'>, 'muon_mass': <Array [93.4, 90, 89.1, ... 92.3, 372, 89.9] type='278 * ?float32'>, 'generator_weight': <Array [1, 1, 1, 1, 1, 1, ... 1, 1, 1, 1, 1, 1] type='278 * ?float32'>, 'event_weight': <Array [1, 1, 1, 1, 1, 1, ... 1, 1, 1, 1, 1, 1] type='1858428 * float32'>, 'nPU': <Array [55, 31, 27, 17, 49, ... 57, 28, 58, 48] type='278 * ?int32[parameters={\"...'>}, {'photon_pt': <Array [[74.7], [47], ... [57.9], [42.6]] type='301 * option[var * float32[param...'>, 'photon_eta': <Array [[0.0429], [-0.27], ... [-2], [-0.0116]] type='301 * option[var * float32...'>, 'muon1_pt': <Array [92, 75.1, 85.2, ... 271, 156, 32.6] type='301 * ?float32[parameters={\"__...'>, 'muon2_pt': <Array [21.4, 30.9, 47.3, ... 176, 65.1, 22.3] type='301 * ?float32[parameters={...'>, 'muon1_eta': <Array [-1.58, 1.96, -1.77, ... -0.814, -2.3] type='301 * ?float32[parameters={\"...'>, 'muon2_eta': <Array [-2.01, 1.05, -1.53, ... -0.312, 0.289] type='301 * ?float32[parameters={...'>, 'muon_mass': <Array [90.7, 92.1, 91.4, ... 91.6, 87.3, 105] type='301 * ?float32'>, 'generator_weight': <Array [1, 1, 1, 1, 1, 1, ... 1, 1, 1, 1, 1, 1] type='301 * ?float32'>, 'event_weight': <Array [1, 1, 1, 1, 1, 1, ... 1, 1, 1, 1, 1, 1] type='1858428 * float32'>, 'nPU': <Array [27, 53, 32, 40, 42, ... 31, 12, 25, 46] type='301 * ?int32[parameters={\"...'>}, {'photon_pt': <Array [[41.3], [77.1], ... [61.8], [37.4]] type='16 * option[var * float32[para...'>, 'photon_eta': <Array [[-0.162], [1.74], ... [0.544], [1.77]] type='16 * option[var * float32[p...'>, 'muon1_pt': <Array [52.1, 66.1, 189, ... 33.7, 110, 42] type='16 * ?float32[parameters={\"__d...'>, 'muon2_pt': <Array [32.8, 28.2, 73.8, ... 27.5, 84.9, 23.5] type='16 * ?float32[parameters={...'>, 'muon1_eta': <Array [2.39, -1.48, 0.24, ... 1.42, 1.44] type='16 * ?float32[parameters={\"__do...'>, 'muon2_eta': <Array [1.59, -0.298, -0.499, ... 1.94, -0.608] type='16 * ?float32[parameters={...'>, 'muon_mass': <Array [89.3, 92.6, 89.7, ... 90.1, 90.9, 98.4] type='16 * ?float32'>, 'generator_weight': <Array [1, 1, 1, 1, 1, 1, ... 1, 1, 1, 1, 1, 1] type='16 * ?float32'>, 'event_weight': <Array [1, 1, 1, 1, 1, 1, ... 1, 1, 1, 1, 1, 1] type='84474 * float32'>, 'nPU': <Array [34, 40, 37, 34, 18, ... 39, 35, 44, 20] type='16 * ?int32[parameters={\"_...'>}, {'photon_pt': <Array [[41.2], [63.8], ... [53.2], [35.5]] type='233 * option[var * float32[par...'>, 'photon_eta': <Array [[0.46], [-1.74], ... [-0.867], [-1.09]] type='233 * option[var * float32...'>, 'muon1_pt': <Array [97.6, 36.6, 56.7, ... 54.8, 73.4, 177] type='233 * ?float32[parameters={...'>, 'muon2_pt': <Array [58.1, 28.2, 41.5, ... 41.2, 26, 31.2] type='233 * ?float32[parameters={\"...'>, 'muon1_eta': <Array [0.97, -2.27, 0.416, ... 1.66, 0.752] type='233 * ?float32[parameters={\"_...'>, 'muon2_eta': <Array [0.216, 0.0301, 0.779, ... 0.861, 0.203] type='233 * ?float32[parameters=...'>, 'muon_mass': <Array [91, 91.2, 92.1, ... 91.2, 93.5, 89.5] type='233 * ?float32'>, 'generator_weight': <Array [1, 1, 1, 1, 1, 1, ... 1, 1, 1, 1, 1, 1] type='233 * ?float32'>, 'event_weight': <Array [1, 1, 1, 1, 1, 1, ... 1, 1, 1, 1, 1, 1] type='1605006 * float32'>, 'nPU': <Array [35, 24, 44, 44, 35, ... 24, 33, 37, 32] type='233 * ?int32[parameters={\"...'>}, {'photon_pt': <Array [[49.2], [53.9], ... [49], [36.9]] type='114 * option[var * float32[param...'>, 'photon_eta': <Array [[0.305], [0.789], ... [2.19], [1.9]] type='114 * option[var * float32[pa...'>, 'muon1_pt': <Array [47.7, 54, 51.9, ... 52.8, 59.2, 75.3] type='114 * ?float32[parameters={\"...'>, 'muon2_pt': <Array [39.2, 39, 33.3, ... 42.4, 33.6, 44.5] type='114 * ?float32[parameters={\"...'>, 'muon1_eta': <Array [1.34, -0.566, 1.05, ... 0.355, -0.782] type='114 * ?float32[parameters={...'>, 'muon2_eta': <Array [0.0549, -1.31, ... -0.0522, -0.886] type='114 * ?float32[parameters={\"__...'>, 'muon_mass': <Array [70.3, 92.7, 91.2, ... 93.3, 91, 89.3] type='114 * ?float32'>, 'generator_weight': <Array [1, 1, 1, 1, 1, 1, ... 1, 1, 1, 1, 1, 1] type='114 * ?float32'>, 'event_weight': <Array [1, 1, 1, 1, 1, 1, ... 1, 1, 1, 1, 1, 1] type='675792 * float32'>, 'nPU': <Array [23, 21, 26, 44, 52, ... 26, 38, 27, 37] type='114 * ?int32[parameters={\"...'>}, {'photon_pt': <Array [[35.1], [42.2], ... [78], [37.7]] type='303 * option[var * float32[param...'>, 'photon_eta': <Array [[2.39], [-2.05], ... [0.892], [-1.22]] type='303 * option[var * float32[...'>, 'muon1_pt': <Array [83.3, 283, 32, ... 68.5, 69.5, 64.6] type='303 * ?float32[parameters={\"_...'>, 'muon2_pt': <Array [29, 62.8, 26.9, ... 33.7, 40.8, 27.7] type='303 * ?float32[parameters={\"...'>, 'muon1_eta': <Array [-0.28, -1.46, -1.91, ... -0.353, 1.33] type='303 * ?float32[parameters={...'>, 'muon2_eta': <Array [-1.39, -1.33, 0.049, ... -1.11, 0.423] type='303 * ?float32[parameters={...'>, 'muon_mass': <Array [95, 89.8, 84, 92, ... 91.9, 89.6, 85.5] type='303 * ?float32'>, 'generator_weight': <Array [1, 1, 1, 1, 1, 1, ... 1, 1, 1, 1, 1, 1] type='303 * ?float32'>, 'event_weight': <Array [1, 1, 1, 1, 1, 1, ... 1, 1, 1, 1, 1, 1] type='1858428 * float32'>, 'nPU': <Array [27, 16, 50, 38, 32, ... 53, 29, 46, 39] type='303 * ?int32[parameters={\"...'>}, {'photon_pt': <Array [[58.3], [166], ... [42.4], [115]] type='279 * option[var * float32[param...'>, 'photon_eta': <Array [[-0.874], [0.951, ... -0.277], [0.264]] type='279 * option[var * float32...'>, 'muon1_pt': <Array [232, 109, 27.6, ... 55.4, 64.6, 62.5] type='279 * ?float32[parameters={\"...'>, 'muon2_pt': <Array [185, 68.4, 26.1, ... 41, 33.4, 45.2] type='279 * ?float32[parameters={\"_...'>, 'muon1_eta': <Array [1.29, 1.27, -2.38, ... -1.83, -1.84] type='279 * ?float32[parameters={\"_...'>, 'muon2_eta': <Array [0.985, 1.02, 0.0786, ... -2.23, -0.374] type='279 * ?float32[parameters=...'>, 'muon_mass': <Array [86.9, 93.2, 99, ... 83.8, 94.1, 87.5] type='279 * ?float32'>, 'generator_weight': <Array [1, 1, 1, 1, 1, 1, ... 1, 1, 1, 1, 1, 1] type='279 * ?float32'>, 'event_weight': <Array [1, 1, 1, 1, 1, 1, ... 1, 1, 1, 1, 1, 1] type='1823772 * float32'>, 'nPU': <Array [18, 54, 22, 31, 31, ... 27, 54, 25, 28] type='279 * ?int32[parameters={\"...'>}, {'photon_pt': <Array [[51.1], [88.8], ... [91.3], [95.6]] type='290 * option[var * float32[par...'>, 'photon_eta': <Array [[0.555], [-0.7], ... [-2.01], [-1.79]] type='290 * option[var * float32[...'>, 'muon1_pt': <Array [41.3, 84.8, 60.6, ... 43.3, 58.2, 70.6] type='290 * ?float32[parameters=...'>, 'muon2_pt': <Array [40.3, 39.1, 39, ... 30.4, 42.6, 54.1] type='290 * ?float32[parameters={\"...'>, 'muon1_eta': <Array [0.399, 0.218, 1.05, ... -0.0713, -0.43] type='290 * ?float32[parameters=...'>, 'muon2_eta': <Array [-1.38, -1.02, 0.402, ... -1.19, -0.887] type='290 * ?float32[parameters=...'>, 'muon_mass': <Array [93.7, 88.1, 93.1, ... 85.4, 62.9, 93.4] type='290 * ?float32'>, 'generator_weight': <Array [1, 1, 1, 1, 1, 1, ... 1, 1, 1, 1, 1, 1] type='290 * ?float32'>, 'event_weight': <Array [1, 1, 1, 1, 1, 1, ... 1, 1, 1, 1, 1, 1] type='1858546 * float32'>, 'nPU': <Array [44, 34, 41, 20, 27, ... 33, 41, 31, 42] type='290 * ?int32[parameters={\"...'>}, {'photon_pt': <Array [[47.3], [38.8], ... [90.7], [93.2]] type='287 * option[var * float32[par...'>, 'photon_eta': <Array [[-1.05], [2.4], ... [-1.33], [-0.469]] type='287 * option[var * float32[...'>, 'muon1_pt': <Array [81.6, 72, 104, ... 63.2, 62.2, 107] type='287 * ?float32[parameters={\"__...'>, 'muon2_pt': <Array [40.1, 44.5, 63.5, ... 35, 50.2, 21.9] type='287 * ?float32[parameters={\"...'>, 'muon1_eta': <Array [1.69, 2.21, -0.876, ... 1.49, 0.711] type='287 * ?float32[parameters={\"_...'>, 'muon2_eta': <Array [0.493, 0.936, -0.815, ... 1.82, 0.306] type='287 * ?float32[parameters={...'>, 'muon_mass': <Array [92.5, 87.6, 90.2, ... 92.3, 88.1, 90.9] type='287 * ?float32'>, 'generator_weight': <Array [1, 1, 1, 1, 1, 1, ... 1, 1, 1, 1, 1, 1] type='287 * ?float32'>, 'event_weight': <Array [1, 1, 1, 1, 1, 1, ... 1, 1, 1, 1, 1, 1] type='1858428 * float32'>, 'nPU': <Array [55, 59, 37, 31, 35, ... 72, 54, 66, 24] type='287 * ?int32[parameters={\"...'>}, {'photon_pt': <Array [[44.4], [40.3], ... [69.2], [49.2]] type='307 * option[var * float32[par...'>, 'photon_eta': <Array [[-0.507], [-0.102, ... [0.569]] type='307 * option[var * float32[paramet...'>, 'muon1_pt': <Array [58.9, 76.6, 59.3, ... 60.5, 67.6, 57.4] type='307 * ?float32[parameters=...'>, 'muon2_pt': <Array [39.1, 37.2, 38.9, ... 21.4, 29.3, 36.7] type='307 * ?float32[parameters=...'>, 'muon1_eta': <Array [-2.09, 1.79, 1.43, ... 1.13, -0.939] type='307 * ?float32[parameters={\"_...'>, 'muon2_eta': <Array [-1.57, 1.51, 1.96, ... 0.0773, -0.173] type='307 * ?float32[parameters={...'>, 'muon_mass': <Array [90.4, 108, 92, 87, ... 91.2, 89.6, 92] type='307 * ?float32'>, 'generator_weight': <Array [1, 1, 1, 1, 1, 1, ... 1, 1, 1, 1, 1, 1] type='307 * ?float32'>, 'event_weight': <Array [1, 1, 1, 1, 1, 1, ... 1, 1, 1, 1, 1, 1] type='1858428 * float32'>, 'nPU': <Array [34, 21, 18, 41, 28, ... 37, 44, 39, 33] type='307 * ?int32[parameters={\"...'>}, {'photon_pt': <Array [[49.3], [38.2], ... [36.9], [43.5]] type='322 * option[var * float32[par...'>, 'photon_eta': <Array [[-0.341], [-1.69], ... [2.1], [0.395]] type='322 * option[var * float32[...'>, 'muon1_pt': <Array [67.6, 46.3, 247, ... 42.8, 66.9, 74.5] type='322 * ?float32[parameters={...'>, 'muon2_pt': <Array [27.9, 44.7, 88.1, ... 32.4, 46.8, 23.6] type='322 * ?float32[parameters=...'>, 'muon1_eta': <Array [1.46, -0.955, -1.67, ... 1.62, 0.178] type='322 * ?float32[parameters={\"...'>, 'muon2_eta': <Array [0.409, -1.86, -1.74, ... 1.41, 1.08] type='322 * ?float32[parameters={\"_...'>, 'muon_mass': <Array [91.9, 90.2, 96.2, ... 83.4, 113, 92.3] type='322 * ?float32'>, 'generator_weight': <Array [1, 1, 1, 1, 1, 1, ... 1, 1, 1, 1, 1, 1] type='322 * ?float32'>, 'event_weight': <Array [1, 1, 1, 1, 1, 1, ... 1, 1, 1, 1, 1, 1] type='1858428 * float32'>, 'nPU': <Array [24, 20, 18, 27, 50, ... 42, 33, 28, 30] type='322 * ?int32[parameters={\"...'>}]\n",
      "ww event_muon_phodrs [{'photon_pt': <Array [[38.7], [57.3], ... [54], [73.5]] type='27 * option[var * float32[parame...'>, 'photon_eta': <Array [[2.09], [-1.22], ... [1.41], [0.229]] type='27 * option[var * float32[pa...'>, 'muon1_pt': <Array [184, 58.4, 73.5, ... 129, 53.4, 90.6] type='27 * ?float32[parameters={\"_...'>, 'muon2_pt': <Array [162, 35.9, 44, ... 28.5, 22.6, 26.9] type='27 * ?float32[parameters={\"__...'>, 'muon1_eta': <Array [-0.246, 0.51, -2.21, ... 1.44, 0.226] type='27 * ?float32[parameters={\"_...'>, 'muon2_eta': <Array [2.09, -1.45, -0.0851, ... 0.529, 1.62] type='27 * ?float32[parameters={\"...'>, 'muon_mass': <Array [610, 135, 152, 158, ... 262, 50.3, 124] type='27 * ?float32'>, 'generator_weight': <Array [1, 1, 1, 1, 1, 1, ... 1, 1, 1, 1, 1, 1] type='27 * ?float32'>, 'event_weight': <Array [1, 1, 1, 1, 1, 1, ... 1, 1, 1, 1, 1, 1] type='1432080 * float32'>, 'nPU': <Array [26, 35, 49, 38, 40, ... 49, 40, 32, 33] type='27 * ?int32[parameters={\"_...'>}, {'photon_pt': <Array [[73.9], [49.3], ... [117], [144]] type='26 * option[var * float32[parame...'>, 'photon_eta': <Array [[-0.612], [2.09], ... -1.31], [-0.227]] type='26 * option[var * float32[...'>, 'muon1_pt': <Array [50, 154, 51.4, ... 58.4, 557, 97.7] type='26 * ?float32[parameters={\"__d...'>, 'muon2_pt': <Array [38.3, 57.2, 21.3, ... 40, 428, 72.2] type='26 * ?float32[parameters={\"__...'>, 'muon1_eta': <Array [2.27, 2.23, 0.935, ... 1.2, -0.562] type='26 * ?float32[parameters={\"__d...'>, 'muon2_eta': <Array [1.22, 1.37, -0.667, ... -1.51, -0.87] type='26 * ?float32[parameters={\"_...'>, 'muon_mass': <Array [87, 203, 75.2, ... 97.4, 2.02e+03, 113] type='26 * ?float32'>, 'generator_weight': <Array [1, 1, 1, 1, 1, 1, ... 1, 1, 1, 1, 1, 1] type='26 * ?float32'>, 'event_weight': <Array [1, 1, 1, 1, 1, 1, ... 1, 1, 1, 1, 1, 1] type='1853280 * float32'>, 'nPU': <Array [21, 37, 37, 36, 27, ... 30, 39, 58, 29] type='26 * ?int32[parameters={\"_...'>}, {'photon_pt': <Array [[69.1], [49.6], ... [35.3], [54.7]] type='24 * option[var * float32[para...'>, 'photon_eta': <Array [[-2.19], [-1.4], ... [1.61], [-0.053]] type='24 * option[var * float32[p...'>, 'muon1_pt': <Array [74.9, 36.2, 50, ... 41.2, 50.7, 92.7] type='24 * ?float32[parameters={\"_...'>, 'muon2_pt': <Array [42.7, 24.4, 43.5, ... 35.1, 28, 45.4] type='24 * ?float32[parameters={\"_...'>, 'muon1_eta': <Array [-2.19, -1.43, -1.75, ... -0.166, 2.19] type='24 * ?float32[parameters={\"...'>, 'muon2_eta': <Array [-1.72, -1.05, ... 0.931, -0.0607] type='24 * ?float32[parameters={\"__doc...'>, 'muon_mass': <Array [116, 60.4, 93.5, ... 96, 80.3, 219] type='24 * ?float32'>, 'generator_weight': <Array [1, 1, 1, 1, 1, 1, ... 1, 1, 1, 1, 1, 1] type='24 * ?float32'>, 'event_weight': <Array [1, 1, 1, 1, 1, 1, ... 1, 1, 1, 1, 1, 1] type='1853280 * float32'>, 'nPU': <Array [55, 43, 49, 23, 61, ... 31, 36, 28, 30] type='24 * ?int32[parameters={\"_...'>}, {'photon_pt': <Array [[56.2], [37.3], ... [42.1], [47.5]] type='20 * option[var * float32[para...'>, 'photon_eta': <Array [[-0.694], [1.59], ... [0.951], [1.3]] type='20 * option[var * float32[pa...'>, 'muon1_pt': <Array [49.5, 54.4, 66.3, ... 45.7, 83.1, 59.2] type='20 * ?float32[parameters={...'>, 'muon2_pt': <Array [28, 24.4, 45, ... 28.5, 61.4, 39.6] type='20 * ?float32[parameters={\"__d...'>, 'muon1_eta': <Array [1.38, 1.5, -1.45, ... 0.354, -0.955] type='20 * ?float32[parameters={\"__...'>, 'muon2_eta': <Array [0.359, 0.123, 1.41, ... 0.817, 1.3] type='20 * ?float32[parameters={\"__d...'>, 'muon_mass': <Array [78.9, 66.5, 240, ... 101, 144, 164] type='20 * ?float32'>, 'generator_weight': <Array [1, 1, 1, 1, 1, 1, ... 1, 1, 1, 1, 1, 1] type='20 * ?float32'>, 'event_weight': <Array [1, 1, 1, 1, 1, 1, ... 1, 1, 1, 1, 1, 1] type='1010880 * float32'>, 'nPU': <Array [41, 41, 23, 33, 36, ... 55, 56, 54, 52] type='20 * ?int32[parameters={\"_...'>}, {'photon_pt': <Array [[798], [151], ... [89], [118]] type='34 * option[var * float32[parameter...'>, 'photon_eta': <Array [[0.651], [-1.96], ... [-1.65], [-1.14]] type='34 * option[var * float32[...'>, 'muon1_pt': <Array [318, 139, 96.3, ... 98.9, 124, 197] type='34 * ?float32[parameters={\"__d...'>, 'muon2_pt': <Array [96.2, 29, 80.2, ... 24, 75.4, 58.9] type='34 * ?float32[parameters={\"__d...'>, 'muon1_eta': <Array [0.723, -1.24, ... -1.94, -1.77] type='34 * ?float32[parameters={\"__doc__...'>, 'muon2_eta': <Array [0.947, 0.448, 0.371, ... 1.19, 1.08] type='34 * ?float32[parameters={\"__...'>, 'muon_mass': <Array [111, 139, 177, 101, ... 140, 481, 473] type='34 * ?float32'>, 'generator_weight': <Array [1, 1, 1, 1, 1, 1, ... 1, 1, 1, 1, 1, 1] type='34 * ?float32'>, 'event_weight': <Array [1, 1, 1, 1, 1, 1, ... 1, 1, 1, 1, 1, 1] type='1853280 * float32'>, 'nPU': <Array [37, 40, 42, 37, 28, ... 62, 62, 39, 21] type='34 * ?int32[parameters={\"_...'>}, {'photon_pt': <Array [[50.2], [68.2], ... [110], [103]] type='13 * option[var * float32[parame...'>, 'photon_eta': <Array [[0.468], [-0.623], ... [1.8], [0.23]] type='13 * option[var * float32[pa...'>, 'muon1_pt': <Array [57.9, 85.5, 60.7, ... 61.3, 151, 126] type='13 * ?float32[parameters={\"_...'>, 'muon2_pt': <Array [49.4, 42.4, 52.8, ... 61, 85.1, 77.5] type='13 * ?float32[parameters={\"_...'>, 'muon1_eta': <Array [0.464, 1.5, 0.895, ... 0.562, -0.236] type='13 * ?float32[parameters={\"_...'>, 'muon2_eta': <Array [0.7, 0.429, -0.826, ... -0.157, -0.267] type='13 * ?float32[parameters={...'>, 'muon_mass': <Array [104, 125, 158, 58.6, ... 234, 238, 197] type='13 * ?float32'>, 'generator_weight': <Array [1, 1, 1, 1, 1, 1, ... 1, 1, 1, 1, 1, 1] type='13 * ?float32'>, 'event_weight': <Array [1, 1, 1, 1, 1, 1, ... 1, 1, 1, 1, 1, 1] type='1853280 * float32'>, 'nPU': <Array [19, 36, 24, 52, 27, ... 52, 39, 52, 53] type='13 * ?int32[parameters={\"_...'>}, {'photon_pt': <Array [[46], [73], ... [38.6], [88.6]] type='26 * option[var * float32[paramete...'>, 'photon_eta': <Array [[0.981], [1.31], ... [0.714], [-1.21]] type='26 * option[var * float32[p...'>, 'muon1_pt': <Array [31.6, 80.6, 121, ... 315, 122, 158] type='26 * ?float32[parameters={\"__d...'>, 'muon2_pt': <Array [30.5, 32.1, 38.8, ... 102, 44, 81.6] type='26 * ?float32[parameters={\"__...'>, 'muon1_eta': <Array [-0.0779, 0.455, ... -0.985, -1.21] type='26 * ?float32[parameters={\"__do...'>, 'muon2_eta': <Array [-0.0319, 0.341, ... 0.457, -2.11] type='26 * ?float32[parameters={\"__doc...'>, 'muon_mass': <Array [61.7, 86.8, 195, ... 366, 185, 111] type='26 * ?float32'>, 'generator_weight': <Array [1, 1, 1, 1, 1, 1, ... 1, 1, 1, 1, 1, 1] type='26 * ?float32'>, 'event_weight': <Array [1, 1, 1, 1, 1, 1, ... 1, 1, 1, 1, 1, 1] type='1853280 * float32'>, 'nPU': <Array [29, 34, 44, 38, 36, ... 69, 51, 34, 51] type='26 * ?int32[parameters={\"_...'>}, {'photon_pt': <Array [[65.9], [59.3], ... [47.3], [35.2]] type='25 * option[var * float32[para...'>, 'photon_eta': <Array [[0.0741], [-2.05], ... [-0.798], [-1]] type='25 * option[var * float32[p...'>, 'muon1_pt': <Array [38.6, 68, 75.2, 143, ... 42, 77, 208] type='25 * ?float32[parameters={\"_...'>, 'muon2_pt': <Array [21.2, 62.8, 47, ... 37.5, 57.8, 150] type='25 * ?float32[parameters={\"__...'>, 'muon1_eta': <Array [1.18, -2.14, 1.34, ... -1.65, -1.06] type='25 * ?float32[parameters={\"__...'>, 'muon2_eta': <Array [1.61, -2.05, -0.323, ... 0.907, -0.424] type='25 * ?float32[parameters={...'>, 'muon_mass': <Array [57.3, 123, 145, ... 58.2, 258, 367] type='25 * ?float32'>, 'generator_weight': <Array [1, 1, 1, 1, 1, 1, ... 1, 1, 1, 1, 1, 1] type='25 * ?float32'>, 'event_weight': <Array [1, 1, 1, 1, 1, 1, ... 1, 1, 1, 1, 1, 1] type='1853280 * float32'>, 'nPU': <Array [55, 44, 40, 15, 26, ... 30, 28, 24, 41] type='25 * ?int32[parameters={\"_...'>}, {'photon_pt': <Array [[64.7], [51.8], ... [58.9], [40.2]] type='23 * option[var * float32[para...'>, 'photon_eta': <Array [[-0.144], [-1.92, ... 0.0918], [-1.74]] type='23 * option[var * float32[...'>, 'muon1_pt': <Array [124, 136, 139, ... 55.4, 102, 32.7] type='23 * ?float32[parameters={\"__d...'>, 'muon2_pt': <Array [56.1, 85.8, 47, ... 28.6, 22.3, 30.7] type='23 * ?float32[parameters={\"_...'>, 'muon1_eta': <Array [-1.04, -0.781, ... -0.562, -0.0988] type='23 * ?float32[parameters={\"__d...'>, 'muon2_eta': <Array [-0.428, -1.95, -2.21, ... 0.531, -1.13] type='23 * ?float32[parameters={...'>, 'muon_mass': <Array [174, 253, 241, ... 84.4, 107, 71.3] type='23 * ?float32'>, 'generator_weight': <Array [1, 1, 1, 1, 1, 1, ... 1, 1, 1, 1, 1, 1] type='23 * ?float32'>, 'event_weight': <Array [1, 1, 1, 1, 1, 1, ... 1, 1, 1, 1, 1, 1] type='1853280 * float32'>, 'nPU': <Array [37, 55, 41, 47, 19, ... 25, 33, 31, 52] type='23 * ?int32[parameters={\"_...'>}, {'photon_pt': <Array [[70.2], [66.5], ... [59.4], [111]] type='32 * option[var * float32[param...'>, 'photon_eta': <Array [[-1.31], [0.678], ... [-0.437], [-1.3]] type='32 * option[var * float32[...'>, 'muon1_pt': <Array [108, 55.8, 53.3, ... 57.5, 501, 61] type='32 * ?float32[parameters={\"__d...'>, 'muon2_pt': <Array [54.1, 41.2, 34.6, ... 36.5, 430, 42.2] type='32 * ?float32[parameters={\"...'>, 'muon1_eta': <Array [-1.79, -1.6, -1.16, ... 1.23, -1.52] type='32 * ?float32[parameters={\"__...'>, 'muon2_eta': <Array [-0.719, 0.0443, ... -0.11, 0.612] type='32 * ?float32[parameters={\"__doc...'>, 'muon_mass': <Array [161, 126, 121, ... 93, 1.14e+03, 146] type='32 * ?float32'>, 'generator_weight': <Array [1, 1, 1, 1, 1, 1, ... 1, 1, 1, 1, 1, 1] type='32 * ?float32'>, 'event_weight': <Array [1, 1, 1, 1, 1, 1, ... 1, 1, 1, 1, 1, 1] type='1853280 * float32'>, 'nPU': <Array [32, 24, 53, 40, 34, ... 36, 32, 23, 27] type='32 * ?int32[parameters={\"_...'>}, {'photon_pt': <Array [[84.1], [96], [277]] type='3 * option[var * float32[parameters={\"__doc__...'>, 'photon_eta': <Array [[0.321], [0.408], [0.636]] type='3 * option[var * float32[parameters={\"_...'>, 'muon1_pt': <Array [58.9, 168, 139] type='3 * ?float32[parameters={\"__doc__\": \"pt\"}]'>, 'muon2_pt': <Array [36.6, 99.8, 104] type='3 * ?float32[parameters={\"__doc__\": \"pt\"}]'>, 'muon1_eta': <Array [2.32, -1.45, 0.727] type='3 * ?float32[parameters={\"__doc__\": \"eta\"}]'>, 'muon2_eta': <Array [0.714, 1.4, 0.617] type='3 * ?float32[parameters={\"__doc__\": \"eta\"}]'>, 'muon_mass': <Array [116, 571, 158] type='3 * ?float32'>, 'generator_weight': <Array [1, 1, 1] type='3 * ?float32'>, 'event_weight': <Array [1, 1, 1, 1, 1, 1, ... 1, 1, 1, 1, 1, 1] type='168480 * float32'>, 'nPU': <Array [27, 27, 44] type='3 * ?int32[parameters={\"__doc__\": \"the number of pileu...'>}, {'photon_pt': <Array [[53.4], [54.5], ... [175], [45.3]] type='20 * option[var * float32[param...'>, 'photon_eta': <Array [[2.17], [0.472], ... [-0.137], [0.75]] type='20 * option[var * float32[p...'>, 'muon1_pt': <Array [26.1, 143, 117, ... 58.6, 202, 82.5] type='20 * ?float32[parameters={\"__...'>, 'muon2_pt': <Array [25.1, 70.3, 59, ... 50.4, 32.6, 37.5] type='20 * ?float32[parameters={\"_...'>, 'muon1_eta': <Array [2.17, 1.69, 1.35, ... 0.149, 0.753] type='20 * ?float32[parameters={\"__d...'>, 'muon2_eta': <Array [0.581, 0.466, 1.5, ... -0.68, 0.591] type='20 * ?float32[parameters={\"__...'>, 'muon_mass': <Array [67.9, 239, 158, ... 221, 128, 68.8] type='20 * ?float32'>, 'generator_weight': <Array [1, 1, 1, 1, 1, 1, ... 1, 1, 1, 1, 1, 1] type='20 * ?float32'>, 'event_weight': <Array [1, 1, 1, 1, 1, 1, ... 1, 1, 1, 1, 1, 1] type='1853280 * float32'>, 'nPU': <Array [26, 38, 36, 52, 52, ... 22, 22, 44, 30] type='20 * ?int32[parameters={\"_...'>}, {'photon_pt': <Array [[38.7], [195], ... [47.9], [45.8]] type='21 * option[var * float32[param...'>, 'photon_eta': <Array [[-0.297], [-1.9], ... [0.808], [1.07]] type='21 * option[var * float32[p...'>, 'muon1_pt': <Array [60.4, 132, 39.2, ... 30.9, 77.6, 158] type='21 * ?float32[parameters={\"_...'>, 'muon2_pt': <Array [32, 28.4, 21.4, ... 27.5, 76.9, 41.1] type='21 * ?float32[parameters={\"_...'>, 'muon1_eta': <Array [2.13, 0.743, 2.17, ... -0.718, 1.53] type='21 * ?float32[parameters={\"__...'>, 'muon2_eta': <Array [0.0356, 0.313, ... 0.669, 0.0455] type='21 * ?float32[parameters={\"__doc...'>, 'muon_mass': <Array [136, 53.7, 220, 251, ... 105, 169, 161] type='21 * ?float32'>, 'generator_weight': <Array [1, 1, 1, 1, 1, 1, ... 1, 1, 1, 1, 1, 1] type='21 * ?float32'>, 'event_weight': <Array [1, 1, 1, 1, 1, 1, ... 1, 1, 1, 1, 1, 1] type='1853120 * float32'>, 'nPU': <Array [43, 64, 27, 40, 44, ... 38, 49, 33, 26] type='21 * ?int32[parameters={\"_...'>}, {'photon_pt': <Array [[132], [63.5], ... [258], [40.1]] type='14 * option[var * float32[parame...'>, 'photon_eta': <Array [[1.88], [0.106], ... [-0.95], [-1.07]] type='14 * option[var * float32[p...'>, 'muon1_pt': <Array [179, 91.4, 144, ... 57.2, 275, 84.1] type='14 * ?float32[parameters={\"__...'>, 'muon2_pt': <Array [35.2, 59.3, 108, ... 20.7, 37.6, 54.1] type='14 * ?float32[parameters={\"...'>, 'muon1_eta': <Array [1.89, -1.57, 0.22, ... -1.27, -0.342] type='14 * ?float32[parameters={\"_...'>, 'muon2_eta': <Array [1.29, 0.412, -1.25, ... -1.04, 0.24] type='14 * ?float32[parameters={\"__...'>, 'muon_mass': <Array [166, 225, 318, 141, ... 53.8, 174, 136] type='14 * ?float32'>, 'generator_weight': <Array [1, 1, 1, 1, 1, 1, ... 1, 1, 1, 1, 1, 1] type='14 * ?float32'>, 'event_weight': <Array [1, 1, 1, 1, 1, 1, ... 1, 1, 1, 1, 1, 1] type='926640 * float32'>, 'nPU': <Array [41, 34, 38, 31, 22, ... 38, 41, 45, 53] type='14 * ?int32[parameters={\"_...'>}, {'photon_pt': <Array [[37], [73.7], ... [38.7], [74.3]] type='21 * option[var * float32[parame...'>, 'photon_eta': <Array [[0.491], [1.89], ... [-0.372], [1.77]] type='21 * option[var * float32[p...'>, 'muon1_pt': <Array [37.9, 54.2, 92.9, ... 25.9, 37.2, 161] type='21 * ?float32[parameters={\"...'>, 'muon2_pt': <Array [31.8, 33.5, 67, ... 22.3, 21, 48.1] type='21 * ?float32[parameters={\"__d...'>, 'muon1_eta': <Array [0.621, 0.222, 0.23, ... 0.872, 1.18] type='21 * ?float32[parameters={\"__...'>, 'muon2_eta': <Array [-1.62, 1.72, -1.48, ... -0.328, 2.3] type='21 * ?float32[parameters={\"__...'>, 'muon_mass': <Array [113, 71.4, 153, ... 80.9, 62.1, 203] type='21 * ?float32'>, 'generator_weight': <Array [1, 1, 1, 1, 1, 1, ... 1, 1, 1, 1, 1, 1] type='21 * ?float32'>, 'event_weight': <Array [1, 1, 1, 1, 1, 1, ... 1, 1, 1, 1, 1, 1] type='1853280 * float32'>, 'nPU': <Array [40, 26, 48, 40, 41, ... 25, 16, 34, 59] type='21 * ?int32[parameters={\"_...'>}, {'photon_pt': <Array [[93.4], [73], ... [223], [36.4]] type='17 * option[var * float32[paramet...'>, 'photon_eta': <Array [[1.06], [-1.14], ... [2.35], [-0.891]] type='17 * option[var * float32[p...'>, 'muon1_pt': <Array [97, 66.8, 116, ... 45.4, 150, 46.8] type='17 * ?float32[parameters={\"__d...'>, 'muon2_pt': <Array [51.9, 33, 66.2, ... 24.7, 23.1, 39.7] type='17 * ?float32[parameters={\"_...'>, 'muon1_eta': <Array [1.52, -1.65, -0.0275, ... 0.676, -1.37] type='17 * ?float32[parameters={...'>, 'muon2_eta': <Array [1.53, 0.599, 1.53, ... -0.383, -0.364] type='17 * ?float32[parameters={\"...'>, 'muon_mass': <Array [140, 153, 224, 177, ... 118, 135, 87.2] type='17 * ?float32'>, 'generator_weight': <Array [1, 1, 1, 1, 1, 1, ... 1, 1, 1, 1, 1, 1] type='17 * ?float32'>, 'event_weight': <Array [1, 1, 1, 1, 1, 1, ... 1, 1, 1, 1, 1, 1] type='1853280 * float32'>, 'nPU': <Array [49, 26, 54, 41, 41, ... 34, 27, 43, 17] type='17 * ?int32[parameters={\"_...'>}, {'photon_pt': <Array [[48.4], [77.8], ... [48.4], [40.5]] type='21 * option[var * float32[para...'>, 'photon_eta': <Array [[0.473], [0.541], ... [-1.82], [0.938]] type='21 * option[var * float32[...'>, 'muon1_pt': <Array [81.1, 56.6, 54, ... 73.2, 131, 73.3] type='21 * ?float32[parameters={\"__...'>, 'muon2_pt': <Array [35.5, 55.5, 35.7, ... 71.3, 46.7, 41.7] type='21 * ?float32[parameters={...'>, 'muon1_eta': <Array [2.22, 0.163, -1.27, ... 0.337, 0.511] type='21 * ?float32[parameters={\"_...'>, 'muon2_eta': <Array [-1.08, -0.499, 1.91, ... -1.82, 0.723] type='21 * ?float32[parameters={\"...'>, 'muon_mass': <Array [270, 116, 217, ... 244, 254, 104] type='21 * ?float32'>, 'generator_weight': <Array [1, 1, 1, 1, 1, 1, ... 1, 1, 1, 1, 1, 1] type='21 * ?float32'>, 'event_weight': <Array [1, 1, 1, 1, 1, 1, ... 1, 1, 1, 1, 1, 1] type='1179360 * float32'>, 'nPU': <Array [30, 21, 40, 37, 47, ... 44, 34, 36, 38] type='21 * ?int32[parameters={\"_...'>}, {'photon_pt': <Array [[48.1], [67.8], ... [55.7], [46.4]] type='25 * option[var * float32[para...'>, 'photon_eta': <Array [[-0.347], [0.933], ... [0.78], [-1.14]] type='25 * option[var * float32[...'>, 'muon1_pt': <Array [38.2, 111, 74.8, ... 92.9, 53.5, 99.1] type='25 * ?float32[parameters={\"...'>, 'muon2_pt': <Array [35.1, 20.5, 53.2, ... 69.2, 47.3, 34.6] type='25 * ?float32[parameters={...'>, 'muon1_eta': <Array [-0.883, 0.58, -1.61, ... -0.218, 2.06] type='25 * ?float32[parameters={\"...'>, 'muon2_eta': <Array [0.953, 1.24, -1.6, ... -0.628, -0.52] type='25 * ?float32[parameters={\"_...'>, 'muon_mass': <Array [105, 73.8, 92.5, ... 160, 72.2, 229] type='25 * ?float32'>, 'generator_weight': <Array [1, 1, 1, 1, 1, 1, ... 1, 1, 1, 1, 1, 1] type='25 * ?float32'>, 'event_weight': <Array [1, 1, 1, 1, 1, 1, ... 1, 1, 1, 1, 1, 1] type='1761120 * float32'>, 'nPU': <Array [27, 28, 49, 40, 10, ... 25, 39, 25, 33] type='25 * ?int32[parameters={\"_...'>}, {'photon_pt': <Array [[42.9], [40.4], ... [45.7], [45.9]] type='24 * option[var * float32[para...'>, 'photon_eta': <Array [[0.633], [-1.63], ... [0.291], [0.96]] type='24 * option[var * float32[p...'>, 'muon1_pt': <Array [95.7, 35.7, 31.8, ... 36.5, 324, 77.1] type='24 * ?float32[parameters={\"...'>, 'muon2_pt': <Array [44.9, 24.5, 22.1, ... 29, 24.5, 36.7] type='24 * ?float32[parameters={\"_...'>, 'muon1_eta': <Array [0.523, 1.52, -1.38, ... -0.498, -0.804] type='24 * ?float32[parameters={...'>, 'muon2_eta': <Array [0.938, -0.31, -0.488, ... -0.101, 0.96] type='24 * ?float32[parameters={...'>, 'muon_mass': <Array [122, 84.5, 56.9, ... 68.1, 168, 151] type='24 * ?float32'>, 'generator_weight': <Array [1, 1, 1, 1, 1, 1, ... 1, 1, 1, 1, 1, 1] type='24 * ?float32'>, 'event_weight': <Array [1, 1, 1, 1, 1, 1, ... 1, 1, 1, 1, 1, 1] type='1853280 * float32'>, 'nPU': <Array [32, 40, 30, 37, 19, ... 27, 31, 40, 42] type='24 * ?int32[parameters={\"_...'>}, {'photon_pt': <Array [[41.8], [227], ... [63.5], [71.9]] type='28 * option[var * float32[param...'>, 'photon_eta': <Array [[0.948], [-2.06], ... [1.09], [-2.13]] type='28 * option[var * float32[p...'>, 'muon1_pt': <Array [78.8, 81.1, 53.4, ... 184, 91, 129] type='28 * ?float32[parameters={\"__d...'>, 'muon2_pt': <Array [23.8, 54.3, 35.6, ... 93, 58.1, 61.6] type='28 * ?float32[parameters={\"_...'>, 'muon1_eta': <Array [1.74, -0.414, -1.05, ... 2.32, 0.369] type='28 * ?float32[parameters={\"_...'>, 'muon2_eta': <Array [-0.564, 1.04, -0.0896, ... 1.23, -2.28] type='28 * ?float32[parameters={...'>, 'muon_mass': <Array [137, 168, 96.9, 120, ... 283, 160, 359] type='28 * ?float32'>, 'generator_weight': <Array [1, 1, 1, 1, 1, 1, ... 1, 1, 1, 1, 1, 1] type='28 * ?float32'>, 'event_weight': <Array [1, 1, 1, 1, 1, 1, ... 1, 1, 1, 1, 1, 1] type='1853280 * float32'>, 'nPU': <Array [30, 33, 40, 32, 18, ... 42, 36, 30, 47] type='28 * ?int32[parameters={\"_...'>}, {'photon_pt': <Array [[38.7], [72.8], ... [76.1], [46.8]] type='18 * option[var * float32[para...'>, 'photon_eta': <Array [[-0.147], [-0.223], ... -1.09], [1.39]] type='18 * option[var * float32[...'>, 'muon1_pt': <Array [88.3, 141, 102, ... 119, 62.9, 91.8] type='18 * ?float32[parameters={\"__...'>, 'muon2_pt': <Array [35, 126, 87.5, ... 88.2, 45.8, 28.4] type='18 * ?float32[parameters={\"__...'>, 'muon1_eta': <Array [-0.19, -0.221, 1.57, ... -0.72, -0.128] type='18 * ?float32[parameters={...'>, 'muon2_eta': <Array [-0.149, 1.22, -2.07, ... -0.933, 1.4] type='18 * ?float32[parameters={\"_...'>, 'muon_mass': <Array [111, 339, 586, 343, ... 267, 87.8, 133] type='18 * ?float32'>, 'generator_weight': <Array [1, 1, 1, 1, 1, 1, ... 1, 1, 1, 1, 1, 1] type='18 * ?float32'>, 'event_weight': <Array [1, 1, 1, 1, 1, 1, ... 1, 1, 1, 1, 1, 1] type='1853280 * float32'>, 'nPU': <Array [39, 25, 47, 36, 30, ... 44, 27, 45, 37] type='18 * ?int32[parameters={\"_...'>}, {'photon_pt': <Array [[212], [57.8], ... [61.2], [71.5]] type='19 * option[var * float32[param...'>, 'photon_eta': <Array [[-0.716], [0.753, ... -0.343], [-2.34]] type='19 * option[var * float32[...'>, 'muon1_pt': <Array [127, 69.6, 32.4, ... 39.2, 151, 88.4] type='19 * ?float32[parameters={\"_...'>, 'muon2_pt': <Array [32.2, 44, 23.1, ... 21.2, 70.1, 57.1] type='19 * ?float32[parameters={\"_...'>, 'muon1_eta': <Array [-1.97, 0.717, -0.654, ... -1.5, 2.37] type='19 * ?float32[parameters={\"_...'>, 'muon2_eta': <Array [-1.11, -1.04, ... -0.434, -0.378] type='19 * ?float32[parameters={\"__doc...'>, 'muon_mass': <Array [81, 148, 60.6, ... 57.8, 231, 298] type='19 * ?float32'>, 'generator_weight': <Array [1, 1, 1, 1, 1, 1, ... 1, 1, 1, 1, 1, 1] type='19 * ?float32'>, 'event_weight': <Array [1, 1, 1, 1, 1, 1, ... 1, 1, 1, 1, 1, 1] type='1853280 * float32'>, 'nPU': <Array [55, 27, 45, 44, 22, ... 32, 29, 12, 44] type='19 * ?int32[parameters={\"_...'>}, {'photon_pt': <Array [[76.4], [43], ... [263], [56.7]] type='29 * option[var * float32[paramet...'>, 'photon_eta': <Array [[-0.501], [1.19], ... [-1.82], [1.2]] type='29 * option[var * float32[pa...'>, 'muon1_pt': <Array [53.6, 39.1, 59.7, ... 196, 129, 59.8] type='29 * ?float32[parameters={\"_...'>, 'muon2_pt': <Array [42.4, 35.7, 48.7, ... 35.6, 24.3, 35.3] type='29 * ?float32[parameters={...'>, 'muon1_eta': <Array [1.02, -0.56, -0.421, ... -1.25, -0.655] type='29 * ?float32[parameters={...'>, 'muon2_eta': <Array [-0.499, 2.08, 1.24, ... -1.94, 0.544] type='29 * ?float32[parameters={\"_...'>, 'muon_mass': <Array [122, 149, 146, 116, ... 144, 81.8, 108] type='29 * ?float32'>, 'generator_weight': <Array [1, 1, 1, 1, 1, 1, ... 1, 1, 1, 1, 1, 1] type='29 * ?float32'>, 'event_weight': <Array [1, 1, 1, 1, 1, 1, ... 1, 1, 1, 1, 1, 1] type='1853280 * float32'>, 'nPU': <Array [53, 41, 31, 45, 23, ... 32, 27, 28, 30] type='29 * ?int32[parameters={\"_...'>}, {'photon_pt': <Array [[46.8], [67.3], ... [36.3], [82.3]] type='16 * option[var * float32[para...'>, 'photon_eta': <Array [[1.93], [0.2], ... [1.67], [1.42]] type='16 * option[var * float32[param...'>, 'muon1_pt': <Array [60.5, 25.1, 65.6, ... 75.2, 59.2, 71.2] type='16 * ?float32[parameters={...'>, 'muon2_pt': <Array [56, 20, 32.7, ... 21.6, 24.4, 21.2] type='16 * ?float32[parameters={\"__d...'>, 'muon1_eta': <Array [1.84, 0.114, -2.11, ... 1.49, 0.654] type='16 * ?float32[parameters={\"__...'>, 'muon2_eta': <Array [1.77, -2.27, 0.705, ... 1.1, -0.549] type='16 * ?float32[parameters={\"__...'>, 'muon_mass': <Array [111, 79.4, 200, ... 62, 54.8, 76.4] type='16 * ?float32'>, 'generator_weight': <Array [1, 1, 1, 1, 1, 1, ... 1, 1, 1, 1, 1, 1] type='16 * ?float32'>, 'event_weight': <Array [1, 1, 1, 1, 1, 1, ... 1, 1, 1, 1, 1, 1] type='1853280 * float32'>, 'nPU': <Array [32, 40, 32, 23, 42, ... 25, 27, 26, 26] type='16 * ?int32[parameters={\"_...'>}, {'photon_pt': <Array [[37.3], [63.1], ... [40.2], [150]] type='20 * option[var * float32[param...'>, 'photon_eta': <Array [[0.108], [1.84], ... [0.549], [0.79]] type='20 * option[var * float32[pa...'>, 'muon1_pt': <Array [144, 59.4, 38.6, ... 55.4, 42.3, 55.4] type='20 * ?float32[parameters={\"...'>, 'muon2_pt': <Array [99.1, 25.4, 27.5, ... 44.8, 41.1, 25.5] type='20 * ?float32[parameters={...'>, 'muon1_eta': <Array [1.16, -1.57, -0.771, ... -1.01, -0.388] type='20 * ?float32[parameters={...'>, 'muon2_eta': <Array [0.114, 1.84, -0.156, ... -0.835, -1.3] type='20 * ?float32[parameters={\"...'>, 'muon_mass': <Array [270, 218, 65.9, ... 99.5, 72.8, 82.1] type='20 * ?float32'>, 'generator_weight': <Array [1, 1, 1, 1, 1, 1, ... 1, 1, 1, 1, 1, 1] type='20 * ?float32'>, 'event_weight': <Array [1, 1, 1, 1, 1, 1, ... 1, 1, 1, 1, 1, 1] type='1853280 * float32'>, 'nPU': <Array [24, 44, 47, 34, 36, ... 26, 29, 60, 34] type='20 * ?int32[parameters={\"_...'>}, {'photon_pt': <Array [[45.2], [37.1], ... [111], [97.8]] type='22 * option[var * float32[param...'>, 'photon_eta': <Array [[-2.2], [0.573], ... [0.0565], [0.819]] type='22 * option[var * float32[...'>, 'muon1_pt': <Array [53.6, 51.8, 72.1, ... 40.8, 121, 41.4] type='22 * ?float32[parameters={\"...'>, 'muon2_pt': <Array [28.4, 26.2, 39.2, ... 34.7, 78.6, 28.7] type='22 * ?float32[parameters={...'>, 'muon1_eta': <Array [-0.714, -0.526, -0.164, ... 1.14, 1.81] type='22 * ?float32[parameters={...'>, 'muon2_eta': <Array [-1.89, -0.0718, 2.29, ... -0.783, 2.01] type='22 * ?float32[parameters={...'>, 'muon_mass': <Array [91.4, 71.1, 170, ... 53.8, 277, 62.9] type='22 * ?float32'>, 'generator_weight': <Array [1, 1, 1, 1, 1, 1, ... 1, 1, 1, 1, 1, 1] type='22 * ?float32'>, 'event_weight': <Array [1, 1, 1, 1, 1, 1, ... 1, 1, 1, 1, 1, 1] type='1853280 * float32'>, 'nPU': <Array [16, 40, 33, 38, 37, ... 28, 38, 48, 38] type='22 * ?int32[parameters={\"_...'>}, {'photon_pt': <Array [[44.1], [48.1], ... [53.8], [38.6]] type='29 * option[var * float32[para...'>, 'photon_eta': <Array [[1.09], [0.00193], ... 0.25], [0.0414]] type='29 * option[var * float32[...'>, 'muon1_pt': <Array [68.2, 70.7, 67.1, ... 62.4, 115, 80] type='29 * ?float32[parameters={\"__...'>, 'muon2_pt': <Array [45.5, 52, 23.8, ... 25.6, 84.6, 62.9] type='29 * ?float32[parameters={\"_...'>, 'muon1_eta': <Array [1.2, 0.58, -0.793, ... -1.7, -2.2] type='29 * ?float32[parameters={\"__do...'>, 'muon2_eta': <Array [-1.83, -1.17, -1.62, ... 0.249, 0.372] type='29 * ?float32[parameters={\"...'>, 'muon_mass': <Array [258, 167, 79.8, ... 121, 299, 273] type='29 * ?float32'>, 'generator_weight': <Array [1, 1, 1, 1, 1, 1, ... 1, 1, 1, 1, 1, 1] type='29 * ?float32'>, 'event_weight': <Array [1, 1, 1, 1, 1, 1, ... 1, 1, 1, 1, 1, 1] type='1853280 * float32'>, 'nPU': <Array [35, 17, 31, 48, 28, ... 22, 35, 52, 38] type='29 * ?int32[parameters={\"_...'>}, {'photon_pt': <Array [[51.9], [35.3], ... [96.4], [35.6]] type='16 * option[var * float32[para...'>, 'photon_eta': <Array [[-0.137], [-0.626, ... -0.762], [1.33]] type='16 * option[var * float32[...'>, 'muon1_pt': <Array [65.3, 40.5, 84.8, ... 99.5, 210, 46] type='16 * ?float32[parameters={\"__...'>, 'muon2_pt': <Array [45, 25.7, 59, ... 35.6, 62.2, 29.5] type='16 * ?float32[parameters={\"__d...'>, 'muon1_eta': <Array [-0.625, -1.98, ... -2.11, -0.0751] type='16 * ?float32[parameters={\"__do...'>, 'muon2_eta': <Array [-0.355, -0.735, ... -0.552, -2.1] type='16 * ?float32[parameters={\"__doc...'>, 'muon_mass': <Array [82.5, 53.4, 163, ... 94.2, 287, 104] type='16 * ?float32'>, 'generator_weight': <Array [1, 1, 1, 1, 1, 1, ... 1, 1, 1, 1, 1, 1] type='16 * ?float32'>, 'event_weight': <Array [1, 1, 1, 1, 1, 1, ... 1, 1, 1, 1, 1, 1] type='1853280 * float32'>, 'nPU': <Array [34, 40, 20, 33, 31, ... 16, 38, 44, 35] type='16 * ?int32[parameters={\"_...'>}, {'photon_pt': <Array [[103], [113], ... [42.2], [127]] type='23 * option[var * float32[paramet...'>, 'photon_eta': <Array [[-0.543], [-0.976, ... 0.118], [-2.05]] type='23 * option[var * float32[...'>, 'muon1_pt': <Array [71.8, 105, 57.1, ... 162, 181, 57.6] type='23 * ?float32[parameters={\"__...'>, 'muon2_pt': <Array [47.3, 56.7, 39.7, ... 87.4, 37.5, 27.1] type='23 * ?float32[parameters={...'>, 'muon1_eta': <Array [1.43, -0.458, 0.286, ... 0.384, -1.26] type='23 * ?float32[parameters={\"...'>, 'muon2_eta': <Array [-0.779, 1.96, 0.0566, ... 1.08, 0.424] type='23 * ?float32[parameters={\"...'>, 'muon_mass': <Array [176, 267, 88.8, 70, ... 285, 170, 105] type='23 * ?float32'>, 'generator_weight': <Array [1, 1, 1, 1, 1, 1, ... 1, 1, 1, 1, 1, 1] type='23 * ?float32'>, 'event_weight': <Array [1, 1, 1, 1, 1, 1, ... 1, 1, 1, 1, 1, 1] type='1853280 * float32'>, 'nPU': <Array [36, 16, 46, 51, 20, ... 31, 37, 34, 32] type='23 * ?int32[parameters={\"_...'>}, {'photon_pt': <Array [[41], [77], ... [79.1], [65.1]] type='16 * option[var * float32[paramete...'>, 'photon_eta': <Array [[2.41], [-1.71], ... [-0.61], [-2.49]] type='16 * option[var * float32[p...'>, 'muon1_pt': <Array [28.8, 95.2, 121, ... 114, 129, 302] type='16 * ?float32[parameters={\"__d...'>, 'muon2_pt': <Array [23, 21.2, 27.4, ... 82.1, 105, 119] type='16 * ?float32[parameters={\"__d...'>, 'muon1_eta': <Array [-0.486, -0.0642, ... 0.782, 0.295] type='16 * ?float32[parameters={\"__do...'>, 'muon2_eta': <Array [1.96, -1.68, 1.89, ... 0.29, 1.05] type='16 * ?float32[parameters={\"__do...'>, 'muon_mass': <Array [92.6, 120, 147, 247, ... 242, 229, 401] type='16 * ?float32'>, 'generator_weight': <Array [1, 1, 1, 1, 1, 1, ... 1, 1, 1, 1, 1, 1] type='16 * ?float32'>, 'event_weight': <Array [1, 1, 1, 1, 1, 1, ... 1, 1, 1, 1, 1, 1] type='1853280 * float32'>, 'nPU': <Array [32, 36, 38, 40, 53, ... 42, 58, 38, 54] type='16 * ?int32[parameters={\"_...'>}, {'photon_pt': <Array [[42.3], [103], ... [66], [39]] type='29 * option[var * float32[parameter...'>, 'photon_eta': <Array [[0.791], [1.09], ... [1.41], [0.879]] type='29 * option[var * float32[pa...'>, 'muon1_pt': <Array [72.1, 54, 65.4, ... 63.1, 39.8, 40.9] type='29 * ?float32[parameters={\"_...'>, 'muon2_pt': <Array [34.4, 53.3, 45, ... 55.1, 31.6, 39.3] type='29 * ?float32[parameters={\"_...'>, 'muon1_eta': <Array [-1.6, 1.08, 1.42, ... 1.1, 1.67, 1.66] type='29 * ?float32[parameters={\"...'>, 'muon2_eta': <Array [0.788, -0.318, 0.392, ... 1.28, 0.63] type='29 * ?float32[parameters={\"_...'>, 'muon_mass': <Array [177, 134, 118, ... 104, 70.8, 90.8] type='29 * ?float32'>, 'generator_weight': <Array [1, 1, 1, 1, 1, 1, ... 1, 1, 1, 1, 1, 1] type='29 * ?float32'>, 'event_weight': <Array [1, 1, 1, 1, 1, 1, ... 1, 1, 1, 1, 1, 1] type='1853280 * float32'>, 'nPU': <Array [31, 39, 33, 36, 29, ... 28, 38, 48, 39] type='29 * ?int32[parameters={\"_...'>}, {'photon_pt': <Array [[46.4], [47.8], ... [125], [41.3]] type='22 * option[var * float32[param...'>, 'photon_eta': <Array [[0.0636], [0.0217, ... [-0.483]] type='22 * option[var * float32[paramet...'>, 'muon1_pt': <Array [32.2, 36.5, 67.6, ... 63.9, 95.7, 74.3] type='22 * ?float32[parameters={...'>, 'muon2_pt': <Array [26.8, 27.9, 35.2, ... 39.2, 44.8, 27] type='22 * ?float32[parameters={\"_...'>, 'muon1_eta': <Array [0.83, 1.67, -1.11, ... -0.2, -2.33] type='22 * ?float32[parameters={\"__d...'>, 'muon2_eta': <Array [-0.534, 0.0251, 1.29, ... 2.2, 2.12] type='22 * ?float32[parameters={\"__...'>, 'muon_mass': <Array [72.5, 86.5, 172, ... 92.6, 235, 418] type='22 * ?float32'>, 'generator_weight': <Array [1, 1, 1, 1, 1, 1, ... 1, 1, 1, 1, 1, 1] type='22 * ?float32'>, 'event_weight': <Array [1, 1, 1, 1, 1, 1, ... 1, 1, 1, 1, 1, 1] type='1838880 * float32'>, 'nPU': <Array [29, 40, 33, 36, 41, ... 24, 52, 17, 48] type='22 * ?int32[parameters={\"_...'>}]\n"
     ]
    }
   ],
   "source": [
    "import selection_cut_test \n",
    "reload(selection_cut_test)\n",
    "event_muon_phodrs = {key: {} for key in EVENT}\n",
    "\n",
    "for key in EVENT.keys():\n",
    "    event_muon_phodr = []\n",
    "    event_variables = []\n",
    "    for i in EVENT[key]:\n",
    "#muon_cut\n",
    "        if key != 'data':\n",
    "            event_weight = {'event_weight':np.sign(i.Generator.weight)}\n",
    "        else:\n",
    "            event_weight =  {'event_weight':'NONE'}\n",
    "        mu0 = selection_cut_test.muon(i,'num',True)\n",
    "        mu1 = selection_cut_test.muon(mu0,'trigger','double')\n",
    "        mu2,event2 = selection_cut_test.muon(mu1,'cutBasedID','tight')\n",
    "        mu3 = selection_cut_test.muon(mu2,'pf','tight')\n",
    "        mu4 = selection_cut_test.muon(mu3,'eta','2.4')\n",
    "        mu5 = selection_cut_test.muon(mu4,'pt',event2)\n",
    "        mu6 = selection_cut_test.muon(mu5,'pid',True)\n",
    "        mass = selection_cut_test.MASS(mu6)\n",
    "        mu_mass = selection_cut_test.muon(mu6,'mass',mass)\n",
    "#photon_cut\n",
    "        pho1 = selection_cut_test.photon(mu_mass, 'pt', '35')\n",
    "        pho2 = selection_cut_test.photon(pho1, 'eta', '2.5')\n",
    "        pho3 = selection_cut_test.photon(pho2, 'id', 'tight')\n",
    "        if key == 'data':\n",
    "            mass = selection_cut_test.MASS(pho3)\n",
    "            event_variables.append(selection_cut_test.VARIABLES(pho3,mass,key,event_weight))\n",
    "        else:\n",
    "            pho4 = selection_cut_test.photon(pho3,'prompt',True)\n",
    "            gen_photon = pho4.GenPart[(pho4.GenPart.pdgId==22) & pho4.GenPart.hasFlags(['isLastCopy',\"isPrompt\"])]\n",
    "            photon4_near, photon4_gen_photon_dr = gen_photon.nearest(pho4.Photon, axis=1, return_metric=True)\n",
    "            mask = ak.fill_none(photon4_gen_photon_dr < 0.3, True)\n",
    "            pho5 = pho4[ak.num(pho4.Photon[ak.any(mask == True,axis=1)]) == 1]\n",
    "            mass = selection_cut_test.MASS(pho5)\n",
    "            event_variables.append(selection_cut_test.VARIABLES(pho5,mass,key,event_weight))\n",
    "    event_muon_phodrs[key] = event_variables\n",
    "    print(key,'event_muon_phodrs',event_muon_phodrs[key])\n",
    "\n",
    "#data 6m  double 23m  \n",
    "#zg 9m    double 32m\n",
    "#tt 54m   double 108m\n",
    "#zz 69m   double 108m  new 70m\n",
    "#wz 105m  double 123m new 82m\n",
    "#ww 119m  double 118m"
   ]
  },
  {
   "cell_type": "code",
   "execution_count": 6,
   "id": "4f952485",
   "metadata": {},
   "outputs": [
    {
     "name": "stdout",
     "output_type": "stream",
     "text": [
      "{'data': {'photon_pt': <Array [[45.8], [39.9], ... [48], [39]] type='1419 * option[var * float32[parame...'>, 'photon_eta': <Array [[-2.41], [-1.06], ... [-2.09], [1.65]] type='1419 * option[var * float32...'>, 'muon1_pt': <Array [163, 54.4, 52.1, ... 49, 38.1, 71.7] type='1419 * ?float32[parameters={\"...'>, 'muon2_pt': <Array [123, 42.7, 45.2, ... 36, 21.7, 34] type='1419 * ?float32[parameters={\"__...'>, 'muon1_eta': <Array [-1.9, 0.42, 0.874, ... 2.29, -0.42] type='1419 * ?float32[parameters={\"_...'>, 'muon2_eta': <Array [-1.44, 0.808, 1.96, ... 0.27, -0.151] type='1419 * ?float32[parameters={...'>, 'muon_mass': <Array [287, 90.8, 92.8, ... 83.8, 87.8, 89.3] type='1419 * ?float32'>}, 'zg': {'photon_pt': <Array [[50], [345], ... [75.1], [35.3]] type='10500 * option[var * float32[para...'>, 'photon_eta': <Array [[-1.39], [0.894], ... [-1.77], [2.23]] type='10500 * option[var * float3...'>, 'muon1_pt': <Array [93.4, 129, 26, ... 31.6, 68, 34.8] type='10500 * ?float32[parameters={\"_...'>, 'muon2_pt': <Array [78, 44.8, 21.5, ... 26.6, 58.5, 27.7] type='10500 * ?float32[parameters=...'>, 'muon1_eta': <Array [1.2, 0.764, -2.28, ... -1.85, 1.62] type='10500 * ?float32[parameters={\"...'>, 'muon2_eta': <Array [1.1, 0.875, -0.135, ... -1.57, 1.55] type='10500 * ?float32[parameters={...'>, 'muon_mass': <Array [149, 91.9, 61, 93, ... 51, 88.7, 62.2] type='10500 * ?float32'>, 'generator_weight': <Array [1, -1, 1, 1, 1, 1, ... 1, 1, -1, -1, 1] type='10500 * ?float32'>, 'event_weight': <Array [1, -1, 1, 1, 1, 1, ... 1, 1, 1, 1, 1] type='2359015 * float32'>, 'nPU': <Array [18, 33, 33, 30, 44, ... 42, 35, 26, 42] type='10500 * ?int32[parameters=...'>}, 'tt': {'photon_pt': <Array [[40.9], [65.2], ... [53.7], [55.3]] type='4674 * option[var * float32[pa...'>, 'photon_eta': <Array [[-0.0752], [-0.393, ... [2.43]] type='4674 * option[var * float32[parame...'>, 'muon1_pt': <Array [32.1, 140, 65.1, ... 103, 39.8, 67.8] type='4674 * ?float32[parameters={...'>, 'muon2_pt': <Array [26.6, 50, 22.7, ... 38.4, 36.5, 47.8] type='4674 * ?float32[parameters={...'>, 'muon1_eta': <Array [1.42, 0.213, 0.393, ... -0.425, 0.801] type='4674 * ?float32[parameters=...'>, 'muon2_eta': <Array [-0.861, 0.732, ... -1.55, -0.507] type='4674 * ?float32[parameters={\"__d...'>, 'muon_mass': <Array [84.6, 173, 61.7, ... 261, 65.6, 103] type='4674 * ?float32'>, 'generator_weight': <Array [1, 1, 1, 1, 1, 1, ... 1, 1, 1, 1, 1, 1] type='4674 * ?float32'>, 'event_weight': <Array [1, 1, 1, 1, 1, 1, ... 1, 1, 1, 1, 1, 1] type='83909624 * float32'>, 'nPU': <Array [51, 50, 46, 43, 39, ... 38, 46, 36, 37] type='4674 * ?int32[parameters={...'>}, 'zz': {'photon_pt': <Array [[48.9], [79.6], ... [43.8], [62.7]] type='67 * option[var * float32[para...'>, 'photon_eta': <Array [[1.39], [-0.216], ... [0.204], [0.158]] type='67 * option[var * float32[...'>, 'muon1_pt': <Array [41.2, 228, 53.1, ... 61.1, 254, 115] type='67 * ?float32[parameters={\"__...'>, 'muon2_pt': <Array [29.4, 43.9, 39.9, ... 58.6, 32.5, 68.1] type='67 * ?float32[parameters={...'>, 'muon1_eta': <Array [0.315, -0.0896, 1.85, ... 0.722, 0.518] type='67 * ?float32[parameters={...'>, 'muon2_eta': <Array [1.36, 0.593, ... -0.855, 0.000189] type='67 * ?float32[parameters={\"__do...'>, 'muon_mass': <Array [68.7, 89.7, 116, ... 80.5, 211, 85.9] type='67 * ?float32'>, 'generator_weight': <Array [1, 1, 1, 1, 1, 1, ... 1, 1, 1, 1, 1, 1] type='67 * ?float32'>, 'event_weight': <Array [1, 1, 1, 1, 1, 1, ... 1, 1, 1, 1, 1, 1] type='1186860 * float32'>, 'nPU': <Array [51, 68, 18, 34, 42, ... 43, 26, 32, 42] type='67 * ?int32[parameters={\"_...'>}, 'ww': {'photon_pt': <Array [[38.7], [57.3], ... [125], [41.3]] type='703 * option[var * float32[para...'>, 'photon_eta': <Array [[2.09], [-1.22, ... -0.0218], [-0.483]] type='703 * option[var * float32...'>, 'muon1_pt': <Array [184, 58.4, 73.5, ... 63.9, 95.7, 74.3] type='703 * ?float32[parameters={...'>, 'muon2_pt': <Array [162, 35.9, 44, ... 39.2, 44.8, 27] type='703 * ?float32[parameters={\"__d...'>, 'muon1_eta': <Array [-0.246, 0.51, -2.21, ... -0.2, -2.33] type='703 * ?float32[parameters={\"...'>, 'muon2_eta': <Array [2.09, -1.45, -0.0851, ... 2.2, 2.12] type='703 * ?float32[parameters={\"_...'>, 'muon_mass': <Array [610, 135, 152, 158, ... 92.6, 235, 418] type='703 * ?float32'>, 'generator_weight': <Array [1, 1, 1, 1, 1, 1, ... 1, 1, 1, 1, 1, 1] type='703 * ?float32'>, 'event_weight': <Array [1, 1, 1, 1, 1, 1, ... 1, 1, 1, 1, 1, 1] type='54649280 * float32'>, 'nPU': <Array [26, 35, 49, 38, 40, ... 24, 52, 17, 48] type='703 * ?int32[parameters={\"...'>}, 'wz': {'photon_pt': <Array [[117], [63.8], ... [36.9], [43.5]] type='4311 * option[var * float32[par...'>, 'photon_eta': <Array [[0.496], [0.654], ... [2.1], [0.395]] type='4311 * option[var * float32[...'>, 'muon1_pt': <Array [100, 56.5, 291, ... 42.8, 66.9, 74.5] type='4311 * ?float32[parameters={...'>, 'muon2_pt': <Array [44.3, 53, 45.4, ... 32.4, 46.8, 23.6] type='4311 * ?float32[parameters={...'>, 'muon1_eta': <Array [-1.66, 1.06, 0.438, ... 1.62, 0.178] type='4311 * ?float32[parameters={\"...'>, 'muon2_eta': <Array [-0.749, 0.0264, 0.841, ... 1.41, 1.08] type='4311 * ?float32[parameters=...'>, 'muon_mass': <Array [86.6, 89.6, 54.5, ... 83.4, 113, 92.3] type='4311 * ?float32'>, 'generator_weight': <Array [1, 1, 1, 1, 1, 1, ... 1, 1, 1, 1, 1, 1] type='4311 * ?float32'>, 'event_weight': <Array [1, 1, 1, 1, 1, 1, ... 1, 1, 1, 1, 1, 1] type='27291718 * float32'>, 'nPU': <Array [28, 32, 42, 22, 35, ... 42, 33, 28, 30] type='4311 * ?int32[parameters={...'>}}\n"
     ]
    }
   ],
   "source": [
    "# 样本名称列表\n",
    "sample_names = [\"data\", \"zg\", \"tt\", \"zz\", \"ww\", \"wz\"]\n",
    "\n",
    "# 初始化一个字典，用于存储合并后的数据\n",
    "event_final = {}\n",
    "\n",
    "# 遍历每个样本名称\n",
    "for sample_name in sample_names:\n",
    "    # 初始化一个字典，用于存储当前样本的合并数据\n",
    "    event_final[sample_name] = {}\n",
    "\n",
    "    # 获取第一个条目中的信息键\n",
    "    info_keys = list(event_muon_phodrs[sample_name][0].keys())\n",
    "\n",
    "    # 遍历每个信息键\n",
    "    for info_key in info_keys:\n",
    "        # 从 event_muon_phodrs 中提取当前样本和信息键的数据\n",
    "        data_to_concatenate = [entry[info_key] for entry in event_muon_phodrs[sample_name]]\n",
    "\n",
    "        # 使用 ak.concatenate 将数据连接在一起\n",
    "        event_final[sample_name][info_key] = ak.concatenate(data_to_concatenate)\n",
    "\n",
    "print(event_final)\n"
   ]
  },
  {
   "cell_type": "code",
   "execution_count": 7,
   "id": "fa319d62",
   "metadata": {},
   "outputs": [
    {
     "data": {
      "text/plain": [
       "{'data': {'photon_pt': <Array [[45.8], [39.9], ... [48], [39]] type='1419 * option[var * float32[parame...'>,\n",
       "  'photon_eta': <Array [[-2.41], [-1.06], ... [-2.09], [1.65]] type='1419 * option[var * float32...'>,\n",
       "  'muon1_pt': <Array [163, 54.4, 52.1, ... 49, 38.1, 71.7] type='1419 * ?float32[parameters={\"...'>,\n",
       "  'muon2_pt': <Array [123, 42.7, 45.2, ... 36, 21.7, 34] type='1419 * ?float32[parameters={\"__...'>,\n",
       "  'muon1_eta': <Array [-1.9, 0.42, 0.874, ... 2.29, -0.42] type='1419 * ?float32[parameters={\"_...'>,\n",
       "  'muon2_eta': <Array [-1.44, 0.808, 1.96, ... 0.27, -0.151] type='1419 * ?float32[parameters={...'>,\n",
       "  'muon_mass': <Array [287, 90.8, 92.8, ... 83.8, 87.8, 89.3] type='1419 * ?float32'>},\n",
       " 'zg': {'photon_pt': <Array [[50], [345], ... [75.1], [35.3]] type='10500 * option[var * float32[para...'>,\n",
       "  'photon_eta': <Array [[-1.39], [0.894], ... [-1.77], [2.23]] type='10500 * option[var * float3...'>,\n",
       "  'muon1_pt': <Array [93.4, 129, 26, ... 31.6, 68, 34.8] type='10500 * ?float32[parameters={\"_...'>,\n",
       "  'muon2_pt': <Array [78, 44.8, 21.5, ... 26.6, 58.5, 27.7] type='10500 * ?float32[parameters=...'>,\n",
       "  'muon1_eta': <Array [1.2, 0.764, -2.28, ... -1.85, 1.62] type='10500 * ?float32[parameters={\"...'>,\n",
       "  'muon2_eta': <Array [1.1, 0.875, -0.135, ... -1.57, 1.55] type='10500 * ?float32[parameters={...'>,\n",
       "  'muon_mass': <Array [149, 91.9, 61, 93, ... 51, 88.7, 62.2] type='10500 * ?float32'>,\n",
       "  'generator_weight': <Array [1, -1, 1, 1, 1, 1, ... 1, 1, -1, -1, 1] type='10500 * ?float32'>,\n",
       "  'event_weight': <Array [1, -1, 1, 1, 1, 1, ... 1, 1, 1, 1, 1] type='2359015 * float32'>,\n",
       "  'nPU': <Array [18, 33, 33, 30, 44, ... 42, 35, 26, 42] type='10500 * ?int32[parameters=...'>},\n",
       " 'tt': {'photon_pt': <Array [[40.9], [65.2], ... [53.7], [55.3]] type='4674 * option[var * float32[pa...'>,\n",
       "  'photon_eta': <Array [[-0.0752], [-0.393, ... [2.43]] type='4674 * option[var * float32[parame...'>,\n",
       "  'muon1_pt': <Array [32.1, 140, 65.1, ... 103, 39.8, 67.8] type='4674 * ?float32[parameters={...'>,\n",
       "  'muon2_pt': <Array [26.6, 50, 22.7, ... 38.4, 36.5, 47.8] type='4674 * ?float32[parameters={...'>,\n",
       "  'muon1_eta': <Array [1.42, 0.213, 0.393, ... -0.425, 0.801] type='4674 * ?float32[parameters=...'>,\n",
       "  'muon2_eta': <Array [-0.861, 0.732, ... -1.55, -0.507] type='4674 * ?float32[parameters={\"__d...'>,\n",
       "  'muon_mass': <Array [84.6, 173, 61.7, ... 261, 65.6, 103] type='4674 * ?float32'>,\n",
       "  'generator_weight': <Array [1, 1, 1, 1, 1, 1, ... 1, 1, 1, 1, 1, 1] type='4674 * ?float32'>,\n",
       "  'event_weight': <Array [1, 1, 1, 1, 1, 1, ... 1, 1, 1, 1, 1, 1] type='83909624 * float32'>,\n",
       "  'nPU': <Array [51, 50, 46, 43, 39, ... 38, 46, 36, 37] type='4674 * ?int32[parameters={...'>},\n",
       " 'zz': {'photon_pt': <Array [[48.9], [79.6], ... [43.8], [62.7]] type='67 * option[var * float32[para...'>,\n",
       "  'photon_eta': <Array [[1.39], [-0.216], ... [0.204], [0.158]] type='67 * option[var * float32[...'>,\n",
       "  'muon1_pt': <Array [41.2, 228, 53.1, ... 61.1, 254, 115] type='67 * ?float32[parameters={\"__...'>,\n",
       "  'muon2_pt': <Array [29.4, 43.9, 39.9, ... 58.6, 32.5, 68.1] type='67 * ?float32[parameters={...'>,\n",
       "  'muon1_eta': <Array [0.315, -0.0896, 1.85, ... 0.722, 0.518] type='67 * ?float32[parameters={...'>,\n",
       "  'muon2_eta': <Array [1.36, 0.593, ... -0.855, 0.000189] type='67 * ?float32[parameters={\"__do...'>,\n",
       "  'muon_mass': <Array [68.7, 89.7, 116, ... 80.5, 211, 85.9] type='67 * ?float32'>,\n",
       "  'generator_weight': <Array [1, 1, 1, 1, 1, 1, ... 1, 1, 1, 1, 1, 1] type='67 * ?float32'>,\n",
       "  'event_weight': <Array [1, 1, 1, 1, 1, 1, ... 1, 1, 1, 1, 1, 1] type='1186860 * float32'>,\n",
       "  'nPU': <Array [51, 68, 18, 34, 42, ... 43, 26, 32, 42] type='67 * ?int32[parameters={\"_...'>},\n",
       " 'ww': {'photon_pt': <Array [[38.7], [57.3], ... [125], [41.3]] type='703 * option[var * float32[para...'>,\n",
       "  'photon_eta': <Array [[2.09], [-1.22, ... -0.0218], [-0.483]] type='703 * option[var * float32...'>,\n",
       "  'muon1_pt': <Array [184, 58.4, 73.5, ... 63.9, 95.7, 74.3] type='703 * ?float32[parameters={...'>,\n",
       "  'muon2_pt': <Array [162, 35.9, 44, ... 39.2, 44.8, 27] type='703 * ?float32[parameters={\"__d...'>,\n",
       "  'muon1_eta': <Array [-0.246, 0.51, -2.21, ... -0.2, -2.33] type='703 * ?float32[parameters={\"...'>,\n",
       "  'muon2_eta': <Array [2.09, -1.45, -0.0851, ... 2.2, 2.12] type='703 * ?float32[parameters={\"_...'>,\n",
       "  'muon_mass': <Array [610, 135, 152, 158, ... 92.6, 235, 418] type='703 * ?float32'>,\n",
       "  'generator_weight': <Array [1, 1, 1, 1, 1, 1, ... 1, 1, 1, 1, 1, 1] type='703 * ?float32'>,\n",
       "  'event_weight': <Array [1, 1, 1, 1, 1, 1, ... 1, 1, 1, 1, 1, 1] type='54649280 * float32'>,\n",
       "  'nPU': <Array [26, 35, 49, 38, 40, ... 24, 52, 17, 48] type='703 * ?int32[parameters={\"...'>},\n",
       " 'wz': {'photon_pt': <Array [[117], [63.8], ... [36.9], [43.5]] type='4311 * option[var * float32[par...'>,\n",
       "  'photon_eta': <Array [[0.496], [0.654], ... [2.1], [0.395]] type='4311 * option[var * float32[...'>,\n",
       "  'muon1_pt': <Array [100, 56.5, 291, ... 42.8, 66.9, 74.5] type='4311 * ?float32[parameters={...'>,\n",
       "  'muon2_pt': <Array [44.3, 53, 45.4, ... 32.4, 46.8, 23.6] type='4311 * ?float32[parameters={...'>,\n",
       "  'muon1_eta': <Array [-1.66, 1.06, 0.438, ... 1.62, 0.178] type='4311 * ?float32[parameters={\"...'>,\n",
       "  'muon2_eta': <Array [-0.749, 0.0264, 0.841, ... 1.41, 1.08] type='4311 * ?float32[parameters=...'>,\n",
       "  'muon_mass': <Array [86.6, 89.6, 54.5, ... 83.4, 113, 92.3] type='4311 * ?float32'>,\n",
       "  'generator_weight': <Array [1, 1, 1, 1, 1, 1, ... 1, 1, 1, 1, 1, 1] type='4311 * ?float32'>,\n",
       "  'event_weight': <Array [1, 1, 1, 1, 1, 1, ... 1, 1, 1, 1, 1, 1] type='27291718 * float32'>,\n",
       "  'nPU': <Array [28, 32, 42, 22, 35, ... 42, 33, 28, 30] type='4311 * ?int32[parameters={...'>}}"
      ]
     },
     "execution_count": 7,
     "metadata": {},
     "output_type": "execute_result"
    }
   ],
   "source": [
    "event_final"
   ]
  },
  {
   "attachments": {},
   "cell_type": "markdown",
   "id": "723d7990",
   "metadata": {},
   "source": [
    "## ABCD"
   ]
  },
  {
   "cell_type": "code",
   "execution_count": 8,
   "id": "824af0e2",
   "metadata": {},
   "outputs": [],
   "source": [
    "# 读取 ROOT 文件并获取 TH2D\n",
    "file_fake_photon_weight = uproot.open(\"/home/pku/muty/pku/ZGToLLG/run3_zg_analyzer_change/ZG_fakephoton_ABCD/testABCD_weight/fakephoton_weight.root\")\n",
    "hist_fake_photon_weight = file_fake_photon_weight[\"weight\"]\n",
    "\n",
    "# 将 TH2D 转换为 Awkward Array\n",
    "fake_photon_weight_array = ak.Array(hist_fake_photon_weight.to_numpy()[0])\n",
    "\n",
    "# 获取 photon_pt 和 photon_eta\n",
    "photon_pt = event_final['data']['photon_pt'][:,0]\n",
    "photon_eta = event_final['data']['photon_eta'][:,0]\n",
    "\n",
    "# 限制 photon_pt 的最大值\n",
    "photon_pt = ak.where(photon_pt > 100, 99.9, photon_pt)\n",
    "#photon_eta = ak.where(photon_eta > 2.5, 2.49, ak.where(photon_eta < -2.5, -2.49, photon_eta))\n",
    "\n",
    "# 获取 TH2D 的 bin 边缘\n",
    "xedges = hist_fake_photon_weight.axis(0).edges()\n",
    "yedges = hist_fake_photon_weight.axis(1).edges()\n",
    "\n",
    "# 计算 photon_pt 和 photon_eta 的 bin 索引\n",
    "x_bin_indices = np.digitize(photon_pt, xedges) - 1\n",
    "y_bin_indices = np.digitize(photon_eta, yedges) - 1\n",
    "\n",
    "# 使用 bin 索引从 fake_photon_weight_array 中获取权重\n",
    "fake_photon_weights = fake_photon_weight_array[x_bin_indices, y_bin_indices]\n",
    "\n"
   ]
  },
  {
   "cell_type": "code",
   "execution_count": 9,
   "id": "31ee081f",
   "metadata": {},
   "outputs": [
    {
     "data": {
      "text/plain": [
       "{'photon_pt': <Array [[45.8], [39.9], ... [48], [39]] type='1419 * option[var * float32[parame...'>,\n",
       " 'photon_eta': <Array [[-2.41], [-1.06], ... [-2.09], [1.65]] type='1419 * option[var * float32...'>,\n",
       " 'muon1_pt': <Array [163, 54.4, 52.1, ... 49, 38.1, 71.7] type='1419 * ?float32[parameters={\"...'>,\n",
       " 'muon2_pt': <Array [123, 42.7, 45.2, ... 36, 21.7, 34] type='1419 * ?float32[parameters={\"__...'>,\n",
       " 'muon1_eta': <Array [-1.9, 0.42, 0.874, ... 2.29, -0.42] type='1419 * ?float32[parameters={\"_...'>,\n",
       " 'muon2_eta': <Array [-1.44, 0.808, 1.96, ... 0.27, -0.151] type='1419 * ?float32[parameters={...'>,\n",
       " 'muon_mass': <Array [287, 90.8, 92.8, ... 83.8, 87.8, 89.3] type='1419 * ?float32'>}"
      ]
     },
     "execution_count": 9,
     "metadata": {},
     "output_type": "execute_result"
    }
   ],
   "source": [
    "dict_nonpromt = {'nonprompt':event_final['data']}\n",
    "dict_nonpromt\n",
    "event_final.update(dict_nonpromt)\n",
    "event_final['nonprompt']"
   ]
  },
  {
   "attachments": {},
   "cell_type": "markdown",
   "id": "980fa401",
   "metadata": {},
   "source": [
    "## MuonSFs"
   ]
  },
  {
   "cell_type": "code",
   "execution_count": 10,
   "id": "ac50e20d",
   "metadata": {},
   "outputs": [],
   "source": [
    "BKG = {'zg','nonprompt','tt', 'zz', 'wz', 'ww'}\n",
    "#BKG = {'tt', 'zz', 'wz', 'ww','nonprompt'}\n",
    "#SIG = {'zg'}\n",
    "# LUMI unit is fb\n",
    "LUMI = {\"2016pre\": 19.52, \"2016post\": 16.81, \"2017\": 41.48, \"2018\": 59.83, \"run3\": 4.5}\n",
    "XSEC = {\n",
    "    # unit is pb^-1\n",
    "    'zg': 55.48,\n",
    "    'tt': 101.78,\n",
    "    'ww': 80.27,\n",
    "    'wz': 29.14,\n",
    "    'zz': 12.83,\n",
    "}\n"
   ]
  },
  {
   "cell_type": "code",
   "execution_count": 11,
   "id": "89831e90",
   "metadata": {},
   "outputs": [],
   "source": [
    "# 读取 ROOT 文件并获取 TH2D\n",
    "file_muonSFs_weight = uproot.open(\"/home/pku/muty/pku/ZGToLLG/run3_zg_analyzer_change/MuonSFs/Efficiencies_muon_Z_Run2022.root\")\n",
    "#hist_muonSFs_weight = file_muonSFs_weight[\"NUM_IsoMu24_and_TightID_and_PFIsoTight_DEN_genTracks_eta_pt\"]\n",
    "hist_muonSFs_weight = file_muonSFs_weight[\"NUM_IsoMu24_DEN_TightID_and_PFIsoTight_eta_pt\"]\n",
    "\n",
    "correction = correctionlib.CorrectionSet.from_file('/cvmfs/cms.cern.ch/rsync/cms-nanoAOD/jsonpog-integration/POG/LUM/2018_UL/puWeights.json.gz')['Collisions18_UltraLegacy_goldenJSON']\n",
    "\n",
    "weight = {\n",
    "    i: (\n",
    "        fake_photon_weights if i == 'nonprompt' else\n",
    "        (\n",
    "            correction.evaluate(np.array(event_final[i]['nPU']), \"nominal\") *\n",
    "            np.sign(event_final[i]['generator_weight']) * XSEC[i] * LUMI['run3'] * 1e3 / \n",
    "            ak.sum(np.sign(event_final[i]['event_weight']))\n",
    "        )\n",
    "    ) for i in event_final if i != 'data'\n",
    "}\n",
    "\n",
    "# 将 TH2D 转换为 Awkward Array\n",
    "muonSFs_weight_array = ak.Array(hist_muonSFs_weight.to_numpy()[0])\n",
    "\n",
    "# 获取 muon1_pt、muon1_eta、muon2_pt 和 muon2_eta\n",
    "muon1_pt = {i: event_final[i]['muon1_pt'] for i in event_final if i != 'data' and i != 'nonprompt'}\n",
    "muon1_eta = {i: event_final[i]['muon1_eta'] for i in event_final if i != 'data' and i != 'nonprompt'}\n",
    "muon2_pt = {i: event_final[i]['muon2_pt'] for i in event_final if i != 'data' and i != 'nonprompt'}\n",
    "muon2_eta = {i: event_final[i]['muon2_eta'] for i in event_final if i != 'data' and i != 'nonprompt'}\n",
    "\n",
    "# 限制 muon_pt 的最大值\n",
    "for key in muon1_pt:\n",
    "    muon1_pt[key] = ak.where(muon1_pt[key] > 120, 119.9, muon1_pt[key])\n",
    "    muon2_pt[key] = ak.where(muon2_pt[key] > 120, 119.9, muon2_pt[key])\n",
    "    muon1_eta[key] = ak.where(muon1_pt[key] > 2.4, 2.39, muon1_eta[key])\n",
    "    muon2_eta[key] = ak.where(muon2_pt[key] > 2.4, 2.39, muon2_eta[key])\n",
    "\n",
    "# 获取 TH2D 的 bin 边缘\n",
    "xedges = hist_muonSFs_weight.axis(0).edges()\n",
    "yedges = hist_muonSFs_weight.axis(1).edges()\n",
    "\n",
    "# 计算 muon_eta 和 muon_pt 的 bin 索引\n",
    "x_bin_indices1 = {key: np.digitize(muon1_eta[key], xedges) - 1 for key in muon1_eta}\n",
    "y_bin_indices1 = {key: np.digitize(muon1_pt[key], yedges) - 1 for key in muon1_pt}\n",
    "x_bin_indices2 = {key: np.digitize(muon2_eta[key], xedges) - 1 for key in muon2_eta}\n",
    "y_bin_indices2 = {key: np.digitize(muon2_pt[key], yedges) - 1 for key in muon2_pt}\n",
    "\n",
    "# 使用 bin 索引从 muonSFs_weight_array 中获取权重\n",
    "muonSFs_weights1 = {key: muonSFs_weight_array[x_bin_indices1[key], y_bin_indices1[key]] for key in x_bin_indices1}\n",
    "muonSFs_weights2 = {key: muonSFs_weight_array[x_bin_indices2[key], y_bin_indices2[key]] for key in x_bin_indices2}\n",
    "\n",
    "# 计算总的 muonSFs 权重\n",
    "muonSFs_weights = {}\n",
    "for key in muonSFs_weights1:\n",
    "    muonSFs_weights[key] = muonSFs_weights1[key] + muonSFs_weights2[key] - muonSFs_weights1[key] * muonSFs_weights2[key]\n",
    "\n",
    "# 将 Muon SFs 权重应用于 MC 事件\n",
    "for key in event_final:\n",
    "    if key != 'data' and key != 'nonprompt':\n",
    "        weight[key] = weight[key] * muonSFs_weights[key]\n",
    "\n"
   ]
  },
  {
   "cell_type": "code",
   "execution_count": null,
   "id": "4d64487b",
   "metadata": {},
   "outputs": [],
   "source": [
    "max(event_final['zg']['muon2_eta'])"
   ]
  },
  {
   "attachments": {},
   "cell_type": "markdown",
   "id": "1eb65d9e",
   "metadata": {},
   "source": [
    "## plot"
   ]
  },
  {
   "cell_type": "code",
   "execution_count": 19,
   "id": "6300e690",
   "metadata": {},
   "outputs": [],
   "source": [
    "BKG = {'tt', 'zz', 'wz', 'ww','nonprompt','zg'}\n",
    "#BKG = {'tt', 'zz', 'wz', 'ww','nonprompt'}\n",
    "#SIG = {'zg'}\n",
    "# LUMI unit is fb\n",
    "LUMI = {\"2016pre\": 19.52, \"2016post\": 16.81, \"2017\": 41.48, \"2018\": 59.83, \"run3\": 4.5}\n",
    "XSEC = {\n",
    "    # unit is pb^-1\n",
    "    'zg': 55.48,\n",
    "    'tt': 101.78,\n",
    "    'ww': 80.27,\n",
    "    'wz': 29.14,\n",
    "    'zz': 12.83,\n",
    "}\n",
    "\n",
    "# * xs_weight * pu_weight"
   ]
  },
  {
   "cell_type": "code",
   "execution_count": 20,
   "id": "3b598ff6",
   "metadata": {},
   "outputs": [],
   "source": [
    "correction = correctionlib.CorrectionSet.from_file('/cvmfs/cms.cern.ch/rsync/cms-nanoAOD/jsonpog-integration/POG/LUM/2018_UL/puWeights.json.gz')['Collisions18_UltraLegacy_goldenJSON']\n",
    "weight = {\n",
    "    i: (\n",
    "        fake_photon_weights if i == 'nonprompt' else\n",
    "        (\n",
    "            np.sign(event_final[i]['generator_weight']) * XSEC[i] * LUMI['run3'] * 1e3 / \n",
    "            ak.sum(np.sign(event_final[i]['event_weight']))\n",
    "        )\n",
    "    ) for i in event_final if i != 'data'\n",
    "}"
   ]
  },
  {
   "cell_type": "code",
   "execution_count": 16,
   "id": "cde90b8f",
   "metadata": {},
   "outputs": [
    {
     "data": {
      "text/plain": [
       "{'zg': <Array [0.152, -0.17, 0.169, ... -0.166, 0.175] type='10500 * ?float64'>,\n",
       " 'tt': <Array [0.00622, 0.00636, ... 0.0054, 0.00553] type='4674 * ?float64'>,\n",
       " 'zz': <Array [0.0557, 0.0316, ... 0.0481, 0.0511] type='67 * ?float64'>,\n",
       " 'ww': <Array [0.00643, 0.00653, ... 0.00576, 0.00742] type='703 * ?float64'>,\n",
       " 'wz': <Array [0.00469, 0.00475, ... 0.00469, 0.00476] type='4311 * ?float64'>,\n",
       " 'nonprompt': <Array [0.0532, 0.0656, ... 0.0532, 0.0262] type='1419 * float64'>}"
      ]
     },
     "execution_count": 16,
     "metadata": {},
     "output_type": "execute_result"
    }
   ],
   "source": [
    "weight"
   ]
  },
  {
   "cell_type": "code",
   "execution_count": 12,
   "id": "bc27a075",
   "metadata": {},
   "outputs": [],
   "source": [
    "event_final_2 = {\n",
    "    'data':event_final['data'],\n",
    "    'tt':event_final['tt'],\n",
    "    'ww':event_final['ww'],\n",
    "    'wz':event_final['wz'],\n",
    "    'zz':event_final['zz'],\n",
    "    'nonprompt':event_final['nonprompt'],\n",
    "    'zg':event_final['zg'],\n",
    "}"
   ]
  },
  {
   "cell_type": "code",
   "execution_count": 13,
   "id": "0101b139",
   "metadata": {},
   "outputs": [],
   "source": [
    "import matplotlib as mpl\n",
    "import matplotlib.pyplot as plt\n",
    "import mplhep as hep\n",
    "import boost_histogram as bh\n",
    "from cycler import cycler\n",
    "\n",
    "use_helvet = False ## true: use helvetica for plots, make sure the system have the font installed\n",
    "if use_helvet:\n",
    "    CMShelvet = hep.style.CMS\n",
    "    CMShelvet['font.sans-serif'] = ['Helvetica', 'Arial']\n",
    "    plt.style.use(CMShelvet)\n",
    "else:\n",
    "    plt.style.use(hep.style.CMS)\n",
    "\n",
    "def flow(hist: bh.Histogram, overflow: bool=True, underflow: bool=False):\n",
    "    h, var = hist.view(flow=(overflow | underflow)).value, hist.view(flow=(overflow | underflow)).variance\n",
    "    if overflow: # h, var also include underflow bins but in plots usually no underflow data\n",
    "        # And we've filled None with -999, so we shouldn't show underflow data (mostly from filled None)\n",
    "        h[-2] += h[-1]; var[-2] += var[-1]\n",
    "    if underflow:\n",
    "        h[1] += h[0]; var[1] += var[0]\n",
    "    if overflow or underflow:\n",
    "        h, var = h[1:-1], var[1:-1]\n",
    "    return h, var\n",
    "\n",
    "def error_bar(h, var, type='data'):\n",
    "    from scipy.interpolate import CubicSpline\n",
    "    if type == 'data':\n",
    "        number = h\n",
    "    elif type == 'mc':  # h = k*N, var = k^2*N, std = k*sqrt(N)\n",
    "        number = h**2 / var\n",
    "    else:\n",
    "        raise ValueError(\"type should be 'data' or 'mc'! \")\n",
    "    center = range(11)\n",
    "    up = np.array([1.84, 3.30, 4.64, 5.92, 7.16, 8.38, 9.58, 10.77, 11.95, 13.11, 14.27]) - center\n",
    "    down = center - np.array([0, 0.17, 0.71, 1.37, 2.09, 2.84, 3.62, 4.42, 5.23, 6.06, 6.89])\n",
    "    cs_up = CubicSpline(x=center, y=up)\n",
    "    cs_down = CubicSpline(x=center, y=down)\n",
    "    \n",
    "    Garwood = (number>0)&(number<10)\n",
    "    poison_error_bar = np.sqrt(number)\n",
    "    up_error_bar = np.copy(poison_error_bar)\n",
    "    down_error_bar = np.copy(poison_error_bar)\n",
    "    up_error_bar[Garwood] = cs_up(number[Garwood])\n",
    "    down_error_bar[Garwood] = cs_down(number[Garwood])\n",
    "    if type == 'mc':\n",
    "        up_error_bar *= var/h\n",
    "        down_error_bar *= var/h\n",
    "    return np.array([down_error_bar, up_error_bar])\n",
    "\n",
    "#weight={y: {c: events[y][c].event_weight for c in events[y] if c!='data' and len(events[y][c])>0} for y in events}\n"
   ]
  },
  {
   "cell_type": "code",
   "execution_count": 14,
   "id": "284bcd2d",
   "metadata": {},
   "outputs": [],
   "source": [
    "from matplotlib.cm import get_cmap\n",
    "from matplotlib.ticker import ScalarFormatter\n",
    "\n",
    "hep.style.use(\"CMS\")\n",
    "#mpl.rcParams['axes.prop_cycle'] = cycler(color=get_cmap(\"tab20\").colors)\n",
    "#print(plt.rcParams['axes.prop_cycle'].by_key()['color'])\n",
    "\n",
    "def data_mc_compare_plot(arrays, weight, plot_name: str, x_name: str, cuts=None, year='run3', bins=40, x_min=0, x_max=2000, density=False, overflow=True, underflow=False, fraction_log=False):\n",
    "    density = False\n",
    "    bin_width = (x_max-x_min)/bins\n",
    "    if cuts:\n",
    "        arrays = {k: v[cuts[k]] for k, v in arrays.items()}\n",
    "      \n",
    "    ## canvas initializing\n",
    "    f = plt.figure(figsize=(9, 10))\n",
    "    gs = mpl.gridspec.GridSpec(2, 1, height_ratios=[6, 1], hspace=0.08)\n",
    "    ax = f.add_subplot(gs[0])\n",
    "    plt.grid()\n",
    "    hep.cms.label(data=True, year=year, ax=ax, lumi=LUMI[year], fontsize=18, llabel='Preliminary')\n",
    "    ## Ratio panel\n",
    "    ax1 = f.add_subplot(gs[1])\n",
    "    ax1.grid()\n",
    "    \n",
    "    ## analyze\n",
    "    stacked = {'h': {}, 'var': {}}\n",
    "    individual = {'h': {}, 'var': {}}\n",
    "\n",
    "    for (k,v) in arrays.items():\n",
    "        hist = bh.Histogram(bh.axis.Regular(bins, x_min, x_max), storage=bh.storage.Weight())\n",
    "        values = ak.fill_none(v, -999)\n",
    "        \n",
    "#        if k!='data' and k!= 'nonprompt' and weight is not None:\n",
    "        if k!='data' and weight is not None:\n",
    "            hist.fill(values, weight=weight[k])\n",
    "#            if k=='nonprompt':\n",
    "        else:\n",
    "            hist.fill(values)\n",
    "\n",
    "\n",
    "        \n",
    "        h, var = flow(hist=hist, overflow=overflow, underflow=underflow)\n",
    "        \n",
    "        if k in BKG: \n",
    "            stacked['h'][k] = h\n",
    "            stacked['var'][k] = var\n",
    "        else:\n",
    "            individual['h'][k] = h\n",
    "            individual['var'][k] = var\n",
    "            \n",
    "\n",
    "    ## plot\n",
    "    # mpl.rcParams['axes.prop_cycle'] = cycler(color=['darkorange', 'cyan', 'HotPink', 'darkviolet', 'SlateGray', 'black', 'LightSkyBlue'])\n",
    "#    SIG_COLOR={'zg': 'red'}\n",
    "    ax1.plot([x_min,x_max], [1,1], color='black', linestyle='dashed')\n",
    "    # or you can specify color='blue' in the above function to cover colorlist (you could comment out colorlist too)\n",
    "    if len(stacked['h'].keys())>0:\n",
    "        hep.histplot(list(stacked['h'].values()), bins=hist.axes[0].edges, label=list(stacked['h'].keys()), histtype='fill', density=density, stack=True, linewidth=2, ax=ax)\n",
    "        bkg_h = np.sum(list(stacked['h'].values()), axis=0)\n",
    "        # we usually don't care error of background MC cuz the stats is very large (relative error is very small compared with signal and data)\n",
    "    for (k,h) in individual['h'].items():\n",
    "        if k=='data':\n",
    "            err = error_bar(h, individual['var'][k], type='data')\n",
    "            hep.histplot(h, bins=hist.axes[0].edges, yerr=err, label=k, color='black', histtype='errorbar', density=density, stack=False, ax=ax)\n",
    "            hep.histplot(h/bkg_h, bins=hist.axes[0].edges, yerr=err/bkg_h, color='black', histtype='errorbar', density=density, stack=False, ax=ax1)\n",
    "        elif k == 'nonprompt':\n",
    "            err = error_bar(h, individual['var'][k], type='data')\n",
    "            hep.histplot(h, bins=hist.axes[0].edges, yerr=err, label=k, histtype='step', density=density, stack=False, linewidth=2, ax=ax, color=SIG_COLOR[k])\n",
    "        else:  # signal\n",
    "            err = error_bar(h, individual['var'][k], type='mc')\n",
    "            hep.histplot(h, bins=hist.axes[0].edges, yerr=err, label=k, histtype='step', density=density, stack=False, linewidth=2, ax=ax, color=SIG_COLOR[k])\n",
    "            y = h / np.sqrt(bkg_h + 1)\n",
    "    #        hep.histplot(y, bins=hist.axes[0].edges, yerr=err/np.sqrt(bkg_h+1), label=k, histtype='step', density=density, stack=False, ax=ax2, color=SIG_COLOR[k])\n",
    "\n",
    "    ## axises\n",
    "    ax.set_xlim(x_min, x_max)\n",
    "    # ax.set_xticklabels([])\n",
    "    ax.set_ylim(0.01 if not density else 0, ax.get_ylim()[1]*(1e3 if not density else 1.2))\n",
    "\n",
    "    \n",
    "    if not density:\n",
    "        ax.set_yscale('log')\n",
    "#    ax.ticklabel_format(useOffset=False, style='scientific')\n",
    "    ax.tick_params(axis='both', which='major', labelsize=16)\n",
    "    ax.tick_params(axis='x', which='major', labelsize=0)\n",
    "    # x_major_locator=plt.MultipleLocator(bin_width*8 if variable=='fj_gen_mass' else bin_width*2)\n",
    "    # y_major_locator=MultipleLocator(1)\n",
    "    # ax.xaxis.set_major_locator(x_major_locator)\n",
    "    # ax.yaxis.set_major_locator(y_major_locator)\n",
    "    if density==False:\n",
    "        ax.set_ylabel('Events', fontsize=20, ha='right', y=1)\n",
    "    elif density==True:    \n",
    "        ax.set_ylabel('A.U.', fontsize=20, ha='right', y=1)\n",
    "    \n",
    "    ax1.set_xticklabels([])\n",
    "    if fraction_log:\n",
    "        ax1.set_ylim(1e-1, 1e1)\n",
    "        ax1.set_yscale('log')\n",
    "    else:\n",
    "        ax1.set_ylim(0, 2.4)\n",
    "    ax1.set_xlim(x_min, x_max)\n",
    "    ax1.set_ylabel(r'$\\frac{Data}{bkg\\ MC}$', ha='center', fontsize=24)\n",
    "    #ax1.ticklabel_format(useOffset=False, style='plain')\n",
    "    ax1.tick_params(axis='both', which='major', labelsize=16)\n",
    "    ax1.set_xlabel(x_name, fontsize=22, ha='right', x=1)\n",
    "    ax1.xaxis.set_major_formatter(ScalarFormatter())\n",
    "    ax1.ticklabel_format(useOffset=False, style='scientific')\n",
    "\n",
    "    # xticks = np.arange(x_min, x_max + 1,20)  # 根据需要调整间隔\n",
    "    # xticklabels = [str(tick) for tick in xticks]\n",
    "    # ax1.set_xticks(xticks)\n",
    "    # ax1.set_xticklabels(xticklabels, fontsize=16)   \n",
    "\n",
    "#    ax1.set_xticks(ax.get_xticks())\n",
    "#    ax1.set_xticklabels(ax.get_xticklabels())\n",
    "\n",
    "    plt.xticks(size=16)\n",
    "    plt.yticks(size=16)\n",
    "\n",
    "\n",
    "    ## title, text and legend\n",
    "    # plt.title('ROC Curve of HWW4q vs. QCD', fontsize=24,color=\"black\")\n",
    "    ax.legend(loc=\"best\", ncol=3, frameon=False, fontsize=15)\n",
    "    # plt.text(0.96*ax.get_xlim()[1], ax.get_ylim()[1]*0.72,\"At \"+r\"$\\mathrm{m^{gen}_{H}=}$\"+f\"{Higgsmass} GeV\", fontsize=24, color=\"black\", ha='right')\n",
    "\n",
    "    ## finalizing\n",
    "    suffix = '_AU' if density else ''\n",
    "    if not os.path.exists('./plots'):\n",
    "        os.makedirs('./plots')\n",
    "    plt.savefig(f\"./plots/{year}_{plot_name}{suffix}_ABCD_muonSFs.pdf\", bbox_inches='tight')\n",
    "    plt.show()"
   ]
  },
  {
   "cell_type": "code",
   "execution_count": 21,
   "id": "c088697f",
   "metadata": {},
   "outputs": [
    {
     "data": {
      "image/png": "[encoded data removed]",
      "text/plain": [
       "<Figure size 648x720 with 2 Axes>"
      ]
     },
     "metadata": {
      "needs_background": "light"
     },
     "output_type": "display_data"
    }
   ],
   "source": [
    "arrays={\n",
    "    k: event_final_2[k]['muon_mass'] for k in event_final_2 \n",
    "#    k: event_final_2[k]['photon_eta'][:,0] for k in event_final_2 \n",
    "}\n",
    "data_mc_compare_plot(arrays, weight=weight, plot_name='muon_mass', x_name=r'$mass (\\mu \\mu)$', x_max=120, x_min=60, bins=50, year='run3', density=True, underflow=True)"
   ]
  },
  {
   "cell_type": "code",
   "execution_count": 17,
   "id": "fd1cdcec",
   "metadata": {},
   "outputs": [
    {
     "data": {
      "image/png": "[encoded data removed]",
      "text/plain": [
       "<Figure size 648x720 with 2 Axes>"
      ]
     },
     "metadata": {
      "needs_background": "light"
     },
     "output_type": "display_data"
    },
    {
     "data": {
      "image/png": "[encoded data removed]",
      "text/plain": [
       "<Figure size 648x720 with 2 Axes>"
      ]
     },
     "metadata": {
      "needs_background": "light"
     },
     "output_type": "display_data"
    },
    {
     "data": {
      "image/png": "[encoded data removed]",
      "text/plain": [
       "<Figure size 648x720 with 2 Axes>"
      ]
     },
     "metadata": {
      "needs_background": "light"
     },
     "output_type": "display_data"
    },
    {
     "data": {
      "image/png": "[encoded data removed]",
      "text/plain": [
       "<Figure size 648x720 with 2 Axes>"
      ]
     },
     "metadata": {
      "needs_background": "light"
     },
     "output_type": "display_data"
    },
    {
     "data": {
      "image/png": "[encoded data removed]",
      "text/plain": [
       "<Figure size 648x720 with 2 Axes>"
      ]
     },
     "metadata": {
      "needs_background": "light"
     },
     "output_type": "display_data"
    },
    {
     "data": {
      "image/png": "[encoded data removed]",
      "text/plain": [
       "<Figure size 648x720 with 2 Axes>"
      ]
     },
     "metadata": {
      "needs_background": "light"
     },
     "output_type": "display_data"
    },
    {
     "data": {
      "image/png": "[encoded data removed]",
      "text/plain": [
       "<Figure size 648x720 with 2 Axes>"
      ]
     },
     "metadata": {
      "needs_background": "light"
     },
     "output_type": "display_data"
    }
   ],
   "source": [
    "plot_info = [\n",
    "    ('photon_eta', r'$\\eta (\\gamma)$', 'photon_eta', -2.5, 2.5, 30, True),\n",
    "    ('photon_pt', r'$P_T (\\gamma)$', 'photon_pt', 35, 150, 30, True),\n",
    "    ('muon_mass', r'$mass (\\mu \\mu)$', 'muon_mass', 60, 120, 30, False),\n",
    "    ('muon1_pt', r'$P_t (\\mu_1)$', 'muon1_pt', 30, 150, 30, False),\n",
    "    ('muon2_pt', r'$P_t (\\mu_2)$', 'muon2_pt', 30, 150, 30, False),\n",
    "    ('muon1_eta', r'$\\eta (\\mu_1)$', 'muon1_eta', -2.5, 2.5, 30, False),\n",
    "    ('muon2_eta', r'$\\eta (\\mu_2)$', 'muon2_eta', -2.5, 2.5, 30, False),\n",
    "]\n",
    "\n",
    "for plot_name, x_name, var_name, x_min, x_max, bins, is_photon in plot_info:\n",
    "    arrays = {k: event_final_2[k][var_name] for k in event_final_2}\n",
    "    if is_photon:\n",
    "        arrays = {k: v[:, 0] for k, v in arrays.items()}\n",
    "    \n",
    "    data_mc_compare_plot(arrays, weight=weight, plot_name=plot_name, x_name=x_name, x_min=x_min, x_max=x_max, bins=bins, year='run3', density=True, underflow=True)\n"
   ]
  },
  {
   "cell_type": "code",
   "execution_count": null,
   "id": "d38d2d6d",
   "metadata": {},
   "outputs": [],
   "source": [
    "event_test = ak.concatenate(event_muon_phodrs['wz'])\n",
    "\n"
   ]
  },
  {
   "cell_type": "code",
   "execution_count": null,
   "id": "762542ec",
   "metadata": {},
   "outputs": [],
   "source": [
    "event_muon_phodrs['zg'][0]\n",
    "event_muon_phodrs['zg'][1]\n",
    "#122708-26099-5691"
   ]
  },
  {
   "cell_type": "code",
   "execution_count": null,
   "id": "0265ffba",
   "metadata": {},
   "outputs": [],
   "source": [
    "ak.max(event_final.ntuple.Generator_weight)"
   ]
  },
  {
   "cell_type": "code",
   "execution_count": null,
   "id": "9dc24ce7",
   "metadata": {},
   "outputs": [],
   "source": [
    "\n",
    "\"\"\"\n",
    "lumi = 4.9 fb\n",
    "\"\"\"\n",
    "\n",
    "xs_weight = lumi * xsec / ak.sum(genWeight)\n"
   ]
  },
  {
   "cell_type": "code",
   "execution_count": null,
   "id": "4ed1d248",
   "metadata": {},
   "outputs": [],
   "source": []
  },
  {
   "attachments": {},
   "cell_type": "markdown",
   "id": "9462adc6",
   "metadata": {},
   "source": [
    "## 测试"
   ]
  },
  {
   "cell_type": "code",
   "execution_count": null,
   "id": "9359acc8",
   "metadata": {},
   "outputs": [],
   "source": [
    "event_final = {key: {} for key in EVENT}\n",
    "#print(event_final)\n",
    "for key in EVENT.keys():\n",
    "#    event_final[key] = ak.concatenate(ak.Array(event_muon_phodrs[key]))\n",
    "    event_final[key] = ak.concatenate(event_muon_phodrs[key])\n",
    "    print(key,'done')\n",
    "event_final\n",
    "event_final['data'] = event_final['muonc']\n",
    "del event_final['muonc']"
   ]
  },
  {
   "cell_type": "code",
   "execution_count": null,
   "id": "66ea0684",
   "metadata": {},
   "outputs": [],
   "source": [
    "import selection_cut \n",
    "reload(selection_cut)\n",
    "i = EVENT['zg'][0]\n",
    "mu1 = selection_cut.muon(i,'trigger','IsoMu24')\n",
    "print(mu1)\n",
    "mu2 = selection_cut.muon(mu1,'cutBasedID','tight')\n",
    "print(mu2)\n",
    "mu3 = selection_cut.muon(mu2,'pf','tight')\n",
    "print(mu3)\n",
    "mu4 = selection_cut.muon(mu3,'pid','+-')\n",
    "print(mu4)\n",
    "mu5 = selection_cut.muon(mu4,'pt','2025')\n",
    "print(mu5)\n",
    "mu6 = selection_cut.muon(mu5,'eta','2.4')\n",
    "print(mu6)\n",
    "#    event_muon_phodr.append(mu6)\n",
    "#photon_cut\n",
    "pho1 = selection_cut.photon(mu6, 'pt', '10')\n",
    "print(pho1)\n",
    "pho2 = selection_cut.photon(pho1, 'eta', '2.5')\n",
    "print(pho2)\n",
    "pho3 = selection_cut.photon(pho2, 'id', 'tight')\n",
    "print(pho3)\n",
    "pho4 = selection_cut.photon(pho3,'prompt',True)\n",
    "print(pho4)\n",
    "gen_photon = pho4.GenPart[(pho4.GenPart.pdgId==22) & pho4.GenPart.hasFlags([ \"isPrompt\", 'isLastCopy'])]\n",
    "photon4_near, photon4_gen_photon_dr = gen_photon.nearest(pho4.Photon, axis=1, return_metric=True)\n",
    "mask = ak.fill_none(photon4_gen_photon_dr < 0.3, True)\n",
    "pho5 = pho4[ak.num(pho4.Photon[ak.any(mask == True,axis=1)]) == 1]\n",
    "#pho5 = pho4[ak.num(pho4.Photon[mask]) == 1]\n",
    "print(pho5)"
   ]
  },
  {
   "cell_type": "code",
   "execution_count": null,
   "id": "6f257a90",
   "metadata": {},
   "outputs": [],
   "source": [
    "pho5.Muon.pt\n",
    "#pho5.Muon[:,1]"
   ]
  },
  {
   "cell_type": "code",
   "execution_count": null,
   "metadata": {},
   "outputs": [],
   "source": [
    "muon_vectors = ak.zip(\n",
    "    {\n",
    "        \"pt\": pho5[\"Muon\"][\"pt\"],\n",
    "        \"eta\": pho5[\"Muon\"][\"eta\"],\n",
    "        \"phi\": pho5[\"Muon\"][\"phi\"],\n",
    "        \"mass\": pho5[\"Muon\"][\"mass\"],\n",
    "    },\n",
    "    with_name=\"PtEtaPhiMLorentzVector\",\n",
    ")\n",
    "\n",
    "# 确保每个事件都有两个 muon\n",
    "muon_pairs = muon_vectors[ak.num(muon_vectors) == 2]\n",
    "\n",
    "# 计算两个 muon 的联合不变质量\n",
    "invariant_mass = (muon_pairs[:, 0] + muon_pairs[:, 1]).mass\n",
    "\n",
    "print(\"Invariant mass:\", invariant_mass)\n",
    "invariant_mass\n",
    "#pho5"
   ]
  },
  {
   "cell_type": "code",
   "execution_count": null,
   "id": "0c3d0f85",
   "metadata": {},
   "outputs": [],
   "source": [
    "mask = ak.fill_none(photon4_gen_photon_dr < 0.3, True)\n",
    "print(mask)\n",
    "pho4[ak.num(pho4.Photon[ak.any(mask == True,axis=1)]) == 1]\n",
    "#pho4.Photon\n",
    "#ak.num(pho4.Photon[mask])\n",
    "#pho4\n",
    "#pho5 = pho4[ak.num(pho4.Photon[mask]) == 1]\n",
    "#print(pho5)"
   ]
  },
  {
   "cell_type": "code",
   "execution_count": null,
   "id": "caf489f4",
   "metadata": {},
   "outputs": [],
   "source": [
    "event_muon_phodr = []\n",
    "photon4_near, photon4_gen_photon_dr = gen_photon.nearest(pho4.Photon, axis=1, return_metric=True, threshold=0.003)\n",
    "photon4_near.charge\n",
    "mask = ak.fill_none(photon4_gen_photon_dr < 0.3, True)\n",
    "mask\n",
    "#[photon4_near.charge == None]\n",
    "\n",
    "pho5 = pho4[ak.num(pho4.Photon[mask]) == 1]\n",
    "VARIABLES = {\n",
    "    'photon_pt':pho5.Photon.pt,\n",
    "    'photon_eta':pho5.Photon.eta,\n",
    "#    'tt': ttbar_events,\n",
    "#    'zz': zz_events,\n",
    "#    'wz': wz_events,\n",
    "#    'ww': ww_events,\n",
    "}\n",
    "event_muon_phodr.append(VARIABLES)\n",
    "event_muon_phodr\n",
    "#event_muon_phodrs[zg] = VARIABLES"
   ]
  },
  {
   "cell_type": "code",
   "execution_count": null,
   "id": "fc528705",
   "metadata": {},
   "outputs": [],
   "source": [
    "VARIABLES = {\n",
    "    'photon_pt':pho5.Photon.pt,\n",
    "    'photon_eta':pho5.Photon.eta,\n",
    "#    'tt': ttbar_events,\n",
    "#    'zz': zz_events,\n",
    "#    'wz': wz_events,\n",
    "#    'ww': ww_events,\n",
    "}"
   ]
  },
  {
   "cell_type": "code",
   "execution_count": null,
   "id": "cdbbcf3d",
   "metadata": {},
   "outputs": [],
   "source": [
    "photon4_near, photon4_gen_photon_dr = gen_photon.nearest(pho4.Photon, axis=1, return_metric=True)#, threshold=0.3\n",
    "ak.fill_none(photon4_gen_photon_dr < 0.3, False)\n",
    "#pho4[ak.num(photon4_near) != 0]"
   ]
  },
  {
   "cell_type": "code",
   "execution_count": null,
   "id": "82753c0f",
   "metadata": {},
   "outputs": [],
   "source": [
    "ak.min(ak.num(gen_photon))"
   ]
  },
  {
   "cell_type": "code",
   "execution_count": null,
   "id": "8279881c",
   "metadata": {},
   "outputs": [],
   "source": [
    "reload(selection_cut)\n",
    "event_muon_pho = []\n",
    "for event_muon_x in event_muon:\n",
    "    pho1 = selection_cut.photon(event_muon_x,'pt','10')\n",
    "    pho2 = selection_cut.photon(pho1,'eta','2.5')\n",
    "    pho3 = selection_cut.photon(pho2,'id','tight')\n",
    "    pho4 = selection_cut.photon(pho3,'prompt',True)\n",
    "    event_muon_pho.append(pho4)"
   ]
  },
  {
   "cell_type": "code",
   "execution_count": null,
   "id": "e06046cb",
   "metadata": {},
   "outputs": [],
   "source": [
    "reload(selection_cut)\n",
    "event_muon_phodr = []\n",
    "for event_muon_pho_x in event_muon_pho:\n",
    "    gen_photon = event_muon_pho_x.GenPart[(event_muon_pho_x.GenPart.pdgId==22) & event_muon_pho_x.GenPart.hasFlags([\"fromHardProcess\", \"isPrompt\"])]\n",
    "    dr_photon = selection_cut.DR(event_muon_pho_x.Photon, gen_photon, drmin=0.3)\n",
    "    dr_cut = (ak.num(event_muon_pho_x.Photon[dr_photon]) != 0)\n",
    "    event_muon_phodr.append(event_muon_pho_x[dr_cut])"
   ]
  },
  {
   "cell_type": "code",
   "execution_count": null,
   "id": "cc68efa2",
   "metadata": {},
   "outputs": [],
   "source": []
  },
  {
   "cell_type": "code",
   "execution_count": null,
   "id": "ed022b77",
   "metadata": {},
   "outputs": [],
   "source": [
    "reload(selection)\n",
    "p = selection.DR(c.Photon, gen_photon, drmin=0.3)\n",
    "dr_cut = (ak.num(c.Photon[p]) != 0)\n",
    "c[dr_cut]\n"
   ]
  },
  {
   "cell_type": "code",
   "execution_count": null,
   "id": "9448bedd",
   "metadata": {},
   "outputs": [],
   "source": [
    "p"
   ]
  },
  {
   "cell_type": "code",
   "execution_count": null,
   "id": "29e0307b",
   "metadata": {},
   "outputs": [],
   "source": [
    "b.GenPart.hasFlags([\"fromHardProcess\", \"isPrompt\"])"
   ]
  },
  {
   "cell_type": "code",
   "execution_count": null,
   "id": "cb8c69e5",
   "metadata": {},
   "outputs": [],
   "source": [
    "_events.Photon[0,0].delta_r(gen_photon)"
   ]
  },
  {
   "cell_type": "code",
   "execution_count": null,
   "id": "b7750f09",
   "metadata": {},
   "outputs": [],
   "source": [
    "\n",
    "def muon(sample,cut_name,tag):\n",
    "    if cut_name == 'trigger':\n",
    "        if tag == 'IsoMu24':\n",
    "            return sample[sample.HLT.IsoMu24]\n",
    "    if cut_name == 'cutBasedID':\n",
    "        if tag == 'tight':\n",
    "            cutBasedID_raw = ak.unzip(sample.ntuple.muon_cutBasedID[:,0,:])\n",
    "            cutBasedID_raw = ak.flatten(cutBasedID_raw)\n",
    "            muon_cutBasedID_cut = cutBasedID_raw[cutBasedID_raw != -10000000]\n",
    "            return sample[(ak.all(muon_cutBasedID_cut[:,:] == 3, axis=1))]\n",
    "    if cut_name == 'pf':\n",
    "        if tag == 'tight':\n",
    "            return sample[(ak.all(sample.Muon.pfRelIso04_all[:,:] < 0.15, axis=1))]\n",
    "    if cut_name == 'pid':\n",
    "        if tag == '+-':\n",
    "            pid_raw = ak.unzip(sample.ntuple.muon_pid[:,0,:])\n",
    "            pid_raw = ak.flatten(pid_raw)\n",
    "            pid_cut = pid_raw[  (pid_raw == 13) | (pid_raw == -13)]\n",
    "            return sample[ak.sum(pid_cut[:,:2], axis=1)==0 ]\n",
    "    if cut_name == 'pt':\n",
    "        if tag == '2025':\n",
    "            pt_raw = ak.unzip(sample.ntuple.muon_pt[:,0,:])\n",
    "            pt_raw = ak.flatten(pt_raw)\n",
    "            pt_cut = pt_raw[pt_raw != -1e+07]\n",
    "            return sample[(ak.all(pt_cut[:,:] > 20, axis=1)) & (ak.any(pt_cut[:,:] > 25, axis=1))]\n",
    "    if cut_name == 'eta':\n",
    "        if tag == '2.4':\n",
    "            eta_raw = ak.unzip(sample.ntuple.muon_eta[:,0,:])\n",
    "            eta_raw = ak.flatten(eta_raw)\n",
    "            eta_cut = eta_raw[eta_raw != -1e+07]\n",
    "            return  sample[(ak.all(eta_cut[:,:] < 2.4, axis=1))] \n",
    "\n",
    "        \n"
   ]
  },
  {
   "cell_type": "code",
   "execution_count": null,
   "id": "3360bf0d",
   "metadata": {},
   "outputs": [],
   "source": [
    "def photon(sample,cut_name,tag):\n",
    "    if cut_name == 'pt':\n",
    "        if tag == '10':\n",
    "            photon_pt = ak.unzip(sample.ntuple.photon_pt[:,0,:])\n",
    "            photon_pt = ak.flatten(photon_pt)\n",
    "            pt_cut = photon_pt[photon_pt != -1e+07]\n",
    "            return sample[(ak.any(pt_cut[:,:] > 10, axis=1))]\n",
    "    if cut_name == 'eta':\n",
    "        if tag =='2.5':\n",
    "            photon_eta = ak.unzip(sample.ntuple.photon_eta[:,0,:])\n",
    "            photon_eta = ak.flatten(photon_eta)\n",
    "            eta_cut = photon_eta[photon_eta != -1e+07]\n",
    "            return sample[(ak.any(eta_cut[:,:] < 2.5, axis=1))]\n",
    "    if cut_name == 'id':\n",
    "        if tag == 'tight':\n",
    "            pt_id = (sample.Photon.vidNestedWPBitmap[:] & 1) + 2*((sample.Photon.vidNestedWPBitmap[:] >> 1) & 1) \n",
    "            scEta_id = (sample.Photon.vidNestedWPBitmap[:] >> 2 & 1) + 2*((sample.Photon.vidNestedWPBitmap[:] >> 3) & 1) \n",
    "            HoE_id = (sample.Photon.vidNestedWPBitmap[:] >> 4 & 1) + 2*((sample.Photon.vidNestedWPBitmap[:] >> 5) & 1) \n",
    "            siesie_id = (sample.Photon.vidNestedWPBitmap[:] >> 6 & 1) + 2*((sample.Photon.vidNestedWPBitmap[:] >> 7) & 1) \n",
    "            chiso_id = (sample.Photon.vidNestedWPBitmap[:] >> 8 & 1) + 2*((sample.Photon.vidNestedWPBitmap[:] >> 9) & 1) \n",
    "            neuiso_id = (sample.Photon.vidNestedWPBitmap[:] >> 10 & 1) + 2*((sample.Photon.vidNestedWPBitmap[:] >> 11) & 1) \n",
    "            phoiso_id = (sample.Photon.vidNestedWPBitmap[:] >> 12 & 1) + 2*((sample.Photon.vidNestedWPBitmap[:] >> 13) & 1)\n",
    "            return sample[(ak.any(pt_id ==3, axis = 1)) &  (ak.any(scEta_id ==3, axis = 1)) & (ak.any(HoE_id ==3, axis = 1)) & (ak.any(siesie_id ==3, axis = 1)) & (ak.any(chiso_id ==3, axis = 1)) & (ak.any(neuiso_id ==3, axis = 1)) & (ak.any(phoiso_id ==3, axis = 1))]\n",
    "    if cut_name == 'prompt':\n",
    "        photon_prompt = sample.Photon.genPartFlav[sample. Photon.genPartFlav== 1]\n",
    "        return sample[(ak.all(photon_prompt == 1, axis=1))]\n",
    "\n",
    "\n",
    "\n",
    "\n"
   ]
  },
  {
   "cell_type": "code",
   "execution_count": null,
   "id": "a1d38001",
   "metadata": {},
   "outputs": [],
   "source": [
    "result2 = []\n",
    "for zg_event in zg_events:\n",
    "    mu1 = muon(zg_event,'trigger','IsoMu24')\n",
    "    mu2 = muon(mu1,'cutBasedID','tight')\n",
    "    mu3 = muon(mu2,'pf','tight')\n",
    "    '''\n",
    "    mu4 = muon(mu3,'pid','+-')\n",
    "    mu5 = muon(mu4,'pt','2025')\n",
    "    mu6 = muon(mu5,'eta','2.4')\n",
    "    '''\n",
    "    result2.append(mu3)\n",
    "        "
   ]
  },
  {
   "cell_type": "code",
   "execution_count": null,
   "id": "de24c5f4",
   "metadata": {},
   "outputs": [],
   "source": [
    "def processor(events: NanoEventsArray,type) -> ak.Array:\n",
    "    if type == 'MC':\n",
    "        print('MC')\n",
    "        cutBasedID_raw = ak.unzip(events.ntuple.muon_cutBasedID[:,0,:])\n",
    "        cutBasedID_raw = ak.flatten(cutBasedID_raw)\n",
    "        muon_cutBasedID_cut = cutBasedID_raw[cutBasedID_raw != -10000000]\n",
    "        events_cut = events[(events.HLT.IsoMu24) & (ak.all(muon_cutBasedID_cut[:,:] == 3, axis=1)) & (ak.all(events.Muon.pfRelIso04_all[:,:] < 0.15, axis=1))]\n",
    "\n",
    "    return ak.Array(events_cut)"
   ]
  },
  {
   "cell_type": "code",
   "execution_count": null,
   "id": "5d9d0a70",
   "metadata": {},
   "outputs": [],
   "source": [
    "result = ak.concatenate([processor(i,'MC') for i in zg_events], axis=0)"
   ]
  },
  {
   "cell_type": "code",
   "execution_count": null,
   "id": "50f66e5f",
   "metadata": {},
   "outputs": [],
   "source": [
    "result"
   ]
  },
  {
   "cell_type": "code",
   "execution_count": null,
   "id": "0c12e312",
   "metadata": {},
   "outputs": [],
   "source": [
    "_events = NanoEventsFactory.from_root(\n",
    "    file='/data/pku/home/muty/pku/ZGToLLG/DATA_MC/ZGToLLG_01J_5f_TuneCP5_13TeV-amcatnloFXFX-pythia8/ZGToLLG_01J_5f_TuneCP5_13TeV-amcatnloFXFX-pythia8_2022/230314_063436/0000/tree_10.root',\n",
    "    treepath='Events', schemaclass=NanoAODSchema\n",
    ").events()"
   ]
  },
  {
   "cell_type": "code",
   "execution_count": null,
   "id": "3105aa99",
   "metadata": {},
   "outputs": [],
   "source": [
    "gen_photon"
   ]
  },
  {
   "cell_type": "code",
   "execution_count": null,
   "id": "a1dccb6b",
   "metadata": {},
   "outputs": [],
   "source": [
    "b.GenPart.statusFlags"
   ]
  },
  {
   "cell_type": "code",
   "execution_count": null,
   "id": "d5393877",
   "metadata": {},
   "outputs": [],
   "source": [
    "gen_photon = _events.GenPart[\n",
    "    (_events.GenPart.pdgId==22) &\n",
    "    _events.GenPart.hasFlags([\"fromHardProcess\", \"isLastCopy\"])\n",
    "][0, 0]"
   ]
  },
  {
   "cell_type": "code",
   "execution_count": null,
   "id": "e8170035",
   "metadata": {},
   "outputs": [],
   "source": [
    "gen_photon"
   ]
  },
  {
   "cell_type": "code",
   "execution_count": null,
   "id": "eba406a0",
   "metadata": {},
   "outputs": [],
   "source": [
    "bin(12673)"
   ]
  },
  {
   "cell_type": "code",
   "execution_count": null,
   "id": "2b3c970a",
   "metadata": {},
   "outputs": [],
   "source": [
    "_events.GenPart.hasFlags(['fromHardProcess', 'isLastCopy'])"
   ]
  },
  {
   "cell_type": "code",
   "execution_count": null,
   "id": "c7d19cb0",
   "metadata": {},
   "outputs": [],
   "source": [
    "SFs_file = uproot.open('/home/pku/muty/pku/ZGToLLG/run3_zg_analyzer/MuonSFs/Efficiencies_muon_Z_Run2022.root')\n",
    "SFs_file['NUM_IsoMu24_and_TightID_and_PFIsoTight_DEN_genTracks_eta_pt'].values()\n",
    "print(SFs_file['NUM_IsoMu24_and_TightID_and_PFIsoTight_DEN_genTracks_eta_pt'].axes[0].edges())\n",
    "print(SFs_file['NUM_IsoMu24_and_TightID_and_PFIsoTight_DEN_genTracks_eta_pt'].axes[1].edges())"
   ]
  },
  {
   "cell_type": "code",
   "execution_count": null,
   "id": "d98d116a",
   "metadata": {},
   "outputs": [],
   "source": [
    "#print(_events.Muon.fields)\n",
    "print(_events.Photon.genPartFlav[0])\n",
    "#_events.HLT.IsoMu24\n",
    "#_events.GenMET['phi']\n",
    "#_events.ntuple['photon_pt'][0,0,:]\n",
    "#_events.ntuple['GenPart_status']"
   ]
  },
  {
   "cell_type": "code",
   "execution_count": null,
   "id": "8d9ad70c",
   "metadata": {},
   "outputs": [],
   "source": [
    "for zg_event in zg_events:\n",
    "    print(zg_event.Photon.genPartFlav[0])"
   ]
  },
  {
   "attachments": {},
   "cell_type": "markdown",
   "id": "38dbddf1",
   "metadata": {},
   "source": [
    "### overflow定义"
   ]
  },
  {
   "cell_type": "code",
   "execution_count": null,
   "id": "e3218c97",
   "metadata": {},
   "outputs": [],
   "source": [
    "def flow(hist: bh.Histogram, overflow: bool=True, underflow: bool=False):\n",
    "    h, var = hist.view(flow=(overflow | underflow)).value, hist.view(flow=(overflow | underflow)).variance\n",
    "    if overflow: ## h, var also include underflow bins but in plots usually no underflow data\n",
    "        ## And we've filled None with -999, so we shouldn't show underflow data (mostly from filled None)\n",
    "        h[-2]+=h[-1]; var[-2]+=var[-1]\n",
    "    if underflow:\n",
    "        h[1]+=h[0]; var[1]+=var[0]\n",
    "    if overflow or underflow:\n",
    "        h = h[1:-1]; var = var[1:-1]\n",
    "    return h, var"
   ]
  },
  {
   "attachments": {},
   "cell_type": "markdown",
   "id": "b3d36285",
   "metadata": {},
   "source": [
    "## 成功的cut"
   ]
  },
  {
   "attachments": {},
   "cell_type": "markdown",
   "id": "a6cdac2b",
   "metadata": {},
   "source": [
    "### muon cut"
   ]
  },
  {
   "cell_type": "code",
   "execution_count": null,
   "id": "da70dec2",
   "metadata": {},
   "outputs": [],
   "source": [
    "\n",
    "def muon(sample,cut_name,tag):\n",
    "    if cut_name == 'trigger':\n",
    "        if tag == 'IsoMu24':\n",
    "            return sample[sample.HLT.IsoMu24]\n",
    "    if cut_name == 'cutBasedID':\n",
    "        if tag == 'tight':\n",
    "            cutBasedID_raw = ak.unzip(sample.ntuple.muon_cutBasedID[:,0,:])\n",
    "            cutBasedID_raw = ak.flatten(cutBasedID_raw)\n",
    "            muon_cutBasedID_cut = cutBasedID_raw[cutBasedID_raw != -10000000]\n",
    "            return sample[(ak.all(muon_cutBasedID_cut[:,:] == 3, axis=1))]\n",
    "    if cut_name == 'pf':\n",
    "        if tag == 'tight':\n",
    "            return sample[(ak.all(sample.Muon.pfRelIso04_all[:,:] < 0.15, axis=1))]\n",
    "    if cut_name == 'pid':\n",
    "        if tag == '+-':\n",
    "            pid_raw = ak.unzip(sample.ntuple.muon_pid[:,0,:])\n",
    "            pid_raw = ak.flatten(pid_raw)\n",
    "            pid_cut = pid_raw[  (pid_raw == 13) | (pid_raw == -13)]\n",
    "            return sample[ak.sum(pid_cut[:,:2], axis=1)==0 ]\n",
    "    if cut_name == 'pt':\n",
    "        if tag == '2025':\n",
    "            pt_raw = ak.unzip(sample.ntuple.muon_pt[:,0,:])\n",
    "            pt_raw = ak.flatten(pt_raw)\n",
    "            pt_cut = pt_raw[pt_raw != -1e+07]\n",
    "            return sample[(ak.all(pt_cut[:,:] > 20, axis=1)) & (ak.any(pt_cut[:,:] > 25, axis=1))]\n",
    "    if cut_name == 'eta':\n",
    "        if tag == '2.4':\n",
    "            eta_raw = ak.unzip(sample.ntuple.muon_eta[:,0,:])\n",
    "            eta_raw = ak.flatten(eta_raw)\n",
    "            eta_cut = eta_raw[eta_raw != -1e+07]\n",
    "            return  sample[(ak.all(eta_cut[:,:] < 2.4, axis=1))] \n",
    "\n",
    "        \n"
   ]
  },
  {
   "attachments": {},
   "cell_type": "markdown",
   "id": "060b75f8",
   "metadata": {},
   "source": [
    "### photon cut"
   ]
  },
  {
   "cell_type": "code",
   "execution_count": null,
   "id": "79aa4a69",
   "metadata": {},
   "outputs": [],
   "source": [
    "def photon(sample,cut_name,tag):\n",
    "    if cut_name == 'pt':\n",
    "        if tag == '10':\n",
    "            photon_pt = ak.unzip(sample.ntuple.photon_pt[:,0,:])\n",
    "            photon_pt = ak.flatten(photon_pt)\n",
    "            pt_cut = photon_pt[photon_pt != -1e+07]\n",
    "            return sample[(ak.any(pt_cut[:,:] > 10, axis=1))]\n",
    "    if cut_name == 'eta':\n",
    "        if tag =='2.5':\n",
    "            photon_eta = ak.unzip(sample.ntuple.photon_eta[:,0,:])\n",
    "            photon_eta = ak.flatten(photon_eta)\n",
    "            eta_cut = photon_eta[photon_eta != -1e+07]\n",
    "            return sample[(ak.any(eta_cut[:,:] < 2.5, axis=1))]\n",
    "    if cut_name == 'id':\n",
    "        if tag == 'tight':\n",
    "            pt_id = (sample.Photon.vidNestedWPBitmap[:] & 1) + 2*((sample.Photon.vidNestedWPBitmap[:] >> 1) & 1) \n",
    "            scEta_id = (sample.Photon.vidNestedWPBitmap[:] >> 2 & 1) + 2*((sample.Photon.vidNestedWPBitmap[:] >> 3) & 1) \n",
    "            HoE_id = (sample.Photon.vidNestedWPBitmap[:] >> 4 & 1) + 2*((sample.Photon.vidNestedWPBitmap[:] >> 5) & 1) \n",
    "            siesie_id = (sample.Photon.vidNestedWPBitmap[:] >> 6 & 1) + 2*((sample.Photon.vidNestedWPBitmap[:] >> 7) & 1) \n",
    "            chiso_id = (sample.Photon.vidNestedWPBitmap[:] >> 8 & 1) + 2*((sample.Photon.vidNestedWPBitmap[:] >> 9) & 1) \n",
    "            neuiso_id = (sample.Photon.vidNestedWPBitmap[:] >> 10 & 1) + 2*((sample.Photon.vidNestedWPBitmap[:] >> 11) & 1) \n",
    "            phoiso_id = (sample.Photon.vidNestedWPBitmap[:] >> 12 & 1) + 2*((sample.Photon.vidNestedWPBitmap[:] >> 13) & 1)\n",
    "            return sample[(ak.any(pt_id ==3, axis = 1)) &  (ak.any(scEta_id ==3, axis = 1)) & (ak.any(HoE_id ==3, axis = 1)) & (ak.any(siesie_id ==3, axis = 1)) & (ak.any(chiso_id ==3, axis = 1)) & (ak.any(neuiso_id ==3, axis = 1)) & (ak.any(phoiso_id ==3, axis = 1))]\n",
    "    if cut_name == 'prompt':\n",
    "        photon_prompt = sample.Photon.genPartFlav[sample. Photon.genPartFlav== 1]\n",
    "        return sample[(ak.all(photon_prompt == 1, axis=1))]\n",
    "\n",
    "\n",
    "\n",
    "\n"
   ]
  },
  {
   "cell_type": "code",
   "execution_count": null,
   "id": "b71ed566",
   "metadata": {},
   "outputs": [],
   "source": [
    "mu1 = muon(_events,'trigger','IsoMu24')\n",
    "mu2 = muon(mu1,'cutBasedID','tight')"
   ]
  },
  {
   "cell_type": "code",
   "execution_count": null,
   "id": "b309f3e3",
   "metadata": {},
   "outputs": [],
   "source": [
    "mu2"
   ]
  },
  {
   "cell_type": "code",
   "execution_count": null,
   "id": "ca76c7c7",
   "metadata": {},
   "outputs": [],
   "source": [
    "mu1 = muon(_events,'trigger','IsoMu24')\n",
    "mu2 = muon(mu1,'cutBasedID','tight')\n",
    "mu3 = muon(mu2,'pf','tight')\n",
    "mu4 = muon(mu3,'pid','+-')\n",
    "mu5 = muon(mu4,'pt','2025')\n",
    "mu6 = muon(mu5,'eta','2.4')"
   ]
  },
  {
   "cell_type": "code",
   "execution_count": null,
   "id": "9bf1d77e",
   "metadata": {},
   "outputs": [],
   "source": [
    "mu6"
   ]
  },
  {
   "cell_type": "code",
   "execution_count": null,
   "id": "1b3e0268",
   "metadata": {},
   "outputs": [],
   "source": [
    "pho1 = photon(mu6,'pt','10')\n",
    "pho2 = photon(pho1,'eta','2.5')\n",
    "pho3 = photon(pho2,'id','tight')\n",
    "pho4 = photon(pho3,'prompt',True)"
   ]
  },
  {
   "cell_type": "code",
   "execution_count": null,
   "id": "c9f695b0",
   "metadata": {},
   "outputs": [],
   "source": [
    "#pho4.object = {}\n",
    "pho4.object"
   ]
  },
  {
   "attachments": {},
   "cell_type": "markdown",
   "id": "a27e882f",
   "metadata": {},
   "source": [
    "## plot"
   ]
  },
  {
   "cell_type": "code",
   "execution_count": null,
   "id": "8266eaea",
   "metadata": {},
   "outputs": [],
   "source": [
    "set_bins=[100.,150.,200.,300.,400.,500.]\n",
    "x_min=90 \n",
    "x_max=501"
   ]
  },
  {
   "cell_type": "code",
   "execution_count": null,
   "id": "aa3077b9",
   "metadata": {},
   "outputs": [],
   "source": [
    "def plot(samples, variable, bins=set_bins,overflow=True,underflow=False, density=False, stack=False):\n",
    "#def plot(samples, variable, bins=[100.,150.,200.,300.,400.,500.],overflow=True,underflow=False, density=False, stack=False):\n",
    "## canvas initializing\n",
    "    colorlist=['red', 'blue', 'green', 'black', 'cyan', 'darkorange', 'darkviolet', 'SlateGray', 'HotPink', 'LightSkyBlue']\n",
    "    mpl.rcParams['axes.prop_cycle'] = cycler(color=colorlist)\n",
    "    #f, ax = plt.subplots()\n",
    "    plt.figure(figsize=(9,9))\n",
    "    ax=plt.gca()\n",
    "    plt.grid()\n",
    "    hep.cms.label(data=False, year=2022, ax=ax)\n",
    "    #画图定义\n",
    "#set_bins=[400.,600.,800.,1200.,1600.,2000.,3000.]\n",
    "\n",
    "#    hep.cms.label(data=False, year=MC, ax=ax)\n",
    "    plot_weight = {\n",
    "        'new': 4.9*0.94*1000/791074,\n",
    "        'old': 4.9*0.96*1000/81266\n",
    "    }\n",
    "    plot_hist = {\n",
    "        'new': bh.Histogram(bh.axis.Variable(set_bins), storage=bh.storage.Weight()),\n",
    "        'old': bh.Histogram(bh.axis.Variable(set_bins), storage=bh.storage.Weight())\n",
    "    }\n",
    "    plot_hep = {\n",
    "        'new': hep,\n",
    "        'old': hep\n",
    "    }\n",
    "\n",
    "## plot\n",
    "    for key in filedict:\n",
    "        plot_hist[key].fill(photon_pt[key], weight= events[key]['LHEReweightingWeight'][:,8]*plot_weight[key])\n",
    "        h, var = flow(hist=plot_hist[key], overflow=overflow, underflow=underflow)\n",
    "        print(plot_hist[key])\n",
    "        plot_hep[key].histplot(h, bins=plot_hist[key].axes[0].edges, yerr=np.sqrt(var), label=key, histtype='step', density=density, stack=stack)\n",
    "        \n",
    "\n",
    "#    hist = bh.Histogram(bh.axis.Variable(set_bins), storage=bh.storage.Weight())\n",
    "#    hist.fill(photon_pt['new'], weight= events['new']['LHEReweightingWeight'][:,8]*139*0.94*1000/791074)\n",
    "#    h, var = flow(hist=hist, overflow=overflow, underflow=underflow)\n",
    "#    print(hist)\n",
    "#    return hist\n",
    "#    h, err = hist.view().value, np.sqrt(hist.view().variance)\n",
    "\n",
    "#    hep.histplot(h, bins=hist.axes[0].edges, yerr=np.sqrt(var), label='sm_pt', histtype='step', density=density, stack=stack)\n",
    "#    print(np.sqrt(var))\n",
    "    # or you can specify color='blue' in the above function to cover colorlist (you could comment out colorlist too) \n",
    "\n",
    "\n",
    "## axises\n",
    "    plt.xlim(x_min, x_max)\n",
    "#    plt.xlim(0, 500)\n",
    "#    plt.ylim(0, ax.get_ylim()[1]*1.1) \n",
    "    ax.ticklabel_format(useOffset=False, style='plain')\n",
    "    plt.yscale('log') \n",
    "\n",
    "    if density==False:\n",
    "        plt.ylabel('Events', fontsize=20, ha='right', y=1)\n",
    "    elif density==True:    \n",
    "        plt.ylabel('A.U.', fontsize=20, ha='right', y=1)\n",
    "    plt.xlabel('photon_pt', fontsize=20, ha='right', x=1)\n",
    "\n",
    "    plt.xticks(size=16)\n",
    "    plt.yticks(size=16)\n",
    "    \n",
    "    ## title, text and legend\n",
    "    #plt.title('ROC Curve of HWW4q vs. QCD', fontsize=24,color=\"black\")\n",
    "    plt.legend(loc=\"best\", ncol=1, frameon=False, fontsize=20)\n",
    "    #plt.text(0.96*ax.get_xlim()[1], ax.get_ylim()[1]*0.72,\"At \"+r\"$\\mathrm{m^{gen}_{H}=}$\"+f\"{Higgsmass} GeV\", fontsize=24, color=\"black\", ha='right')\n",
    "\n",
    "\n",
    "    ## finalizing\n",
    "    if density==True:   suffix='_AU'\n",
    "    if stack==True:     suffix='_stack'\n",
    "#    plt.savefig(\"plots/\"+'M_mumu2'+suffix+\".pdf\", bbox_inches='tight')\n",
    "    plt.savefig(\"plot/\"+'photon_pt_new'+\".pdf\", bbox_inches='tight')\n",
    "    plt.show()\n",
    "#    return hist"
   ]
  },
  {
   "cell_type": "code",
   "execution_count": null,
   "id": "6a6a3334",
   "metadata": {},
   "outputs": [],
   "source": [
    "plot(samples=photon_pt['new'],  variable='nan')\n",
    "#新物理参数的置信度 新物理参数和标准模型作对比（weight ratio加权） 直方图就是标准模型的结果 二次函数拟合想得到新物理参数和标准模型之间的差异"
   ]
  },
  {
   "attachments": {},
   "cell_type": "markdown",
   "id": "5c369382",
   "metadata": {},
   "source": [
    "## 测试的cut"
   ]
  },
  {
   "cell_type": "code",
   "execution_count": null,
   "id": "e0ae6779",
   "metadata": {},
   "outputs": [],
   "source": [
    "use_helvet = False ## true: use helvetica for plots, make sure the system have the font installed\n",
    "if use_helvet:\n",
    "    CMShelvet = hep.style.CMS\n",
    "    CMShelvet['font.sans-serif'] = ['Helvetica', 'Arial']\n",
    "    plt.style.use(CMShelvet)\n",
    "else:\n",
    "    plt.style.use(hep.style.CMS)\n",
    "\n",
    "set_bins = [0.,10.,15.,20.,40.,60.,100.,200.]\n",
    "def plot(samples, bins=set_bins, density=False, stack=False):\n",
    "#def plot(samples, variable, bins=[100.,150.,200.,300.,400.,500.],overflow=True,underflow=False, density=False, stack=False):\n",
    "## canvas initializing\n",
    "    colorlist=['red', 'blue', 'green', 'black', 'cyan', 'darkorange', 'darkviolet', 'SlateGray', 'HotPink', 'LightSkyBlue']\n",
    "    mpl.rcParams['axes.prop_cycle'] = cycler(color=colorlist)\n",
    "    #f, ax = plt.subplots()\n",
    "    plt.figure(figsize=(9,9))\n",
    "    ax=plt.gca()\n",
    "    plt.grid()\n",
    "    plt.yscale('log')\n",
    "    hep.cms.label(data=False, year=2022, ax=ax)\n",
    "    plot_hist = bh.Histogram(bh.axis.Variable(set_bins), storage=bh.storage.Weight())\n",
    "    plot_hist.fill(samples, weight=1)\n",
    "    h, err = plot_hist.view().value, np.sqrt(plot_hist.view().variance)\n",
    "    plot_hep = hep\n",
    "    plot_hep.histplot(h, bins=plot_hist.axes[0].edges, yerr=err, label=\"muon_pt\", histtype='step', density=density, stack=stack)\n",
    "    plt.show()"
   ]
  },
  {
   "cell_type": "code",
   "execution_count": null,
   "metadata": {},
   "outputs": [],
   "source": [
    "plot(samples=pho4.ntuple.muon_pt[:,0,1])"
   ]
  },
  {
   "cell_type": "code",
   "execution_count": null,
   "id": "46672204",
   "metadata": {},
   "outputs": [],
   "source": [
    "####原始cut\n",
    "#trigger(HLT_IsoMu24)\n",
    "'''\n",
    "mu1 = _events[_events.HLT.IsoMu24]\n",
    "mu1\n",
    "print(mu1[2].pt)\n",
    "'''\n",
    "\n",
    "#Tight CutBased ID & Tight PF isolation for two muons \n",
    "'''\n",
    "cutBasedID_raw = ak.unzip(mu1.ntuple.muon_cutBasedID[:,0,:])\n",
    "cutBasedID_raw = ak.flatten(cutBasedID_raw)\n",
    "muon_cutBasedID_cut = cutBasedID_raw[cutBasedID_raw != -10000000]\n",
    "muon_cutBasedID_pf_cut = (ak.all(muon_cutBasedID_cut[:,:] == 3, axis=1)) & (ak.all(mu1.Muon.pfRelIso04_all[:,:] < 0.15, axis=1))\n",
    "mu2 = mu1[muon_cutBasedID_pf_cut]\n",
    "mu2\n",
    "'''\n",
    "\n",
    "#two muon and with opposite charge\n",
    "'''\n",
    "pid_raw = ak.unzip(mu2.ntuple.muon_pid[:,0,:])\n",
    "pid_raw = ak.flatten(pid_raw)\n",
    "pid_cut = pid_raw[  (pid_raw == 13) | (pid_raw == -13)]\n",
    "muon_pid_cut = ak.sum(pid_cut[:,:2], axis=1)==0 \n",
    "mu3 = mu2[muon_pid_cut]\n",
    "mu3\n",
    "#print(mu2.pt[100])\n",
    "'''\n",
    "\n",
    "#all the muons>20，ar least one muon>35 \n",
    "'''\n",
    "pt_raw = ak.unzip(mu3.ntuple.muon_pt[:,0,:])\n",
    "pt_raw = ak.flatten(pt_raw)\n",
    "pt_cut = pt_raw[pt_raw != -1e+07]\n",
    "muon_pt_cut = (ak.all(pt_cut[:,:] > 20, axis=1)) & (ak.any(pt_cut[:,:] > 35, axis=1))\n",
    "mu4 = mu3[muon_pt_cut]\n",
    "mu4\n",
    "#print(mu3[2].pt)\n",
    "'''\n",
    "\n",
    "#all the eta<2.4 \n",
    "'''\n",
    "eta_raw = ak.unzip(mu4.ntuple.muon_eta[:,0,:])\n",
    "eta_raw = ak.flatten(eta_raw)\n",
    "eta_cut = eta_raw[eta_raw != -1e+07]\n",
    "muon_eta_cut = (ak.all(eta_cut[:,:] < 2.4, axis=1)) \n",
    "event_mu = mu4[muon_eta_cut]\n",
    "event_mu\n",
    "'''\n",
    "\n",
    "#any photon pt>10 \n",
    "'''\n",
    "photon_pt = ak.unzip(event_mu.ntuple.photon_pt[:,0,:])\n",
    "photon_pt = ak.flatten(photon_pt)\n",
    "pt_cut = photon_pt[photon_pt != -1e+07]\n",
    "photon_pt_cut = (ak.any(pt_cut[:,:] > 10, axis=1))\n",
    "photon1 = event_mu[photon_pt_cut]\n",
    "photon1\n",
    "'''\n",
    "\n",
    "#any photon eta < 2.5 \n",
    "'''\n",
    "photon_eta = ak.unzip(photon1.ntuple.photon_eta[:,0,:])\n",
    "photon_eta = ak.flatten(photon_eta)\n",
    "eta_cut = photon_eta[photon_eta != -1e+07]\n",
    "photon_eta_cut = (ak.any(eta_cut[:,:] < 2.5, axis=1))\n",
    "photon2 = photon1[photon_eta_cut]\n",
    "photon2\n",
    "'''\n",
    "\n",
    "\n",
    "# determine photon id\n",
    "'''\n",
    "pt_id = (photon2.Photon.vidNestedWPBitmap[:] & 1) + 2*((photon2.Photon.vidNestedWPBitmap[:] >> 1) & 1) \n",
    "scEta_id = (photon2.Photon.vidNestedWPBitmap[:] >> 2 & 1) + 2*((photon2.Photon.vidNestedWPBitmap[:] >> 3) & 1) \n",
    "HoE_id = (photon2.Photon.vidNestedWPBitmap[:] >> 4 & 1) + 2*((photon2.Photon.vidNestedWPBitmap[:] >> 5) & 1) \n",
    "siesie_id = (photon2.Photon.vidNestedWPBitmap[:] >> 6 & 1) + 2*((photon2.Photon.vidNestedWPBitmap[:] >> 7) & 1) \n",
    "chiso_id = (photon2.Photon.vidNestedWPBitmap[:] >> 8 & 1) + 2*((photon2.Photon.vidNestedWPBitmap[:] >> 9) & 1) \n",
    "neuiso_id = (photon2.Photon.vidNestedWPBitmap[:] >> 10 & 1) + 2*((photon2.Photon.vidNestedWPBitmap[:] >> 11) & 1) \n",
    "phoiso_id = (photon2.Photon.vidNestedWPBitmap[:] >> 12 & 1) + 2*((photon2.Photon.vidNestedWPBitmap[:] >> 13) & 1) \n",
    "#tight photon id\n",
    "photon_id = (ak.any(pt_id ==3, axis = 1)) &  (ak.any(scEta_id ==3, axis = 1)) & (ak.any(HoE_id ==3, axis = 1)) & (ak.any(siesie_id ==3, axis = 1)) & (ak.any(chiso_id ==3, axis = 1)) & (ak.any(neuiso_id ==3, axis = 1)) & (ak.any(phoiso_id ==3, axis = 1))\n",
    "photon3 = photon2[photon_id]\n",
    "photon3\n",
    "'''\n",
    "\n",
    "#prompt\n",
    "'''\n",
    "photon_prompt = photon3.Photon.genPartFlav[photon3.Photon.genPartFlav == 1]\n",
    "photon_prompt\n",
    "photon_prompt_cut = (ak.all(photon_prompt == 1, axis=1))\n",
    "photon_prompt_cut\n",
    "photon4 = photon3[photon_prompt_cut]\n",
    "photon4\n",
    "'''\n",
    "\n",
    "\n"
   ]
  },
  {
   "cell_type": "code",
   "execution_count": null,
   "id": "c0e0f425",
   "metadata": {},
   "outputs": [],
   "source": [
    "print(ak.all(photon_prompt == 1, axis=1))"
   ]
  },
  {
   "cell_type": "code",
   "execution_count": null,
   "id": "eb715287",
   "metadata": {},
   "outputs": [],
   "source": [
    "photon_prompt = photon3.Photon.genPartFlav[photon3.Photon.genPartFlav == 1]\n",
    "photon_prompt\n",
    "photon_prompt_cut = (ak.all(photon_prompt == 1, axis=1))\n",
    "photon_prompt_cut\n",
    "photon4 = photon3[photon_prompt_cut]\n",
    "photon4\n"
   ]
  },
  {
   "cell_type": "code",
   "execution_count": null,
   "id": "d3ec700a",
   "metadata": {},
   "outputs": [],
   "source": [
    "\n",
    "status_cut = (photon3.GenPart.status == 1) & (abs(photon3.GenPart.pdgId) == 22) | (abs(photon3.GenPart.pdgId) == 11)\n",
    "status_cut\n",
    "photon_phi_gen = photon3.GenPart.phi[status_cut]\n",
    "photon_phi_gen[0]"
   ]
  },
  {
   "cell_type": "code",
   "execution_count": null,
   "id": "32de3597",
   "metadata": {},
   "outputs": [],
   "source": []
  },
  {
   "cell_type": "code",
   "execution_count": null,
   "id": "6d613a5e",
   "metadata": {},
   "outputs": [],
   "source": [
    "one = ak.Array([[1, 2, 3], [], [4, 5], [6]])\n",
    "two = ak.Array([[1, 2], [3], [4,5,6], [7]])"
   ]
  },
  {
   "cell_type": "code",
   "execution_count": null,
   "id": "3b76046f",
   "metadata": {},
   "outputs": [],
   "source": [
    "print(ak.argcartesian([one, two], axis=1, nested=False))"
   ]
  },
  {
   "cell_type": "code",
   "execution_count": null,
   "id": "c924cd6c",
   "metadata": {},
   "outputs": [],
   "source": [
    "x = ak.cartesian([one, two], axis=1, nested=False)"
   ]
  },
  {
   "cell_type": "code",
   "execution_count": null,
   "id": "54a15560",
   "metadata": {},
   "outputs": [],
   "source": []
  },
  {
   "cell_type": "code",
   "execution_count": null,
   "id": "806e8f29",
   "metadata": {},
   "outputs": [],
   "source": [
    "def DR(A,B):\n",
    "    return (A-B)**2"
   ]
  },
  {
   "cell_type": "code",
   "execution_count": null,
   "id": "9e8c6061",
   "metadata": {},
   "outputs": [],
   "source": [
    "DR(x[0,0],x[0,1])"
   ]
  },
  {
   "cell_type": "code",
   "execution_count": null,
   "id": "ea6b07c8",
   "metadata": {},
   "outputs": [],
   "source": [
    "h = hist.Hist.new.Reg(120, 0, 120, name=\"muon_pt\").Double()\n",
    "h"
   ]
  },
  {
   "cell_type": "code",
   "execution_count": null,
   "id": "e5b982fd",
   "metadata": {},
   "outputs": [],
   "source": [
    "event_mu.muon_pt"
   ]
  },
  {
   "cell_type": "code",
   "execution_count": null,
   "id": "e15c9b7d",
   "metadata": {},
   "outputs": [],
   "source": [
    "h.fill(event_mu.muon_pt[:,0,0])"
   ]
  },
  {
   "cell_type": "code",
   "execution_count": null,
   "id": "65c3f99f",
   "metadata": {},
   "outputs": [],
   "source": [
    "h.plot();"
   ]
  },
  {
   "cell_type": "code",
   "execution_count": null,
   "id": "5ae1b69c",
   "metadata": {},
   "outputs": [],
   "source": [
    "import matplotlib as mpl\n",
    "import matplotlib.pyplot as plt\n",
    "import mplhep as hep\n",
    "from cycler import cycler\n",
    "import boost_histogram as bh"
   ]
  },
  {
   "cell_type": "code",
   "execution_count": null,
   "id": "98ea41a1",
   "metadata": {},
   "outputs": [],
   "source": [
    "plot_hist = bh.Histogram(bh.axis.Variable(set_bins), storage=bh.storage.Weight())\n",
    "err = "
   ]
  },
  {
   "cell_type": "code",
   "execution_count": null,
   "id": "211014bd",
   "metadata": {},
   "outputs": [],
   "source": [
    "use_helvet = False ## true: use helvetica for plots, make sure the system have the font installed\n",
    "if use_helvet:\n",
    "    CMShelvet = hep.style.CMS\n",
    "    CMShelvet['font.sans-serif'] = ['Helvetica', 'Arial']\n",
    "    plt.style.use(CMShelvet)\n",
    "else:\n",
    "    plt.style.use(hep.style.CMS)\n",
    "\n",
    "set_bins = [0.,10.,15.,20.,40.,60.,100.,200.]\n",
    "def plot(samples, bins=set_bins, density=False, stack=False):\n",
    "#def plot(samples, variable, bins=[100.,150.,200.,300.,400.,500.],overflow=True,underflow=False, density=False, stack=False):\n",
    "## canvas initializing\n",
    "    colorlist=['red', 'blue', 'green', 'black', 'cyan', 'darkorange', 'darkviolet', 'SlateGray', 'HotPink', 'LightSkyBlue']\n",
    "    mpl.rcParams['axes.prop_cycle'] = cycler(color=colorlist)\n",
    "    #f, ax = plt.subplots()\n",
    "    plt.figure(figsize=(9,9))\n",
    "    ax=plt.gca()\n",
    "    plt.grid()\n",
    "    plt.yscale('log')\n",
    "    hep.cms.label(data=False, year=2022, ax=ax)\n",
    "    plot_hist = bh.Histogram(bh.axis.Variable(set_bins), storage=bh.storage.Weight())\n",
    "    plot_hist.fill(samples, weight= 1)\n",
    "    h, err = plot_hist.view().value, np.sqrt(plot_hist.view().variance)\n",
    "    plot_hep = hep\n",
    "    plot_hep.histplot(h, bins=plot_hist.axes[0].edges, yerr=err, label=\"muon_pt\", histtype='step', density=density, stack=stack)\n",
    "    plt.show()"
   ]
  },
  {
   "cell_type": "code",
   "execution_count": null,
   "id": "9ce269a2",
   "metadata": {},
   "outputs": [],
   "source": [
    "plot(samples=event_mu.muon_pt[:,0,1])"
   ]
  },
  {
   "cell_type": "code",
   "execution_count": null,
   "id": "ee45ee49",
   "metadata": {},
   "outputs": [],
   "source": [
    "print(event.photon_status[0])\n",
    "event.photon_status[0]"
   ]
  },
  {
   "cell_type": "code",
   "execution_count": null,
   "id": "28e8ebd1",
   "metadata": {},
   "outputs": [],
   "source": [
    "print(event.photon_phi_gen[0])\n",
    "event.photon_phi_gen[0]"
   ]
  },
  {
   "cell_type": "code",
   "execution_count": null,
   "id": "741ed649",
   "metadata": {},
   "outputs": [],
   "source": [
    "GenPart_status\n",
    "status_cut = (event.photon_status == 1) & (abs(event.photon_pdgid) == 22) | (abs(event.photon_pdgid) == 11)\n",
    "status_cut\n",
    "photon_phi_gen = event.photon_phi_gen[status_cut]\n",
    "photon_phi_gen[0]"
   ]
  },
  {
   "cell_type": "code",
   "execution_count": null,
   "id": "b9c0bec0",
   "metadata": {},
   "outputs": [],
   "source": [
    "print(photon3.photon_status[0])\n",
    "photon3.photon_status[0]"
   ]
  },
  {
   "cell_type": "code",
   "execution_count": null,
   "id": "9c040881",
   "metadata": {},
   "outputs": [],
   "source": [
    "print(photon3.photon_phi_gen[0])\n",
    "photon3.photon_phi_gen[0]"
   ]
  },
  {
   "cell_type": "code",
   "execution_count": null,
   "id": "67bedbce",
   "metadata": {},
   "outputs": [],
   "source": [
    "print(photon3.photon_phi_pho[0])\n",
    "photon3.photon_phi_pho[0]"
   ]
  },
  {
   "cell_type": "code",
   "execution_count": null,
   "id": "beb8e4d0",
   "metadata": {},
   "outputs": [],
   "source": [
    "#photon3.photon_pdgid\n",
    "\n",
    "status_cut = (photon3.photon_status == 1) & (abs(photon3.photon_pdgid) == 22) | (abs(photon3.photon_pdgid) == 11)\n",
    "status_cut\n",
    "photon_phi_gen = photon3.photon_phi_gen[status_cut]\n",
    "photon_phi_gen[0]\n",
    "#photon_phi_pho = photon3.photon_phi_pho[status_cut]\n",
    "#photon_eta_gen = photon3.photon_eta_gen[status_cut]\n",
    "##photon_status_pid\n",
    "#print(status_cut[0])"
   ]
  },
  {
   "cell_type": "code",
   "execution_count": null,
   "id": "96eaa4e2",
   "metadata": {},
   "outputs": [],
   "source": [
    "pdg_id = photon3.photon_pdgid[  (abs(photon3.photon_pdgid) == 22) | (abs(photon3.photon_pdgid) == 11)]\n",
    "#pdg_id = ak.all(abs(photon3.photon_pdgid) == 22 or abs(photon3.photon_pdgid) == 11)\n",
    "#print(photon3.photon_pdgid[0])\n",
    "#print(pdg_id[0])\n",
    "status_cut[pdg_id]\n"
   ]
  },
  {
   "cell_type": "code",
   "execution_count": null,
   "id": "0f8f10b6",
   "metadata": {},
   "outputs": [],
   "source": [
    "event_mu.photon_vid[125]"
   ]
  },
  {
   "cell_type": "code",
   "execution_count": null,
   "id": "828c7887",
   "metadata": {},
   "outputs": [],
   "source": [
    "print(format(15375,'b'))\n",
    "print(format(16383,'b'))\n",
    "print(event_mu.photon_vid[125] & 1)\n",
    "print((event_mu.photon_vid[125] >> 1) & 1)\n",
    "print((event_mu.photon_vid[125] >> 2) & 1)\n",
    "print((event_mu.photon_vid[125] >> 3) & 1)\n",
    "print((event_mu.photon_vid[125] >> 4) & 1)\n",
    "print((event_mu.photon_vid[125] >> 5) & 1)\n",
    "print((event_mu.photon_vid[125] >> 6) & 1)\n",
    "print((event_mu.photon_vid[125] >> 7) & 1)\n",
    "print((event_mu.photon_vid[125] >> 8) & 1)\n",
    "print((event_mu.photon_vid[125] >> 9) & 1)\n",
    "print((event_mu.photon_vid[125] >> 10) & 1)\n",
    "print((event_mu.photon_vid[125] >> 11) & 1)\n",
    "print((event_mu.photon_vid[125] >> 12) & 1)\n",
    "print((event_mu.photon_vid[125] >> 13) & 1)"
   ]
  },
  {
   "cell_type": "code",
   "execution_count": null,
   "id": "d911c7c8",
   "metadata": {},
   "outputs": [],
   "source": [
    "#struct.unpack(12)\n",
    "format(3,'b')\n",
    "#bitarray(photons.vid[121][:])"
   ]
  },
  {
   "cell_type": "code",
   "execution_count": null,
   "id": "97fe3ea2",
   "metadata": {},
   "outputs": [],
   "source": [
    "i =42\n",
    "type(i)"
   ]
  },
  {
   "cell_type": "code",
   "execution_count": null,
   "id": "ee64fde8",
   "metadata": {},
   "outputs": [],
   "source": [
    "struct"
   ]
  },
  {
   "cell_type": "code",
   "execution_count": null,
   "id": "57ada68a",
   "metadata": {},
   "outputs": [],
   "source": [
    "\n",
    "binary_data = struct.pack('i', [42,31][0])\n",
    "print(binary_data)"
   ]
  },
  {
   "cell_type": "code",
   "execution_count": null,
   "id": "baf24580",
   "metadata": {},
   "outputs": [],
   "source": [
    "photons.vid[121]"
   ]
  },
  {
   "cell_type": "code",
   "execution_count": null,
   "id": "59f7d0b8",
   "metadata": {},
   "outputs": [],
   "source": []
  },
  {
   "cell_type": "code",
   "execution_count": null,
   "id": "bcc25871",
   "metadata": {},
   "outputs": [],
   "source": [
    "pid_raw = ak.Array([[],[-13,13,-100,-100],[-100,-100,-100,-100],[-100,13,-13,-100],[-100,-100,13,-13],[-100,-100,-100,-100]])\n",
    "isMuon = pid_raw[pid_raw < 0  ]\n",
    "isMuon\n",
    "# b = samples[\"muonFile\"][\"ntuple_muon_pid\"][samples[\"muonFile\"][\"ntuple_muon_pid\"] > -999]"
   ]
  },
  {
   "cell_type": "code",
   "execution_count": null,
   "id": "560ed5ad",
   "metadata": {},
   "outputs": [],
   "source": [
    "print(mu1.eta[0])\n",
    "print(mu2.eta[0])\n"
   ]
  },
  {
   "cell_type": "code",
   "execution_count": null,
   "id": "9439416a",
   "metadata": {},
   "outputs": [],
   "source": [
    "muons.trigger"
   ]
  },
  {
   "cell_type": "code",
   "execution_count": null,
   "id": "9457d724",
   "metadata": {},
   "outputs": [],
   "source": [
    "muons[muons.trigger]"
   ]
  },
  {
   "cell_type": "code",
   "execution_count": null,
   "id": "4ac6b60b",
   "metadata": {},
   "outputs": [],
   "source": [
    "#先解定长数组\n",
    "pid_raw = ak.unzip(muons.pid_raw[:,0,:])\n",
    "pid_raw = ak.flatten(pid_raw)\n",
    "muons.pid = pid_raw[  (pid_raw == 13) | (pid_raw == -13)]\n",
    "muons.pid"
   ]
  },
  {
   "cell_type": "code",
   "execution_count": null,
   "id": "8910dcb2",
   "metadata": {},
   "outputs": [],
   "source": [
    "#test_cut = ak.any(20 < muons.pt[:,0,:]< 35, axis=1)\n",
    "test_cut = ak.any(muons.pt[:,0,:]>20 & muons.pt[:,0,:]< 35, axis=1)\n",
    "test_mu = muons[test_cut]\n",
    "print(mu1.pt[3])"
   ]
  },
  {
   "cell_type": "code",
   "execution_count": null,
   "id": "9ef70316",
   "metadata": {},
   "outputs": [],
   "source": [
    "arr=np.array(muons.pid_raw[:,0,:])\n",
    "p=ak.Array(arr.astype(int))\n",
    "p\n",
    "p[p>-20]"
   ]
  },
  {
   "cell_type": "code",
   "execution_count": null,
   "id": "d45a2ada",
   "metadata": {},
   "outputs": [],
   "source": [
    "cut2=(ak.num(muons.pid)==2 & (ak.sum(muons.pid)==0))\n",
    "p=muons[cut2]\n",
    "p[1]"
   ]
  },
  {
   "cell_type": "code",
   "execution_count": null,
   "id": "e3ab60bb",
   "metadata": {},
   "outputs": [],
   "source": [
    "####\n",
    "p=[]\n",
    "p.append(muons.pid_raw[1,0,:][muons.pid_raw[1,0,:]>-20])\n",
    "#p.append(muons.pid_raw[:,0,:][muons.pid_raw[:,0,:]>-20])\n",
    "p.append(muons.pid_raw[4,0,:][muons.pid_raw[4,0,:]>-20])\n",
    "p.append(muons.pid_raw[0,0,:][muons.pid_raw[0,0,:]>-20])\n",
    "ak.Array(np.squeeze(p))"
   ]
  },
  {
   "cell_type": "code",
   "execution_count": null,
   "id": "ba55fd0b",
   "metadata": {},
   "outputs": [],
   "source": [
    "cut1=(muons.pid != -10000000) \n",
    "# (ak.sum(muons.pid[:, 0,:], axis=1) == 0)"
   ]
  },
  {
   "cell_type": "code",
   "execution_count": null,
   "id": "b53013ab",
   "metadata": {},
   "outputs": [],
   "source": [
    "#成功的单一事例cut\n",
    "cut_test = (muons.pid != -10000000)\n",
    "cut4=cut_test[20][0]\n",
    "cut4\n",
    "muons.pid[20][0][cut4]"
   ]
  },
  {
   "cell_type": "code",
   "execution_count": null,
   "id": "1ad53d53",
   "metadata": {},
   "outputs": [],
   "source": [
    "cut_test = (ak.any(muons.pid != -10000000, axis=1)) \n",
    "cut4=cut_test[20]\n",
    "cut4\n",
    "muons.pid[20][0][cut4]"
   ]
  },
  {
   "cell_type": "code",
   "execution_count": null,
   "id": "791753cd",
   "metadata": {},
   "outputs": [],
   "source": [
    "\n",
    "muons.pid=muons.pid[ak.sum(muons.pid > -20)==0]\n",
    "muons.pid"
   ]
  },
  {
   "cell_type": "code",
   "execution_count": null,
   "id": "0966d377",
   "metadata": {},
   "outputs": [],
   "source": [
    "muons.pid"
   ]
  },
  {
   "cell_type": "code",
   "execution_count": null,
   "id": "3ad8981a",
   "metadata": {},
   "outputs": [],
   "source": [
    "cut_test = (muons.pid != -10000000)\n",
    "cut4=cut_test[:][:]\n",
    "cut4"
   ]
  },
  {
   "cell_type": "code",
   "execution_count": null,
   "id": "b0247e1a",
   "metadata": {},
   "outputs": [],
   "source": [
    "muons.pid[:][:][cut4]"
   ]
  },
  {
   "cell_type": "code",
   "execution_count": null,
   "id": "f1428fa2",
   "metadata": {},
   "outputs": [],
   "source": []
  },
  {
   "cell_type": "code",
   "execution_count": null,
   "id": "dd5be360",
   "metadata": {},
   "outputs": [],
   "source": []
  },
  {
   "cell_type": "code",
   "execution_count": null,
   "id": "6a112664",
   "metadata": {},
   "outputs": [],
   "source": [
    "muons"
   ]
  },
  {
   "cell_type": "code",
   "execution_count": null,
   "id": "4c2338a0",
   "metadata": {},
   "outputs": [],
   "source": []
  },
  {
   "cell_type": "code",
   "execution_count": null,
   "id": "932552bd",
   "metadata": {},
   "outputs": [],
   "source": [
    "print(mu1.pt[0])\n"
   ]
  },
  {
   "cell_type": "markdown",
   "id": "f6691e77-00c9-4462-9787-7ac8ad8ea8b4",
   "metadata": {},
   "source": [
    "A cut is an array of booleans, which we can construct as a formula."
   ]
  },
  {
   "cell_type": "code",
   "execution_count": null,
   "id": "4d6249f5-9814-4f38-9f74-6fb7b1b9f9c7",
   "metadata": {},
   "outputs": [],
   "source": [
    "cut = (ak.num(muons.charge) >= 2) & (ak.sum(muons.charge[:, :2], axis=1) == 0)\n",
    "cut"
   ]
  },
  {
   "cell_type": "markdown",
   "id": "d6c9a03c-7541-4cf0-bc10-885e24158048",
   "metadata": {},
   "source": [
    "Applying a cut is a slice. In the same slice, we can pick the first (`0`) and second (`1`) muon in each event."
   ]
  },
  {
   "cell_type": "code",
   "execution_count": null,
   "id": "446bd12e-56ed-4e58-8c4a-fd349f6797d4",
   "metadata": {},
   "outputs": [],
   "source": [
    "mu1 = muons[cut, 0]\n",
    "mu2 = muons[cut, 1]\n",
    "mu1, mu2"
   ]
  },
  {
   "cell_type": "markdown",
   "id": "5332e882-64bb-4570-92ab-8a8fb035d52f",
   "metadata": {},
   "source": [
    "Let's use the [hist](https://github.com/scikit-hep/hist#readme) library for histograms."
   ]
  },
  {
   "cell_type": "code",
   "execution_count": null,
   "id": "119f78f7-ccfb-49bf-a221-021b9ab88eb9",
   "metadata": {},
   "outputs": [],
   "source": [
    "h = hist.Hist.new.Reg(120, 0, 120, name=\"mass\").Double()\n",
    "h"
   ]
  },
  {
   "cell_type": "code",
   "execution_count": null,
   "id": "3ab6f7ab-7286-4f56-948f-44a2e8cfec8b",
   "metadata": {},
   "outputs": [],
   "source": [
    "h.fill(np.sqrt(2*mu1.pt*mu2.pt*(np.cosh(mu1.eta - mu2.eta) - np.cos(mu1.phi - mu2.phi))))"
   ]
  },
  {
   "cell_type": "markdown",
   "id": "6e76b5d8-46a0-4aa8-b3be-80b2a3d655f1",
   "metadata": {},
   "source": [
    "And Matplotlib for plots."
   ]
  },
  {
   "cell_type": "code",
   "execution_count": null,
   "id": "b6844c2f-8fc0-4e51-bf42-842b49be43b5",
   "metadata": {},
   "outputs": [],
   "source": [
    "import matplotlib.pyplot as plt"
   ]
  },
  {
   "cell_type": "code",
   "execution_count": null,
   "id": "03238db7-e4ba-4494-961d-f072b71507ca",
   "metadata": {
    "tags": []
   },
   "outputs": [],
   "source": [
    "h.plot();"
   ]
  },
  {
   "cell_type": "markdown",
   "id": "0c38143b-b3df-4476-922e-d4e5304d46fa",
   "metadata": {},
   "source": [
    "<br><br><br><br><br>\n",
    "\n",
    "Now let's do the whole thing in one cell and time it."
   ]
  },
  {
   "cell_type": "code",
   "execution_count": null,
   "id": "2701fca4-602b-4a97-9f74-2dcd7ecc9f24",
   "metadata": {},
   "outputs": [],
   "source": [
    "starttime = time.time()\n",
    "\n",
    "# read data\n",
    "muons = events.arrays(\n",
    "    [\"pt\", \"eta\", \"phi\", \"charge\"],\n",
    "    aliases={\"pt\": \"Muon_pt\", \"eta\": \"Muon_eta\", \"phi\": \"Muon_phi\", \"charge\": \"Muon_charge\"},\n",
    "    array_cache=None,   # no cheating!\n",
    ")\n",
    "\n",
    "# compute\n",
    "cut = (ak.num(muons.charge) >= 2) & (ak.sum(muons.charge[:, :2], axis=1) == 0)\n",
    "mu1 = muons[cut, 0]\n",
    "mu2 = muons[cut, 1]\n",
    "h = hist.Hist.new.Reg(120, 0, 120, name=\"mass\").Double()\n",
    "h.fill(np.sqrt(2*mu1.pt*mu2.pt*(np.cosh(mu1.eta - mu2.eta) - np.cos(mu1.phi - mu2.phi))))\n",
    "\n",
    "uproot_time = time.time() - starttime\n",
    "print(f\"total time: {uproot_time} sec\")"
   ]
  },
  {
   "cell_type": "code",
   "execution_count": null,
   "id": "dbd4249f-637e-4f91-80d4-6f5696ea7964",
   "metadata": {},
   "outputs": [],
   "source": [
    "pyroot_time / uproot_time"
   ]
  },
  {
   "cell_type": "markdown",
   "id": "4bae101b-3e8e-43df-8c0d-fe3c4b796b7a",
   "metadata": {},
   "source": [
    "It's in the same ballpark as C++. It can be 1.5× to 2× slower, but it's much closer to C++ on a log plot than it is to Python \"for\" loops."
   ]
  },
  {
   "cell_type": "markdown",
   "id": "816289f5-b975-42cf-8bbf-02c0f226e6d9",
   "metadata": {},
   "source": [
    "<br><br><br><br><br>\n",
    "\n",
    "## The Pythonic HEP ecosystem\n",
    "\n",
    "Uproot is not a framework, it _only_ does ROOT I/O. Awkward Array handles array manipulation, hist does histograms, etc.\n",
    "\n",
    "It is part of this complete breakfast:\n",
    "\n",
    "<img src=\"img/logo-parade.svg\" width=\"800px\">"
   ]
  },
  {
   "cell_type": "markdown",
   "id": "bbc147a6-04ac-4eaa-848b-c8d59cac46e0",
   "metadata": {},
   "source": [
    "<br><br><br><br><br>\n",
    "\n",
    "## Uproot\n",
    "\n",
    "Uproot is an independent implementation of ROOT I/O that leverages standard Python libraries.\n",
    "\n",
    "<img src=\"img/abstraction-layers.svg\" width=\"800px\">"
   ]
  },
  {
   "cell_type": "markdown",
   "id": "62e90fb9-b612-4ba7-8a79-f747b8682024",
   "metadata": {},
   "source": [
    "<br><br><br><br><br>\n",
    "\n",
    "The documentation is at [https://uproot.readthedocs.io/](https://uproot.readthedocs.io/).\n",
    "\n",
    "<img src=\"img/uproot-documentation.png\" width=\"800px\"/>"
   ]
  },
  {
   "cell_type": "markdown",
   "id": "55dc1c65-a3cf-4e8d-8f4c-eef4eb6c37d6",
   "metadata": {},
   "source": [
    "<br><br><br><br><br>\n",
    "\n",
    "## Navigating a ROOT file\n",
    "\n",
    "<img src=\"img/terminology.svg\" style=\"width: 800px\">"
   ]
  },
  {
   "cell_type": "code",
   "execution_count": null,
   "id": "3896e3fd-62e4-46f2-92e3-e74936fff83a",
   "metadata": {},
   "outputs": [],
   "source": [
    "histograms = uproot.open(\"data/HiggsZZ4mu_histograms.root\")\n",
    "histograms"
   ]
  },
  {
   "cell_type": "code",
   "execution_count": null,
   "id": "505a5c1f-971a-454a-b7fd-05a87cec494f",
   "metadata": {},
   "outputs": [],
   "source": [
    "histograms.file"
   ]
  },
  {
   "cell_type": "markdown",
   "id": "27871d30-483d-478b-a541-9b0422e3b7f2",
   "metadata": {},
   "source": [
    "In Uproot, a directory is a dict-like object with subscripting (square brackets), [keys](https://uproot.readthedocs.io/en/latest/uproot.reading.ReadOnlyDirectory.html#keys), [values](https://uproot.readthedocs.io/en/latest/uproot.reading.ReadOnlyDirectory.html#values), [items](https://uproot.readthedocs.io/en/latest/uproot.reading.ReadOnlyDirectory.html#items), and [classnames](https://uproot.readthedocs.io/en/latest/uproot.reading.ReadOnlyDirectory.html#classnames) methods."
   ]
  },
  {
   "cell_type": "code",
   "execution_count": null,
   "id": "78630af0-ce2d-401b-99d9-143c5c574860",
   "metadata": {},
   "outputs": [],
   "source": [
    "histograms[\"Z\"]"
   ]
  },
  {
   "cell_type": "code",
   "execution_count": null,
   "id": "e7f95796-13c2-4248-949b-91479359eabb",
   "metadata": {},
   "outputs": [],
   "source": [
    "histograms[\"Z\"][\"4mu\"]"
   ]
  },
  {
   "cell_type": "markdown",
   "id": "e1a8a9d4-1c79-49cf-88ce-e8d9a35f26a6",
   "metadata": {},
   "source": [
    "Try `recursive`, `filter_name`, and `filter_classname` arguments."
   ]
  },
  {
   "cell_type": "code",
   "execution_count": null,
   "id": "9d8138f3-283a-43cb-9353-a11991d1ef9e",
   "metadata": {},
   "outputs": [],
   "source": [
    "histograms.keys()"
   ]
  },
  {
   "cell_type": "markdown",
   "id": "0b83c8f5-9e9f-4678-a1a0-90687794e4b2",
   "metadata": {},
   "source": [
    "Most histograms and graphs can be converted to types in other Python libraries.\n",
    "\n",
    "Try the `to_hist()` method on this one."
   ]
  },
  {
   "cell_type": "code",
   "execution_count": null,
   "id": "431706f9-61dc-4bb6-ae1e-9a12c6c3f609",
   "metadata": {},
   "outputs": [],
   "source": [
    "histograms[\"Z/all/massZto2muon\"]"
   ]
  },
  {
   "cell_type": "markdown",
   "id": "87876faa-7998-4395-b4d1-65192bac08cd",
   "metadata": {},
   "source": [
    "<br><br><br>\n",
    "\n",
    "**Three-minute exercise:** find the 2D histogram and plot it."
   ]
  },
  {
   "cell_type": "code",
   "execution_count": null,
   "id": "7d94135d-c1d4-47e6-9206-89c7300d17fb",
   "metadata": {},
   "outputs": [],
   "source": [
    "histograms"
   ]
  },
  {
   "cell_type": "markdown",
   "id": "743d3385-58e7-4f41-a7f7-5618ac027ea3",
   "metadata": {},
   "source": [
    "<br><br><br><br><br>\n",
    "\n",
    "## Can Uproot read my data?\n",
    "\n",
    "<img src=\"img/can-uproot-read-it.svg\" width=\"500px\"/>"
   ]
  },
  {
   "cell_type": "markdown",
   "id": "e22903b5-c5b3-4b48-b4f1-dfd0dbaa8d00",
   "metadata": {},
   "source": [
    "Here is a file with analysis-specific classes; Uproot _cannot_ have prior knowledge of these classes."
   ]
  },
  {
   "cell_type": "code",
   "execution_count": null,
   "id": "61cf7763-2915-49b3-bd6d-c01fa1d68b25",
   "metadata": {},
   "outputs": [],
   "source": [
    "icecube = uproot.open(\"data/icecube-supernovae.root\")\n",
    "icecube.keys()"
   ]
  },
  {
   "cell_type": "code",
   "execution_count": null,
   "id": "1be6bf8d-c4e5-4cee-ad97-467589775a91",
   "metadata": {},
   "outputs": [],
   "source": [
    "icecube.classname_of(\"config/detector\")"
   ]
  },
  {
   "cell_type": "markdown",
   "id": "b841e06b-d16d-4546-bc1f-4b1bab0cb6b5",
   "metadata": {},
   "source": [
    "It is possible to read an `I3Eval_t` object because ROOT stores the \"how to read\" instructions in the file (called \"streamers\")."
   ]
  },
  {
   "cell_type": "code",
   "execution_count": null,
   "id": "fe251213-5296-4823-bbc4-ed32bfa7cc2b",
   "metadata": {},
   "outputs": [],
   "source": [
    "icecube.file.show_streamers(\"I3Eval_t\")"
   ]
  },
  {
   "cell_type": "code",
   "execution_count": null,
   "id": "59081442-001a-4661-b995-d338709c792c",
   "metadata": {},
   "outputs": [],
   "source": [
    "icecube[\"config/detector\"]"
   ]
  },
  {
   "cell_type": "code",
   "execution_count": null,
   "id": "3304566b-4f6f-4564-ab72-d9d90487545f",
   "metadata": {},
   "outputs": [],
   "source": [
    "icecube[\"config/detector\"].all_members"
   ]
  },
  {
   "cell_type": "code",
   "execution_count": null,
   "id": "53b7327b-7d84-461d-9e4d-07df009f9b5e",
   "metadata": {},
   "outputs": [],
   "source": [
    "icecube[\"config/detector\"].member(\"ChannelIDMap\")"
   ]
  },
  {
   "cell_type": "markdown",
   "id": "22919f2a-6287-4698-9635-e5a342683a20",
   "metadata": {},
   "source": [
    "Unlike histograms, these objects have no methods to help you unpack the data; it's all in [members](https://uproot.readthedocs.io/en/latest/uproot.model.Model.html#members), [all_members](https://uproot.readthedocs.io/en/latest/uproot.model.Model.html#all-members), [has_member](https://uproot.readthedocs.io/en/latest/uproot.model.Model.html#has-member), and [member](https://uproot.readthedocs.io/en/latest/uproot.model.Model.html#member)."
   ]
  },
  {
   "cell_type": "markdown",
   "id": "f859f59c-9d13-4db2-b65c-cb56b0b649da",
   "metadata": {},
   "source": [
    "<br><br><br><br><br>\n",
    "\n",
    "## Navigating TTrees"
   ]
  },
  {
   "cell_type": "code",
   "execution_count": null,
   "id": "c5fee4df-e1e5-4c6e-9db5-13973f071762",
   "metadata": {},
   "outputs": [],
   "source": [
    "zmumu_file = uproot.open(\"data/Zmumu.root\")\n",
    "zmumu_file.classnames()"
   ]
  },
  {
   "cell_type": "markdown",
   "id": "43448510-9169-4b72-aaf9-9a8ed48e9b8b",
   "metadata": {},
   "source": [
    "Often, the best thing to do first with an unfamiliar TTree is [show](https://uproot.readthedocs.io/en/latest/uproot.behaviors.TTree.TTree.html#show)."
   ]
  },
  {
   "cell_type": "code",
   "execution_count": null,
   "id": "a8d0d736-f63d-4ef0-957b-c1d950ea7424",
   "metadata": {},
   "outputs": [],
   "source": [
    "zmumu = zmumu_file[\"events\"]\n",
    "zmumu.show()"
   ]
  },
  {
   "cell_type": "markdown",
   "id": "2a3df634-56a1-4804-986f-f6032ce7a995",
   "metadata": {},
   "source": [
    "Keep in mind that\n",
    "\n",
    "   * TTrees are dict-like objects with subscripting (square brackets), [keys](https://uproot.readthedocs.io/en/latest/uproot.behaviors.TTree.TTree.html#keys), [values](https://uproot.readthedocs.io/en/latest/uproot.behaviors.TTree.TTree.html#values), [items](https://uproot.readthedocs.io/en/latest/uproot.behaviors.TTree.TTree.html#items), and [typenames](https://uproot.readthedocs.io/en/latest/uproot.behaviors.TTree.TTree.html#typenames) methods (like directories)\n",
    "   * you can access all of the above data with methods: you don't have to parse the [show](https://uproot.readthedocs.io/en/latest/uproot.behaviors.TTree.TTree.html#show) string!"
   ]
  },
  {
   "cell_type": "code",
   "execution_count": null,
   "id": "6cd887be-e622-425f-96f6-43e60c32a893",
   "metadata": {},
   "outputs": [],
   "source": [
    "zmumu.keys()"
   ]
  },
  {
   "cell_type": "code",
   "execution_count": null,
   "id": "8be42444-d5fb-41ba-a128-fe336343424c",
   "metadata": {},
   "outputs": [],
   "source": [
    "zmumu.typenames()"
   ]
  },
  {
   "cell_type": "code",
   "execution_count": null,
   "id": "a4bfcef4-94f0-433c-aea6-d405f94636b6",
   "metadata": {},
   "outputs": [],
   "source": [
    "{name: branch.interpretation for name, branch in zmumu.items()}"
   ]
  },
  {
   "cell_type": "markdown",
   "id": "ce32e54b-f7aa-4ddf-9be8-5a75aabe60f4",
   "metadata": {},
   "source": [
    "<br><br><br><br><br>\n",
    "\n",
    "## Reading TBranches into arrays\n",
    "\n",
    "The basic method is to get a TBranch (with square brackets) and call [array](https://uproot.readthedocs.io/en/latest/uproot.behaviors.TBranch.TBranch.html#array)."
   ]
  },
  {
   "cell_type": "code",
   "execution_count": null,
   "id": "d7d915ad-6a25-4585-87a5-7afe9a49a100",
   "metadata": {},
   "outputs": [],
   "source": [
    "zmumu[\"M\"].array()"
   ]
  },
  {
   "cell_type": "markdown",
   "id": "325cbb3e-c108-4d8e-b2c6-0211160e68d3",
   "metadata": {},
   "source": [
    "Some important parameters:\n",
    "\n",
    "   * `entry_start`, `entry_stop` to limit how much you read (if it's big)\n",
    "   * `library=\"np\"` for NumPy arrays, `library=\"ak\"` for Awkward Arrays, and `library=\"pd\"` for Pandas (Series or DataFrame)"
   ]
  },
  {
   "cell_type": "code",
   "execution_count": null,
   "id": "ccd6ef30-d431-4a45-be43-2b3698a7a86e",
   "metadata": {},
   "outputs": [],
   "source": [
    "zmumu[\"M\"].array(entry_stop=5)"
   ]
  },
  {
   "cell_type": "markdown",
   "id": "09acbd28-a5ba-4d71-93cb-40122a337310",
   "metadata": {},
   "source": [
    "Get a NumPy (not Awkward) array:"
   ]
  },
  {
   "cell_type": "code",
   "execution_count": null,
   "id": "59f56180-6477-43d6-8216-69fa396d2312",
   "metadata": {},
   "outputs": [],
   "source": [
    "zmumu[\"M\"].array(library=\"np\")"
   ]
  },
  {
   "cell_type": "markdown",
   "id": "793ad29e-dd8a-4ca8-9656-858494e980de",
   "metadata": {},
   "source": [
    "Get a Pandas Series:"
   ]
  },
  {
   "cell_type": "code",
   "execution_count": null,
   "id": "31c8a24c-e187-4ef9-836e-714afa3c457d",
   "metadata": {},
   "outputs": [],
   "source": [
    "zmumu[\"M\"].array(library=\"pd\")"
   ]
  },
  {
   "cell_type": "markdown",
   "id": "78273259-8179-4256-baa0-6cee05237864",
   "metadata": {},
   "source": [
    "<br><br><br><br><br>\n",
    "\n",
    "## Reading many arrays at once\n",
    "\n",
    "The [arrays](https://uproot.readthedocs.io/en/latest/uproot.behaviors.TBranch.HasBranches.html#arrays) method retrieves many TBranches into a \"group\" of arrays.\n",
    "\n",
    "What a \"group\" means depends on the library.\n",
    "\n",
    "Awkward Arrays group data in records (substructure within the array)."
   ]
  },
  {
   "cell_type": "code",
   "execution_count": null,
   "id": "e4a46344-1940-4ab9-8fcc-ad2c5120a319",
   "metadata": {},
   "outputs": [],
   "source": [
    "zmumu.arrays()"
   ]
  },
  {
   "cell_type": "markdown",
   "id": "ee9ffc84-dfe3-4246-aefb-6c6c4f0438ea",
   "metadata": {},
   "source": [
    "A \"group\" of NumPy arrays is a dict (unless you specify `how`):"
   ]
  },
  {
   "cell_type": "code",
   "execution_count": null,
   "id": "0fc308b4-ba85-47e3-acb3-eadbf0e76892",
   "metadata": {},
   "outputs": [],
   "source": [
    "zmumu.arrays(library=\"np\")"
   ]
  },
  {
   "cell_type": "markdown",
   "id": "fb3553d4-012c-43e4-bfb8-52deabbfdf2f",
   "metadata": {},
   "source": [
    "A \"group\" of Pandas Series is a DataFrame:"
   ]
  },
  {
   "cell_type": "code",
   "execution_count": null,
   "id": "c482b7a0-0de4-48b5-9e29-7a3667020df8",
   "metadata": {},
   "outputs": [],
   "source": [
    "zmumu.arrays(library=\"pd\")"
   ]
  },
  {
   "cell_type": "markdown",
   "id": "ce281f06-ecd1-4a34-bf20-e22923af42f4",
   "metadata": {},
   "source": [
    "The first argument can be used to extract TBranches by name:"
   ]
  },
  {
   "cell_type": "code",
   "execution_count": null,
   "id": "b7e404bb-2b24-4981-9935-9af2d7c2fc5d",
   "metadata": {},
   "outputs": [],
   "source": [
    "zmumu.arrays([\"px1\", \"py1\", \"px2\", \"py2\"], library=\"pd\")"
   ]
  },
  {
   "cell_type": "markdown",
   "id": "1f9fa768-c6a2-46e0-b942-dc07f1434e23",
   "metadata": {},
   "source": [
    "But this argument actually takes arbitrary (Python) expressions."
   ]
  },
  {
   "cell_type": "code",
   "execution_count": null,
   "id": "2cb82ff5-8321-4419-8045-0e4dd373818c",
   "metadata": {},
   "outputs": [],
   "source": [
    "zmumu.arrays([\"sqrt(px1**2 + py1**2)\", \"sqrt(px2**2 + py2**2)\"], library=\"pd\")"
   ]
  },
  {
   "cell_type": "markdown",
   "id": "1a0a7926-e289-4c3e-b930-653513745411",
   "metadata": {},
   "source": [
    "This is to support any [aliases](https://uproot.readthedocs.io/en/latest/uproot.behaviors.TTree.TTree.html#aliases) that might be in the [TTree](https://uproot.readthedocs.io/en/latest/uproot.behaviors.TTree.TTree.html), but you can make up your own `aliases` on the spot."
   ]
  },
  {
   "cell_type": "code",
   "execution_count": null,
   "id": "db41b97d-4e2c-4c06-9466-6002a4dec852",
   "metadata": {},
   "outputs": [],
   "source": [
    "zmumu.arrays(\n",
    "    [\"pt1\", \"pt2\"],\n",
    "    {\"pt1\": \"sqrt(px1**2 + py1**2)\", \"pt2\": \"sqrt(px2**2 + py2**2)\"},\n",
    "    library=\"pd\",\n",
    ")"
   ]
  },
  {
   "cell_type": "markdown",
   "id": "d7991201-316c-42ea-a8ca-a2f402b35cf4",
   "metadata": {},
   "source": [
    "The fact that these are interpreted as expressions has some \"gotchas\":\n",
    "\n",
    "   * nested branches, paths with \"`/`\", _would be interpreted as division!_\n",
    "   * wildcards, paths with \"`*`\", _would be interpreted as multiplication!_\n",
    "\n",
    "For pattern-matching on TBranches, use the `filter_name`, `filter_typename`, and `filter_branch` arguments of [arrays](https://uproot.readthedocs.io/en/latest/uproot.behaviors.TBranch.HasBranches.html#arrays)."
   ]
  },
  {
   "cell_type": "code",
   "execution_count": null,
   "id": "d7b358b3-e145-4f2d-b2af-469dc99fcaf4",
   "metadata": {},
   "outputs": [],
   "source": [
    "zmumu.arrays(filter_name=\"p[xyz]*\", library=\"pd\")"
   ]
  },
  {
   "cell_type": "markdown",
   "id": "fc07273c-d8ee-4623-86b5-79a8413353ec",
   "metadata": {},
   "source": [
    "These filters have the same meaning as in [keys](https://uproot.readthedocs.io/en/latest/uproot.behaviors.TBranch.HasBranches.html#keys) and [typenames](https://uproot.readthedocs.io/en/latest/uproot.behaviors.TBranch.HasBranches.html#typenames), so you can test your filters without reading data."
   ]
  },
  {
   "cell_type": "code",
   "execution_count": null,
   "id": "f2f451f2-0820-4271-a4d4-46ce8ada0f47",
   "metadata": {},
   "outputs": [],
   "source": [
    "zmumu.keys(filter_name=\"p[xyz]*\")"
   ]
  },
  {
   "cell_type": "code",
   "execution_count": null,
   "id": "95c299dc-9b50-4547-9d17-c1b5151c1393",
   "metadata": {},
   "outputs": [],
   "source": [
    "zmumu.typenames(filter_name=\"p[xyz]*\")"
   ]
  },
  {
   "cell_type": "markdown",
   "id": "da6e82bc-bc61-4382-8e0f-7131166545f4",
   "metadata": {},
   "source": [
    "<br><br><br>\n",
    "\n",
    "### Get arrays in manageable chunks\n",
    "\n",
    "The [iterate](https://uproot.readthedocs.io/en/latest/uproot.behaviors.TBranch.HasBranches.html#iterate) method is like [arrays](https://uproot.readthedocs.io/en/latest/uproot.behaviors.TBranch.HasBranches.html#arrays), but it can be used in a loop over chunks of the array.\n",
    "\n",
    "How large are the chunks? You should set that with `step_size`."
   ]
  },
  {
   "cell_type": "code",
   "execution_count": null,
   "id": "e7d1a3e3-f486-484b-a9ea-70864367228a",
   "metadata": {},
   "outputs": [],
   "source": [
    "for arrays in zmumu.iterate(step_size=300):\n",
    "    print(repr(arrays))"
   ]
  },
  {
   "cell_type": "code",
   "execution_count": null,
   "id": "0cf2e7a6-f49f-4b5c-ae1f-b69d80cdc1d7",
   "metadata": {},
   "outputs": [],
   "source": [
    "for arrays in zmumu.iterate(step_size=\"50 kB\"):   # 50 kB is very small! for illustrative purposes only!\n",
    "    print(repr(arrays))"
   ]
  },
  {
   "cell_type": "markdown",
   "id": "a6c0a371-8862-40f2-9e99-3e2630681f86",
   "metadata": {},
   "source": [
    "<br><br><br>\n",
    "\n",
    "### Collections of files (like TChain)\n",
    "\n",
    "Each of the single-TTree array-reading methods has a corresponding multi-file function.\n",
    "\n",
    "   * The equivalent of TTree [arrays](https://uproot.readthedocs.io/en/latest/uproot.behaviors.TTree.TTree.html#arrays) is [uproot.concatenate](https://uproot.readthedocs.io/en/latest/uproot.behaviors.TBranch.concatenate.html). _(Reads everything at once: use this as a convenience on datasets you know are small!)_\n",
    "   * The equivalent of TTree [iterate](https://uproot.readthedocs.io/en/latest/uproot.behaviors.TTree.TTree.html#iterate) is [uproot.iterate](https://uproot.readthedocs.io/en/latest/uproot.behaviors.TBranch.iterate.html). _(This is the most useful one.)_\n",
    "   * There's also an [uproot.lazy](https://uproot.readthedocs.io/en/latest/uproot.behaviors.TBranch.lazy.html) _(More on this below.)_\n",
    "\n",
    "Demo of scanning through a large (remote) file:"
   ]
  },
  {
   "cell_type": "code",
   "execution_count": null,
   "id": "dc4d9b14-fc1b-4128-869b-a3ccfd58e03f",
   "metadata": {},
   "outputs": [],
   "source": [
    "import IPython\n",
    "import matplotlib.pyplot as plt\n",
    "import matplotlib.pylab"
   ]
  },
  {
   "cell_type": "code",
   "execution_count": null,
   "id": "59daf877-4522-4eb3-aae3-d44d99bb1982",
   "metadata": {},
   "outputs": [],
   "source": [
    "h = hist.Hist.new.Reg(100, 0, 500, name=\"mass\").Double()\n",
    "\n",
    "for muons in uproot.iterate(\n",
    "    # filename(s)\n",
    "    [\"root://eospublic.cern.ch//eos/opendata/cms/derived-data/AOD2NanoAODOutreachTool/Run2012BC_DoubleMuParked_Muons.root:Events\"],\n",
    "\n",
    "    # expressions\n",
    "    [\"pt\", \"eta\", \"phi\", \"charge\"],\n",
    "    aliases={\"pt\": \"Muon_pt\", \"eta\": \"Muon_eta\", \"phi\": \"Muon_phi\", \"charge\": \"Muon_charge\"},    \n",
    "\n",
    "    # the all-important step_size!\n",
    "    step_size=\"1 MB\",\n",
    "):\n",
    "    # do everything you're going to do to this array\n",
    "    cut = (ak.num(muons.charge) >= 2) & (ak.sum(muons.charge[:, :2], axis=1) == 0)\n",
    "    mu1 = muons[cut, 0]\n",
    "    mu2 = muons[cut, 1]\n",
    "\n",
    "    # such as filling a histogram\n",
    "    h.fill(np.sqrt(2*mu1.pt*mu2.pt*(np.cosh(mu1.eta - mu2.eta) - np.cos(mu1.phi - mu2.phi))))\n",
    "\n",
    "    h.plot()\n",
    "    plt.yscale(\"log\")\n",
    "    IPython.display.display(matplotlib.pylab.gcf())\n",
    "    IPython.display.clear_output(wait=True)\n",
    "\n",
    "    if h.counts().sum() > 300000:\n",
    "        break"
   ]
  },
  {
   "cell_type": "markdown",
   "id": "5b8718ec-b4bd-44c5-b669-c251fa859315",
   "metadata": {},
   "source": [
    "<br><br><br><br><br>\n",
    "\n",
    "Lazy reading is like iterative reading, but it fetches the data only when needed."
   ]
  },
  {
   "cell_type": "code",
   "execution_count": null,
   "id": "02204f0c-ca82-4ae9-b1a1-3bb3f10ddaf2",
   "metadata": {},
   "outputs": [],
   "source": [
    "lazy = uproot.lazy(\n",
    "    # filename(s)\n",
    "    [\"root://eospublic.cern.ch//eos/opendata/cms/derived-data/AOD2NanoAODOutreachTool/Run2012BC_DoubleMuParked_Muons.root:Events\"],\n",
    "    # step_size is still important\n",
    "    step_size=\"1 MB\",\n",
    ")\n",
    "lazy"
   ]
  },
  {
   "cell_type": "code",
   "execution_count": null,
   "id": "73727a59-ae09-4295-97d8-dd7c45b1a57a",
   "metadata": {},
   "outputs": [],
   "source": [
    "lazy.Muon_pt"
   ]
  },
  {
   "cell_type": "code",
   "execution_count": null,
   "id": "3d0feb4a-cd24-43f1-ab42-b76d1c4b585a",
   "metadata": {},
   "outputs": [],
   "source": [
    "lazy.Muon_eta"
   ]
  },
  {
   "cell_type": "markdown",
   "id": "50d9d90a-347c-4d72-b2d5-6754e4fa0523",
   "metadata": {},
   "source": [
    "**Important:** this is not the most efficient way to iterate through a file when you _know_ which TBranches you want to read.\n",
    "\n",
    "It exists for interactive exploration."
   ]
  },
  {
   "cell_type": "markdown",
   "id": "74f5b9f9-2ee7-41b0-aeda-63db9a45347f",
   "metadata": {},
   "source": [
    "<br><br><br><br><br>\n",
    "\n",
    "## What if the data are not one-dimensional or rectilinear arrays?"
   ]
  },
  {
   "cell_type": "markdown",
   "id": "858929f4-b922-4b79-b0e2-0c890b7d0108",
   "metadata": {},
   "source": [
    "Consider this ROOT file (simulation used in the Higgs discovery, converted to NanoAOD)."
   ]
  },
  {
   "cell_type": "code",
   "execution_count": null,
   "id": "6b59920c-aa73-4cdb-9136-d2d4db31fa5f",
   "metadata": {},
   "outputs": [],
   "source": [
    "events = uproot.open(\"data/HiggsZZ4mu.root:Events\")"
   ]
  },
  {
   "cell_type": "markdown",
   "id": "803ee7d9-a8fe-450e-ab09-375bf819b398",
   "metadata": {},
   "source": [
    "Some data, such as missing energy (MET), consist of a single value per collision event and can be represented by normal NumPy arrays."
   ]
  },
  {
   "cell_type": "code",
   "execution_count": null,
   "id": "d10fad35-704b-4600-818e-e87a3ccf3f27",
   "metadata": {},
   "outputs": [],
   "source": [
    "nonjagged = events[\"MET_pt\"].array(entry_stop=20, library=\"np\")\n",
    "nonjagged"
   ]
  },
  {
   "cell_type": "markdown",
   "id": "b1862589-aea9-4cb6-8fb2-e1ad0f24d4f0",
   "metadata": {},
   "source": [
    "Normal NumPy slicing rules apply."
   ]
  },
  {
   "cell_type": "code",
   "execution_count": null,
   "id": "16c5b01a-11b1-405a-89e9-259982271cab",
   "metadata": {},
   "outputs": [],
   "source": [
    "nonjagged[:5]"
   ]
  },
  {
   "cell_type": "markdown",
   "id": "05ce9838-3980-4a97-ab57-4324bba07231",
   "metadata": {},
   "source": [
    "<br><br><br><br><br>\n",
    "\n",
    "Some data cannot. There's a different number of muons in each event, so we need variable-length nested lists to represent their transverse momenta ($p_T$)."
   ]
  },
  {
   "cell_type": "code",
   "execution_count": null,
   "id": "440f27b4-5e69-426b-8ea7-8971bdf05eec",
   "metadata": {},
   "outputs": [],
   "source": [
    "jagged_awkward = events[\"Muon_pt\"].array(entry_stop=20)\n",
    "jagged_awkward"
   ]
  },
  {
   "cell_type": "code",
   "execution_count": null,
   "id": "63f973de-01f6-4913-9c5e-2ff20d513a60",
   "metadata": {},
   "outputs": [],
   "source": [
    "jagged_awkward.tolist()"
   ]
  },
  {
   "cell_type": "markdown",
   "id": "0e963d0a-523a-46e3-bac4-dbf2c151a0f9",
   "metadata": {},
   "source": [
    "It is _possible_ to read these data into NumPy, but with a considerable cost."
   ]
  },
  {
   "cell_type": "code",
   "execution_count": null,
   "id": "e435a3f0-3a0a-4d60-9080-e8e6fe53a8cf",
   "metadata": {},
   "outputs": [],
   "source": [
    "jagged_numpy = events[\"Muon_pt\"].array(entry_stop=20, library=\"np\")\n",
    "jagged_numpy"
   ]
  },
  {
   "cell_type": "markdown",
   "id": "a3853472-f5fa-469a-9130-ed54b2763464",
   "metadata": {},
   "source": [
    "This is an _array of NumPy arrays_ (because you can put Python objects in NumPy arrays—not recommended).\n",
    "\n",
    "You might want to consider the inner arrays to be a second dimension and use normal slicing rules:"
   ]
  },
  {
   "cell_type": "code",
   "execution_count": null,
   "id": "f04f28e2-f987-489f-bbc8-071167ec88e6",
   "metadata": {},
   "outputs": [],
   "source": [
    "jagged_awkward[:, :1]"
   ]
  },
  {
   "cell_type": "code",
   "execution_count": null,
   "id": "daeac4b6-a189-4e2c-b809-3e7249c2b1c7",
   "metadata": {
    "tags": [
     "raises-exception"
    ]
   },
   "outputs": [],
   "source": [
    "jagged_numpy[:, :1]"
   ]
  },
  {
   "cell_type": "markdown",
   "id": "1e593a6e-43e8-4bd1-9435-e7f13889cd9a",
   "metadata": {},
   "source": [
    "In NumPy, you can't. NumPy doesn't know that all the contents of this array are arrays of the same type.\n",
    "\n",
    "You know this and can write a loop in Python:"
   ]
  },
  {
   "cell_type": "code",
   "execution_count": null,
   "id": "49163b25-4bf9-4a90-a15b-617a76e7e1db",
   "metadata": {},
   "outputs": [],
   "source": [
    "np.array([x[:1] for x in jagged_numpy])"
   ]
  },
  {
   "cell_type": "markdown",
   "id": "403e7c69-8efa-4ede-8d64-0c9d9b13e268",
   "metadata": {},
   "source": [
    "But this isn't recommended. It's non-idiomatic and slow."
   ]
  },
  {
   "cell_type": "markdown",
   "id": "80b04acb-40b9-4998-86f0-5c168939c11f",
   "metadata": {},
   "source": [
    "<br><br><br><br><br>\n",
    "\n",
    "Pandas can work with this \"jagged\" data through indexing."
   ]
  },
  {
   "cell_type": "code",
   "execution_count": null,
   "id": "79c9af08-fa93-4285-8ae5-db1a30537a7c",
   "metadata": {},
   "outputs": [],
   "source": [
    "events.arrays(filter_name=[\"Muon_*\"], library=\"pd\")"
   ]
  },
  {
   "cell_type": "markdown",
   "id": "ba9ccaa6-eb61-419f-8d05-b1ce08941b29",
   "metadata": {},
   "source": [
    "But there are limitations. Try loading non-muon branches in the same DataFrame."
   ]
  },
  {
   "cell_type": "markdown",
   "id": "87cf48ab-f5c1-40ac-9bff-f015a8a370c2",
   "metadata": {},
   "source": [
    "<br><br><br><br><br>\n",
    "\n",
    "## Awkward Array\n",
    "\n",
    "Awkward Array is a library for manipulating JSON-like data using NumPy-like idioms.\n",
    "\n",
    "<img src=\"img/cartoon-schematic.svg\" width=\"800px\"/>"
   ]
  },
  {
   "cell_type": "markdown",
   "id": "40df91e3-21ea-4885-85c3-37055c9b3fd8",
   "metadata": {},
   "source": [
    "<br><br><br><br><br>\n",
    "\n",
    "The documentation is at [https://awkward-array.org/](https://awkward-array.org/).\n",
    "\n",
    "<img src=\"img/awkward-documentation.png\" width=\"800px\"/>"
   ]
  },
  {
   "cell_type": "markdown",
   "id": "e6d6686a-6a1b-42d1-98d1-4dcbbcc1965e",
   "metadata": {},
   "source": [
    "<br><br><br><br><br>\n",
    "\n",
    "Consider this Parquet file of the same dataset. It can be read into an Awkward Array, just like the ROOT file."
   ]
  },
  {
   "cell_type": "code",
   "execution_count": null,
   "id": "fe6ce5de-bf56-4f36-b352-1be4bd15e3c4",
   "metadata": {},
   "outputs": [],
   "source": [
    "array = ak.from_parquet(\"data/HiggsZZ4mu.parquet\")\n",
    "array"
   ]
  },
  {
   "cell_type": "code",
   "execution_count": null,
   "id": "76798c8a-b854-4d81-a0a4-d699dffa3324",
   "metadata": {},
   "outputs": [],
   "source": [
    "array.fields"
   ]
  },
  {
   "cell_type": "code",
   "execution_count": null,
   "id": "a9f75ce9-ec37-48a7-bbab-63ab4977e7ba",
   "metadata": {},
   "outputs": [],
   "source": [
    "array[0].tolist()"
   ]
  },
  {
   "cell_type": "code",
   "execution_count": null,
   "id": "d0ec043f-2c74-4aa3-8b62-2fcf9593c39e",
   "metadata": {},
   "outputs": [],
   "source": [
    "array.muons.pt"
   ]
  },
  {
   "cell_type": "markdown",
   "id": "4c3aef62-0871-465c-af65-473b63802f98",
   "metadata": {},
   "source": [
    "<br><br><br><br><br>\n",
    "\n",
    "I've restructured it a little (\"NanoEvents-style\" vs \"NanoAOD-style\"), but we can easily make the data from ROOT look just like the data from Parquet."
   ]
  },
  {
   "cell_type": "code",
   "execution_count": null,
   "id": "2401365f-8144-447d-917c-7644685d8c8a",
   "metadata": {},
   "outputs": [],
   "source": [
    "nanoaod_style = events.arrays(filter_name=\"Muon_*\")\n",
    "nanoaod_style.type"
   ]
  },
  {
   "cell_type": "code",
   "execution_count": null,
   "id": "76fbc056-82c0-4afc-b256-6ac1ec327f24",
   "metadata": {},
   "outputs": [],
   "source": [
    "array.muons.type"
   ]
  },
  {
   "cell_type": "code",
   "execution_count": null,
   "id": "4fbc1b2d-92b6-4ef1-8e83-aa9d7e8be577",
   "metadata": {},
   "outputs": [],
   "source": [
    "nanoevents_style = ak.zip({\n",
    "    \"pt\": nanoaod_style.Muon_pt,\n",
    "    \"eta\": nanoaod_style.Muon_eta,\n",
    "    \"phi\": nanoaod_style.Muon_phi,\n",
    "    \"mass\": nanoaod_style.Muon_mass,\n",
    "    \"charge\": nanoaod_style.Muon_charge,\n",
    "})\n",
    "nanoevents_style.type"
   ]
  },
  {
   "cell_type": "markdown",
   "id": "b495fc51-d3ee-4213-ad83-1113a34a7586",
   "metadata": {},
   "source": [
    "<br><br><br><br><br>\n",
    "\n",
    "In general, Awkward Array data types \"`T`\" can be:\n",
    "\n",
    "   * numbers, booleans, date-times, etc.\n",
    "   * variable-length and fixed-length lists of `T`\n",
    "   * records with named or unnamed (tuple) fields of type `T1`, `T2`, ...\n",
    "   * missing values: `T` _or_ `None`\n",
    "   * heterogeneous types: `T1` _or_ `T2` _or_ ..."
   ]
  },
  {
   "cell_type": "markdown",
   "id": "973398e2-38c4-49a8-8360-8d26c635954a",
   "metadata": {},
   "source": [
    "<br><br><br><br><br>\n",
    "\n",
    "## Changing structure\n",
    "\n",
    "Although the `tolist()` form of the data looks like JSON objects, the data are actually in a very fluid \"columnar\" form.\n",
    "\n",
    "You can, for instance, turn an array from entry-per-event into entry-per-lumiblock by increasing the nesting by one.\n",
    "\n",
    "<img src=\"img/events-to-lumis.svg\" width=\"800px\"/>"
   ]
  },
  {
   "cell_type": "code",
   "execution_count": null,
   "id": "56a4ff8c-5bfa-4da5-be0f-2538c3de79e7",
   "metadata": {},
   "outputs": [],
   "source": [
    "array.luminosityBlock"
   ]
  },
  {
   "cell_type": "code",
   "execution_count": null,
   "id": "ff3e9861-5b1d-4390-b46e-5181ffe8f64d",
   "metadata": {},
   "outputs": [],
   "source": [
    "lumilengths = ak.run_lengths(array.luminosityBlock)\n",
    "lumilengths"
   ]
  },
  {
   "cell_type": "code",
   "execution_count": null,
   "id": "413b261a-564a-408f-a5e4-a6ec661c64f6",
   "metadata": {},
   "outputs": [],
   "source": [
    "array_by_lumi = ak.unflatten(array, lumilengths, axis=0)\n",
    "array_by_lumi"
   ]
  },
  {
   "cell_type": "markdown",
   "id": "2b8bfdd0-186b-4a0e-a965-4814c61ff340",
   "metadata": {},
   "source": [
    "This is an array of lists (luminosity blocks) of records (collision events) containing lists of records (muons, generator-level particles, etc.)."
   ]
  },
  {
   "cell_type": "code",
   "execution_count": null,
   "id": "25b5a42e-dbdf-480e-a092-0818464193e7",
   "metadata": {},
   "outputs": [],
   "source": [
    "array_by_lumi.luminosityBlock[0]"
   ]
  },
  {
   "cell_type": "code",
   "execution_count": null,
   "id": "e60e1eb8-3477-4729-9138-80c1ce8e3f1f",
   "metadata": {},
   "outputs": [],
   "source": [
    "array.type"
   ]
  },
  {
   "cell_type": "code",
   "execution_count": null,
   "id": "3d1b5696-bb29-470c-8b56-d638ee3dfdb5",
   "metadata": {},
   "outputs": [],
   "source": [
    "array_by_lumi.type"
   ]
  },
  {
   "cell_type": "markdown",
   "id": "3fd95230-8ad8-46c4-baac-b748d7814440",
   "metadata": {},
   "source": [
    "So, for example, you can add up $p_T$ values along any of three dimensions."
   ]
  },
  {
   "cell_type": "code",
   "execution_count": null,
   "id": "b307152d-4180-4131-b823-54e1b8ec917a",
   "metadata": {},
   "outputs": [],
   "source": [
    "ak.sum(array_by_lumi.muons.pt, axis=-1)"
   ]
  },
  {
   "cell_type": "markdown",
   "id": "3de6d30b-c76d-44ca-88b6-42a38308730b",
   "metadata": {},
   "source": [
    "Summing (or \"reducing\" in general) is well-defined for irregular data shapes, depending on a choice of alignment. We left-align.\n",
    "\n",
    "<img src=\"img/example-reduction.svg\" style=\"width: 800px\">"
   ]
  },
  {
   "cell_type": "markdown",
   "id": "39f193a6-bec6-4794-84f2-192a300b625e",
   "metadata": {},
   "source": [
    "<br><br><br><br><br>\n",
    "\n",
    "## Practical analysis\n",
    "\n",
    "To get beyond theory, let's do some realistic things with the data."
   ]
  },
  {
   "cell_type": "code",
   "execution_count": null,
   "id": "271826a6-6715-47d1-ae38-b5e52e16c34f",
   "metadata": {},
   "outputs": [],
   "source": [
    "array.muons"
   ]
  },
  {
   "cell_type": "markdown",
   "id": "17a082e6-44ab-44db-a513-bc82aa2153f7",
   "metadata": {},
   "source": [
    "A cut is an array of booleans."
   ]
  },
  {
   "cell_type": "code",
   "execution_count": null,
   "id": "1de4c90a-963a-4780-8ab7-0fbaa5ed21e1",
   "metadata": {},
   "outputs": [],
   "source": [
    "cut = ak.num(array.muons) >= 2\n",
    "cut"
   ]
  },
  {
   "cell_type": "code",
   "execution_count": null,
   "id": "fae3a41b-ddd3-4275-bba0-3ada12f439d0",
   "metadata": {},
   "outputs": [],
   "source": [
    "array.muons[cut]"
   ]
  },
  {
   "cell_type": "markdown",
   "id": "7bcda0f9-cdce-43f5-9e94-6408e0553b2c",
   "metadata": {},
   "source": [
    "Notice that there are now fewer events than there had been before.\n",
    "\n",
    "Sometimes, that's a problem for composing cuts—having to know which cuts have been applied to which arrays of booleans.\n",
    "\n",
    "We can avoid that problem by masking: rejected events are replaced by \"`None`\", rather than removed."
   ]
  },
  {
   "cell_type": "code",
   "execution_count": null,
   "id": "897d9ba9-b99d-41b3-b483-d78cc86ca359",
   "metadata": {},
   "outputs": [],
   "source": [
    "array.muons.mask[cut]"
   ]
  },
  {
   "cell_type": "code",
   "execution_count": null,
   "id": "ab9900a8-fe4f-4ad7-80f5-80ab5845f748",
   "metadata": {},
   "outputs": [],
   "source": [
    "selected_muons = array.muons[cut]\n",
    "\n",
    "selected_muons.charge[:, 0] + selected_muons.charge[:, 1] == 0"
   ]
  },
  {
   "cell_type": "markdown",
   "id": "2689c73a-a078-48c1-99d5-e3423c81ad5c",
   "metadata": {},
   "source": [
    "The `[:, 0]`, `[:, 1]` syntax assumes that a first and second muon exists (it does, because of the selection) and ignores all others.\n",
    "\n",
    "In you want to consider combinations of all good particles in each event, so there are functions for constructing that.\n",
    "\n",
    "<table style=\"margin-left: 0px\">\n",
    "    <tr style=\"background: white\"><td style=\"font-size: 1.75em; font-weight: bold; text-align: center\"><a href=\"https://awkward-array.readthedocs.io/en/latest/_auto/ak.cartesian.html\">ak.cartesian</a></td><td style=\"font-size: 1.75em; font-weight: bold; text-align: center\"><a href=\"https://awkward-array.readthedocs.io/en/latest/_auto/ak.combinations.html\">ak.combinations</a></td></tr>\n",
    "    <tr style=\"background: white\"><td><img src=\"img/cartoon-cartesian.svg\"></td><td><img src=\"img/cartoon-combinations.svg\"></td></tr>\n",
    "</table>"
   ]
  },
  {
   "cell_type": "code",
   "execution_count": null,
   "id": "5a4fa1c7-03a5-46c2-89f4-e23d22049030",
   "metadata": {},
   "outputs": [],
   "source": [
    "ak.combinations(array.muons, 2).type"
   ]
  },
  {
   "cell_type": "code",
   "execution_count": null,
   "id": "47f2e1b8-c4df-43f3-99f4-cc29302d6908",
   "metadata": {},
   "outputs": [],
   "source": [
    "mu1, mu2 = ak.unzip(ak.combinations(array.muons, 2))\n",
    "mu1, mu2"
   ]
  },
  {
   "cell_type": "markdown",
   "id": "6e9742a2-b29f-4cca-801b-74480d18ce1a",
   "metadata": {},
   "source": [
    "These are not just the first two muons in each event: they are all combinations of two (without duplication)."
   ]
  },
  {
   "cell_type": "code",
   "execution_count": null,
   "id": "717459e9-bc1a-4e1e-9099-e0e8b42f3b65",
   "metadata": {},
   "outputs": [],
   "source": [
    "h = hist.Hist.new.Reg(120, 0, 120, name=\"mass\").Double()\n",
    "h.fill(ak.flatten(\n",
    "    np.sqrt(2*mu1.pt*mu2.pt*(np.cosh(mu1.eta - mu2.eta) - np.cos(mu1.phi - mu2.phi)))\n",
    "))"
   ]
  },
  {
   "cell_type": "markdown",
   "id": "e91f8ce6-0617-43b4-91a5-ba87cc014fc2",
   "metadata": {},
   "source": [
    "<br><br><br><br><br>\n",
    "\n",
    "## The Vector library\n",
    "\n",
    "Vector is a library for doing coordinate transformations and 2D, 3D, and 4D (Lorentz) calculations on _arrays_ of vectors.\n",
    "\n",
    "Awkward Array is one of its backends."
   ]
  },
  {
   "cell_type": "code",
   "execution_count": null,
   "id": "8db256d6-5c28-4eaf-8214-d4ece3f33aea",
   "metadata": {},
   "outputs": [],
   "source": [
    "import vector\n",
    "vector.register_awkward()"
   ]
  },
  {
   "cell_type": "markdown",
   "id": "8cc7cf3e-6374-4257-90ef-4fdf87987c6c",
   "metadata": {},
   "source": [
    "The above registers a suite of \"[behaviors](https://awkward-array.readthedocs.io/en/latest/ak.behavior.html)\" for Awkward Array, so that any records named `\"Momentum4D\"` now have Lorentz vector methods, as though they were members of a Lorentz vector class."
   ]
  },
  {
   "cell_type": "code",
   "execution_count": null,
   "id": "2cfd36ac-a40f-4eaa-97c7-3a48542a8538",
   "metadata": {},
   "outputs": [],
   "source": [
    "muons = ak.with_name(array.muons, \"Momentum4D\")\n",
    "muons"
   ]
  },
  {
   "cell_type": "code",
   "execution_count": null,
   "id": "b4320414-1c69-4495-86cf-5cf922aa8aad",
   "metadata": {},
   "outputs": [],
   "source": [
    "muons[1, 0], muons[1, 1]"
   ]
  },
  {
   "cell_type": "code",
   "execution_count": null,
   "id": "3d9c90f9-41b2-4b98-b43e-c2fa67a29b75",
   "metadata": {},
   "outputs": [],
   "source": [
    "muons[1, 0].cross(muons[1, 1])"
   ]
  },
  {
   "cell_type": "markdown",
   "id": "b4079c49-a863-4e4c-8733-50dec16bc725",
   "metadata": {},
   "source": [
    "But _arrays of vectors_ also have these methods, and they apply an array at a time."
   ]
  },
  {
   "cell_type": "code",
   "execution_count": null,
   "id": "ca8ae3e1-f16a-480d-97a7-5e7801611773",
   "metadata": {},
   "outputs": [],
   "source": [
    "mu1, mu2 = ak.unzip(ak.combinations(muons, 2))\n",
    "mu1, mu2"
   ]
  },
  {
   "cell_type": "code",
   "execution_count": null,
   "id": "415a05f5-fcbd-4946-b0df-37ca2b4b3845",
   "metadata": {},
   "outputs": [],
   "source": [
    "mu1.cross(mu2)"
   ]
  },
  {
   "cell_type": "code",
   "execution_count": null,
   "id": "26013028-1ba8-42e8-9a4d-602f8d5ce45c",
   "metadata": {},
   "outputs": [],
   "source": [
    "(mu1 + mu2).mass"
   ]
  },
  {
   "cell_type": "code",
   "execution_count": null,
   "id": "88c5ebf1-f777-4228-b2bf-3bd67275f069",
   "metadata": {},
   "outputs": [],
   "source": [
    "h = hist.Hist.new.Reg(120, 0, 120, name=\"mass\").Double()\n",
    "h.fill(ak.flatten((mu1 + mu2).mass))"
   ]
  },
  {
   "cell_type": "markdown",
   "id": "c0e4084e-faec-462d-97dc-a418779236c9",
   "metadata": {},
   "source": [
    "<br><br><br><br><br>\n",
    "\n",
    "## Example: reconstructed/generator-level matching with ΔR"
   ]
  },
  {
   "cell_type": "code",
   "execution_count": null,
   "id": "1bb1b131-8d47-4500-9167-351d3113ad47",
   "metadata": {},
   "outputs": [],
   "source": [
    "gen = ak.with_name(array.gen, \"Momentum3D\")\n",
    "gen"
   ]
  },
  {
   "cell_type": "code",
   "execution_count": null,
   "id": "7f68806f-faa2-4c84-b082-11e71a7b23db",
   "metadata": {},
   "outputs": [],
   "source": [
    "gen.fields"
   ]
  },
  {
   "cell_type": "markdown",
   "id": "eca32ff2-f794-49d7-a2bf-e5ab3cf9d57b",
   "metadata": {},
   "source": [
    "First, make all reco-gen pairs. (`nested=True` puts all pairs with a given reco muon in a new nested list.)"
   ]
  },
  {
   "cell_type": "code",
   "execution_count": null,
   "id": "8b06cd25-143f-4a11-a507-67ed8d47ef07",
   "metadata": {},
   "outputs": [],
   "source": [
    "reco_gen = ak.cartesian({\"muon\": muons, \"gen\": gen}, nested=True)\n",
    "reco_gen"
   ]
  },
  {
   "cell_type": "markdown",
   "id": "8cebe77b-2a19-42c3-b71d-36f06d720fd8",
   "metadata": {},
   "source": [
    "Break them into two arrays to make them easier to work with."
   ]
  },
  {
   "cell_type": "code",
   "execution_count": null,
   "id": "9977f21d-c979-4733-9394-63c54f7fcefe",
   "metadata": {},
   "outputs": [],
   "source": [
    "mu, g = ak.unzip(reco_gen)\n",
    "mu, g"
   ]
  },
  {
   "cell_type": "markdown",
   "id": "3182bce8-f2ef-4237-bee9-259844dc142d",
   "metadata": {},
   "source": [
    "Now we can compute an array of ΔR values."
   ]
  },
  {
   "cell_type": "code",
   "execution_count": null,
   "id": "f59738f5-6413-4ff4-8f51-b5cf8c17e7c0",
   "metadata": {},
   "outputs": [],
   "source": [
    "mu.deltaR(g)"
   ]
  },
  {
   "cell_type": "code",
   "execution_count": null,
   "id": "38be2a07-0bb8-42bc-8173-de0c91a8b699",
   "metadata": {},
   "outputs": [],
   "source": [
    "hist.Hist.new.Reg(100, 0, 5).Double().fill(\n",
    "    ak.flatten(mu.deltaR(g), axis=None)\n",
    ")"
   ]
  },
  {
   "cell_type": "markdown",
   "id": "4ffa52e4-86fb-47d9-a110-489f88c55978",
   "metadata": {},
   "source": [
    "Some are very close to zero, some not.\n",
    "\n",
    "How about if we look only at generator-level muons? Only non-muons?"
   ]
  },
  {
   "cell_type": "code",
   "execution_count": null,
   "id": "96b7ed87-1bfa-4846-a246-59c5c8e04b4e",
   "metadata": {},
   "outputs": [],
   "source": [
    "hist.Hist.new.Reg(100, 0, 5).Double().fill(\n",
    "    ak.flatten(mu.deltaR(g)[abs(g.pdgId) == 13], axis=None)\n",
    ")"
   ]
  },
  {
   "cell_type": "markdown",
   "id": "4e2ea69c-3df6-4684-9d6a-d64876024fb6",
   "metadata": {},
   "source": [
    "What we want is not ΔR for _all_ reco-gen pairs, but the minimum ΔR for each reco muon.\n",
    "\n",
    "[ak.min](https://awkward-array.readthedocs.io/en/latest/_auto/ak.min.html) is a reducer, removing that extra layer of nested list we made with `nested=True`."
   ]
  },
  {
   "cell_type": "code",
   "execution_count": null,
   "id": "c485aff7-212e-4241-b818-34114bdf1f65",
   "metadata": {},
   "outputs": [],
   "source": [
    "mu.deltaR(g)"
   ]
  },
  {
   "cell_type": "code",
   "execution_count": null,
   "id": "20b0abb4-b9b1-4710-ac92-163c164a6fcd",
   "metadata": {},
   "outputs": [],
   "source": [
    "ak.min(mu.deltaR(g), axis=-1)"
   ]
  },
  {
   "cell_type": "markdown",
   "id": "a4bfe237-0bb2-4cf2-86ed-160b05f8170b",
   "metadata": {},
   "source": [
    "Zoom into small ranges of ΔR."
   ]
  },
  {
   "cell_type": "code",
   "execution_count": null,
   "id": "f2a3b3b6-6f11-4164-9b95-78f513b70b83",
   "metadata": {},
   "outputs": [],
   "source": [
    "hist.Hist.new.Reg(100, 0, 5).Double().fill(\n",
    "    ak.flatten(ak.min(mu.deltaR(g), axis=-1), axis=None)\n",
    ")"
   ]
  },
  {
   "cell_type": "markdown",
   "id": "207d1d36-56e0-4164-bea1-9afad132bd4b",
   "metadata": {},
   "source": [
    "Instead of just plotting the minimum, let's get the [ak.argmin](https://awkward-array.readthedocs.io/en/latest/_auto/ak.argmin.html), the index position of the best ΔR.\n",
    "\n",
    "(`keepdims=True` keeps the reducer from removing a dimension, which we'll need for the slice in the next step. The best indexes are in length-1 lists.)"
   ]
  },
  {
   "cell_type": "code",
   "execution_count": null,
   "id": "7d472fd1-e69b-4b52-ac15-cb07deb615c1",
   "metadata": {},
   "outputs": [],
   "source": [
    "best = ak.argmin(mu.deltaR(g), axis=-1, keepdims=True)\n",
    "best"
   ]
  },
  {
   "cell_type": "markdown",
   "id": "24beb3a3-729c-49e1-a522-29c87365690b",
   "metadata": {},
   "source": [
    "This slice picks out the reco-gen pairs with minimal ΔR."
   ]
  },
  {
   "cell_type": "code",
   "execution_count": null,
   "id": "f644c1db-2e12-4228-a3f5-5729b8bdb2ca",
   "metadata": {},
   "outputs": [],
   "source": [
    "reco_gen[best]"
   ]
  },
  {
   "cell_type": "markdown",
   "id": "49ef062d-7aca-4ff9-a8b6-3aaf28cc3249",
   "metadata": {},
   "source": [
    "And there you have it: an array of `{muon: ABC, gen: XYZ}` pairs representing the best match for each reco muon."
   ]
  },
  {
   "cell_type": "code",
   "execution_count": null,
   "id": "caef1c5a-6f84-45cd-98e9-7a59f456eaf4",
   "metadata": {},
   "outputs": [],
   "source": [
    "ak.flatten(reco_gen[best], axis=-1)[:4].tolist()"
   ]
  },
  {
   "cell_type": "markdown",
   "id": "dd5601a5-a19c-4aaa-a7bc-71a6714d36ed",
   "metadata": {},
   "source": [
    "<br><br><br><br><br>\n",
    "\n",
    "## Numba: a just-in-time compiler for Python\n",
    "\n",
    "It's possible to do complex combinatorics with array-at-a-time functions, but nested \"for\" loops would often be easier.\n",
    "\n",
    "Nested \"for\" loops can be fast if they're compiled.\n",
    "\n",
    "[Numba](https://numba.pydata.org/) compiles Python."
   ]
  },
  {
   "cell_type": "code",
   "execution_count": null,
   "id": "3d32daa1-416a-421a-8a14-b6aa6a5e4225",
   "metadata": {},
   "outputs": [],
   "source": [
    "import numba as nb"
   ]
  },
  {
   "cell_type": "markdown",
   "id": "9725e5a6-c862-43f3-b986-45248e3844b7",
   "metadata": {},
   "source": [
    "Remember how long it takes to run a loop in Python?"
   ]
  },
  {
   "cell_type": "code",
   "execution_count": null,
   "id": "97e82859-8c1a-41f8-b3df-2bde39de6a0c",
   "metadata": {},
   "outputs": [],
   "source": [
    "starttime = time.time()\n",
    "\n",
    "sumpt = np.zeros(len(array), np.float64)\n",
    "for i, event in enumerate(array):\n",
    "    for muon in event.muons:\n",
    "        sumpt[i] += muon.pt\n",
    "\n",
    "python_time = time.time() - starttime\n",
    "print(f\"total time: {python_time} sec\")"
   ]
  },
  {
   "cell_type": "markdown",
   "id": "de091a4f-ce97-4fd4-9cf1-85ba298ab010",
   "metadata": {},
   "source": [
    "The same loop, in a function preceded by `@nb.jit`, is compiled by Numba when you first call it."
   ]
  },
  {
   "cell_type": "code",
   "execution_count": null,
   "id": "c31b3d78-ac2e-4ad3-89af-7e0b7154039d",
   "metadata": {},
   "outputs": [],
   "source": [
    "@nb.jit\n",
    "def calculate_sumpt(array):\n",
    "    out = np.zeros(len(array), np.float64)\n",
    "    for i, event in enumerate(array):\n",
    "        for muon in event.muons:\n",
    "            out[i] += muon.pt\n",
    "    return out"
   ]
  },
  {
   "cell_type": "code",
   "execution_count": null,
   "id": "7f881e35-6854-4156-ba34-828e420ac09d",
   "metadata": {},
   "outputs": [],
   "source": [
    "calculate_sumpt(array)"
   ]
  },
  {
   "cell_type": "code",
   "execution_count": null,
   "id": "3298e66a-766f-4f62-b1d3-66150bead7fc",
   "metadata": {},
   "outputs": [],
   "source": [
    "starttime = time.time()\n",
    "\n",
    "sumpt = calculate_sumpt(array)\n",
    "\n",
    "numba_time = time.time() - starttime\n",
    "print(f\"total time: {numba_time} sec\")"
   ]
  },
  {
   "cell_type": "code",
   "execution_count": null,
   "id": "55c1719a-115e-4ffb-92ce-1418846aa374",
   "metadata": {},
   "outputs": [],
   "source": [
    "python_time / numba_time"
   ]
  },
  {
   "cell_type": "markdown",
   "id": "4bcb8398-8b3e-4b8d-ad50-018bd58f7b26",
   "metadata": {},
   "source": [
    "In many cases, Numba is _faster_ than the corresponding array-at-a-time function."
   ]
  },
  {
   "cell_type": "code",
   "execution_count": null,
   "id": "320b94b1-612c-4eb3-8526-1abfb39160d3",
   "metadata": {},
   "outputs": [],
   "source": [
    "starttime = time.time()\n",
    "\n",
    "sumpt = ak.sum(array, axis=-1)\n",
    "\n",
    "awkward_time = time.time() - starttime\n",
    "print(f\"total time: {awkward_time} sec\")"
   ]
  },
  {
   "cell_type": "code",
   "execution_count": null,
   "id": "a5dd08ef-2ff9-494a-9c32-93e2af901225",
   "metadata": {},
   "outputs": [],
   "source": [
    "python_time / awkward_time"
   ]
  },
  {
   "cell_type": "markdown",
   "id": "4ada4b0b-4cc2-4c5a-98d7-2c4a53744f01",
   "metadata": {},
   "source": [
    "**Conclusion:** use array-at-a-time functions when you're working interactively or it's the most concise/easy-to-understand way to write an expression.\n",
    "\n",
    "Use Numba when you need extreme speed or \"for\" loops are the most concise/easy-to-understand way to write it.\n",
    "\n",
    "Convoluted code, just for the sake of using array-at-a-time functions, is not helping anybody!"
   ]
  },
  {
   "cell_type": "markdown",
   "id": "5e79a8fd-e33b-4aac-adc9-cd30c0089327",
   "metadata": {},
   "source": [
    "<br><br><br><br><br>\n",
    "\n",
    "## Limitations of Numba\n",
    "\n",
    "Maybe this sounds too good to be true: \"Python is slow, but put `@nb.jit` on each function and it will be fast.\"\n",
    "\n",
    "The truth is that Numba only works on a _subset_ of Python. It replaces Python code with statically typed, compiled code, and Python is too dynamic of a language for that to always be possible. The Numba team keeps a list of [supported Python language features](https://numba.pydata.org/numba-doc/dev/reference/pysupported.html) and [supported NumPy functions](https://numba.pydata.org/numba-doc/dev/reference/numpysupported.html). Numba also only recognizes libraries that have been explicitly extended to work with it. Awkward Array and Vector have been extended; hist will be.\n",
    "\n",
    "When it fails, the error messages can be hard to understand. Hint: start with a small, do-nothing function and gradually fold in the features you want, to better know which part is causing the error. See also [my tutorial on Numba](https://youtu.be/X_BJrmofRWQ).\n",
    "\n",
    "If you're willing to learn a new language, [Julia](https://julialang.org/) is designed from the ground up as a just-in-time compilable language. See the session on Friday.\n",
    "\n",
    "<img src=\"img/indico-julia.png\" width=\"800px\"/>"
   ]
  },
  {
   "cell_type": "markdown",
   "id": "8d2f6699-cfde-44a2-be8d-09443e5dbd67",
   "metadata": {},
   "source": [
    "<br><br><br><br><br>\n",
    "\n",
    "## Reconstructed/generator-level matching in Numba\n",
    "\n",
    "Before we repeat the reco-gen matching exercise in Numba, let's build a simple Awkward Array output from a Numba-compiled function using [ak.ArrayBuilder](https://awkward-array.readthedocs.io/en/latest/_auto/ak.ArrayBuilder.html)."
   ]
  },
  {
   "cell_type": "code",
   "execution_count": null,
   "id": "c1bcb528-adf2-4e39-8b8c-2d48ad4958e5",
   "metadata": {},
   "outputs": [],
   "source": [
    "@nb.jit\n",
    "def build_nested(array, builder):\n",
    "    for event in array:\n",
    "        builder.begin_list()\n",
    "        \n",
    "        for muon in event.muons:\n",
    "            builder.append(muon.pt)\n",
    "        \n",
    "        builder.end_list()\n",
    "    \n",
    "    return builder\n",
    "\n",
    "build_nested(array, ak.ArrayBuilder()).snapshot()"
   ]
  },
  {
   "cell_type": "markdown",
   "id": "e1d08f3f-b41b-4316-acba-436ed255f023",
   "metadata": {},
   "source": [
    "It's the same as `array.muons.pt`, so this is definitely an example where the array-at-a-time function is simpler."
   ]
  },
  {
   "cell_type": "code",
   "execution_count": null,
   "id": "461934cb-d86d-4c2f-ae78-6b70c4e2999b",
   "metadata": {},
   "outputs": [],
   "source": [
    "array.muons.pt"
   ]
  },
  {
   "cell_type": "markdown",
   "id": "0c9396e5-31f3-4cc7-b05d-ba797b0b9f25",
   "metadata": {},
   "source": [
    "Reco-gen matching, however, is simpler as a nested \"for\" loop.\n",
    "\n",
    "Note that we don't have to output the fully formed array; it is enough to use Numba to make the index that we slice arrays with outside of the Numba-compiled function."
   ]
  },
  {
   "cell_type": "code",
   "execution_count": null,
   "id": "939db3f2-105a-4c9f-b915-d4360189879f",
   "metadata": {},
   "outputs": [],
   "source": [
    "@nb.jit\n",
    "def matching(array_muons, array_gen, builder):\n",
    "    for muons_event, gen_event in zip(array_muons, array_gen):\n",
    "        builder.begin_list()\n",
    "\n",
    "        for muon in muons_event:\n",
    "            best_i = -1\n",
    "            best_dr = -1.0\n",
    "            for i, gen in enumerate(gen_event):\n",
    "                dr = muon.deltaR(gen)\n",
    "                if best_i < 0 or dr < best_dr:\n",
    "                    best_i = i\n",
    "                    best_dr = dr\n",
    "\n",
    "            if best_i < 0:\n",
    "                builder.append(None)\n",
    "            else:\n",
    "                builder.append(best_i)\n",
    "\n",
    "        builder.end_list()\n",
    "\n",
    "    return builder\n",
    "\n",
    "index_of_best = matching(muons, gen, ak.ArrayBuilder()).snapshot()\n",
    "index_of_best"
   ]
  },
  {
   "cell_type": "markdown",
   "id": "cb480f69-9495-40c4-90cc-6d33b288a9dd",
   "metadata": {},
   "source": [
    "This index picks the best generator-level particle for each reconstructed muon."
   ]
  },
  {
   "cell_type": "code",
   "execution_count": null,
   "id": "99772fba-3fa2-4029-acc5-869326199f6f",
   "metadata": {},
   "outputs": [],
   "source": [
    "gen_match = gen[index_of_best]\n",
    "gen_match"
   ]
  },
  {
   "cell_type": "code",
   "execution_count": null,
   "id": "770db62e-0b0c-44ed-affa-46d40fabeebd",
   "metadata": {},
   "outputs": [],
   "source": [
    "ak.num(gen), ak.num(muons), ak.num(gen_match)"
   ]
  },
  {
   "cell_type": "markdown",
   "id": "52540f41-0c5a-4da0-be0c-2616c86bf179",
   "metadata": {},
   "source": [
    "So building the reco-gen pairs is just an [ak.zip](https://awkward-array.readthedocs.io/en/latest/_auto/ak.zip.html).\n",
    "\n",
    "_This_ part would be harder in Numba. Use the best tool for each job."
   ]
  },
  {
   "cell_type": "code",
   "execution_count": null,
   "id": "5728452e-9555-4f9a-9bc7-43715c5ba47a",
   "metadata": {},
   "outputs": [],
   "source": [
    "ak.zip({\"muons\": muons, \"gen\": gen_match})"
   ]
  },
  {
   "cell_type": "markdown",
   "id": "2f808df6-c72d-465f-95e3-318cb6e21033",
   "metadata": {},
   "source": [
    "<br><br><br><br><br>\n",
    "\n",
    "## Example: identifying Z bosons in H → ZZ → 4μ\n",
    "\n",
    "The Higgs boson decays to an \"on-shell\" Z boson (with a mass near 91 GeV) and an \"off-shell\" Z boson (much lower mass).\n",
    "\n",
    "In a real analysis, it is necessary to know which is which, because different quality cuts are applied. Given only the four muons, finding the right pair of pairs is a combinatorics problem.\n",
    "\n",
    "This example solves that problem using only array-at-a-time functions."
   ]
  },
  {
   "cell_type": "code",
   "execution_count": null,
   "id": "86475e92-a4af-4de1-946a-453810b9e7f1",
   "metadata": {},
   "outputs": [],
   "source": [
    "four_muons = muons[(ak.num(muons) == 4) & (ak.sum(muons.charge, axis=-1) == 0)]\n",
    "four_muons"
   ]
  },
  {
   "cell_type": "markdown",
   "id": "2aa03072-67de-4a9b-8046-d62b098c5fd9",
   "metadata": {},
   "source": [
    "General strategy: identify qualitatively distinct collections as separate named arrays.\n",
    "\n",
    "The names will help you in thinking about the problem."
   ]
  },
  {
   "cell_type": "code",
   "execution_count": null,
   "id": "17ad82aa-b12a-4fdd-b77a-cc5f761b3f81",
   "metadata": {},
   "outputs": [],
   "source": [
    "mu_plus = four_muons[four_muons.charge > 0]\n",
    "mu_minus = four_muons[four_muons.charge < 0]\n",
    "mu_plus, mu_minus"
   ]
  },
  {
   "cell_type": "markdown",
   "id": "943ef36b-8f16-49b3-b5ad-43e7e5b2694a",
   "metadata": {},
   "source": [
    "By construction (the cut defining `four_muons`), all lists in `mu_plus` and `mu_minus` have exactly two items each."
   ]
  },
  {
   "cell_type": "code",
   "execution_count": null,
   "id": "270dc924-b436-4e69-84e3-d14181dd5198",
   "metadata": {},
   "outputs": [],
   "source": [
    "ak.num(mu_plus), ak.num(mu_minus)"
   ]
  },
  {
   "cell_type": "markdown",
   "id": "cca3cc8a-c707-459c-8054-0772309771ad",
   "metadata": {},
   "source": [
    "You can check that explicitly to increase confidence and (if necessary) debug."
   ]
  },
  {
   "cell_type": "code",
   "execution_count": null,
   "id": "e1faa026-eb05-4c1f-9342-dc9861b9a7c0",
   "metadata": {},
   "outputs": [],
   "source": [
    "ak.all(ak.num(mu_plus) == 2), ak.all(ak.num(mu_minus) == 2)"
   ]
  },
  {
   "cell_type": "markdown",
   "id": "ea20ef80-40d1-4961-95fc-86f0602ac4d7",
   "metadata": {},
   "source": [
    "Knowing this (and the fact that 2 is not a large number), we can name each of these to further simplify our structures."
   ]
  },
  {
   "cell_type": "code",
   "execution_count": null,
   "id": "cc48c9f6-92a9-4265-8625-bce1a5f87b66",
   "metadata": {},
   "outputs": [],
   "source": [
    "mu_plus_0 = mu_plus[:, 0]\n",
    "mu_plus_1 = mu_plus[:, 1]\n",
    "mu_minus_0 = mu_minus[:, 0]\n",
    "mu_minus_1 = mu_minus[:, 1]\n",
    "\n",
    "mu_plus_0, mu_plus_1, mu_minus_0, mu_minus_1"
   ]
  },
  {
   "cell_type": "markdown",
   "id": "17184808-6117-41e2-a9de-42d94a43a47a",
   "metadata": {},
   "source": [
    "Now, we _could_ do combinatorics using [ak.combinations](https://awkward-array.readthedocs.io/en/latest/_auto/ak.combinations.html), but with such a small number of known combinations, do it with explicitly named arrays. The structures will be simpler and the names will help you.\n",
    "\n",
    "For each event, either `z00` and `z11` will be valid or `z01` and `z10` will be valid. The names help you remember this constraint to avoid using the same particle in multiple decays."
   ]
  },
  {
   "cell_type": "code",
   "execution_count": null,
   "id": "f475b411-9799-452c-bedf-26bc5da7ad67",
   "metadata": {},
   "outputs": [],
   "source": [
    "z00 = mu_plus_0 + mu_minus_0\n",
    "z11 = mu_plus_1 + mu_minus_1\n",
    "\n",
    "z01 = mu_plus_0 + mu_minus_1\n",
    "z10 = mu_plus_1 + mu_minus_0"
   ]
  },
  {
   "cell_type": "markdown",
   "id": "f07eb93d-ea24-4ff0-a9c3-f1c53998ca40",
   "metadata": {},
   "source": [
    "As an aside, instead of hard-coding the Z mass, get it from the [particle](https://github.com/scikit-hep/particle#readme) package, which is like a Pythonic PDG."
   ]
  },
  {
   "cell_type": "code",
   "execution_count": null,
   "id": "80eb37cd-3b2e-4ce4-8722-c6bb23e92fa9",
   "metadata": {},
   "outputs": [],
   "source": [
    "import particle"
   ]
  },
  {
   "cell_type": "code",
   "execution_count": null,
   "id": "24960429-8269-4c7e-a555-86dcfc737271",
   "metadata": {},
   "outputs": [],
   "source": [
    "particle.Particle.from_string(\"Z0\")"
   ]
  },
  {
   "cell_type": "code",
   "execution_count": null,
   "id": "806012f6-a219-4981-8b69-375ac80f88d2",
   "metadata": {},
   "outputs": [],
   "source": [
    "particle.Particle.from_string(\"Z0\").mass"
   ]
  },
  {
   "cell_type": "code",
   "execution_count": null,
   "id": "be0dd083-729c-4a28-9b25-047300c7899e",
   "metadata": {},
   "outputs": [],
   "source": [
    "zGeV = particle.Particle.from_string(\"Z0\").mass / 1000"
   ]
  },
  {
   "cell_type": "markdown",
   "id": "3bdd9f15-cf6f-4116-9650-a23d089e129e",
   "metadata": {},
   "source": [
    "Another aside, [np.minimum](https://numpy.org/doc/stable/reference/generated/numpy.minimum.html) is an array-at-a-time function to find element-by-element minima between two arrays."
   ]
  },
  {
   "cell_type": "code",
   "execution_count": null,
   "id": "94ecb901-3826-4bf2-b668-7e53cfc0a104",
   "metadata": {},
   "outputs": [],
   "source": [
    "np.minimum(np.array([1, 2, 3, 4, 5]), np.array([5, 4, 3, 2, 1]))"
   ]
  },
  {
   "cell_type": "markdown",
   "id": "78f06241-41c8-4b27-8cb5-688605044a4a",
   "metadata": {},
   "source": [
    "We can use that to find the closest-to-on-shell Z in each of the two scenarios: 0011 (`z00` and `z11`) or 0110 (`z01` and `z10`)."
   ]
  },
  {
   "cell_type": "code",
   "execution_count": null,
   "id": "8a22b15d-bae2-427c-9318-124206cfef00",
   "metadata": {},
   "outputs": [],
   "source": [
    "zdist_0011 = np.minimum(abs(z00.mass - zGeV), abs(z11.mass - zGeV))\n",
    "zdist_0110 = np.minimum(abs(z01.mass - zGeV), abs(z10.mass - zGeV))\n",
    "zdist_0011, zdist_0110"
   ]
  },
  {
   "cell_type": "markdown",
   "id": "f4a37d28-3e05-41e0-a837-b3aa3aab338b",
   "metadata": {},
   "source": [
    "For each event `i`, either `zdist_0011[i]` is nearly zero because it contains a real on-shell Z and a real off-shell Z or `zdist_0110[i]` is.\n",
    "\n",
    "For each `i`, the wrong case has two crossed muon pairs, not correctly identified Zs, which are both far from 91 GeV."
   ]
  },
  {
   "cell_type": "code",
   "execution_count": null,
   "id": "09d64155-4cc5-49ff-b7e3-ff8669defcd4",
   "metadata": {},
   "outputs": [],
   "source": [
    "is_0011 = zdist_0011 < zdist_0110\n",
    "is_0011"
   ]
  },
  {
   "cell_type": "markdown",
   "id": "847fd516-d597-431a-9e53-8b1e5f544980",
   "metadata": {},
   "source": [
    "With an array of booleans, we can pick the right pairing element-by-element using [ak.where](https://awkward-array.readthedocs.io/en/latest/_auto/ak.where.html).\n",
    "\n",
    "Try negating the booleans with `~`."
   ]
  },
  {
   "cell_type": "code",
   "execution_count": null,
   "id": "557d5b23-41ce-48c7-b556-4886940a310b",
   "metadata": {},
   "outputs": [],
   "source": [
    "hist.Hist.new.Reg(100, 0, 100, name=\"distance from 91 GeV\").Double().fill(\n",
    "    ak.where(is_0011, zdist_0011, zdist_0110)\n",
    ")"
   ]
  },
  {
   "cell_type": "markdown",
   "id": "1b59a047-ba86-4ee6-847d-b502473cc272",
   "metadata": {},
   "source": [
    "Now we'd like to select _objects_ with `is_0011`, rather than numbers, so we first have to build the right objects.\n",
    "\n",
    "Each element needs to be two Z bosons, an array of length-2 lists of Lorentz vectors.\n",
    "\n",
    "We can construct this individually for the array of 0011 cases and the array of 0110 cases.\n",
    "\n",
    "`np.newaxis` unflattens an array by putting each element in a length-1 nested list. (See the [slicing documentation](https://awkward-array.readthedocs.io/en/latest/_auto/ak.Array.html#ak-array-getitem).)"
   ]
  },
  {
   "cell_type": "code",
   "execution_count": null,
   "id": "c0d87365-65b0-494c-bd63-04ef1d07c2a6",
   "metadata": {},
   "outputs": [],
   "source": [
    "z00.type"
   ]
  },
  {
   "cell_type": "code",
   "execution_count": null,
   "id": "14edb277-79c8-4705-a65f-c0ba3ad5c836",
   "metadata": {},
   "outputs": [],
   "source": [
    "z00[:, np.newaxis].type"
   ]
  },
  {
   "cell_type": "markdown",
   "id": "5aa2245f-e837-467d-8360-a60633affc20",
   "metadata": {},
   "source": [
    "And we can [ak.concatenate](https://awkward-array.readthedocs.io/en/latest/_auto/ak.concatenate.html) two such things at `axis=1` to get length-2 lists."
   ]
  },
  {
   "cell_type": "code",
   "execution_count": null,
   "id": "518b06fb-a6a0-4b23-a7bf-efac255a9cea",
   "metadata": {},
   "outputs": [],
   "source": [
    "z0011_pair = ak.concatenate((z00[:, np.newaxis], z11[:, np.newaxis]), axis=1)\n",
    "z0110_pair = ak.concatenate((z01[:, np.newaxis], z10[:, np.newaxis]), axis=1)\n",
    "z0011_pair, z0110_pair"
   ]
  },
  {
   "cell_type": "code",
   "execution_count": null,
   "id": "a66cb985-d5bf-49ad-ac64-3fe89610ed75",
   "metadata": {},
   "outputs": [],
   "source": [
    "ak.num(z0011_pair), ak.num(z0110_pair)"
   ]
  },
  {
   "cell_type": "markdown",
   "id": "9695f9b3-519a-4459-9f27-c95abf0ba68b",
   "metadata": {},
   "source": [
    "Now apply [ak.where](https://awkward-array.readthedocs.io/en/latest/_auto/ak.where.html) list by list to pick the right pair of Zs for each event."
   ]
  },
  {
   "cell_type": "code",
   "execution_count": null,
   "id": "6bf808c4-4991-43c2-9661-bcfb13b93576",
   "metadata": {},
   "outputs": [],
   "source": [
    "correct_pair = ak.where(is_0011, z0011_pair, z0110_pair)\n",
    "correct_pair"
   ]
  },
  {
   "cell_type": "code",
   "execution_count": null,
   "id": "83447231-d050-47c4-8cbf-584d2db61c91",
   "metadata": {},
   "outputs": [],
   "source": [
    "ak.num(correct_pair)"
   ]
  },
  {
   "cell_type": "code",
   "execution_count": null,
   "id": "7b686cb3-8bdf-4897-b2e2-1f4f9c2c2e09",
   "metadata": {},
   "outputs": [],
   "source": [
    "hist.Hist.new.Reg(120, 0, 120, name=\"mass\").Double().fill(\n",
    "    correct_pair[:, 0].mass\n",
    ")"
   ]
  },
  {
   "cell_type": "markdown",
   "id": "a29482a3-3a05-4093-b4d8-38a5b9e2e3ec",
   "metadata": {},
   "source": [
    "For completeness, look at the wrong pairs:"
   ]
  },
  {
   "cell_type": "code",
   "execution_count": null,
   "id": "835590ee-2cf1-44a4-9b86-1fb9fd5d9190",
   "metadata": {},
   "outputs": [],
   "source": [
    "hist.Hist.new.Reg(120, 0, 120, name=\"mass\").Double().fill(\n",
    "    ak.where(~is_0011, z0011_pair, z0110_pair)[:, 0].mass\n",
    ")"
   ]
  },
  {
   "cell_type": "markdown",
   "id": "d1f643ca-f6c1-40e3-90b2-e4109a4f87f9",
   "metadata": {},
   "source": [
    "Each of these length-2 lists has a correctly reconstructed on-shell Z and a correctly reconstructed off-shell Z, but in no particular order.\n",
    "\n",
    "We can sort them by their distance to 91 GeV."
   ]
  },
  {
   "cell_type": "code",
   "execution_count": null,
   "id": "6cac4c44-a0ff-41e4-be1c-f06487a2f413",
   "metadata": {},
   "outputs": [],
   "source": [
    "sort_index = ak.argsort(abs(correct_pair.mass - zGeV), axis=1)\n",
    "sort_index"
   ]
  },
  {
   "cell_type": "code",
   "execution_count": null,
   "id": "203f65a1-a6ea-4b45-be91-e5e3270109d7",
   "metadata": {},
   "outputs": [],
   "source": [
    "sorted_pair = correct_pair[sort_index]\n",
    "sorted_pair"
   ]
  },
  {
   "cell_type": "code",
   "execution_count": null,
   "id": "97e82e43-2d83-4f6a-a04a-2dc4d4b7b203",
   "metadata": {},
   "outputs": [],
   "source": [
    "hist.Hist.new.Reg(120, 0, 120, name=\"mass\").Double().fill(\n",
    "    sorted_pair[:, 0].mass\n",
    ")"
   ]
  },
  {
   "cell_type": "markdown",
   "id": "580dfa4e-6200-41e4-95b5-fa5540204f89",
   "metadata": {},
   "source": [
    "Adding the Lorentz vectors of both Zs gives us the Higgs mass (though we didn't have to correctly identify them to do this):"
   ]
  },
  {
   "cell_type": "code",
   "execution_count": null,
   "id": "82a5bb9e-642e-4baa-9a75-9629bd272838",
   "metadata": {},
   "outputs": [],
   "source": [
    "hist.Hist.new.Reg(150, 0, 150, name=\"mass\").Double().fill(\n",
    "    (sorted_pair[:, 0] + sorted_pair[:, 1]).mass\n",
    ")"
   ]
  },
  {
   "cell_type": "markdown",
   "id": "757c13ee-5d6c-4b60-84b1-f029ab938c06",
   "metadata": {},
   "source": [
    "<br><br><br><br><br>\n",
    "\n",
    "## Identifying Z bosons in H → ZZ → 4μ with Numba\n",
    "\n",
    "Now let's do the same thing with Numba, starting with the hard part: pairing muons into right and wrong combinations and using proximity to 91 GeV of _one_ member of each pair of Z candidates to identify the right combination."
   ]
  },
  {
   "cell_type": "code",
   "execution_count": null,
   "id": "0cb5fb95-3cf5-47ee-91c3-bda252f4f158",
   "metadata": {},
   "outputs": [],
   "source": [
    "four_muons"
   ]
  },
  {
   "cell_type": "code",
   "execution_count": null,
   "id": "5a32976c-6c42-41db-b4bb-6c0649cecca5",
   "metadata": {},
   "outputs": [],
   "source": [
    "ak.num(four_muons)"
   ]
  },
  {
   "cell_type": "code",
   "execution_count": null,
   "id": "5b851ff2-3566-488c-96d4-3e105179d36d",
   "metadata": {},
   "outputs": [],
   "source": [
    "ak.sum(four_muons.charge, axis=-1)"
   ]
  },
  {
   "cell_type": "markdown",
   "id": "ff5e69ce-0d29-4b2e-899c-ef980705f70e",
   "metadata": {},
   "source": [
    "Pre-sorting the muons with an array-at-a-time function makes it easier to write the Numba-compiled function."
   ]
  },
  {
   "cell_type": "code",
   "execution_count": null,
   "id": "7f0da435-2075-4cb6-8612-8758866a6544",
   "metadata": {},
   "outputs": [],
   "source": [
    "sorted_four_muons = four_muons[ak.argsort(four_muons.charge, axis=1)]\n",
    "sorted_four_muons.charge"
   ]
  },
  {
   "cell_type": "markdown",
   "id": "0dc3788b-83e9-4351-95a7-b189bd6633ec",
   "metadata": {},
   "source": [
    "The logic for picking the right pair is similar to the array-at-a-time case, but instead of \"`z00[i]`\" being a single Z candidate with `z00` being an array over all events, `z00` is a single Z candidate in a for loop over events.\n",
    "\n",
    "In this example, we use the [ak.ArrayBuilder](https://awkward-array.readthedocs.io/en/latest/_auto/ak.ArrayBuilder.html) to make the output vector records directly. Just be sure to name them `\"Momentum4D\"`, so that they are recognized as vectors and not generic records.\n",
    "\n",
    "(TODO: it would be nice if ArrayBuilder's `append` would take Lorentz vector objects without having to rebuild them...)"
   ]
  },
  {
   "cell_type": "code",
   "execution_count": null,
   "id": "4d83199b-36a8-4c6b-b291-31695b475e57",
   "metadata": {},
   "outputs": [],
   "source": [
    "@nb.jit\n",
    "def make_z_pairs(sorted_four_muons, builder):\n",
    "    for event in sorted_four_muons:\n",
    "        # unpack the sorted four muons into appropriately named variables\n",
    "        mum0, mum1, mup0, mup1 = event\n",
    "\n",
    "        # either z00 and z11 are correct or z01 and z10 are correct\n",
    "        z00 = mup0 + mum0\n",
    "        z11 = mup1 + mum1\n",
    "        \n",
    "        z01 = mup0 + mum1\n",
    "        z10 = mup1 + mum0\n",
    "        \n",
    "        # the correct pair of Zs is the pair that has one Z close to 91 GeV\n",
    "        zdist_0011 = min(abs(z00.mass - zGeV), abs(z11.mass - zGeV))\n",
    "        zdist_0110 = min(abs(z01.mass - zGeV), abs(z10.mass - zGeV))\n",
    "\n",
    "        if zdist_0011 < zdist_0110:\n",
    "            # z00 and z11 are correct\n",
    "            builder.begin_list()\n",
    "            builder.begin_record(\"Momentum4D\")\n",
    "            builder.field(\"px\"); builder.append(z00.px)\n",
    "            builder.field(\"py\"); builder.append(z00.py)\n",
    "            builder.field(\"pz\"); builder.append(z00.pz)\n",
    "            builder.field(\"E\"); builder.append(z00.E)\n",
    "            builder.end_record()\n",
    "            builder.begin_record(\"Momentum4D\")\n",
    "            builder.field(\"px\"); builder.append(z11.px)\n",
    "            builder.field(\"py\"); builder.append(z11.py)\n",
    "            builder.field(\"pz\"); builder.append(z11.pz)\n",
    "            builder.field(\"E\"); builder.append(z11.E)\n",
    "            builder.end_record()\n",
    "            builder.end_list()\n",
    "\n",
    "        else:\n",
    "            # z01 and z10 are correct\n",
    "            builder.begin_list()\n",
    "            builder.begin_record(\"Momentum4D\")\n",
    "            builder.field(\"px\"); builder.append(z01.px)\n",
    "            builder.field(\"py\"); builder.append(z01.py)\n",
    "            builder.field(\"pz\"); builder.append(z01.pz)\n",
    "            builder.field(\"E\"); builder.append(z01.E)\n",
    "            builder.end_record()\n",
    "            builder.begin_record(\"Momentum4D\")\n",
    "            builder.field(\"px\"); builder.append(z10.px)\n",
    "            builder.field(\"py\"); builder.append(z10.py)\n",
    "            builder.field(\"pz\"); builder.append(z10.pz)\n",
    "            builder.field(\"E\"); builder.append(z10.E)\n",
    "            builder.end_record()\n",
    "            builder.end_list()\n",
    "\n",
    "    return builder\n",
    "\n",
    "correct_pair = make_z_pairs(sorted_four_muons, ak.ArrayBuilder()).snapshot()\n",
    "correct_pair"
   ]
  },
  {
   "cell_type": "code",
   "execution_count": null,
   "id": "617047f1-cc7c-4057-8a12-7890d6aabb1a",
   "metadata": {},
   "outputs": [],
   "source": [
    "hist.Hist.new.Reg(120, 0, 120, name=\"mass\").Double().fill(\n",
    "    correct_pair[:, 0].mass\n",
    ")"
   ]
  }
 ],
 "metadata": {
  "kernelspec": {
   "display_name": "base",
   "language": "python",
   "name": "python3"
  },
  "language_info": {
   "codemirror_mode": {
    "name": "ipython",
    "version": 3
   },
   "file_extension": ".py",
   "mimetype": "text/x-python",
   "name": "python",
   "nbconvert_exporter": "python",
   "pygments_lexer": "ipython3",
   "version": "3.8.13"
  },
  "vscode": {
   "interpreter": {
    "hash": "558e35b4d220da685c9de597aa7b91581edf366202e451509f0c23176d2fa2bb"
   }
  }
 },
 "nbformat": 4,
 "nbformat_minor": 5
}
